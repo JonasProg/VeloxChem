{
 "cells": [
  {
   "cell_type": "code",
   "execution_count": 1,
   "metadata": {},
   "outputs": [
    {
     "name": "stderr",
     "output_type": "stream",
     "text": [
      "In /home/emi/.local/lib/python3.6/site-packages/matplotlib/mpl-data/stylelib/_classic_test.mplstyle: \n",
      "The text.latex.preview rcparam was deprecated in Matplotlib 3.3 and will be removed two minor releases later.\n",
      "In /home/emi/.local/lib/python3.6/site-packages/matplotlib/mpl-data/stylelib/_classic_test.mplstyle: \n",
      "The mathtext.fallback_to_cm rcparam was deprecated in Matplotlib 3.3 and will be removed two minor releases later.\n",
      "In /home/emi/.local/lib/python3.6/site-packages/matplotlib/mpl-data/stylelib/_classic_test.mplstyle: Support for setting the 'mathtext.fallback_to_cm' rcParam is deprecated since 3.3 and will be removed two minor releases later; use 'mathtext.fallback : 'cm' instead.\n",
      "In /home/emi/.local/lib/python3.6/site-packages/matplotlib/mpl-data/stylelib/_classic_test.mplstyle: \n",
      "The validate_bool_maybe_none function was deprecated in Matplotlib 3.3 and will be removed two minor releases later.\n",
      "In /home/emi/.local/lib/python3.6/site-packages/matplotlib/mpl-data/stylelib/_classic_test.mplstyle: \n",
      "The savefig.jpeg_quality rcparam was deprecated in Matplotlib 3.3 and will be removed two minor releases later.\n",
      "In /home/emi/.local/lib/python3.6/site-packages/matplotlib/mpl-data/stylelib/_classic_test.mplstyle: \n",
      "The keymap.all_axes rcparam was deprecated in Matplotlib 3.3 and will be removed two minor releases later.\n",
      "In /home/emi/.local/lib/python3.6/site-packages/matplotlib/mpl-data/stylelib/_classic_test.mplstyle: \n",
      "The animation.avconv_path rcparam was deprecated in Matplotlib 3.3 and will be removed two minor releases later.\n",
      "In /home/emi/.local/lib/python3.6/site-packages/matplotlib/mpl-data/stylelib/_classic_test.mplstyle: \n",
      "The animation.avconv_args rcparam was deprecated in Matplotlib 3.3 and will be removed two minor releases later.\n"
     ]
    }
   ],
   "source": [
    "import veloxchem as vlx\n",
    "import adcc\n",
    "from mpi4py import MPI\n",
    "import sys\n",
    "import numpy\n",
    "from scipy.sparse import linalg\n",
    "from veloxchem.qqscheme import get_qq_scheme\n",
    "from veloxchem.veloxchemlib import fockmat\n",
    "\n",
    "numpy.set_printoptions(precision=5, suppress=True)"
   ]
  },
  {
   "cell_type": "markdown",
   "metadata": {},
   "source": [
    "### Prepare a VeloxChem SCF calculation"
   ]
  },
  {
   "cell_type": "code",
   "execution_count": 2,
   "metadata": {},
   "outputs": [],
   "source": [
    "# Input settings\n",
    "molecule_string = \"\"\"\n",
    "    O 0 0 0\n",
    "    H 0 0 1.795239827225189\n",
    "    H 1.693194615993441 0 -0.599043184453037\"\"\"\n",
    "\n",
    "#molecule_string = \"\"\"\n",
    "#    H 0 0 0\n",
    "#    H 0 0 1.795239827225189\n",
    "#    \"\"\"\n",
    "\n",
    "basis_set_label = 'STO-3G'\n",
    "scf_settings = {'conv_thresh': 1.0e-8}\n",
    "method_settings = {} #{'xcfun': 'b3lyp', 'grid_level': 4}\n",
    "rsp_settings = {'conv_thresh': 1.0e-5, 'nstates': 3, 'n_state_deriv': 1} #"
   ]
  },
  {
   "cell_type": "code",
   "execution_count": 3,
   "metadata": {},
   "outputs": [],
   "source": [
    "# Communicator and output stream\n",
    "comm = MPI.COMM_WORLD\n",
    "ostream = vlx.OutputStream(sys.stdout)"
   ]
  },
  {
   "cell_type": "code",
   "execution_count": 4,
   "metadata": {},
   "outputs": [
    {
     "name": "stdout",
     "output_type": "stream",
     "text": [
      "                                              Molecular Geometry (Angstroms)                                              \n",
      "                                             ================================                                             \n",
      "                                                                                                                          \n",
      "                          Atom         Coordinate X          Coordinate Y          Coordinate Z                           \n",
      "                                                                                                                          \n",
      "                           O           0.000000000000        0.000000000000        0.000000000000                         \n",
      "                           H           0.000000000000        0.000000000000        0.950000004704                         \n",
      "                           H           0.896000004436        0.000000000000       -0.317000001569                         \n",
      "                                                                                                                          \n",
      "                                              Molecular Basis (Atomic Basis)                                              \n",
      "                                             ================================                                             \n",
      "                                                                                                                          \n",
      "                                  Basis: STO-3G                                                                           \n",
      "                                                                                                                          \n",
      "                                  Atom Contracted GTOs          Primitive GTOs                                            \n",
      "                                                                                                                          \n",
      "                                   H   (1S)                     (3S)                                                      \n",
      "                                   O   (2S,1P)                  (6S,3P)                                                   \n",
      "                                                                                                                          \n",
      "                                  Contracted Basis Functions : 7                                                          \n",
      "                                  Primitive Basis Functions  : 21                                                         \n",
      "                                                                                                                          \n"
     ]
    }
   ],
   "source": [
    "# Molecule and basis set\n",
    "molecule = vlx.Molecule.read_str(molecule_string, units='au')\n",
    "basis = vlx.MolecularBasis.read(molecule, basis_set_label)\n",
    "\n",
    "ostream.print_block(molecule.get_string())\n",
    "ostream.print_block(basis.get_string('Atomic Basis', molecule))\n",
    "ostream.flush()"
   ]
  },
  {
   "cell_type": "code",
   "execution_count": null,
   "metadata": {},
   "outputs": [
    {
     "name": "stdout",
     "output_type": "stream",
     "text": [
      "                                                                                                                          \n",
      "                                            Self Consistent Field Driver Setup                                            \n",
      "                                           ====================================                                           \n",
      "                                                                                                                          \n",
      "                   Wave Function Model             : Spin-Restricted Hartree-Fock                                         \n",
      "                   Initial Guess Model             : Superposition of Atomic Densities                                    \n",
      "                   Convergence Accelerator         : Two Level Direct Inversion of Iterative Subspace                     \n",
      "                   Max. Number of Iterations       : 50                                                                   \n",
      "                   Max. Number of Error Vectors    : 10                                                                   \n",
      "                   Convergence Threshold           : 1.0e-08                                                              \n",
      "                   ERI Screening Scheme            : Cauchy Schwarz + Density                                             \n",
      "                   ERI Screening Mode              : Dynamic                                                              \n",
      "                   ERI Screening Threshold         : 1.0e-12                                                              \n",
      "                   Linear Dependence Threshold     : 1.0e-06                                                              \n",
      "                                                                                                                          \n",
      "* Info * Nuclear repulsion energy: 9.2514792692 au                                                                        \n",
      "                                                                                                                          \n",
      "* Info * Overlap matrix computed in 0.01 sec.                                                                             \n",
      "                                                                                                                          \n",
      "* Info * Kinetic energy matrix computed in 0.00 sec.                                                                      \n",
      "                                                                                                                          \n",
      "* Info * Nuclear potential matrix computed in 0.00 sec.                                                                   \n",
      "                                                                                                                          \n"
     ]
    }
   ],
   "source": [
    "# SCF\n",
    "scfdrv = vlx.ScfRestrictedDriver(comm, ostream)\n",
    "scfdrv.update_settings(scf_settings, method_settings)\n",
    "scfdrv.compute(molecule, basis)"
   ]
  },
  {
   "cell_type": "code",
   "execution_count": null,
   "metadata": {},
   "outputs": [],
   "source": [
    "# SCF first-order properties\n",
    "scf_prop = vlx.ScfFirstOrderProperties(comm, ostream)\n",
    "scf_prop.compute(molecule, basis, scfdrv.scf_tensors)\n",
    "scf_prop.print_properties(molecule)"
   ]
  },
  {
   "cell_type": "markdown",
   "metadata": {},
   "source": [
    "### Excited-State Calculation via CIS (TDHF/TDA)"
   ]
  },
  {
   "cell_type": "code",
   "execution_count": null,
   "metadata": {},
   "outputs": [],
   "source": [
    "# TDHF/TDA, i.e. CIS\n",
    "tda_drv = vlx.TDAExciDriver(comm, ostream)\n",
    "tda_drv.update_settings(rsp_settings, method_settings)\n",
    "tda_results = tda_drv.compute(molecule, basis, scfdrv.scf_tensors)\n",
    "tda_drv.ostream.flush()"
   ]
  },
  {
   "cell_type": "code",
   "execution_count": null,
   "metadata": {},
   "outputs": [],
   "source": [
    "# RPA = TDHF\n",
    "rpa_drv = vlx.LinearResponseEigenSolver(comm, ostream)\n",
    "rpa_drv.update_settings(rsp_settings, method_settings)\n",
    "rpa_results = rpa_drv.compute(molecule, basis, scfdrv.scf_tensors)\n",
    "rpa_drv.ostream.flush()"
   ]
  },
  {
   "cell_type": "code",
   "execution_count": null,
   "metadata": {},
   "outputs": [],
   "source": [
    "# Get MO coefficients\n",
    "\n",
    "nocc = molecule.number_of_alpha_electrons()\n",
    "mo = scfdrv.scf_tensors['C'] # MO coefficients\n",
    "mo_occ = mo[:, :nocc]        # occupied\n",
    "mo_vir = mo[:, nocc:]        # virtual\n",
    "\n",
    "nocc = mo_occ.shape[1]\n",
    "nvir = mo_vir.shape[1]\n",
    "\n",
    "print(\"The density matrix:\\n\", scfdrv.scf_tensors['D'][0])\n",
    "\n",
    "occ_occ = numpy.matmul(mo_occ,mo_occ.T)\n",
    "print(\"C CT:\\n\",occ_occ)"
   ]
  },
  {
   "cell_type": "code",
   "execution_count": null,
   "metadata": {},
   "outputs": [],
   "source": [
    "# Get the overlap and Fock matrices\n",
    "#print(scfdrv.scf_tensors.keys())\n",
    "fock = scfdrv.scf_tensors['F'][0]\n",
    "ovlp = scfdrv.scf_tensors['S']\n",
    "# Transform them from AO to MO basis\n",
    "# print(numpy.matmul(mo.T, numpy.matmul(ovlp, mo)))\n",
    "# print(numpy.matmul(mo.T, numpy.matmul(fock, mo)))"
   ]
  },
  {
   "cell_type": "code",
   "execution_count": null,
   "metadata": {},
   "outputs": [],
   "source": [
    "# Get the CIS eigenvalues and eigenvectors\n",
    "tda_eig_vals = tda_results[\"eigenvalues\"]\n",
    "tda_eig_vecs = tda_results[\"eigenvectors\"]\n",
    "tda_size = tda_eig_vecs[:,0].shape\n",
    "tda_eig_vec=tda_eig_vecs[:,0].copy()\n",
    "tda_eig_vec_as_mat = tda_eig_vec.reshape(nocc, nvir) #/ numpy.sqrt(2.0)\n",
    "print(tda_eig_vecs)"
   ]
  },
  {
   "cell_type": "code",
   "execution_count": null,
   "metadata": {},
   "outputs": [],
   "source": [
    "# Get the RPA eigenvalues and eigenvectors\n",
    "#rpa_results.keys()\n",
    "rpa_eig_vals = rpa_results[\"eigenvalues\"]\n",
    "rpa_eig_vecs = rpa_results[\"eigenvectors\"]\n",
    "#print(rpa_eig_vecs)\n",
    "\n",
    "# Get the excitation and de-excitation part of the first excited state\n",
    "rpa_exc_vec = rpa_eig_vecs[:nocc*nvir, 0].copy()\n",
    "rpa_deexc_vec = rpa_eig_vecs[nocc*nvir:, 0].copy()\n",
    "print()\n",
    "print(rpa_exc_vec)\n",
    "print()\n",
    "print(rpa_deexc_vec)\n",
    "\n",
    "# Construct the plus/minus combinations and reshape to matrix form\n",
    "xpy = (rpa_exc_vec + rpa_deexc_vec).reshape(nocc, nvir)\n",
    "xmy = (rpa_exc_vec - rpa_deexc_vec).reshape(nocc, nvir)\n",
    "print()\n",
    "print(xpy)\n",
    "print()\n",
    "print(xmy)"
   ]
  },
  {
   "cell_type": "markdown",
   "metadata": {},
   "source": [
    "## Use the new OrbitalResponse module\n",
    "\n",
    "\\begin{equation}\n",
    "   \\lambda_{ia} ( \\varepsilon_i - \\varepsilon_a ) -\\sum_{pq} \\lambda_{pq} \\big( [pq|ai] - [pi|aq] \\big) = \n",
    "   R_{ia}\n",
    "   %R^{\\text{CIS}}_{ia}\n",
    "\\end{equation}"
   ]
  },
  {
   "cell_type": "code",
   "execution_count": null,
   "metadata": {},
   "outputs": [],
   "source": [
    "#from veloxchem.orbitalresponse import OrbitalResponse\n",
    "from veloxchem.tdaorbitalresponse import TdaOrbitalResponse\n",
    "\n",
    "orb_resp = TdaOrbitalResponse(comm, ostream)\n",
    "orb_resp.update_settings(rsp_settings, method_settings)\n",
    "orb_resp.compute(molecule, basis, scfdrv.scf_tensors, tda_eig_vecs)\n",
    "\n",
    "print(orb_resp.unrel_dm_ao)\n",
    "\n",
    "print(\"\\nOmega in AO basis:\\n\", orb_resp.omega_ao)\n",
    "\n",
    "#print(orb_rsp_results.keys())\n",
    "\n",
    "#print()\n",
    "#print(\"lambda multipliers in MO basis:\")\n",
    "#print(orb_rsp_results['lambda_multipliers'])\n",
    "#print()\n",
    "#print(\"lambda multipliers in AO basis:\")\n",
    "#print(orb_rsp_results['lambda_multipliers_ao'])\n",
    "#print()\n",
    "#print(\"omega multipliers in AO basis:\")\n",
    "#print(orb_rsp_results['omega_multipliers'])"
   ]
  },
  {
   "cell_type": "markdown",
   "metadata": {},
   "source": [
    "### Calculate the \"gradient\" and first-order properties\n",
    "\n",
    "\\begin{equation}\n",
    "    \\vec{\\mu} = \\frac{\\partial L}{\\partial \\vec{F}}  = \\sum_{ij} \\gamma_{ij} \\, \\mu_{ji} + \\sum_{ab} \\gamma_{ab} \\, \\mu_{ba} + 2 \\sum_{ia} \\lambda_{ia} \\, \\mu_{ai}\n",
    "\\end{equation}\n",
    "where\n",
    "$\\mu_{pq} = \\langle \\phi_p | q \\vec{r} | \\phi_q \\rangle %= \\int \\phi_p q \\vec{r} \\phi_q d\\vec{r}$"
   ]
  },
  {
   "cell_type": "code",
   "execution_count": null,
   "metadata": {},
   "outputs": [],
   "source": [
    "from veloxchem.tdagradientdriver import TdaGradientDriver\n",
    "\n",
    "tdagrad_drv = TdaGradientDriver(comm, ostream, scfdrv, tda_results)\n",
    "tdagrad_drv.update_settings(rsp_settings, method_settings)\n",
    "#print(tdagrad_drv.n_state_deriv)\n",
    "#tdagrad_drv.compute(molecule, basis)\n",
    "tda_prop = tdagrad_drv.compute_properties(molecule, basis, scfdrv.scf_tensors, orb_resp)\n",
    "\n",
    "tdagrad_drv.print_properties(molecule, tda_prop)\n",
    "\n",
    "print()\n",
    "print(\"First excited state dipole moments:\")\n",
    "print(\"ADC(1)/STO-3G unrelaxed dipole moment [a.u.] for water in adcc:\")\n",
    "print(\"[-0.2107819, -0.,     -0.1423891]\")\n",
    "print()\n",
    "print(\"CIS/STO-3G relaxed dipole moment [a.u.] for water in Q-Chem:\")\n",
    "print(\"[-0.0184062, 0.00000, -0.0076203]\")\n",
    "print(\"Total dipole: 0.020 a.u., 0.051 Debye\")"
   ]
  },
  {
   "cell_type": "markdown",
   "metadata": {},
   "source": [
    "### Calculate one- and two-particle density matrices"
   ]
  },
  {
   "cell_type": "markdown",
   "metadata": {},
   "source": [
    "\\begin{align}\n",
    "    \\gamma_{ij} &= - \\sum_{a} x_{ia} x_{ja} \\\\\n",
    "    \\gamma_{ab} &= + \\sum_{i} x_{ia} x_{ib} \\\\\n",
    "    \\Gamma_{iajb} &= - x_{ib} x_{ja}\n",
    "\\end{align}"
   ]
  },
  {
   "cell_type": "code",
   "execution_count": null,
   "metadata": {},
   "outputs": [],
   "source": [
    "# VeloxChem unrelaxed one-particle density matrix and two-particle density matrix\n",
    "\n",
    "vlx_dm_oo = -numpy.einsum('ia,ja->ij', tda_eig_vec_as_mat, tda_eig_vec_as_mat)\n",
    "vlx_dm_vv = numpy.einsum('ia,ib->ab', tda_eig_vec_as_mat, tda_eig_vec_as_mat)\n",
    "vlx_DM_ovov = -numpy.einsum('ib,ja->iajb', tda_eig_vec_as_mat, tda_eig_vec_as_mat)\n",
    "\n",
    "# print(vlx_dm_oo)"
   ]
  },
  {
   "cell_type": "markdown",
   "metadata": {},
   "source": [
    "\\begin{equation}\n",
    "    \\gamma_{ij} = -\\frac12 \\sum_{a} \\big[ (x_{ia} + y_{ia})(x_{ja} + y_{ja})\n",
    "        + (x_{ia} - y_{ia})(x_{ja} - y_{ja}) \\big] \\\\\n",
    "    \\gamma_{ab} = +\\frac12 \\sum_{i} \\big[ (x_{ia} + y_{ia})(x_{ib} + y_{ib})\n",
    "        + (x_{ia} - y_{ia})(x_{ib} - y_{ib}) \\big]\n",
    "\\end{equation}"
   ]
  },
  {
   "cell_type": "code",
   "execution_count": null,
   "metadata": {},
   "outputs": [],
   "source": [
    "# RPA unrelaxed one-particle density matrix\n",
    "rpa_dm_oo = -0.5*(numpy.einsum('ia,ja->ij', xpy, xpy)\n",
    "             + numpy.einsum('ia,ja->', xmy, xmy))\n",
    "rpa_dm_vv = 0.5*(numpy.einsum('ia,ib->ab', xpy, xpy)\n",
    "             + numpy.einsum('ia,ib->ab', xmy, xmy))\n",
    "\n",
    "print(rpa_dm_oo)\n",
    "print()\n",
    "print(rpa_dm_vv)"
   ]
  },
  {
   "cell_type": "markdown",
   "metadata": {},
   "source": [
    "### Transform the one-particle density matrices from the MO to the AO basis\n",
    "\n",
    "\\begin{equation}\n",
    "    \\gamma_{\\mu \\nu} = \\sum_{pq} C_{\\mu p} \\gamma_{pq} C_{\\nu q}\n",
    "\\end{equation}"
   ]
  },
  {
   "cell_type": "code",
   "execution_count": null,
   "metadata": {},
   "outputs": [],
   "source": [
    "# Transform the one-particle density matrices from MO to AO basis\n",
    "vlx_dm_oo_in_ao = numpy.matmul(mo_occ, numpy.matmul(vlx_dm_oo, mo_occ.T))\n",
    "vlx_dm_vv_in_ao = numpy.matmul(mo_vir, numpy.matmul(vlx_dm_vv, mo_vir.T))\n",
    "vlx_dm_ao = vlx_dm_oo_in_ao + vlx_dm_vv_in_ao\n",
    "\n",
    "# print(\"VLX:\")\n",
    "# print(vlx_dm_ao)"
   ]
  },
  {
   "cell_type": "markdown",
   "metadata": {},
   "source": [
    "#### Transform the excitation vectors to the AO basis\n",
    "\\begin{equation}\n",
    "    x_{\\mu \\nu} = \\sum_{ia} C_{\\mu i} x_{ia} C_{\\nu a}\n",
    "\\end{equation}"
   ]
  },
  {
   "cell_type": "code",
   "execution_count": null,
   "metadata": {},
   "outputs": [],
   "source": [
    "# Transform the transition density matrix (the excitation vectors) from MO to AO basis\n",
    "# (will be needed for the two-particle density matrix)\n",
    "tda_eig_vec_ao = numpy.matmul(mo_occ, numpy.matmul(tda_eig_vec_as_mat, mo_vir.T))\n",
    "# print(tda_eig_vec_ao)"
   ]
  },
  {
   "cell_type": "markdown",
   "metadata": {},
   "source": [
    "The MO to AO transformation of the contribution of the two-particle density matrix with the ERI tensor is given as\n",
    "\\begin{align}\n",
    "\\begin{split}\n",
    "    - \\sum_{\\sigma \\sigma'} \\sum_{ijab} x_{i_{\\sigma} b_{\\sigma}} x_{j_{\\sigma'} a_{\\sigma'}}\n",
    "        \\langle i_{\\sigma} a_{\\sigma'} || j_{\\sigma'} b_{\\sigma} \\rangle\n",
    "    &= - \\sum_{ijab} x_{ib} x_{ja} [ 2 (ij|ab) - 4 (ib|aj) ] \\\\\n",
    "    &= + \\sum_{ijab} x_{ib} x_{ja} [ 4 (ib|aj) - 2 (ij|ab)  ] \\\\\n",
    "    &= \\sum_{ijab} x_{ib} x_{ja} \\sum_{\\mu \\nu \\theta \\varphi}\n",
    "        C_{\\mu i} C_{\\nu b} C_{\\theta a} C_{\\varphi j}  [ 4 (\\mu \\nu | \\theta \\varphi)\n",
    "        - 2 (\\mu \\varphi | \\theta \\nu) ] \\\\\n",
    "    &= \\sum_{\\mu \\nu \\theta \\varphi} [ 4 (\\mu \\nu | \\theta \\varphi)\n",
    "        - 2 (\\mu \\varphi | \\theta \\nu) ]\n",
    "        \\sum_{ib} C_{\\mu i} x_{ib} C_{\\nu b} \\sum_{ja} C_{\\varphi j} x_{ja} C_{\\theta a} \\\\\n",
    "    &= \\sum_{\\mu \\nu \\theta \\varphi} x_{\\mu \\nu} x_{\\varphi \\theta} [ 4 (\\mu \\nu | \\theta \\varphi)\n",
    "        - 2 (\\mu \\varphi | \\theta \\nu) ]       \\\\\n",
    "    &= \\sum_{\\mu \\nu} x_{\\mu \\nu} \\sum_{\\theta \\varphi} x_{\\varphi \\theta} [ 4 (\\mu \\nu | \\theta \\varphi)\n",
    "        - 2 (\\mu \\varphi | \\theta \\nu) ]\n",
    "\\end{split}\n",
    "\\end{align}"
   ]
  },
  {
   "cell_type": "markdown",
   "metadata": {},
   "source": [
    "# Orbital response\n",
    "\n",
    "\\begin{equation}\n",
    "   -\\sum_{pq} \\lambda_{pq} \\big( [pq|ai] - [pi|aq] \\big) + \\lambda_{ia} ( \\varepsilon_i - \\varepsilon_a ) = \n",
    "   R_{ia}\n",
    "   %R^{\\text{CIS}}_{ia}\n",
    "\\end{equation}"
   ]
  },
  {
   "cell_type": "markdown",
   "metadata": {},
   "source": [
    "## Right-hand side"
   ]
  },
  {
   "cell_type": "markdown",
   "metadata": {},
   "source": [
    "### 1. Contributions from the 1PDMs\n",
    "\\begin{align}\n",
    "F^\\gamma_{ia} &= \\sum_{\\theta,\\varphi}C^\\alpha_{\\varphi i}C^\\alpha_{\\theta a}\\sum_{\\mu,\\nu,\\sigma}\\gamma^\\sigma_{\\mu\\nu}(\\mu\\nu|\\theta \\varphi)-\\sum_{\\theta,\\varphi}C^\\alpha_{\\varphi i}C^\\alpha_{\\theta a}\\sum_{\\mu,\\nu}\\gamma^{\\alpha}_{\\mu\\nu}(\\mu\\varphi|\\theta\\nu)\\\\\n",
    "&= \\sum_{\\theta,\\varphi}C^\\alpha_{\\varphi i}C^\\alpha_{\\theta a} 2F^{1,\\alpha}_{\\varphi\\theta}-\\sum_{\\theta,\\varphi}C^\\alpha_{\\varphi i}C^\\alpha_{\\theta a}F^{2,\\alpha}_{\\varphi\\theta}\\\\\n",
    "&= \\sum_{\\theta,\\varphi}C^\\alpha_{\\varphi i}C^\\alpha_{\\theta a}F_{\\varphi\\theta}\n",
    "\\end{align}"
   ]
  },
  {
   "cell_type": "markdown",
   "metadata": {},
   "source": [
    "### 2. Contributions from the 2PDMs\n",
    "\n",
    "\\begin{align}\n",
    "F^\\Gamma_{ia} &= ~~ \\sum_{\\mu,\\zeta}C^\\alpha_{\\mu i}C^\\alpha_{\\zeta a} \\Big[\\sum_{\\rho,\\varphi}S_{\\rho\\zeta}x^\\alpha_{\\varphi\\rho}\\sum_{\\nu,\\theta}x^\\alpha_{\\theta\\nu}(\\mu\\nu|\\theta\\varphi)-\\sum_{\\rho,\\varphi}S_{\\rho\\zeta}x^\\alpha_{\\varphi\\rho}\\sum_{\\theta,\\nu,\\sigma} x^\\sigma_{\\theta\\nu}(\\mu\\varphi|\\theta\\nu) \\Big] \\\\\n",
    "&~~~ -\\sum_{\\mu,\\zeta}C^\\alpha_{\\mu i}C^\\alpha_{\\zeta a} \\Big[ \\sum_{\\rho,\\varphi}S_{\\mu\\rho}x^\\alpha_{\\rho\\varphi}\\sum_{\\nu,\\theta}x^\\alpha_{\\nu\\theta}(\\zeta\\nu|\\theta\\varphi)-\\sum_{\\rho,\\varphi} S_{\\mu\\rho}x^\\alpha_{\\rho\\varphi}\\sum_{\\theta,\\nu,\\sigma}x^\\sigma_{\\nu\\theta}(\\zeta\\varphi|\\theta\\nu) \\Big] \\\\\n",
    "&= - \\sum_{\\mu,\\zeta}C^\\alpha_{\\mu i}C^\\alpha_{\\zeta a} \\sum_{\\rho,\\varphi}S_{\\rho\\zeta}x^\\alpha_{\\varphi\\rho}\\Big[ 2\\sum_{\\theta,\\nu} x^\\alpha_{\\theta\\nu}(\\mu\\varphi|\\theta\\nu)- \\sum_{\\nu,\\theta}x^\\alpha_{\\theta\\nu}(\\mu\\nu|\\theta\\varphi) \\Big] \\\\\n",
    "&~~~~ +\\sum_{\\mu,\\zeta}C^\\alpha_{\\mu i}C^\\alpha_{\\zeta a} \\sum_{\\rho,\\varphi}S_{\\mu\\rho}x^\\alpha_{\\rho\\varphi}\\Big[ 2\\sum_{\\theta,\\nu} x^\\alpha_{\\nu\\theta}(\\zeta\\varphi|\\theta\\nu)- \\sum_{\\nu,\\theta}x^\\alpha_{\\nu\\theta}(\\zeta\\nu|\\theta\\varphi) \\Big] \\\\\n",
    "&= - \\sum_{\\mu,\\zeta}C^\\alpha_{\\mu i}C^\\alpha_{\\zeta a} \\sum_{\\rho,\\varphi}S_{\\rho\\zeta}x^\\alpha_{\\varphi\\rho}\\Big[ \\sum_{\\theta,\\nu} x^\\alpha_{\\theta\\nu} \\big[ 2 (\\mu\\varphi|\\theta\\nu)- (\\mu\\nu|\\theta\\varphi) \\big] \\Big] \\\\\n",
    "&~~~~ +\\sum_{\\mu,\\zeta}C^\\alpha_{\\mu i}C^\\alpha_{\\zeta a} \\sum_{\\rho,\\varphi}S_{\\mu\\rho}x^\\alpha_{\\rho\\varphi}\\Big[ \\sum_{\\theta,\\nu} x^\\alpha_{\\nu\\theta} \\big[ 2(\\zeta\\varphi|\\theta\\nu)- (\\zeta\\nu|\\theta\\varphi) \\big] \\Big]\n",
    "\\end{align}"
   ]
  },
  {
   "cell_type": "code",
   "execution_count": null,
   "metadata": {},
   "outputs": [],
   "source": [
    "# Calculate two different parts and transform the sum to MO\n",
    "nao = mo.shape[0]\n",
    "\n",
    "pqrs = numpy.zeros((nao, nao, nao, nao))\n",
    "eri_drv_pqrs = vlx.ElectronRepulsionIntegralsDriver(comm)\n",
    "eri_drv_pqrs.compute_in_mem(molecule, basis, pqrs)\n",
    "\n",
    "F1_vlx = numpy.einsum('mn,mntp->pt', vlx_dm_ao, pqrs)\n",
    "F2_vlx = numpy.einsum('mn,mptn->pt', vlx_dm_ao, pqrs)\n",
    "# The density matrices already have a factor of 2 (for alpha and beta spin)\n",
    "# hence a factor of 0.5 where the other spin part actually vanishes\n",
    "F_1pdm_vlx = F1_vlx - 0.5*F2_vlx\n",
    "vlx_1pdm_rhs = numpy.einsum('pi,pa->ia', mo_occ, numpy.einsum('ta,pt->pa', mo_vir, F_1pdm_vlx))\n",
    "print(vlx_1pdm_rhs)"
   ]
  },
  {
   "cell_type": "markdown",
   "metadata": {},
   "source": [
    "# Start -- Orbital Response "
   ]
  },
  {
   "cell_type": "code",
   "execution_count": null,
   "metadata": {},
   "outputs": [],
   "source": [
    "# Set up ERI driver:\n",
    "nao = mo.shape[0]\n",
    "#Probably these will be properties of our OrbitalResponseSolver?\n",
    "qq_type = 'QQ_DEN'\n",
    "eri_thresh = 1.0e-15\n",
    "eri_drv = vlx.ElectronRepulsionIntegralsDriver(comm)\n",
    "screening = eri_drv.compute(get_qq_scheme(qq_type),\n",
    "                            eri_thresh, molecule, basis)\n",
    "# print(dir(screening))\n",
    "# print(screening.get_screener(7))\n"
   ]
  },
  {
   "cell_type": "code",
   "execution_count": null,
   "metadata": {},
   "outputs": [],
   "source": [
    "# Use AODensityMatrix object to compute a Fock-like matrix\n",
    "# expect something like F_{\\varphi\\theta}, equation above\n",
    "# see linearsolver.py; we have to create a linear solver object:\n",
    "# \n",
    "# from veloxchem.linearsolver import LinearSolver\n",
    "from veloxchem.veloxchemlib import AOFockMatrix\n",
    "from veloxchem.veloxchemlib import AODensityMatrix\n",
    "from veloxchem.veloxchemlib import denmat\n",
    "\n",
    "#Create all AODensityMatrices needed for the RHS\n",
    "#1PDM contribution:\n",
    "ao_density_1pdm = AODensityMatrix([vlx_dm_ao], denmat.rest)\n",
    "\n",
    "#2PDM contribution\n",
    "ao_density_2pdm_1 = AODensityMatrix([tda_eig_vec_ao.T], denmat.rest)\n",
    "ao_density_2pdm_2 = AODensityMatrix([tda_eig_vec_ao], denmat.rest)\n",
    "\n",
    "#We only use one of the terms (i.e. ao_density_2pdm_2 -- coresponding to tda_eig_vec_ao)\n",
    "#because we can get the other as its transpose\n",
    "ao_density_RHS_all = AODensityMatrix([vlx_dm_ao, tda_eig_vec_ao], denmat.rest)\n",
    "\n",
    "print(\"Single terms:\")\n",
    "print(\"1PDM\")\n",
    "print(ao_density_1pdm)\n",
    "print()\n",
    "print(\"2PDM:\")\n",
    "print(ao_density_2pdm_1)\n",
    "print()\n",
    "print(ao_density_2pdm_2)\n",
    "\n",
    "print(\"ALL RHS:\")\n",
    "print(ao_density_RHS_all)"
   ]
  },
  {
   "cell_type": "code",
   "execution_count": null,
   "metadata": {},
   "outputs": [],
   "source": [
    "fock_rhs_1pdm = AOFockMatrix(ao_density_1pdm)\n",
    "fock_rhs_2pdm_1 = AOFockMatrix(ao_density_2pdm_1)\n",
    "fock_rhs_2pdm_2 = AOFockMatrix(ao_density_2pdm_2)\n",
    "\n",
    "fock_RHS_all = AOFockMatrix(ao_density_RHS_all)\n",
    "fock_flag = fockmat.rgenjk\n",
    "for i in range(fock_RHS_all.number_of_fock_matrices()):\n",
    "    fock_RHS_all.set_fock_type(fock_flag, i)\n",
    "    \n",
    "fock_rhs_2pdm_1.set_fock_type(fock_flag, 0)\n",
    "fock_rhs_2pdm_2.set_fock_type(fock_flag, 0)\n",
    "\n",
    "eri_drv.compute(fock_rhs_1pdm, ao_density_1pdm, molecule, basis, screening) \n",
    "eri_drv.compute(fock_rhs_2pdm_1, ao_density_2pdm_1, molecule, basis, screening) \n",
    "eri_drv.compute(fock_rhs_2pdm_2, ao_density_2pdm_2, molecule, basis, screening) \n",
    "\n",
    "eri_drv.compute(fock_RHS_all, ao_density_RHS_all, molecule, basis, screening)\n",
    "\n",
    "print(\"Fock matrices, single terms:\")\n",
    "print(\"Fock-1PDM\")\n",
    "print(fock_rhs_1pdm)\n",
    "print()\n",
    "print(\"Fock-2PDM:\")\n",
    "print(fock_rhs_2pdm_1)\n",
    "print()\n",
    "print(fock_rhs_2pdm_2)\n",
    "\n",
    "print(\"Fock-ALL RHS:\")\n",
    "print(fock_RHS_all)\n",
    "\n"
   ]
  },
  {
   "cell_type": "code",
   "execution_count": null,
   "metadata": {},
   "outputs": [],
   "source": [
    "#Transform the 1PDM contribution to the RHS to MO basis:\n",
    "MO_rhs_1pdm = numpy.einsum('pi,pa->ia', mo_occ,\n",
    "                    numpy.einsum('ta,pt->pa', mo_vir, 0.5*fock_RHS_all.alpha_to_numpy(0)))\n",
    "\n",
    "print(\"\\nIn MO basis, 1PDM contribution to the RHS, using one-shot Fock-build?:\")\n",
    "print(MO_rhs_1pdm)\n",
    "print()\n",
    "print(\"Original, for comparison:\")\n",
    "print(vlx_1pdm_rhs)"
   ]
  },
  {
   "cell_type": "code",
   "execution_count": null,
   "metadata": {},
   "outputs": [],
   "source": [
    "#Contract with excitation vector, overlap integrals and transform the 2PDM contribution to the RHS to MO basis:\n",
    "#print(fock_RHS_all.alpha_to_numpy(1))\n",
    "\n",
    "#LR_2pdm_F1 =  numpy.einsum('rz,mr->mz', ovlp,\n",
    "#                numpy.einsum('pr,mp->mr', tda_eig_vec_ao, 0.5*fock_RHS_all.alpha_to_numpy(1).T))\n",
    "#LR_2pdm_F2 =  numpy.einsum('mr,rz->mz', ovlp,\n",
    "#                numpy.einsum('rp,zp->rz', tda_eig_vec_ao, 0.5*fock_RHS_all.alpha_to_numpy(1)))\n",
    "\n",
    "MO_rhs_2pdm = numpy.einsum('mi,ma->ia', mo_occ, \n",
    "                                 numpy.einsum('za,mz->ma', mo_vir,  \n",
    "                                              (numpy.einsum('mr,rz->mz', ovlp,\n",
    "                                                            numpy.einsum('rp,zp->rz',\n",
    "                                                                         tda_eig_vec_ao, \n",
    "                                                                         0.5*fock_RHS_all.alpha_to_numpy(1))))\n",
    "                                              \n",
    "                                              -(numpy.einsum('rz,mr->mz', ovlp,\n",
    "                                                             numpy.einsum('pr,mp->mr',\n",
    "                                                                          tda_eig_vec_ao,\n",
    "                                                                          0.5*fock_RHS_all.alpha_to_numpy(1).T))))\n",
    "                          )\n",
    "\n",
    "print(MO_rhs_2pdm)"
   ]
  },
  {
   "cell_type": "code",
   "execution_count": null,
   "metadata": {},
   "outputs": [],
   "source": [
    "RHS = MO_rhs_1pdm+MO_rhs_2pdm"
   ]
  },
  {
   "cell_type": "markdown",
   "metadata": {},
   "source": [
    "## Left-hand side\n",
    "### Initial guess for Lagrange multipliers $\\boldsymbol{\\lambda}$\n",
    "\n",
    "\\begin{equation}\n",
    "    \\lambda_{ia}^{(0)} = \\frac{R_{ia}}{\\varepsilon_i - \\varepsilon_a}\n",
    "\\end{equation}"
   ]
  },
  {
   "cell_type": "code",
   "execution_count": null,
   "metadata": {},
   "outputs": [],
   "source": [
    "#Construct Initial Guess: lambda_guess=RHS/(epsilon_i-epsilon_a)\n",
    "orb_ene = scfdrv.scf_tensors['E']\n",
    "eocc = orb_ene[:nocc]\n",
    "evir = orb_ene[nocc:]\n",
    "eov = -evir + eocc.reshape(-1, 1)\n",
    "#print(eov)\n",
    "\n",
    "lambda_guess = RHS / eov\n",
    "\n",
    "print(lambda_guess)"
   ]
  },
  {
   "cell_type": "markdown",
   "metadata": {},
   "source": [
    "### Contraction of the initial guess for $\\boldsymbol{\\lambda}$ with two-electron integrals\n",
    "\n",
    "using $p=j, q=b$ as well as $p=b, q=j$ with the condition $\\lambda_{pq} = \\lambda_{qp}$ and assuming real orbitals, the equation is obtained as\n",
    "\\begin{align}\n",
    "-\\sum_{pq} \\lambda_{pq} \\big( [pq|ai] - [pi|aq] \\big)\n",
    "    &= -\\sum_{\\varphi \\theta} C_{\\varphi i} C_{\\theta a} \\sum_{\\mu \\nu}\n",
    "        \\lambda_{\\mu \\nu} \\big[ 4 (\\mu \\nu | \\varphi \\theta)\n",
    "        - (\\mu \\theta | \\varphi \\nu) - (\\nu \\theta | \\varphi \\mu) \\big] \\\\\n",
    "    %+ (\\varepsilon_a - \\varepsilon_i ) \\gamma_{ia}\n",
    "    &= - \\sum_{\\varphi \\theta} \\big[ C_{\\varphi i} C_{\\theta a} + C_{\\theta i} C_{\\varphi a} \\big]\n",
    "        \\sum_{\\mu \\nu} \\lambda_{\\mu \\nu} \\big[ 2 (\\mu \\nu | \\varphi \\theta) - (\\mu \\theta | \\varphi \\nu) \\big]\n",
    "\\end{align}\n",
    "\n",
    "#### Full LHS \n",
    "\\begin{equation}\n",
    "   -\\sum_{pq} \\lambda_{pq} \\big( [pq|ai] - [pi|aq] \\big) + \\lambda_{ia} ( \\varepsilon_i - \\varepsilon_a )\n",
    "\\end{equation}"
   ]
  },
  {
   "cell_type": "markdown",
   "metadata": {},
   "source": [
    "## Solution via Conjugate Gradient\n",
    "\n",
    "To solve: $\\mathbf{A} \\mathbf{x} = \\mathbf{b}$\n",
    "\n",
    "However, we do not \"know\" the matrix $\\mathbf{A}$, only the matrix-vector product $\\mathbf{Ax}$.\n",
    "Thus, define it as a linear operator with a vector $\\mathbf{x}$ as an argument.\n",
    "\n",
    "### Defining a linear operator"
   ]
  },
  {
   "cell_type": "code",
   "execution_count": null,
   "metadata": {},
   "outputs": [],
   "source": [
    "lambda_guess_ao = numpy.matmul(mo_occ, numpy.matmul(lambda_guess, mo_vir.T))\n",
    "    \n",
    "#Create AODensityMatrix object from lambda in AO\n",
    "ao_density_lambda_guess = AODensityMatrix([lambda_guess_ao], denmat.rest)\n",
    "fock_lambda = AOFockMatrix(ao_density_lambda_guess)\n",
    "fock_lambda.set_fock_type(fock_flag, 0)\n",
    "\n",
    "#Matrix-vector product routine for conjugate gradient:\n",
    "def OrbRsp_LHS_mvp(v):\n",
    "    \"\"\"Function to carry out matrix multiplication\n",
    "    of Lagrange multipier vector with orbital Hessian\n",
    "    matrix, using AODensityMatrix, AOFockMatrix\n",
    "    \n",
    "    v: lambda at current iteration\"\"\"\n",
    "    \n",
    "    #lambda_mo = v.reshape(nocc,nvir)\n",
    "    \n",
    "    # Transform to AO\n",
    "    lambda_ao = numpy.matmul(mo_occ, numpy.matmul(v.reshape(nocc,nvir), mo_vir.T))\n",
    "    \n",
    "    #Create AODensityMatrix object from lambda in AO\n",
    "    ao_density_lambda = AODensityMatrix([lambda_ao], denmat.rest)\n",
    "    \n",
    "    #Create a Fock Matrix Object (initialized with zeros)    \n",
    "    eri_drv.compute(fock_lambda, ao_density_lambda, molecule, basis, screening) \n",
    "    \n",
    "    #Transform to MO basis (symmetrized w.r.t. occ. and virt.) and add diagonal part\n",
    "    lambda_mo = (-( numpy.matmul(mo_occ.T, numpy.matmul(fock_lambda.alpha_to_numpy(0), mo_vir)) \n",
    "                + numpy.matmul(mo_vir.T, numpy.matmul(fock_lambda.alpha_to_numpy(0), mo_occ)).T )\n",
    "                +v.reshape(nocc,nvir) * eov) \n",
    "    \n",
    "    return lambda_mo.reshape(nocc*nvir)"
   ]
  },
  {
   "cell_type": "markdown",
   "metadata": {},
   "source": []
  },
  {
   "cell_type": "code",
   "execution_count": null,
   "metadata": {},
   "outputs": [],
   "source": [
    "#OrbRsp_LHS_mvp(lambda_guess.reshape(nocc*nvir))\n",
    "A = linalg.LinearOperator((nocc*nvir,nocc*nvir), matvec=OrbRsp_LHS_mvp)\n",
    "solution, w = linalg.cg(A=A, b=RHS.reshape(nocc*nvir), x0=lambda_guess.reshape(nocc*nvir), tol=1e-8, maxiter=25)\n",
    "\n",
    "lambda_OV = solution.reshape(nocc,nvir)\n",
    "print(lambda_OV)\n",
    "print(fock_lambda)"
   ]
  },
  {
   "cell_type": "markdown",
   "metadata": {},
   "source": [
    "# Omega Multipliers (for Overlap Matrix)"
   ]
  },
  {
   "cell_type": "markdown",
   "metadata": {},
   "source": [
    "## General Equation:\n",
    "\\begin{equation}\n",
    "2\\left(\\gamma'_{ut}+\\lambda_{ut}\\right)\\epsilon_u +2\\sum_{p,q}\\left(\\gamma'_{pq}+\\lambda_{pq}\\right)\\langle{pu||qt}\\rangle\\delta_{t\\epsilon_o}+\\sum_{p,q,r}\\Gamma'_{tpqr}\\langle{up||qr}\\rangle+2\\omega_{ut}=0\\\n",
    "\\end{equation}\n",
    "\n",
    "## VV block ($\\alpha$ block)\n",
    "\\begin{equation}\n",
    "2\\gamma'_{ab}\\epsilon_a +\\sum_{p,q,r}\\Gamma'_{bpqr}\\langle{ap||qr}\\rangle+2\\omega_{ab}=0\\\\\n",
    "2\\gamma'_{ab}\\epsilon_a +\\sum_{p,q,r}\\Gamma'_{bpqr}([aq|pr]-[ar|pq])+2\\omega_{ab} = 0\\\\\n",
    "2\\gamma'_{ab}\\epsilon_a +\\sum_{p,q,r}\\Gamma'_{bpqr}[(aq|pr)(\\alpha\\sigma'|\\sigma\\sigma'')-(ar|pq)(\\alpha\\sigma''|\\sigma\\sigma')]+2\\omega_{ab} = 0\\\\\n",
    "2\\gamma'_{ab}\\epsilon_a +\\sum_{p,q,r}\\Gamma'_{pbrq}[(aq|pr)(\\alpha\\sigma'|\\sigma\\sigma'')-(ar|pq)(\\alpha\\sigma''|\\sigma\\sigma')]+2\\omega_{ab} = 0\\\\\n",
    "2\\gamma'_{ab}\\epsilon_a +2\\sum_{i,c,j}\\Gamma'_{ibjc}[(ac|ij)(\\alpha\\sigma'|\\sigma\\sigma'')-(aj|ic)(\\alpha\\sigma''|\\sigma\\sigma')]+2\\omega_{ab} = 0\\\\\n",
    "2\\gamma'_{ab}\\epsilon_a -2\\sum_{i,c,j}x_{ic}x_{jb}[(ac|ij)(\\alpha\\sigma'|\\sigma\\sigma'')-(aj|ic)(\\alpha\\sigma''|\\sigma\\sigma')]+2\\omega_{ab} = 0\\\\\n",
    "2\\gamma'_{ab}\\epsilon_a -2\\sum_{i,c,j}x_{ic}x_{jb}[(ac|ij)(\\alpha\\alpha|\\alpha\\alpha)-(aj|ic)(\\alpha\\alpha|\\sigma\\sigma)]+2\\omega_{ab} = 0\\\\\n",
    "2\\gamma'_{ab}\\epsilon_a + 2\\sum_{i,c,j}x_{ic}x_{jb}[2(aj|ic)-(ac|ij)]+2\\omega_{ab} = 0\\\\\n",
    "\\gamma'_{ab}\\epsilon_a + \\sum_{\\mu\\nu\\theta\\varphi}C_{\\theta a}[2(\\theta\\nu|\\mu\\varphi)-(\\theta\\varphi|\\mu\\nu)]\\sum_{j}x_{jb}C_{\\nu j}\\sum_{i,c}C_{\\mu i}x_{ic}C_{\\varphi c}+\\omega_{ab} = 0\\\\\n",
    "\\gamma'_{ab}\\epsilon_a + \\sum_{\\mu\\nu\\theta\\varphi}C_{\\theta a}[2(\\theta\\nu|\\mu\\varphi)-(\\theta\\varphi|\\mu\\nu)]\\sum_{j}C_{\\nu j}x_{jb}x_{\\mu\\varphi}+\\omega_{ab} = 0\\\\\n",
    "\\gamma'_{ab}\\epsilon_a + \\sum_{\\mu\\nu\\theta\\varphi}C_{\\theta a}[2(\\theta\\nu|\\mu\\varphi)-(\\theta\\varphi|\\mu\\nu)]x_{\\nu b}x_{\\mu\\varphi}+\\omega_{ab} = 0\\\\\n",
    "\\gamma'_{ab}\\epsilon_a + \\sum_{\\mu\\nu\\theta\\varphi}C_{\\theta a}[2(\\theta\\nu|\\mu\\varphi)-(\\theta\\varphi|\\mu\\nu)]\\sum_{\\rho,\\zeta}x_{\\nu \\zeta}S_{\\zeta\\rho}C_{\\rho b}x_{\\mu\\varphi}+\\omega_{ab} = 0\\\\\n",
    "\\gamma'_{ab}\\epsilon_a + \\sum_{\\theta\\rho}C_{\\theta a}C_{\\rho b}\\sum_{\\nu,\\zeta}x_{\\nu \\zeta}S_{\\zeta\\rho} \\sum_{\\mu,\\varphi}[2(\\theta\\nu|\\mu\\varphi)-(\\theta\\varphi|\\mu\\nu)]x_{\\mu\\varphi}+\\omega_{ab} = 0\\\\\n",
    "%\n",
    "\\gamma'_{ab}\\epsilon_a = \\gamma'_{ab} (F_{ab} \\delta_{ab})\n",
    "\\end{equation}\n"
   ]
  },
  {
   "cell_type": "markdown",
   "metadata": {},
   "source": []
  },
  {
   "cell_type": "code",
   "execution_count": null,
   "metadata": {},
   "outputs": [],
   "source": [
    "#omega_VV = numpy.zeros(vlx_dm_vv.shape)\n",
    "omega_VV = -numpy.einsum('ta,tb->ab', mo_vir, \n",
    "                                 numpy.einsum('rb,tr->tb', mo_vir,  \n",
    "                                              (numpy.einsum('zr,tz->tr', ovlp,\n",
    "                                                            numpy.einsum('nz,tn->tz',\n",
    "                                                                         tda_eig_vec_ao, \n",
    "                                                                         0.5*fock_RHS_all.alpha_to_numpy(1).T\n",
    "                                                                        )\n",
    "                                                           )\n",
    "                                              )\n",
    "                                             )\n",
    "                        )\n",
    "# print(\"MO virtual energies:\")\n",
    "# print(evir)\n",
    "# print()\n",
    "omega_VV_wo_e = omega_VV.copy()\n",
    "eps_omega_VV = numpy.zeros(omega_VV.shape)\n",
    "for a in range(evir.shape[0]):\n",
    "    omega_VV[a,:]-=evir[a]*0.5*vlx_dm_vv[a,:]\n",
    "    eps_omega_VV[a,:] = -evir[a]*0.5*vlx_dm_vv[a,:]\n",
    "print(omega_VV)\n",
    "# print(\"1PDM\")\n",
    "# print(vlx_dm_vv/2)"
   ]
  },
  {
   "cell_type": "markdown",
   "metadata": {},
   "source": [
    "## OV block ($\\alpha$ block)\n",
    "\\begin{equation}\n",
    "2\\lambda_{ia}\\epsilon_i + \\sum_{p,q,r}\\Gamma'_{apqr}\\langle{ip||qr}\\rangle+2\\omega_{ia}=0\\\\\n",
    "2\\lambda_{ia}\\epsilon_i + \\sum_{p,q,r}\\Gamma'_{parq}[(iq|pr)(\\alpha\\sigma'|\\sigma\\sigma'')-(ir|pq)(\\alpha\\sigma''|\\sigma\\sigma')]+2\\omega_{ia}=0\\\\\n",
    "2\\lambda_{ia}\\epsilon_i + 2\\sum_{j,b,k}\\Gamma'_{jakb}[(ib|jk)(\\alpha\\sigma'|\\sigma\\sigma'')-(ik|jb)(\\alpha\\sigma''|\\sigma\\sigma')]+2\\omega_{ia}=0\\\\\n",
    "\\lambda_{ia}\\epsilon_i + \\sum_{j,b,k}x_{jb}x_{ka}[2(ik|jb)-(ib|jk)]+\\omega_{ia}=0\\\\\n",
    "\\lambda_{ia}\\epsilon_i + \\sum_{\\mu,\\nu,\\theta,\\varphi}\\sum_{j,b,k}C_{\\mu i}C_{\\nu j}C_{\\theta k}C_{\\varphi b}x_{jb}x_{ka}[2(\\mu\\theta|\\nu\\varphi)-(\\mu\\varphi|\\nu\\theta)]+\\omega_{ia}=0\\\\\n",
    "\\lambda_{ia}\\epsilon_i + \\sum_{\\mu,\\nu,\\theta,\\varphi}C_{\\mu i}x_{\\nu\\varphi}\\sum_{\\rho,\\zeta}x_{\\theta \\rho}S_{\\rho\\zeta}C_{\\zeta a}[2(\\mu\\theta|\\nu\\varphi)-(\\mu\\varphi|\\nu\\theta)]+\\omega_{ia}=0\\\\\n",
    "\\lambda_{ia}\\epsilon_i + \\sum_{\\mu, \\zeta}C_{\\mu i}C_{\\zeta a}\\sum_{\\rho,\\theta}x_{\\theta \\rho}S_{\\rho\\zeta}\\sum_{\\nu,\\varphi}[2(\\mu\\theta|\\nu\\varphi)-(\\mu\\varphi|\\nu\\theta)]x_{\\nu\\varphi}+\\omega_{ia}=0\\\\\n",
    "\\end{equation}"
   ]
  },
  {
   "cell_type": "code",
   "execution_count": null,
   "metadata": {},
   "outputs": [],
   "source": [
    "omega_OV = numpy.zeros((nocc,nvir))\n",
    "omega_OV = -numpy.einsum('mi,ma->ia', mo_occ, \n",
    "                                 numpy.einsum('za,mz->ma', mo_vir,  \n",
    "                                              (numpy.einsum('rz,mr->mz', ovlp,\n",
    "                                                            numpy.einsum('tr,mt->mr',\n",
    "                                                                         tda_eig_vec_ao, \n",
    "                                                                         0.5*fock_RHS_all.alpha_to_numpy(1).T\n",
    "                                                                        )\n",
    "                                                           )\n",
    "                                              )\n",
    "                                             )\n",
    "                        )\n",
    "# print(\"MO occupied energies:\")\n",
    "#print(eocc)\n",
    "# print()\n",
    "for i in range(nocc):\n",
    "    omega_OV[i,:]-=eocc[i]*lambda_OV[i,:]\n",
    "print(omega_OV)"
   ]
  },
  {
   "cell_type": "markdown",
   "metadata": {},
   "source": [
    "## OO block ($\\alpha$ block)\n",
    "\\begin{equation}\n",
    "2\\gamma'_{ij}\\epsilon_i +2\\sum_{p,q}\\left(\\gamma'_{pq}+\\lambda_{pq}\\right)\\langle{pi||qj}\\rangle+\\sum_{p,q,r}\\Gamma'_{jpqr}\\langle{ip||qr}\\rangle+2\\omega_{ij}=0\\\\\n",
    "2\\gamma'_{ij}\\epsilon_i +2\\sum_{p,q}\\left(\\gamma'_{pq}+\\lambda_{pq}\\right)([pq|ij]-[pj|iq])+\\sum_{p,q,r}\\Gamma'_{jpqr}([iq|pr]-[ir|pq])+2\\omega_{ij}=0\\\\\n",
    "2\\gamma'_{ij}\\epsilon_i +2\\sum_{p,q}\\left(\\gamma'_{pq}+\\lambda_{pq}\\right)[(pq|ij)(\\sigma\\sigma'|\\alpha\\alpha)-(pj|iq)(\\sigma\\alpha|\\alpha\\sigma')]+\\sum_{p,q,r}\\Gamma'_{jpqr}[(iq|pr)(\\alpha\\sigma'|\\sigma\\sigma'')-(ir|pq)(\\alpha\\sigma''|\\sigma\\sigma')]+2\\omega_{ij}=0\\\\\n",
    "2\\gamma'_{ij}\\epsilon_i +2\\sum_{p,q}\\left(\\gamma'_{pq}+\\lambda_{pq}\\right)[2(pq|ij)-(pj|iq)]+\\sum_{p,q,r}\\Gamma'_{jpqr}[(iq|pr)(\\alpha\\sigma'|\\sigma\\sigma'')-(ir|pq)(\\alpha\\sigma''|\\sigma\\sigma')]+2\\omega_{ij}=0\\\\\n",
    "2\\gamma'_{ij}\\epsilon_i +2\\sum_{p,q}\\left(\\gamma'_{pq}+\\lambda_{pq}\\right)[2(pq|ij)-(pj|iq)]+2\\sum_{a,k,b}\\Gamma'_{jakb}[(ik|ab)(\\alpha\\sigma'|\\sigma\\sigma'')-(ib|ak)(\\alpha\\sigma''|\\sigma\\sigma')]+2\\omega_{ij}=0\\\\\n",
    "2\\gamma'_{ij}\\epsilon_i +2\\sum_{p,q}\\left(\\gamma'_{pq}+\\lambda_{pq}\\right)[2(pq|ij)-(pj|iq)]-2\\sum_{a,k,b}x_{jb}x_{ka}[(ik|ab)-2(ib|ak)]+2\\omega_{ij}=0\\\\\n",
    "\\gamma'_{ij}\\epsilon_i +\\sum_{p,q}\\left(\\gamma'_{pq}+\\lambda_{pq}\\right)[2(pq|ij)-(pj|iq)]+\\sum_{a,k,b}x_{jb}x_{ka}[2(ib|ak)-(ik|ab)]+\\omega_{ij}=0\\\\\n",
    "\\gamma'_{ij}\\epsilon_i +\\sum_{\\mu,\\nu,\\theta,\\varphi}\\sum_{p,q}C_{\\mu p}C_{\\nu q}C_{\\theta i}C_{\\varphi j}\\left(\\gamma'_{pq}+\\lambda_{pq}\\right)[2(\\mu\\nu|\\theta\\varphi)-(\\mu\\varphi|\\theta\\nu)]+\\sum_{a,k,b}x_{jb}x_{ka}[2(ib|ak)-(ik|ab)]+\\omega_{ij}=0\\\\\n",
    "\\gamma'_{ij}\\epsilon_i +\\sum_{\\theta,\\varphi}C_{\\theta i}C_{\\varphi j}\\sum_{\\mu,\\nu}\\left(\\gamma'_{\\mu\\nu}+\\lambda_{\\mu\\nu}\\right)[2(\\mu\\nu|\\theta\\varphi)-(\\mu\\varphi|\\theta\\nu)]+\\sum_{\\mu,\\nu,\\theta,\\varphi}\\sum_{a,k,b}C_{\\mu i}C_{\\nu k}C_{\\theta a}C_{\\varphi b}x_{jb}x_{ka}[2(\\mu\\varphi|\\theta\\nu)-(\\mu\\nu|\\theta\\varphi)]+\\omega_{ij}=0\\\\\n",
    "\\gamma'_{ij}\\epsilon_i +\\sum_{\\theta,\\varphi}C_{\\theta i}C_{\\varphi j}\\sum_{\\mu,\\nu}\\left(\\gamma'_{\\mu\\nu}+\\lambda_{\\mu\\nu}\\right)[2(\\mu\\nu|\\theta\\varphi)-(\\mu\\varphi|\\theta\\nu)]+\\sum_{\\mu}C_{\\mu i}\\sum_{\\nu,\\theta,\\varphi}x_{j\\varphi}x_{\\nu\\theta}[2(\\mu\\varphi|\\theta\\nu)-(\\mu\\nu|\\theta\\varphi)]+\\omega_{ij}=0\\\\\n",
    "\\gamma'_{ij}\\epsilon_i +\\sum_{\\theta,\\varphi}C_{\\theta i}C_{\\varphi j}\\sum_{\\mu,\\nu}\\left(\\gamma'_{\\mu\\nu}+\\lambda_{\\mu\\nu}\\right)[2(\\mu\\nu|\\theta\\varphi)-(\\mu\\varphi|\\theta\\nu)]+\\sum_{\\mu}C_{\\mu i}\\sum_{\\nu,\\theta,\\varphi,\\rho,\\zeta}C_{\\zeta j}S_{\\zeta\\rho}x_{\\rho\\varphi}x_{\\nu\\theta}[2(\\mu\\varphi|\\theta\\nu)-(\\mu\\nu|\\theta\\varphi)]+\\omega_{ij}=0\\\\\n",
    "\\gamma'_{ij}\\epsilon_i +\\sum_{\\theta,\\varphi}C_{\\theta i}C_{\\varphi j}\\sum_{\\mu,\\nu}\\left(\\gamma'_{\\mu\\nu}+\\lambda_{\\mu\\nu}\\right)[2(\\mu\\nu|\\theta\\varphi)-(\\mu\\varphi|\\theta\\nu)]+\\sum_{\\mu,\\zeta}C_{\\mu i}C_{\\zeta j}\\sum_{\\varphi,\\rho}S_{\\zeta\\rho}x_{\\rho\\varphi}\\sum_{\\nu,\\theta}[2(\\mu\\varphi|\\theta\\nu)-(\\mu\\nu|\\theta\\varphi)]x_{\\nu\\theta}+\\omega_{ij}=0\\\\\n",
    "\\end{equation}"
   ]
  },
  {
   "cell_type": "code",
   "execution_count": null,
   "metadata": {},
   "outputs": [],
   "source": [
    "omega_OO = numpy.zeros((nocc,nocc))\n",
    "omega_OO = -numpy.einsum('mi,mj->ij', mo_occ, \n",
    "                                 numpy.einsum('zj,mz->mj', mo_occ,  \n",
    "                                              (numpy.einsum('zr,mr->mz', ovlp,\n",
    "                                                            numpy.einsum('rp,mp->mr',\n",
    "                                                                         tda_eig_vec_ao, \n",
    "                                                                         0.5*fock_RHS_all.alpha_to_numpy(1)\n",
    "                                                                        )\n",
    "                                                           )\n",
    "                                              )\n",
    "                                             )\n",
    "                        )\n",
    "omega_OO -= numpy.einsum('pi,pj->ij', mo_occ,\n",
    "                    numpy.einsum('tj,pt->pj', mo_occ, 0.5*fock_RHS_all.alpha_to_numpy(0)))\n",
    "omega_OO -= ( numpy.matmul(mo_occ.T, numpy.matmul(fock_lambda.alpha_to_numpy(0), mo_occ)) \n",
    "            + numpy.matmul(mo_occ.T, numpy.matmul(fock_lambda.alpha_to_numpy(0), mo_occ)).T \n",
    "            )\n",
    "\n",
    "#print(numpy.matmul(mo_occ.T, numpy.matmul(fock_lambda.alpha_to_numpy(0), mo_occ)))\n",
    "# print(\"MO occupied energies:\")\n",
    "#print(eocc)\n",
    "# print()\n",
    "#eov = -evir + eocc.reshape(-1, 1)\n",
    "#omega_OO-=eocc*0.5*vlx_dm_oo[i,:]\n",
    "for i in range(nocc):\n",
    "    omega_OO[i,:]-=eocc[i]*0.5*vlx_dm_oo[i,:]\n",
    "    omega_OO[i,i]-=eocc[i]\n",
    "print(omega_OO)"
   ]
  },
  {
   "cell_type": "markdown",
   "metadata": {},
   "source": [
    "### $\\boldsymbol{\\omega}$ entirely in AO basis"
   ]
  },
  {
   "cell_type": "code",
   "execution_count": null,
   "metadata": {},
   "outputs": [],
   "source": [
    "#epsilon_gamma_vv_ao is epsilon_a*dm_vv transformd to AO\n",
    "epsilon_gamma_vv = -numpy.einsum(\"a,ab->ab\", evir, 0.5*vlx_dm_vv)\n",
    "epsilon_gamma_oo = -numpy.einsum(\"i,ij->ij\", eocc, 0.5*vlx_dm_oo)-numpy.diag(eocc)\n",
    "epsilon_lambda_ov = -numpy.einsum(\"i,ia->ia\", eocc, lambda_OV)\n",
    "\n",
    "#Components:\n",
    "epsilon_gamma_vv_ao = numpy.matmul(mo_vir, numpy.matmul(epsilon_gamma_vv, mo_vir.T))\n",
    "epsilon_gamma_oo_ao = numpy.matmul(mo_occ, numpy.matmul(epsilon_gamma_oo, mo_occ.T))\n",
    "epsilon_gamma_ov_ao = numpy.matmul(mo_occ, numpy.matmul(epsilon_lambda_ov, mo_vir.T))\n",
    "\n",
    "#Total:\n",
    "epsilon_gamma_ao = (numpy.matmul(mo_vir, numpy.matmul(epsilon_gamma_vv, mo_vir.T))\n",
    "                    +numpy.matmul(mo_occ, numpy.matmul(epsilon_gamma_oo, mo_occ.T))\n",
    "                    +numpy.matmul(mo_occ, numpy.matmul(epsilon_lambda_ov, mo_vir.T))\n",
    "                    +numpy.matmul(mo_vir, numpy.matmul(epsilon_lambda_ov.T, mo_occ.T))\n",
    "                   )\n",
    "\n",
    "\n",
    "#print(epsilon_gamma_vv_ao)\n",
    "\n",
    "F = (numpy.einsum('zr,tz->tr', ovlp,\n",
    "                  numpy.einsum('nz,tn->tz',tda_eig_vec_ao, \n",
    "                               0.5*fock_RHS_all.alpha_to_numpy(1).T\n",
    "                              )\n",
    "                 )\n",
    "    )\n",
    "\n",
    "Foo = numpy.einsum('zr,mr->mz', ovlp,\n",
    "                   numpy.einsum('rp,mp->mr', tda_eig_vec_ao, \n",
    "                                 0.5*fock_RHS_all.alpha_to_numpy(1)\n",
    "                                )\n",
    "                    )\n",
    "                                              \n",
    "\n",
    "#c_ct_Fx_c_t = C C.transpose Fx C C.transpose, with Fx the 2PDM term in AO basis\n",
    "vv_c_ct_Fx_c_ct = -numpy.matmul(mo_vir,\n",
    "                            numpy.matmul(mo_vir.T, \n",
    "                                        numpy.matmul(F,\n",
    "                                                    numpy.matmul(mo_vir,mo_vir.T)\n",
    "                                                    )\n",
    "                                        )\n",
    "                           )\n",
    "\n",
    "ov_c_ct_Fx_c_ct =  -numpy.matmul(mo_occ,\n",
    "                            numpy.matmul(mo_occ.T, \n",
    "                                        numpy.matmul(F,\n",
    "                                                    numpy.matmul(mo_vir,mo_vir.T)\n",
    "                                                    )\n",
    "                                        )\n",
    "                           )\n",
    "\n",
    "\n",
    "oo_c_ct_Fx_c_ct =  -numpy.matmul(mo_occ,\n",
    "                            numpy.matmul(mo_occ.T, \n",
    "                                        numpy.matmul(F,\n",
    "                                                    numpy.matmul(mo_occ,mo_occ.T)\n",
    "                                                    )\n",
    "                                        )\n",
    "                           )\n",
    "\n",
    "new_oo_c_ct_Fx_c_ct =  -numpy.matmul(mo_occ,\n",
    "                            numpy.matmul(mo_occ.T, \n",
    "                                        numpy.matmul(Foo,\n",
    "                                                    numpy.matmul(mo_occ,mo_occ.T)\n",
    "                                                    )\n",
    "                                        )\n",
    "                           )\n",
    "\n",
    "oo_c_ct_F1pdm_c_ct = -(numpy.matmul(mo_occ,\n",
    "                            numpy.matmul(mo_occ.T, \n",
    "                                        numpy.matmul((fock_lambda.alpha_to_numpy(0)\n",
    "                                                      +fock_lambda.alpha_to_numpy(0).T\n",
    "                                                      +0.5*fock_RHS_all.alpha_to_numpy(0)),\n",
    "                                                    numpy.matmul(mo_occ,mo_occ.T)\n",
    "                                                    )\n",
    "                                        )\n",
    "                           )\n",
    "                      )\n",
    "\n",
    "\n",
    "c_ct_Fx_c_ct = (-numpy.matmul(mo_occ,\n",
    "                            numpy.matmul(mo_occ.T, \n",
    "                                        numpy.matmul(Foo,\n",
    "                                                    numpy.matmul(mo_occ,mo_occ.T)\n",
    "                                                    )\n",
    "                                        )\n",
    "                           )\n",
    "                 -numpy.matmul(mo_occ,\n",
    "                            numpy.matmul(mo_occ.T, \n",
    "                                        numpy.matmul(F,\n",
    "                                                    numpy.matmul(mo_vir,mo_vir.T)\n",
    "                                                    )\n",
    "                                        )\n",
    "                           )\n",
    "                 -numpy.matmul(mo_occ,\n",
    "                            numpy.matmul(mo_occ.T, \n",
    "                                        numpy.matmul(F,\n",
    "                                                    numpy.matmul(mo_vir,mo_vir.T)\n",
    "                                                    )\n",
    "                                        )\n",
    "                           ).T\n",
    "                -numpy.matmul(mo_vir,\n",
    "                            numpy.matmul(mo_vir.T, \n",
    "                                        numpy.matmul(F,\n",
    "                                                    numpy.matmul(mo_vir,mo_vir.T)\n",
    "                                                    )\n",
    "                                        )\n",
    "                           )\n",
    "            )\n",
    "#c_ct_Fx_c_ct = (oo_c_ct_Fx_c_ct+vv_c_ct_Fx_c_ct+ov_c_ct_Fx_c_ct+ov_c_ct_Fx_c_ct.T)\n",
    "\n",
    "iulia_omega_VV_ao = epsilon_gamma_vv_ao + vv_c_ct_Fx_c_ct\n",
    "iulia_omega_OV_ao = epsilon_gamma_ov_ao + + ov_c_ct_Fx_c_ct + epsilon_gamma_ov_ao.T + ov_c_ct_Fx_c_ct.T\n",
    "iulia_omega_OO_ao = epsilon_gamma_oo_ao + oo_c_ct_F1pdm_c_ct + new_oo_c_ct_Fx_c_ct \n",
    "\n",
    "iulia_omega_ao_full = epsilon_gamma_ao + oo_c_ct_F1pdm_c_ct + c_ct_Fx_c_ct \n",
    "sum_full = iulia_omega_VV_ao + iulia_omega_OV_ao + iulia_omega_OO_ao\n",
    "\n",
    "print(\"\\nomega VV in AO basis:\\n\")\n",
    "print(iulia_omega_VV_ao)\n",
    "\n",
    "print(\"\\nomega OV in AO basis:\\n\")\n",
    "print(iulia_omega_OV_ao)\n",
    "\n",
    "print(\"\\nomega OO in AO basis:\\n\")\n",
    "print(iulia_omega_OO_ao)\n",
    "\n",
    "print(\"\\nFull omega in AO basis:\\n\")\n",
    "print(iulia_omega_ao_full)\n",
    "\n",
    "\n",
    "print(\"\\nSum of components in AO basis:\\n\")\n",
    "print(sum_full)\n",
    "\n",
    "\n",
    "print(\"\\nold:\\n\", F)\n",
    "print(\"\\nnew:\\n\", Foo)\n"
   ]
  },
  {
   "cell_type": "code",
   "execution_count": null,
   "metadata": {},
   "outputs": [],
   "source": [
    "omega_VV_ao = -(numpy.einsum('zr,tz->tr', ovlp,\n",
    "                         numpy.einsum('nz,tn->tz',\n",
    "                                   tda_eig_vec_ao, \n",
    "                                    0.5*fock_RHS_all.alpha_to_numpy(1).T\n",
    "                                                                        )\n",
    "                                                           )\n",
    "                                              )\n",
    "\n",
    "# maybe one has to skip teh overlap matrix here already? since one does not transform to MO at all...\n",
    "omega_VV_ao_wo_s = - (numpy.einsum('nz,tn->tz', tda_eig_vec_ao, 0.5*fock_RHS_all.alpha_to_numpy(1).T))\n",
    "\n",
    "omega_OV_ao = -(numpy.einsum('rz,mr->mz', ovlp,\n",
    "                         numpy.einsum('tr,mt->mr',\n",
    "                               tda_eig_vec_ao, \n",
    "                                      0.5*fock_RHS_all.alpha_to_numpy(1).T\n",
    "                                                                        )\n",
    "                                                           )\n",
    "                                              )\n",
    "\n",
    "omega_OO_ao = -(numpy.einsum('zr,mr->mz', ovlp,\n",
    "                          numpy.einsum('rp,mp->mr',\n",
    "                                    tda_eig_vec_ao, \n",
    "                                            0.5*fock_RHS_all.alpha_to_numpy(1)\n",
    "                                                                        )\n",
    "                                                           )\n",
    "                                              )\n",
    "omega_OO_ao -= 0.5*fock_RHS_all.alpha_to_numpy(0)\n",
    "omega_OO_ao -= ( fock_lambda.alpha_to_numpy(0) + fock_lambda.alpha_to_numpy(0).T )\n",
    "\n",
    "# Add the \"diagonal\" parts, transformed to AO\n",
    "omega_VV_ao -= numpy.matmul(mo_vir, numpy.matmul(ovlp,\n",
    "                                                 numpy.matmul(numpy.einsum('a,ab->ab', evir, 0.5*vlx_dm_vv),\n",
    "                                                              numpy.matmul(ovlp, mo_vir).T).T).T)\n",
    "\n",
    "omega_VV_ao_wo_s -= numpy.matmul(mo_vir, numpy.matmul(numpy.einsum('a,ab->ab', evir, 0.5*vlx_dm_vv), mo_vir.T))\n",
    "\n",
    "omega_OO_ao -= numpy.matmul(mo_occ, numpy.matmul(numpy.diag(eocc) + numpy.einsum('i,ij->ij', eocc, 0.5*vlx_dm_oo), mo_occ.T))\n",
    "omega_OV_ao -= (numpy.matmul(mo_occ, numpy.matmul(numpy.einsum('i,ia->ia', eocc, lambda_OV), mo_vir.T))\n",
    "            + numpy.matmul(mo_vir, numpy.matmul(numpy.einsum('i,ia->ia', eocc, lambda_OV).T, mo_occ.T))\n",
    "            )\n"
   ]
  },
  {
   "cell_type": "code",
   "execution_count": null,
   "metadata": {},
   "outputs": [],
   "source": []
  },
  {
   "cell_type": "code",
   "execution_count": null,
   "metadata": {},
   "outputs": [],
   "source": [
    "# Transform those calculated entirely in MO to the AO basis\n",
    "omega_VV_ao2 = numpy.matmul(mo_vir, numpy.matmul(omega_VV, mo_vir.T))\n",
    "#omega_VV_wo_e_ao = numpy.matmul(mo_vir, numpy.matmul(omega_VV_wo_e, mo_vir.T))\n",
    "omega_OV_ao2 = (numpy.matmul(mo_occ, numpy.matmul(omega_OV, mo_vir.T)))\n",
    "                #+ numpy.matmul(mo_vir, numpy.matmul(omega_OV.T, mo_occ.T)))\n",
    "omega_OV_ao2 += omega_OV_ao2.T\n",
    "omega_OO_ao2 = numpy.matmul(mo_occ, numpy.matmul(omega_OO, mo_occ.T))"
   ]
  },
  {
   "cell_type": "code",
   "execution_count": null,
   "metadata": {},
   "outputs": [],
   "source": [
    "print(\"omega_VV_ao2:\")\n",
    "print(omega_VV_ao2)\n",
    "print(\"\\niulia_omega_VV:\\n\", iulia_omega_VV_ao)\n",
    "print(\"\\nomega_VV_ao_wo_s:\")\n",
    "print(omega_VV_ao_wo_s)\n",
    "print(\"\\nomega_VV_ao:\")\n",
    "print(omega_VV_ao)\n",
    "print()\n",
    "#print(\"omega_VV_wo_e_ao:\")\n",
    "#print(omega_VV_wo_e_ao)\n",
    "#print(\"\\nomega_VV_ao_wo_e\")\n",
    "#print(omega_VV_ao_wo_e)"
   ]
  },
  {
   "cell_type": "code",
   "execution_count": null,
   "metadata": {},
   "outputs": [],
   "source": [
    "print(\"omega_OO_ao2:\")\n",
    "print(omega_OO_ao2)\n",
    "\n",
    "print(\"\\niulia_omega_OO in AO:\")\n",
    "print(iulia_omega_OO_ao)\n",
    "print(\"\\nomegaOV_ao2:\")\n",
    "print(omega_OV_ao2)\n",
    "print(\"\\niulia_omega_OV:\\n\", iulia_omega_OV_ao)\n",
    "print(\"\\nTOTAL:\")\n",
    "print(omega_OV_ao2+omega_OO_ao2+omega_VV_ao2)\n",
    "\n",
    "print(\"\\nOmega from tdaorbitalresponse.compute_omega:\\n\", orb_resp.omega_ao)\n"
   ]
  },
  {
   "cell_type": "code",
   "execution_count": null,
   "metadata": {},
   "outputs": [],
   "source": []
  },
  {
   "cell_type": "code",
   "execution_count": null,
   "metadata": {},
   "outputs": [],
   "source": []
  }
 ],
 "metadata": {
  "kernelspec": {
   "display_name": "Python 3",
   "language": "python",
   "name": "python3"
  },
  "language_info": {
   "codemirror_mode": {
    "name": "ipython",
    "version": 3
   },
   "file_extension": ".py",
   "mimetype": "text/x-python",
   "name": "python",
   "nbconvert_exporter": "python",
   "pygments_lexer": "ipython3",
   "version": "3.6.9"
  }
 },
 "nbformat": 4,
 "nbformat_minor": 4
}
