{
 "cells": [
  {
   "cell_type": "code",
   "execution_count": null,
   "metadata": {},
   "outputs": [],
   "source": [
    "import veloxchem as vlx\n",
    "import adcc\n",
    "from mpi4py import MPI\n",
    "import sys\n",
    "import numpy\n",
    "from scipy.sparse import linalg\n",
    "\n",
    "numpy.set_printoptions(precision=7, suppress=True)"
   ]
  },
  {
   "cell_type": "markdown",
   "metadata": {},
   "source": [
    "### Prepare a VeloxChem SCF calculation"
   ]
  },
  {
   "cell_type": "code",
   "execution_count": null,
   "metadata": {},
   "outputs": [],
   "source": [
    "# Input settings\n",
    "molecule_string = \"\"\"\n",
    "    O 0 0 0\n",
    "    H 0 0 1.795239827225189\n",
    "    H 1.693194615993441 0 -0.599043184453037\"\"\"\n",
    "\n",
    "#molecule_string = \"\"\"\n",
    "#    H 0 0 0\n",
    "#    H 0 0 1.795239827225189\n",
    "#    \"\"\"\n",
    "\n",
    "basis_set_label = 'STO-3G'\n",
    "scf_settings = {'conv_thresh': 1.0e-6}\n",
    "method_settings = {} #{'xcfun': 'b3lyp', 'grid_level': 4}\n",
    "rsp_settings = {'conv_thresh': 1.0e-4, 'nstates': 3}"
   ]
  },
  {
   "cell_type": "code",
   "execution_count": null,
   "metadata": {},
   "outputs": [],
   "source": [
    "# Communicator and output stream\n",
    "comm = MPI.COMM_WORLD\n",
    "ostream = vlx.OutputStream(sys.stdout)"
   ]
  },
  {
   "cell_type": "code",
   "execution_count": null,
   "metadata": {},
   "outputs": [],
   "source": [
    "# Molecule and basis set\n",
    "molecule = vlx.Molecule.read_str(molecule_string, units='au')\n",
    "basis = vlx.MolecularBasis.read(molecule, basis_set_label)\n",
    "\n",
    "ostream.print_block(molecule.get_string())\n",
    "ostream.print_block(basis.get_string('Atomic Basis', molecule))\n",
    "ostream.flush()"
   ]
  },
  {
   "cell_type": "code",
   "execution_count": null,
   "metadata": {},
   "outputs": [],
   "source": [
    "# MockTask class needed to run adcc with vlx\n",
    "class MockTask:\n",
    "    def __init__(self, mol, basis, comm, ostream):\n",
    "\n",
    "        self.molecule = mol\n",
    "        self.ao_basis = basis\n",
    "        self.mpi_comm = comm\n",
    "        self.ostream = ostream"
   ]
  },
  {
   "cell_type": "code",
   "execution_count": null,
   "metadata": {},
   "outputs": [],
   "source": [
    "# SCF\n",
    "task = MockTask(molecule, basis, comm, ostream)\n",
    "scfdrv = vlx.ScfRestrictedDriver(comm, ostream)\n",
    "scfdrv.update_settings(scf_settings, method_settings)\n",
    "scfdrv.compute(molecule, basis)\n",
    "scfdrv.task = task"
   ]
  },
  {
   "cell_type": "code",
   "execution_count": null,
   "metadata": {},
   "outputs": [],
   "source": [
    "# SCF first-order properties\n",
    "scf_prop = vlx.ScfFirstOrderProperties(comm, ostream)\n",
    "scf_prop.compute(molecule, basis, scfdrv.scf_tensors)\n",
    "scf_prop.print_properties(molecule)"
   ]
  },
  {
   "cell_type": "markdown",
   "metadata": {},
   "source": [
    "### Excited-State Calculation via CIS (TDHF/TDA)"
   ]
  },
  {
   "cell_type": "code",
   "execution_count": null,
   "metadata": {},
   "outputs": [],
   "source": [
    "# TDHF/TDA, i.e. CIS\n",
    "tda_drv = vlx.TDAExciDriver(comm, ostream)\n",
    "tda_drv.update_settings(rsp_settings, method_settings)\n",
    "tda_results = tda_drv.compute(molecule, basis, scfdrv.scf_tensors)\n",
    "tda_drv.ostream.flush()"
   ]
  },
  {
   "cell_type": "code",
   "execution_count": null,
   "metadata": {},
   "outputs": [],
   "source": [
    "# Get MO coefficients\n",
    "\n",
    "nocc = molecule.number_of_alpha_electrons()\n",
    "mo = scfdrv.scf_tensors['C'] # MO coefficients\n",
    "mo_occ = mo[:, :nocc]        # occupied\n",
    "mo_vir = mo[:, nocc:]        # virtual\n",
    "\n",
    "nocc = mo_occ.shape[1]\n",
    "nvir = mo_vir.shape[1]"
   ]
  },
  {
   "cell_type": "code",
   "execution_count": null,
   "metadata": {},
   "outputs": [],
   "source": [
    "# Get the overlap and Fock matrices\n",
    "\n",
    "print(scfdrv.scf_tensors.keys())\n",
    "fock = scfdrv.scf_tensors['F'][0]\n",
    "ovlp = scfdrv.scf_tensors['S']\n",
    "# Transform them from AO to MO basis\n",
    "print(numpy.matmul(mo.T, numpy.matmul(ovlp, mo)))\n",
    "print(numpy.matmul(mo.T, numpy.matmul(fock, mo)))"
   ]
  },
  {
   "cell_type": "code",
   "execution_count": null,
   "metadata": {},
   "outputs": [],
   "source": [
    "# Get the CIS eigenvalues and eigenvectors\n",
    "\n",
    "tda_eig_vals = tda_results[\"eigenvalues\"]\n",
    "tda_eig_vecs = tda_results[\"eigenvectors\"]\n",
    "tda_size = tda_eig_vecs[:,0].shape\n",
    "tda_eig_vec=tda_eig_vecs[:,0].copy()\n",
    "tda_eig_vec_as_mat = tda_eig_vec.reshape(nocc, nvir) #/ numpy.sqrt(2.0)"
   ]
  },
  {
   "cell_type": "markdown",
   "metadata": {},
   "source": [
    "### Calculate one- and two-particle density matrices"
   ]
  },
  {
   "cell_type": "markdown",
   "metadata": {},
   "source": [
    "\\begin{align}\n",
    "    \\gamma_{ij} &= - \\sum_{a} x_{ia} x_{ja} \\\\\n",
    "    \\gamma_{ab} &= + \\sum_{i} x_{ia} x_{ib} \\\\\n",
    "    \\Gamma_{iajb} &= - x_{ib} x_{ja}\n",
    "\\end{align}"
   ]
  },
  {
   "cell_type": "code",
   "execution_count": null,
   "metadata": {},
   "outputs": [],
   "source": [
    "# VeloxChem unrelaxed one-particle density matrix and two-particle density matrix\n",
    "\n",
    "vlx_dm_oo = -numpy.einsum('ia,ja->ij', tda_eig_vec_as_mat, tda_eig_vec_as_mat)\n",
    "vlx_dm_vv = numpy.einsum('ia,ib->ab', tda_eig_vec_as_mat, tda_eig_vec_as_mat)\n",
    "vlx_DM_ovov = -numpy.einsum('ib,ja->iajb', tda_eig_vec_as_mat, tda_eig_vec_as_mat)\n",
    "\n",
    "print(vlx_dm_oo)"
   ]
  },
  {
   "cell_type": "markdown",
   "metadata": {},
   "source": [
    "### Transform the one-particle density matrices from the MO to the AO basis\n",
    "\n",
    "\\begin{equation}\n",
    "    \\gamma_{\\mu \\nu} = \\sum_{pq} C_{\\mu p} \\gamma_{pq} C_{\\nu q}\n",
    "\\end{equation}"
   ]
  },
  {
   "cell_type": "code",
   "execution_count": null,
   "metadata": {},
   "outputs": [],
   "source": [
    "# Transform the one-particle density matrices from MO to AO basis\n",
    "vlx_dm_oo_in_ao = numpy.matmul(mo_occ, numpy.matmul(vlx_dm_oo, mo_occ.T))\n",
    "adcc_dm_oo_in_ao = 2.0*numpy.matmul(mo_occ, numpy.matmul(adcc_dm_oo[:nocc,:nocc], mo_occ.T))\n",
    "\n",
    "vlx_dm_vv_in_ao = numpy.matmul(mo_vir, numpy.matmul(vlx_dm_vv, mo_vir.T))\n",
    "adcc_dm_vv_in_ao = 2.0*numpy.matmul(mo_vir, numpy.matmul(adcc_dm_vv[:nvir,:nvir], mo_vir.T))\n",
    "\n",
    "vlx_dm_ao = vlx_dm_oo_in_ao + vlx_dm_vv_in_ao\n",
    "adcc_dm_ao = adcc_dm_oo_in_ao + adcc_dm_vv_in_ao\n",
    "\n",
    "print(\"VLX:\")\n",
    "print(vlx_dm_ao)\n",
    "print(\"\\nADCC:\")\n",
    "print(adcc_dm_ao)"
   ]
  },
  {
   "cell_type": "markdown",
   "metadata": {},
   "source": [
    "#### Transform the excitation vectors to the AO basis\n",
    "\\begin{equation}\n",
    "    x_{\\mu \\nu} = \\sum_{ia} C_{\\mu i} x_{ia} C_{\\nu a}\n",
    "\\end{equation}"
   ]
  },
  {
   "cell_type": "code",
   "execution_count": null,
   "metadata": {},
   "outputs": [],
   "source": [
    "# Transform the transition density matrix (the excitation vectors) from MO to AO basis\n",
    "# (will be needed for the two-particle density matrix)\n",
    "\n",
    "tda_eig_vec_ao = numpy.matmul(mo_occ, numpy.matmul(tda_eig_vec_as_mat, mo_vir.T))\n",
    "print(tda_eig_vec_ao)"
   ]
  },
  {
   "cell_type": "code",
   "execution_count": null,
   "metadata": {},
   "outputs": [],
   "source": [
    "# Get the ERI tensor in AO basis (chemists' notation)\n",
    "\n",
    "nao = mo.shape[0]\n",
    "\n",
    "pqrs = numpy.zeros((nao, nao, nao, nao))\n",
    "eri_drv = vlx.ElectronRepulsionIntegralsDriver(comm)\n",
    "eri_drv.compute_in_mem(molecule, basis, pqrs)"
   ]
  },
  {
   "cell_type": "markdown",
   "metadata": {},
   "source": [
    "The MO to AO transformation of the contribution of the two-particle density matrix with the ERI tensor is given as\n",
    "\\begin{align}\n",
    "\\begin{split}\n",
    "    - \\sum_{\\sigma \\sigma'} \\sum_{ijab} x_{i_{\\sigma} b_{\\sigma}} x_{j_{\\sigma'} a_{\\sigma'}}\n",
    "        \\langle i_{\\sigma} a_{\\sigma'} || j_{\\sigma'} b_{\\sigma} \\rangle\n",
    "    &= - \\sum_{ijab} x_{ib} x_{ja} [ 2 (ij|ab) - 4 (ib|aj) ] \\\\\n",
    "    &= + \\sum_{ijab} x_{ib} x_{ja} [ 4 (ib|aj) - 2 (ij|ab)  ] \\\\\n",
    "    &= \\sum_{ijab} x_{ib} x_{ja} \\sum_{\\mu \\nu \\theta \\varphi}\n",
    "        C_{\\mu i} C_{\\nu b} C_{\\theta a} C_{\\varphi j}  [ 4 (\\mu \\nu | \\theta \\varphi)\n",
    "        - 2 (\\mu \\varphi | \\theta \\nu) ] \\\\\n",
    "    &= \\sum_{\\mu \\nu \\theta \\varphi} [ 4 (\\mu \\nu | \\theta \\varphi)\n",
    "        - 2 (\\mu \\varphi | \\theta \\nu) ]\n",
    "        \\sum_{ib} C_{\\mu i} x_{ib} C_{\\nu b} \\sum_{ja} C_{\\varphi j} x_{ja} C_{\\theta a} \\\\\n",
    "    &= \\sum_{\\mu \\nu \\theta \\varphi} x_{\\mu \\nu} x_{\\varphi \\theta} [ 4 (\\mu \\nu | \\theta \\varphi)\n",
    "        - 2 (\\mu \\varphi | \\theta \\nu) ]       \\\\\n",
    "    &= \\sum_{\\mu \\nu} x_{\\mu \\nu} \\sum_{\\theta \\varphi} x_{\\varphi \\theta} [ 4 (\\mu \\nu | \\theta \\varphi)\n",
    "        - 2 (\\mu \\varphi | \\theta \\nu) ]\n",
    "\\end{split}\n",
    "\\end{align}"
   ]
  },
  {
   "cell_type": "markdown",
   "metadata": {},
   "source": [
    "# Orbital response\n",
    "\n",
    "\\begin{equation}\n",
    "   -\\sum_{pq} \\lambda_{pq} \\big( [pq|ai] - [pi|aq] \\big) + \\lambda_{ia} ( \\varepsilon_i - \\varepsilon_a ) = \n",
    "   R_{ia}\n",
    "   %R^{\\text{CIS}}_{ia}\n",
    "\\end{equation}"
   ]
  },
  {
   "cell_type": "markdown",
   "metadata": {},
   "source": [
    "## Right-hand side"
   ]
  },
  {
   "cell_type": "markdown",
   "metadata": {},
   "source": [
    "### 1. Contributions from the 1PDMs\n",
    "\\begin{align}\n",
    "F^\\gamma_{ia} &= \\sum_{\\theta,\\varphi}C^\\alpha_{\\varphi i}C^\\alpha_{\\theta a}\\sum_{\\mu,\\nu,\\sigma}\\gamma^\\sigma_{\\mu\\nu}(\\mu\\nu|\\theta \\varphi)-\\sum_{\\theta,\\varphi}C^\\alpha_{\\varphi i}C^\\alpha_{\\theta a}\\sum_{\\mu,\\nu}\\gamma^{\\alpha}_{\\mu\\nu}(\\mu\\varphi|\\theta\\nu)\\\\\n",
    "&= \\sum_{\\theta,\\varphi}C^\\alpha_{\\varphi i}C^\\alpha_{\\theta a} 2F^{1,\\alpha}_{\\varphi\\theta}-\\sum_{\\theta,\\varphi}C^\\alpha_{\\varphi i}C^\\alpha_{\\theta a}F^{2,\\alpha}_{\\varphi\\theta}\\\\\n",
    "&= \\sum_{\\theta,\\varphi}C^\\alpha_{\\varphi i}C^\\alpha_{\\theta a}F_{\\varphi\\theta}\n",
    "\\end{align}"
   ]
  },
  {
   "cell_type": "code",
   "execution_count": null,
   "metadata": {},
   "outputs": [],
   "source": [
    "# Calculate two different parts and transform the sum to MO\n",
    "\n",
    "F1_vlx = numpy.einsum('mn,mntp->pt', vlx_dm_ao, pqrs)\n",
    "F2_vlx = numpy.einsum('mn,mptn->pt', vlx_dm_ao, pqrs)\n",
    "# The density matrices already have a factor of 2 (for alpρφha and beta spin)\n",
    "# hence a factor of 0.5 where the other spin part actually vanishes\n",
    "F_1pdm_vlx = F1_vlx - 0.5*F2_vlx\n",
    "vlx_1pdm_rhs = numpy.einsum('pi,pa->ia', mo_occ, numpy.einsum('ta,pt->pa', mo_vir, F_1pdm_vlx))\n",
    "print(vlx_1pdm_rhs)"
   ]
  },
  {
   "cell_type": "markdown",
   "metadata": {},
   "source": [
    "##### Using AODensityMatrix and LinearSolver objects and comp_lr_fock function"
   ]
  },
  {
   "cell_type": "code",
   "execution_count": null,
   "metadata": {},
   "outputs": [],
   "source": [
    "# Use AODensityMatrix object to compute a Fock-like matrix\n",
    "# expect something like F_{\\varphi\\theta}, equation above\n",
    "# see linearsolver.py; we have to create a linear solver object:\n",
    "\n",
    "from veloxchem.linearsolver import LinearSolver\n",
    "from veloxchem.veloxchemlib import AOFockMatrix\n",
    "from veloxchem.veloxchemlib import AODensityMatrix\n",
    "from veloxchem.veloxchemlib import denmat\n",
    "\n",
    "ao_density_object = AODensityMatrix([vlx_dm_ao], denmat.rest)"
   ]
  },
  {
   "cell_type": "code",
   "execution_count": null,
   "metadata": {},
   "outputs": [],
   "source": [
    "linear_solver_object = LinearSolver(comm, ostream)\n",
    "eri_dict = linear_solver_object.init_eri(molecule, basis)\n",
    "# DFT information\n",
    "dft_dict = linear_solver_object.init_dft(molecule, scfdrv.scf_tensors)\n",
    "# PE information\n",
    "pe_dict = linear_solver_object.init_pe(molecule, basis)\n",
    "timing_dict = {}\n",
    "fock_matrix_rhs_1pdm = AOFockMatrix(ao_density_object)\n",
    "#print(fock_matrix_rhs_1pdm)\n",
    "linear_solver_object.comp_lr_fock(fock_matrix_rhs_1pdm, ao_density_object, molecule, basis,\n",
    "                                  eri_dict, dft_dict, pe_dict, timing_dict)\n",
    "print(\"Fock matrix from 1PDM, from LinearSolver:\")\n",
    "print(fock_matrix_rhs_1pdm)\n",
    "print()\n",
    "print(\"Fock matrix from 1PDM, using numpy.einsum:\")\n",
    "print(2*F_1pdm_vlx)\n",
    "#We have to take 0.5*fock_matrix_rhs_1pdm because there is a sqrt(2) in the excitation vectors\n",
    "#(normalized? alpha+beta?, but we are looking only at the alpha-alpha block of the multipliers) \n",
    "rhs_1pdm_from_LinearSolver = numpy.einsum('pi,pa->ia', mo_occ,\n",
    "                            numpy.einsum('ta,pt->pa', mo_vir, 0.5*fock_matrix_rhs_1pdm.alpha_to_numpy(0)))\n",
    "print(\"\\nIn MO basis, 1PDM contribution to the RHS, LinearSolver:\")\n",
    "print(rhs_1pdm_from_LinearSolver)\n",
    "print()\n",
    "print(\"Original, for comparison:\")\n",
    "print(vlx_1pdm_rhs)"
   ]
  },
  {
   "cell_type": "markdown",
   "metadata": {},
   "source": [
    "### 2. Contributions from the 2PDMs\n",
    "\n",
    "\\begin{align}\n",
    "F^\\Gamma_{ia} &= ~~ \\sum_{\\mu,\\zeta}C^\\alpha_{\\mu i}C^\\alpha_{\\zeta a} \\Big[\\sum_{\\rho,\\varphi}S_{\\rho\\zeta}x^\\alpha_{\\varphi\\rho}\\sum_{\\nu,\\theta}x^\\alpha_{\\theta\\nu}(\\mu\\nu|\\theta\\varphi)-\\sum_{\\rho,\\varphi}S_{\\rho\\zeta}x^\\alpha_{\\varphi\\rho}\\sum_{\\theta,\\nu,\\sigma} x^\\sigma_{\\theta\\nu}(\\mu\\varphi|\\theta\\nu) \\Big] \\\\\n",
    "&~~~ -\\sum_{\\mu,\\zeta}C^\\alpha_{\\mu i}C^\\alpha_{\\zeta a} \\Big[ \\sum_{\\rho,\\varphi}S_{\\mu\\rho}x^\\alpha_{\\rho\\varphi}\\sum_{\\nu,\\theta}x^\\alpha_{\\nu\\theta}(\\zeta\\nu|\\theta\\varphi)-\\sum_{\\rho,\\varphi} S_{\\mu\\rho}x^\\alpha_{\\rho\\varphi}\\sum_{\\theta,\\nu,\\sigma}x^\\sigma_{\\nu\\theta}(\\zeta\\varphi|\\theta\\nu) \\Big] \\\\\n",
    "&= - \\sum_{\\mu,\\zeta}C^\\alpha_{\\mu i}C^\\alpha_{\\zeta a} \\sum_{\\rho,\\varphi}S_{\\rho\\zeta}x^\\alpha_{\\varphi\\rho}\\Big[ 2\\sum_{\\theta,\\nu} x^\\alpha_{\\theta\\nu}(\\mu\\varphi|\\theta\\nu)- \\sum_{\\nu,\\theta}x^\\alpha_{\\theta\\nu}(\\mu\\nu|\\theta\\varphi) \\Big] \\\\\n",
    "&~~~~ +\\sum_{\\mu,\\zeta}C^\\alpha_{\\mu i}C^\\alpha_{\\zeta a} \\sum_{\\rho,\\varphi}S_{\\mu\\rho}x^\\alpha_{\\rho\\varphi}\\Big[ 2\\sum_{\\theta,\\nu} x^\\alpha_{\\nu\\theta}(\\zeta\\varphi|\\theta\\nu)- \\sum_{\\nu,\\theta}x^\\alpha_{\\nu\\theta}(\\zeta\\nu|\\theta\\varphi) \\Big] \\\\\n",
    "&= - \\sum_{\\mu,\\zeta}C^\\alpha_{\\mu i}C^\\alpha_{\\zeta a} \\sum_{\\rho,\\varphi}S_{\\rho\\zeta}x^\\alpha_{\\varphi\\rho}\\Big[ \\sum_{\\theta,\\nu} x^\\alpha_{\\theta\\nu} \\big[ 2 (\\mu\\varphi|\\theta\\nu)- (\\mu\\nu|\\theta\\varphi) \\big] \\Big] \\\\\n",
    "&~~~~ +\\sum_{\\mu,\\zeta}C^\\alpha_{\\mu i}C^\\alpha_{\\zeta a} \\sum_{\\rho,\\varphi}S_{\\mu\\rho}x^\\alpha_{\\rho\\varphi}\\Big[ \\sum_{\\theta,\\nu} x^\\alpha_{\\nu\\theta} \\big[ 2(\\zeta\\varphi|\\theta\\nu)- (\\zeta\\nu|\\theta\\varphi) \\big] \\Big]\n",
    "\\end{align}"
   ]
  },
  {
   "cell_type": "code",
   "execution_count": null,
   "metadata": {},
   "outputs": [],
   "source": [
    "# Care needs to be taken with the index order of the excitation vectors\n",
    "# Calculate in different summation orders...\n",
    "\n",
    "# 1)\n",
    "FG1 = ( numpy.einsum('rz,mr->mz', ovlp,\n",
    "                    numpy.einsum('pr,mp->mr', tda_eig_vec_ao,\n",
    "                        (0.5*numpy.einsum('tn,mntp->mp',tda_eig_vec_ao,pqrs)\n",
    "                        -numpy.einsum('tn,mptn->mp',tda_eig_vec_ao,pqrs))\n",
    "                                )\n",
    "                      )\n",
    "            )\n",
    "FG2 = ( numpy.einsum('mr,rz->mz', ovlp,\n",
    "                    numpy.einsum('rp,zp->rz', tda_eig_vec_ao,\n",
    "                        (0.5*numpy.einsum('nt,zntp->zp',tda_eig_vec_ao,pqrs)\n",
    "                        -numpy.einsum('nt,zptn->zp',tda_eig_vec_ao,pqrs))\n",
    "                                )\n",
    "                      )\n",
    "            )\n",
    "\n",
    "# 2)\n",
    "FG1_try2 =( numpy.einsum('rz,mr->mz', ovlp,\n",
    "                       numpy.einsum('pr,mp->mr', tda_eig_vec_ao,\n",
    "                                    numpy.einsum('tn,mntp->mp',tda_eig_vec_ao,pqrs)\n",
    "                                   )\n",
    "                      )\n",
    "            )\n",
    "FG2_try2 =( numpy.einsum('rz,mr->mz', ovlp,\n",
    "                       numpy.einsum('pr,mp->mr', tda_eig_vec_ao,\n",
    "                                    numpy.einsum('tn,mptn->mp',tda_eig_vec_ao,pqrs)\n",
    "                                   )\n",
    "                      )\n",
    "            )\n",
    "FG3_try2 =( numpy.einsum('mr,rz->mz', ovlp,\n",
    "                       numpy.einsum('rp,zp->rz', tda_eig_vec_ao,\n",
    "                                    numpy.einsum('nt,zntp->zp',tda_eig_vec_ao,pqrs)\n",
    "                                   )\n",
    "                      )\n",
    "            )\n",
    "FG4_try2 =( numpy.einsum('mr,rz->mz', ovlp,\n",
    "                       numpy.einsum('rp,zp->rz', tda_eig_vec_ao,\n",
    "                                    numpy.einsum('nt,zptn->zp',tda_eig_vec_ao,pqrs)\n",
    "                                   )\n",
    "                      )\n",
    "            )\n",
    "\n",
    "FG1_vlx =( numpy.einsum('rz,zm->rm', ovlp,\n",
    "                       numpy.einsum('zp,mp->zm', tda_eig_vec_ao,\n",
    "                                    numpy.einsum('tn,mntp->mp',tda_eig_vec_ao,pqrs)\n",
    "                                   )\n",
    "                      )\n",
    "            )\n",
    "FG1_vlx_ovlp =( numpy.einsum('rp,mp->rm',\n",
    "                numpy.einsum('rz,zp->rp', ovlp, tda_eig_vec_ao),\n",
    "                numpy.einsum('tn,mntp->mp',tda_eig_vec_ao,pqrs)\n",
    "                                   )\n",
    "            )\n",
    "\n",
    "FG2_vlx =  numpy.einsum('rz,zm->rm', ovlp,\n",
    "                       numpy.einsum('zn,nm->zm', tda_eig_vec_ao,\n",
    "                                    numpy.einsum('tp,mntp->nm',tda_eig_vec_ao,pqrs)\n",
    "                                   )\n",
    "                      )\n",
    "\n",
    "# Sum up terms accounting for spin factors\n",
    "F_2pdm_vlx_A = 0.5*FG1_try2 - FG2_try2 \n",
    "F_2pdm_vlx_B =-0.5*FG3_try2 + FG4_try2\n",
    "\n",
    "F_2pdm_vlx = F_2pdm_vlx_A + F_2pdm_vlx_B\n",
    "#print(F_2pdm_vlx)\n",
    "# 3)\n",
    "another_vlx_2pdm_rhs = (numpy.einsum('mi,ma->ia', mo_occ, numpy.einsum('za,mz->ma', mo_vir, F_2pdm_vlx_A))\n",
    "                +numpy.einsum('mi,ma->ia', mo_occ, numpy.einsum('za,mz->ma', mo_vir, F_2pdm_vlx_B))\n",
    "               )\n",
    "vlx_2pdm_rhs = (numpy.einsum('mi,ma->ia', mo_occ, numpy.einsum('za,mz->ma', mo_vir, F_2pdm_vlx)))\n",
    "final_vlx_2pdm_rhs = (numpy.einsum('mi,ma->ia', mo_occ, numpy.einsum('za,mz->ma', mo_vir, FG1-FG2)))\n",
    "print(vlx_2pdm_rhs)\n",
    "print()\n",
    "print(another_vlx_2pdm_rhs)         \n",
    "print()\n",
    "print(final_vlx_2pdm_rhs)"
   ]
  },
  {
   "cell_type": "code",
   "execution_count": null,
   "metadata": {},
   "outputs": [],
   "source": [
    "# 2PDM contribution, using AODensityMatrix, AOFockMatrix, LinearSolver\n",
    "# we need the transpose of the vector because of how the exchange part is calculated\n",
    "# (mn|tp)!=(mt|np), but (mn|tp)=(nm|tp)=(mn|pt)=(nm|pt) real orbitals\n",
    "\n",
    "ao_density_2pdm_1 = AODensityMatrix([tda_eig_vec_ao.T], denmat.rest)\n",
    "ao_density_2pdm_2 = AODensityMatrix([tda_eig_vec_ao], denmat.rest)\n",
    "ao_fock_2pdm_1 = AOFockMatrix(ao_density_2pdm_1)\n",
    "ao_fock_2pdm_2 =AOFockMatrix(ao_density_2pdm_2)\n",
    "linear_solver_2pdm_1 = LinearSolver(comm, ostream) #Can we use the same object?\n",
    "linear_solver_2pdm_1.comp_lr_fock(ao_fock_2pdm_1, ao_density_2pdm_1, molecule, basis,\n",
    "                                  eri_dict, dft_dict, pe_dict, timing_dict)\n",
    "linear_solver_2pdm_2 = LinearSolver(comm, ostream) #Can we use the same object?\n",
    "linear_solver_2pdm_2.comp_lr_fock(ao_fock_2pdm_2, ao_density_2pdm_2, molecule, basis,\n",
    "                                  eri_dict, dft_dict, pe_dict, timing_dict)\n",
    "                        \n",
    "fock_1 = (1.0*numpy.einsum('tn,mntp->mp',tda_eig_vec_ao,pqrs)\n",
    "        -2.0*numpy.einsum('mn,mnpt->pt',tda_eig_vec_ao,pqrs))\n",
    "\n",
    "fock_2 = (1.0*numpy.einsum('nt,zntp->zp',tda_eig_vec_ao,pqrs)\n",
    "        -2.0*numpy.einsum('nt,zptn->zp',tda_eig_vec_ao,pqrs))\n",
    "\n",
    "print(\"What we are after, 1st term:\")\n",
    "print(fock_1)\n",
    "print()\n",
    "print(\"What we get from comp_lr_fock using tda_eig_vec_ao.T:\")\n",
    "print(ao_fock_2pdm_1)\n",
    "print()\n",
    "print(\"What we are after, 2nd term:\")\n",
    "print(fock_2)\n",
    "print()\n",
    "print(\"What we get from comp_lr_fock using tda_eig_vec_ao:\")\n",
    "print(ao_fock_2pdm_2)\n",
    "print()\n",
    "LR_2pdm_F1 =  numpy.einsum('rz,mr->mz', ovlp,\n",
    "             numpy.einsum('pr,mp->mr', tda_eig_vec_ao, 0.5*ao_fock_2pdm_1.alpha_to_numpy(0)))\n",
    "LR_2pdm_F2 =  numpy.einsum('mr,rz->mz', ovlp,\n",
    "                    numpy.einsum('rp,zp->rz', tda_eig_vec_ao, 0.5*ao_fock_2pdm_2.alpha_to_numpy(0)))\n",
    "\n",
    "rhs_2pdm_from_LinearSolver = numpy.einsum('mi,ma->ia', mo_occ, \n",
    "                                          numpy.einsum('za,mz->ma', mo_vir, LR_2pdm_F2-LR_2pdm_F1))\n",
    "print(\"2PDM RHS using LinearSolver:\")\n",
    "print(rhs_2pdm_from_LinearSolver)\n",
    "print()\n",
    "print(\"2PDM RHS using numpy.einsum:\")\n",
    "print(final_vlx_2pdm_rhs)"
   ]
  },
  {
   "cell_type": "markdown",
   "metadata": {},
   "source": [
    "## Left-hand side\n",
    "### Initial guess for Lagrange multipliers $\\boldsymbol{\\lambda}$\n",
    "\n",
    "\\begin{equation}\n",
    "    \\lambda_{ia}^{(0)} = \\frac{R_{ia}}{\\varepsilon_i - \\varepsilon_a}\n",
    "\\end{equation}"
   ]
  },
  {
   "cell_type": "code",
   "execution_count": null,
   "metadata": {},
   "outputs": [],
   "source": [
    "# Neglect the non-diagonal part of the LHS,\n",
    "# i.e. divide the RHS by the orbital-energy difference\n",
    "\n",
    "# TODO: Avoid the for-loops, use something analogous to the mp2driver\n",
    "\n",
    "vlx_rhs = final_vlx_2pdm_rhs + vlx_1pdm_rhs\n",
    "lambda_guess = numpy.zeros((nocc,nvir))\n",
    "mo_energies = scfdrv.scf_tensors['E']\n",
    "#print(mo_energies[nocc:])\n",
    "\n",
    "for i in range(nocc):\n",
    "    ei=mo_energies[i]\n",
    "    for a in range(nvir):\n",
    "        ea=mo_energies[nocc+a]\n",
    "        lambda_guess[i,a] = vlx_rhs[i,a]/(ei-ea)\n",
    "        \n",
    "print(lambda_guess)"
   ]
  },
  {
   "cell_type": "code",
   "execution_count": null,
   "metadata": {},
   "outputs": [],
   "source": [
    "# Transform the initial guess for lambda to the AO basis\n",
    "\n",
    "lambda_guess_ao = numpy.matmul(mo_occ, numpy.matmul(lambda_guess, mo_vir.T))\n",
    "print(lambda_guess_ao)"
   ]
  },
  {
   "cell_type": "markdown",
   "metadata": {},
   "source": [
    "### Contraction of the initial guess for $\\boldsymbol{\\lambda}$ with two-electron integrals"
   ]
  },
  {
   "cell_type": "markdown",
   "metadata": {},
   "source": [
    "using $p=j, q=b$ as well as $p=b, q=j$ with the condition $\\lambda_{pq} = \\lambda_{qp}$ and assuming real orbitals, the equation is obtained as\n",
    "\\begin{align}\n",
    "-\\sum_{pq} \\lambda_{pq} \\big( [pq|ai] - [pi|aq] \\big)\n",
    "    &= -\\sum_{\\varphi \\theta} C_{\\varphi i} C_{\\theta a} \\sum_{\\mu \\nu}\n",
    "        \\lambda_{\\mu \\nu} \\big[ 4 (\\mu \\nu | \\varphi \\theta)\n",
    "        - (\\mu \\theta | \\varphi \\nu) - (\\nu \\theta | \\varphi \\mu) \\big] \\\\\n",
    "    %+ (\\varepsilon_a - \\varepsilon_i ) \\gamma_{ia}\n",
    "    &= - \\sum_{\\varphi \\theta} \\big[ C_{\\varphi i} C_{\\theta a} + C_{\\theta i} C_{\\varphi a} \\big]\n",
    "        \\sum_{\\mu \\nu} \\lambda_{\\mu \\nu} \\big[ 2 (\\mu \\nu | \\varphi \\theta) - (\\mu \\theta | \\varphi \\nu) \\big]\n",
    "\\end{align}"
   ]
  },
  {
   "cell_type": "code",
   "execution_count": null,
   "metadata": {},
   "outputs": [],
   "source": [
    "# Contract with the ERI tensor\n",
    "vlx_lhs1 = numpy.einsum('mn,mnpt->pt', lambda_guess_ao, pqrs)\n",
    "vlx_lhs2 = numpy.einsum('mn,mtpn->pt', lambda_guess_ao, pqrs)\n",
    "vlx_lhs3 = numpy.einsum('mn,ntpm->pt', lambda_guess_ao, pqrs)\n",
    "\n",
    "vlx_lhs_ao = -4*vlx_lhs1 + vlx_lhs2 + vlx_lhs3\n",
    "\n",
    "# Transform to MO\n",
    "vlx_lhs_mo = numpy.matmul(mo_occ.T, numpy.matmul(vlx_lhs_ao, mo_vir))\n",
    "#vlx_lhs_mo2 = numpy.einsum('pi,pa->ia', mo_occ, numpy.einsum('ta,pt->pa', mo_vir, vlx_lhs_ao))\n",
    "print(vlx_lhs_mo)\n",
    "#print(vlx_lhs_mo2)"
   ]
  },
  {
   "cell_type": "code",
   "execution_count": null,
   "metadata": {},
   "outputs": [],
   "source": [
    "#Lambda guess contracted with eri using AODensityMatrix, AOFockMatrix, LinearSolver\n",
    "\n",
    "ao_density_lambda = AODensityMatrix([lambda_guess_ao], denmat.rest)\n",
    "ao_fock_lambda = AOFockMatrix(ao_density_lambda)\n",
    "linear_solver_lambda = LinearSolver(comm, ostream) #Can we use the same object?\n",
    "linear_solver_lambda.comp_lr_fock(ao_fock_lambda, ao_density_lambda, molecule, basis,\n",
    "                                  eri_dict, dft_dict, pe_dict, timing_dict)\n",
    "\n",
    "L1_vlx = numpy.einsum('mn,mnpt->pt', lambda_guess_ao, pqrs)\n",
    "L2_vlx = numpy.einsum('mn,mptn->pt', lambda_guess_ao, pqrs)\n",
    "L_total_vlx = 2*L1_vlx - L2_vlx\n",
    "print(\"Lambda in AO using AOFockMatrix:\")\n",
    "print(ao_fock_lambda)\n",
    "print()\n",
    "print(\"Lambda in AO using numpy.einsum:\")\n",
    "print(L_total_vlx)\n",
    "fock_lambda_numpy = ao_fock_lambda.alpha_to_numpy(0)\n",
    "#print()\n",
    "#print(fock_lambda_numpy)\n",
    "lambda_mo_from_fock = ( numpy.matmul(mo_occ.T, numpy.matmul(fock_lambda_numpy, mo_vir)) \n",
    "                       + numpy.matmul(mo_vir.T, numpy.matmul(fock_lambda_numpy, mo_occ)).T )\n",
    "print()\n",
    "print(\"In MO, using the Fock Matrix object\")\n",
    "print(lambda_mo_from_fock)\n",
    "print()\n",
    "print(\"In MO, from the Equation:\")\n",
    "print(vlx_lhs_mo)"
   ]
  },
  {
   "cell_type": "code",
   "execution_count": null,
   "metadata": {},
   "outputs": [],
   "source": [
    "# LHS and guess\n",
    "print(\"vlx_lhs_mo:\")\n",
    "print(vlx_lhs_mo)\n",
    "print()\n",
    "print(\"lambda_guess:\")\n",
    "print(lambda_guess)"
   ]
  },
  {
   "cell_type": "markdown",
   "metadata": {},
   "source": [
    "#### Full LHS \n",
    "\\begin{equation}\n",
    "   -\\sum_{pq} \\lambda_{pq} \\big( [pq|ai] - [pi|aq] \\big) + \\lambda_{ia} ( \\varepsilon_i - \\varepsilon_a )\n",
    "\\end{equation}"
   ]
  },
  {
   "cell_type": "code",
   "execution_count": null,
   "metadata": {},
   "outputs": [],
   "source": [
    "# Add product of guess and orbital-energy differences to get full LHS\n",
    "\n",
    "# TODO: Again, avoid for-loops\n",
    "\n",
    "vlx_full_lhs = numpy.zeros((nocc,nvir))\n",
    "for i in range(nocc):\n",
    "    ei = mo_energies[i]\n",
    "    for a in range(nvir):\n",
    "        ea = mo_energies[nocc+a]\n",
    "        vlx_full_lhs[i,a] = vlx_lhs_mo[i,a] + lambda_guess[i,a]*(ei-ea)\n",
    "\n",
    "vlx_full_lhs_vec = vlx_full_lhs.reshape(nocc*nvir)\n",
    "vlx_rhs_vec = vlx_rhs.reshape(nocc*nvir)\n",
    "\n",
    "print(vlx_full_lhs_vec)\n",
    "print()\n",
    "print(vlx_rhs_vec)"
   ]
  },
  {
   "cell_type": "markdown",
   "metadata": {},
   "source": [
    "## Solution via Conjugate Gradient"
   ]
  },
  {
   "cell_type": "markdown",
   "metadata": {},
   "source": [
    "To solve: $\\mathbf{A} \\mathbf{x} = \\mathbf{b}$\n",
    "\n",
    "However, we do not \"know\" the matrix $\\mathbf{A}$, only the matrix-vector product $\\mathbf{Ax}$.\n",
    "Thus, define it as a linear operator with a vector $\\mathbf{x}$ as an argument."
   ]
  },
  {
   "cell_type": "markdown",
   "metadata": {},
   "source": [
    "### Defining a linear operator"
   ]
  },
  {
   "cell_type": "code",
   "execution_count": null,
   "metadata": {},
   "outputs": [],
   "source": [
    "# Assuming that all other variables (nocc, nvir, MOs, ERIs) are known from the \"global\" scope\n",
    "def Ax(v):\n",
    "    \"\"\"Function to carry out matrix multiplication\n",
    "    of Lagrange multipier vector with orbital Hessian\n",
    "    matrix. Transforms guess to AO basis, carries out\n",
    "    matrix-vector product and transforms back to MO.\n",
    "    \n",
    "    v: lambda at current iteration\"\"\"\n",
    "\n",
    "    current_lambda = v.reshape(nocc,nvir)\n",
    "    print(\"VLX INPUT:\")\n",
    "    print(current_lambda)\n",
    "    print()\n",
    "    \n",
    "    # Transform to AO\n",
    "    vlx_lambda_ao = numpy.matmul(mo_occ, numpy.matmul(current_lambda, mo_vir.T))\n",
    " \n",
    "    # Calculate the different contractions\n",
    "    vlx_lhs_interm = (-4*numpy.einsum('mn,mntp->pt', vlx_lambda_ao, pqrs)\n",
    "                    + 1.0*numpy.einsum('mn,mtpn->pt', vlx_lambda_ao, pqrs)\n",
    "                    + 1.0*numpy.einsum('mn,ntpm->pt', vlx_lambda_ao, pqrs)\n",
    "                      )\n",
    "    # Transform back to MO\n",
    "    vlx_1pdm_lhs = numpy.einsum('pi,pa->ia', mo_occ, numpy.einsum('ta,pt->pa', mo_vir, vlx_lhs_interm))\n",
    "\n",
    "# Add the diagonal part\n",
    "    for i in range(nocc):\n",
    "        ei = mo_energies[i]\n",
    "        for a in range(nvir):\n",
    "            ea = mo_energies[nocc+a]\n",
    "            vlx_1pdm_lhs[i,a] += current_lambda[i,a]*(ei-ea) \n",
    "    print(\"VLX OUTPUT:\")    \n",
    "    print(vlx_1pdm_lhs)\n",
    "    print()\n",
    "    return vlx_1pdm_lhs.reshape(nocc*nvir)"
   ]
  },
  {
   "cell_type": "code",
   "execution_count": null,
   "metadata": {},
   "outputs": [],
   "source": [
    "def Ax_with_LinearSolver(v):\n",
    "    \"\"\"Function to carry out matrix multiplication\n",
    "    of Lagrange multipier vector with orbital Hessian\n",
    "    matrix, using AODensityMatrix, AOFockMatrix, and comp_lr_fock\n",
    "    Transforms guess to AO basis, carries out\n",
    "    matrix-vector product and transforms back to MO.\n",
    "    \n",
    "    v: lambda at current iteration\"\"\"\n",
    "    \n",
    "    current_lambda = v.reshape(nocc,nvir)\n",
    "    #print(\"LinearSolver VLX INPUT:\")\n",
    "    #print(current_lambda)\n",
    "    #print()\n",
    "\n",
    "    # Transform to AO\n",
    "    vlx_lambda_ao = numpy.matmul(mo_occ, numpy.matmul(current_lambda, mo_vir.T))\n",
    "    \n",
    "    #Create AODensityMatrix object from lambda in AO\n",
    "    vlx_ao_density_lambda = AODensityMatrix([vlx_lambda_ao], denmat.rest)\n",
    "    \n",
    "    #Create a Fock Matrix Object (initialized with zeros)\n",
    "    vlx_fock_lambda = AOFockMatrix(vlx_ao_density_lambda)\n",
    "    \n",
    "    #Create linear solver object and compute the Fock matrix (contracts AODensityMatrix with ERI: 2J-K)\n",
    "    linear_solver_lambda = LinearSolver(comm, ostream) #Can we use the same object?\n",
    "    linear_solver_lambda.comp_lr_fock(vlx_fock_lambda, vlx_ao_density_lambda, molecule, basis,\n",
    "                                      eri_dict, dft_dict, pe_dict, timing_dict)\n",
    "\n",
    "    #Transform AOFockMatrix to numpy array (here we took only the alpha block)\n",
    "    vlx_fock_lambda_numpy = vlx_fock_lambda.alpha_to_numpy(0)\n",
    "    \n",
    "    \n",
    "    #Transform to MO basis (symmetrized w.r.t. occ. and virt.)\n",
    "    vlx_lambda_mo_from_fock = -( numpy.matmul(mo_occ.T, numpy.matmul(vlx_fock_lambda_numpy, mo_vir)) \n",
    "                               + numpy.matmul(mo_vir.T, numpy.matmul(vlx_fock_lambda_numpy, mo_occ)).T )\n",
    "\n",
    "    \n",
    "    # Add the diagonal part\n",
    "    for i in range(nocc):\n",
    "        ei = mo_energies[i]\n",
    "        for a in range(nvir):\n",
    "            ea = mo_energies[nocc+a]\n",
    "            vlx_lambda_mo_from_fock[i,a] += current_lambda[i,a]*(ei-ea) \n",
    "    #print(\"LinearSolver VLX OUTPUT:\")    \n",
    "    #print(vlx_lambda_mo_from_fock)\n",
    "    #print()\n",
    "    return vlx_lambda_mo_from_fock.reshape(nocc*nvir)"
   ]
  },
  {
   "cell_type": "code",
   "execution_count": null,
   "metadata": {},
   "outputs": [],
   "source": [
    "# Solve via CG\n",
    "\n",
    "vlx_guess_vec=lambda_guess.reshape(nocc*nvir)\n",
    "\n",
    "A = linalg.LinearOperator((nocc*nvir,nocc*nvir), matvec=Ax)\n",
    "solution, w = linalg.cg(A=A, b=vlx_rhs_vec, x0=vlx_guess_vec, tol=1e-8, maxiter=25)"
   ]
  },
  {
   "cell_type": "code",
   "execution_count": null,
   "metadata": {},
   "outputs": [],
   "source": [
    "#Use Ax_with_LinearSolver for conjugate gradient\n",
    "lr_vlx_guess_vec=lambda_guess.reshape(nocc*nvir)\n",
    "\n",
    "#print(\"Run Ax_with_LinearSolver once, lambda_guess as input:\")\n",
    "#Ax_with_LinearSolver(lambda_guess.reshape(nocc*nvir))\n",
    "#print()\n",
    "\n",
    "#print(\"Create scipy.linalg LinearOperator:\")\n",
    "LR_A = linalg.LinearOperator((nocc*nvir,nocc*nvir), matvec=Ax_with_LinearSolver)\n",
    "\n",
    "LR_full_RHS_1d_vec = (rhs_2pdm_from_LinearSolver + rhs_1pdm_from_LinearSolver).reshape(nocc*nvir)\n",
    "\n",
    "print(\"Starting conjugate gradient...\\n\")\n",
    "LR_solution, lr_w = linalg.cg(A=LR_A, b=LR_full_RHS_1d_vec, x0=LR_full_RHS_1d_vec.copy(), tol=1e-8, maxiter=25)\n",
    "\n",
    "print(\"The solution in matrix form:\")\n",
    "print(LR_solution.reshape(nocc,nvir))\n",
    "print()\n",
    "print(\"The solution using numpy.einsum:\")\n",
    "print(solution.reshape(nocc,nvir))"
   ]
  },
  {
   "cell_type": "code",
   "execution_count": null,
   "metadata": {},
   "outputs": [],
   "source": []
  }
 ],
 "metadata": {
  "kernelspec": {
   "display_name": "Python 3",
   "language": "python",
   "name": "python3"
  },
  "language_info": {
   "codemirror_mode": {
    "name": "ipython",
    "version": 3
   },
   "file_extension": ".py",
   "mimetype": "text/x-python",
   "name": "python",
   "nbconvert_exporter": "python",
   "pygments_lexer": "ipython3",
   "version": "3.8.5"
  }
 },
 "nbformat": 4,
 "nbformat_minor": 4
}
