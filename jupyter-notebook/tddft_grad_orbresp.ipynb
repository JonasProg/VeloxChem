{
 "cells": [
  {
   "cell_type": "code",
   "execution_count": 1,
   "metadata": {},
   "outputs": [
    {
     "name": "stderr",
     "output_type": "stream",
     "text": [
      "In /home/emi/.local/lib/python3.6/site-packages/matplotlib/mpl-data/stylelib/_classic_test.mplstyle: \n",
      "The text.latex.preview rcparam was deprecated in Matplotlib 3.3 and will be removed two minor releases later.\n",
      "In /home/emi/.local/lib/python3.6/site-packages/matplotlib/mpl-data/stylelib/_classic_test.mplstyle: \n",
      "The mathtext.fallback_to_cm rcparam was deprecated in Matplotlib 3.3 and will be removed two minor releases later.\n",
      "In /home/emi/.local/lib/python3.6/site-packages/matplotlib/mpl-data/stylelib/_classic_test.mplstyle: Support for setting the 'mathtext.fallback_to_cm' rcParam is deprecated since 3.3 and will be removed two minor releases later; use 'mathtext.fallback : 'cm' instead.\n",
      "In /home/emi/.local/lib/python3.6/site-packages/matplotlib/mpl-data/stylelib/_classic_test.mplstyle: \n",
      "The validate_bool_maybe_none function was deprecated in Matplotlib 3.3 and will be removed two minor releases later.\n",
      "In /home/emi/.local/lib/python3.6/site-packages/matplotlib/mpl-data/stylelib/_classic_test.mplstyle: \n",
      "The savefig.jpeg_quality rcparam was deprecated in Matplotlib 3.3 and will be removed two minor releases later.\n",
      "In /home/emi/.local/lib/python3.6/site-packages/matplotlib/mpl-data/stylelib/_classic_test.mplstyle: \n",
      "The keymap.all_axes rcparam was deprecated in Matplotlib 3.3 and will be removed two minor releases later.\n",
      "In /home/emi/.local/lib/python3.6/site-packages/matplotlib/mpl-data/stylelib/_classic_test.mplstyle: \n",
      "The animation.avconv_path rcparam was deprecated in Matplotlib 3.3 and will be removed two minor releases later.\n",
      "In /home/emi/.local/lib/python3.6/site-packages/matplotlib/mpl-data/stylelib/_classic_test.mplstyle: \n",
      "The animation.avconv_args rcparam was deprecated in Matplotlib 3.3 and will be removed two minor releases later.\n"
     ]
    }
   ],
   "source": [
    "import veloxchem as vlx\n",
    "import adcc\n",
    "from mpi4py import MPI\n",
    "import sys\n",
    "import numpy\n",
    "from scipy.sparse import linalg\n",
    "from veloxchem.qqscheme import get_qq_scheme\n",
    "from veloxchem.veloxchemlib import fockmat\n",
    "\n",
    "numpy.set_printoptions(precision=7, suppress=True)"
   ]
  },
  {
   "cell_type": "markdown",
   "metadata": {},
   "source": [
    "### Prepare a VeloxChem SCF calculation"
   ]
  },
  {
   "cell_type": "code",
   "execution_count": 2,
   "metadata": {},
   "outputs": [],
   "source": [
    "# Input settings\n",
    "molecule_string = \"\"\"\n",
    "    O 0 0 0\n",
    "    H 0 0 1.795239827225189\n",
    "    H 1.693194615993441 0 -0.599043184453037\"\"\"\n",
    "\n",
    "#molecule_string = \"\"\"\n",
    "#    H 0 0 0\n",
    "#    H 0 0 1.795239827225189\n",
    "#    \"\"\"\n",
    "\n",
    "basis_set_label = 'STO-3G'\n",
    "scf_settings = {'conv_thresh': 1.0e-6}\n",
    "method_settings = {} #{'xcfun': 'b3lyp', 'grid_level': 4}\n",
    "rsp_settings = {'conv_thresh': 1.0e-4, 'nstates': 3}"
   ]
  },
  {
   "cell_type": "code",
   "execution_count": 3,
   "metadata": {},
   "outputs": [],
   "source": [
    "# Communicator and output stream\n",
    "comm = MPI.COMM_WORLD\n",
    "ostream = vlx.OutputStream(sys.stdout)"
   ]
  },
  {
   "cell_type": "code",
   "execution_count": 4,
   "metadata": {},
   "outputs": [
    {
     "name": "stdout",
     "output_type": "stream",
     "text": [
      "                                              Molecular Geometry (Angstroms)                                              \n",
      "                                             ================================                                             \n",
      "                                                                                                                          \n",
      "                          Atom         Coordinate X          Coordinate Y          Coordinate Z                           \n",
      "                                                                                                                          \n",
      "                           O           0.000000000000        0.000000000000        0.000000000000                         \n",
      "                           H           0.000000000000        0.000000000000        0.950000004704                         \n",
      "                           H           0.896000004436        0.000000000000       -0.317000001569                         \n",
      "                                                                                                                          \n",
      "                                              Molecular Basis (Atomic Basis)                                              \n",
      "                                             ================================                                             \n",
      "                                                                                                                          \n",
      "                                  Basis: STO-3G                                                                           \n",
      "                                                                                                                          \n",
      "                                  Atom Contracted GTOs          Primitive GTOs                                            \n",
      "                                                                                                                          \n",
      "                                   H   (1S)                     (3S)                                                      \n",
      "                                   O   (2S,1P)                  (6S,3P)                                                   \n",
      "                                                                                                                          \n",
      "                                  Contracted Basis Functions : 7                                                          \n",
      "                                  Primitive Basis Functions  : 21                                                         \n",
      "                                                                                                                          \n"
     ]
    }
   ],
   "source": [
    "# Molecule and basis set\n",
    "molecule = vlx.Molecule.read_str(molecule_string, units='au')\n",
    "basis = vlx.MolecularBasis.read(molecule, basis_set_label)\n",
    "\n",
    "ostream.print_block(molecule.get_string())\n",
    "ostream.print_block(basis.get_string('Atomic Basis', molecule))\n",
    "ostream.flush()"
   ]
  },
  {
   "cell_type": "code",
   "execution_count": 5,
   "metadata": {},
   "outputs": [
    {
     "name": "stdout",
     "output_type": "stream",
     "text": [
      "                                                                                                                          \n",
      "                                            Self Consistent Field Driver Setup                                            \n",
      "                                           ====================================                                           \n",
      "                                                                                                                          \n",
      "                   Wave Function Model             : Spin-Restricted Hartree-Fock                                         \n",
      "                   Initial Guess Model             : Superposition of Atomic Densities                                    \n",
      "                   Convergence Accelerator         : Two Level Direct Inversion of Iterative Subspace                     \n",
      "                   Max. Number of Iterations       : 50                                                                   \n",
      "                   Max. Number of Error Vectors    : 10                                                                   \n",
      "                   Convergence Threshold           : 1.0e-06                                                              \n",
      "                   ERI Screening Scheme            : Cauchy Schwarz + Density                                             \n",
      "                   ERI Screening Mode              : Dynamic                                                              \n",
      "                   ERI Screening Threshold         : 1.0e-12                                                              \n",
      "                   Linear Dependence Threshold     : 1.0e-06                                                              \n",
      "                                                                                                                          \n",
      "* Info * Nuclear repulsion energy: 9.2514792692 au                                                                        \n",
      "                                                                                                                          \n",
      "* Info * Overlap matrix computed in 0.00 sec.                                                                             \n",
      "                                                                                                                          \n",
      "* Info * Kinetic energy matrix computed in 0.00 sec.                                                                      \n",
      "                                                                                                                          \n",
      "* Info * Nuclear potential matrix computed in 0.00 sec.                                                                   \n",
      "                                                                                                                          \n",
      "* Info * Orthogonalization matrix computed in 0.09 sec.                                                                   \n",
      "                                                                                                                          \n",
      "* Info * SAD initial guess computed in 0.01 sec.                                                                          \n",
      "                                                                                                                          \n",
      "* Info * Starting Reduced Basis SCF calculation...                                                                        \n",
      "* Info * ...done. SCF energy in reduced basis set: -74.959319283728 au. Time: 0.16 sec.                                   \n",
      "                                                                                                                          \n",
      "* Info * Overlap matrix computed in 0.00 sec.                                                                             \n",
      "                                                                                                                          \n",
      "* Info * Kinetic energy matrix computed in 0.00 sec.                                                                      \n",
      "                                                                                                                          \n",
      "* Info * Nuclear potential matrix computed in 0.00 sec.                                                                   \n",
      "                                                                                                                          \n",
      "* Info * Orthogonalization matrix computed in 0.00 sec.                                                                   \n",
      "                                                                                                                          \n",
      "                                                                                                                          \n",
      "               Iter. | Hartree-Fock Energy | Energy Change | Gradient Norm | Max. Gradient | Density Change               \n",
      "               --------------------------------------------------------------------------------------------               \n",
      "                  1       -74.959319286641    0.0000000000      0.00003237      0.00000781      0.00000000                \n",
      "                  2       -74.959319286972   -0.0000000003      0.00001030      0.00000238      0.00002812                \n",
      "                  3       -74.959319287015   -0.0000000000      0.00000057      0.00000013      0.00001419                \n",
      "                                                                                                                          \n",
      "               *** SCF converged in 3 iterations. Time: 0.04 sec.                                                         \n",
      "                                                                                                                          \n",
      "               Spin-Restricted Hartree-Fock:                                                                              \n",
      "               -----------------------------                                                                              \n",
      "               Total Energy                       :      -74.9593192870 au                                                \n",
      "               Electronic Energy                  :      -84.2107985563 au                                                \n",
      "               Nuclear Repulsion Energy           :        9.2514792692 au                                                \n",
      "               ------------------------------------                                                                       \n",
      "               Gradient Norm                      :        0.0000005744 au                                                \n",
      "                                                                                                                          \n",
      "               Ground State Information                                                                                   \n",
      "               ------------------------                                                                                   \n",
      "               Charge of Molecule            :  0.0                                                                       \n",
      "               Multiplicity (2S+1)           :  1.0                                                                       \n",
      "               Magnetic Quantum Number (S_z) :  0.0                                                                       \n",
      "                                                                                                                          \n",
      "                                                                                                                          \n",
      "                                                 Spin Restricted Orbitals                                                 \n",
      "                                                 ------------------------                                                 \n",
      "                                                                                                                          \n",
      "               Molecular Orbital No.   1:                                                                                 \n",
      "               --------------------------                                                                                 \n",
      "               Occupation: 2.0 Energy:  -20.23340 au                                                                      \n",
      "               (   1 O   1s  :    -0.99)                                                                                  \n",
      "                                                                                                                          \n",
      "               Molecular Orbital No.   2:                                                                                 \n",
      "               --------------------------                                                                                 \n",
      "               Occupation: 2.0 Energy:   -1.26571 au                                                                      \n",
      "               (   1 O   1s  :    -0.23) (   1 O   2s  :     0.83) (   2 H   1s  :     0.16)                              \n",
      "               (   3 H   1s  :     0.16)                                                                                  \n",
      "                                                                                                                          \n",
      "               Molecular Orbital No.   3:                                                                                 \n",
      "               --------------------------                                                                                 \n",
      "               Occupation: 2.0 Energy:   -0.62927 au                                                                      \n",
      "               (   1 O   1p+1:    -0.35) (   1 O   1p0 :     0.49) (   2 H   1s  :     0.44)                              \n",
      "               (   3 H   1s  :    -0.44)                                                                                  \n",
      "                                                                                                                          \n",
      "               Molecular Orbital No.   4:                                                                                 \n",
      "               --------------------------                                                                                 \n",
      "               Occupation: 2.0 Energy:   -0.44167 au                                                                      \n",
      "               (   1 O   2s  :    -0.52) (   1 O   1p+1:     0.65) (   1 O   1p0 :     0.46)                              \n",
      "               (   2 H   1s  :     0.27) (   3 H   1s  :     0.27)                                                        \n",
      "                                                                                                                          \n",
      "               Molecular Orbital No.   5:                                                                                 \n",
      "               --------------------------                                                                                 \n",
      "               Occupation: 2.0 Energy:   -0.38765 au                                                                      \n",
      "               (   1 O   1p-1:    -1.00)                                                                                  \n",
      "                                                                                                                          \n",
      "               Molecular Orbital No.   6:                                                                                 \n",
      "               --------------------------                                                                                 \n",
      "               Occupation: 0.0 Energy:    0.60284 au                                                                      \n",
      "               (   1 O   2s  :     0.91) (   1 O   1p+1:     0.58) (   1 O   1p0 :     0.41)                              \n",
      "               (   2 H   1s  :    -0.81) (   3 H   1s  :    -0.81)                                                        \n",
      "                                                                                                                          \n",
      "               Molecular Orbital No.   7:                                                                                 \n",
      "               --------------------------                                                                                 \n",
      "               Occupation: 0.0 Energy:    0.76592 au                                                                      \n",
      "               (   1 O   1p+1:    -0.58) (   1 O   1p0 :     0.82) (   2 H   1s  :    -0.84)                              \n",
      "               (   3 H   1s  :     0.84)                                                                                  \n",
      "                                                                                                                          \n"
     ]
    }
   ],
   "source": [
    "# SCF\n",
    "scfdrv = vlx.ScfRestrictedDriver(comm, ostream)\n",
    "scfdrv.update_settings(scf_settings, method_settings)\n",
    "scfdrv.compute(molecule, basis)"
   ]
  },
  {
   "cell_type": "code",
   "execution_count": 6,
   "metadata": {},
   "outputs": [
    {
     "name": "stdout",
     "output_type": "stream",
     "text": [
      "                                                                                                                          \n",
      "                                                Ground-State Dipole Moment                                                \n",
      "                                               ----------------------------                                               \n",
      "                                                                                                                          \n",
      "                                   X   :         0.546314 a.u.         1.388593 Debye                                     \n",
      "                                   Y   :        -0.000000 a.u.        -0.000000 Debye                                     \n",
      "                                   Z   :         0.386302 a.u.         0.981881 Debye                                     \n",
      "                                 Total :         0.669095 a.u.         1.700671 Debye                                     \n",
      "                                                                                                                          \n"
     ]
    }
   ],
   "source": [
    "# SCF first-order properties\n",
    "scf_prop = vlx.ScfFirstOrderProperties(comm, ostream)\n",
    "scf_prop.compute(molecule, basis, scfdrv.scf_tensors)\n",
    "scf_prop.print_properties(molecule)"
   ]
  },
  {
   "cell_type": "markdown",
   "metadata": {},
   "source": [
    "### Excited-State Calculation via CIS (TDHF/TDA)"
   ]
  },
  {
   "cell_type": "code",
   "execution_count": 7,
   "metadata": {},
   "outputs": [
    {
     "name": "stdout",
     "output_type": "stream",
     "text": [
      "                                                                                                                          \n",
      "                                                     TDA Driver Setup                                                     \n",
      "                                                    ==================                                                    \n",
      "                                                                                                                          \n",
      "                               Number of States                : 3                                                        \n",
      "                               Max. Number of Iterations       : 150                                                      \n",
      "                               Convergence Threshold           : 1.0e-04                                                  \n",
      "                               ERI Screening Scheme            : Cauchy Schwarz + Density                                 \n",
      "                               ERI Screening Threshold         : 1.0e-15                                                  \n",
      "                                                                                                                          \n",
      "                   *** Iteration:   1 * Reduced Space:    3 * Residues (Max,Min): 1.22e-01 and 1.99e-16                   \n",
      "                                                                                                                          \n",
      "                   State  1: 0.48343611 au Residual Norm: 0.00000000                                                      \n",
      "                   State  2: 0.57420051 au Residual Norm: 0.00000000                                                      \n",
      "                   State  3: 0.62684144 au Residual Norm: 0.12175409                                                      \n",
      "                                                                                                                          \n",
      "                   *** Iteration:   2 * Reduced Space:    6 * Residues (Max,Min): 7.76e-03 and 4.12e-17                   \n",
      "                                                                                                                          \n",
      "                   State  1: 0.48343611 au Residual Norm: 0.00000000                                                      \n",
      "                   State  2: 0.57420051 au Residual Norm: 0.00000000                                                      \n",
      "                   State  3: 0.60221086 au Residual Norm: 0.00776340                                                      \n",
      "                                                                                                                          \n",
      "                   *** Iteration:   3 * Reduced Space:    9 * Residues (Max,Min): 4.99e-03 and 1.91e-17                   \n",
      "                                                                                                                          \n",
      "                   State  1: 0.48343611 au Residual Norm: 0.00000000                                                      \n",
      "                   State  2: 0.57420051 au Residual Norm: 0.00000000                                                      \n",
      "                   State  3: 0.60213858 au Residual Norm: 0.00499380                                                      \n",
      "                                                                                                                          \n",
      "                   *** Iteration:   4 * Reduced Space:   10 * Residues (Max,Min): 3.54e-15 and 3.52e-18                   \n",
      "                                                                                                                          \n",
      "                   State  1: 0.48343611 au Residual Norm: 0.00000000                                                      \n",
      "                   State  2: 0.57420051 au Residual Norm: 0.00000000                                                      \n",
      "                   State  3: 0.60213706 au Residual Norm: 0.00000000                                                      \n",
      "                                                                                                                          \n",
      "               *** 3 excited states converged in 4 iterations. Time: 0.06 sec                                             \n",
      "                                                                                                                          \n",
      "                                                                                                                          \n"
     ]
    }
   ],
   "source": [
    "# TDHF/TDA, i.e. CIS\n",
    "tda_drv = vlx.TDAExciDriver(comm, ostream)\n",
    "tda_drv.update_settings(rsp_settings, method_settings)\n",
    "tda_results = tda_drv.compute(molecule, basis, scfdrv.scf_tensors)\n",
    "tda_drv.ostream.flush()"
   ]
  },
  {
   "cell_type": "code",
   "execution_count": 8,
   "metadata": {},
   "outputs": [],
   "source": [
    "# Get MO coefficients\n",
    "\n",
    "nocc = molecule.number_of_alpha_electrons()\n",
    "mo = scfdrv.scf_tensors['C'] # MO coefficients\n",
    "mo_occ = mo[:, :nocc]        # occupied\n",
    "mo_vir = mo[:, nocc:]        # virtual\n",
    "\n",
    "nocc = mo_occ.shape[1]\n",
    "nvir = mo_vir.shape[1]"
   ]
  },
  {
   "cell_type": "code",
   "execution_count": 9,
   "metadata": {},
   "outputs": [
    {
     "name": "stdout",
     "output_type": "stream",
     "text": [
      "dict_keys(['C', 'E', 'S', 'D', 'F'])\n"
     ]
    }
   ],
   "source": [
    "# Get the overlap and Fock matrices\n",
    "print(scfdrv.scf_tensors.keys())\n",
    "fock = scfdrv.scf_tensors['F'][0]\n",
    "ovlp = scfdrv.scf_tensors['S']\n",
    "# Transform them from AO to MO basis\n",
    "# print(numpy.matmul(mo.T, numpy.matmul(ovlp, mo)))\n",
    "# print(numpy.matmul(mo.T, numpy.matmul(fock, mo)))"
   ]
  },
  {
   "cell_type": "code",
   "execution_count": 10,
   "metadata": {},
   "outputs": [],
   "source": [
    "# Get the CIS eigenvalues and eigenvectors\n",
    "tda_eig_vals = tda_results[\"eigenvalues\"]\n",
    "tda_eig_vecs = tda_results[\"eigenvectors\"]\n",
    "tda_size = tda_eig_vecs[:,0].shape\n",
    "tda_eig_vec=tda_eig_vecs[:,0].copy()\n",
    "tda_eig_vec_as_mat = tda_eig_vec.reshape(nocc, nvir) #/ numpy.sqrt(2.0)"
   ]
  },
  {
   "cell_type": "markdown",
   "metadata": {},
   "source": [
    "### Calculate one- and two-particle density matrices"
   ]
  },
  {
   "cell_type": "markdown",
   "metadata": {},
   "source": [
    "\\begin{align}\n",
    "    \\gamma_{ij} &= - \\sum_{a} x_{ia} x_{ja} \\\\\n",
    "    \\gamma_{ab} &= + \\sum_{i} x_{ia} x_{ib} \\\\\n",
    "    \\Gamma_{iajb} &= - x_{ib} x_{ja}\n",
    "\\end{align}"
   ]
  },
  {
   "cell_type": "code",
   "execution_count": 11,
   "metadata": {},
   "outputs": [],
   "source": [
    "# VeloxChem unrelaxed one-particle density matrix and two-particle density matrix\n",
    "\n",
    "vlx_dm_oo = -numpy.einsum('ia,ja->ij', tda_eig_vec_as_mat, tda_eig_vec_as_mat)\n",
    "vlx_dm_vv = numpy.einsum('ia,ib->ab', tda_eig_vec_as_mat, tda_eig_vec_as_mat)\n",
    "vlx_DM_ovov = -numpy.einsum('ib,ja->iajb', tda_eig_vec_as_mat, tda_eig_vec_as_mat)\n",
    "\n",
    "# print(vlx_dm_oo)"
   ]
  },
  {
   "cell_type": "markdown",
   "metadata": {},
   "source": [
    "### Transform the one-particle density matrices from the MO to the AO basis\n",
    "\n",
    "\\begin{equation}\n",
    "    \\gamma_{\\mu \\nu} = \\sum_{pq} C_{\\mu p} \\gamma_{pq} C_{\\nu q}\n",
    "\\end{equation}"
   ]
  },
  {
   "cell_type": "code",
   "execution_count": 12,
   "metadata": {},
   "outputs": [],
   "source": [
    "# Transform the one-particle density matrices from MO to AO basis\n",
    "vlx_dm_oo_in_ao = numpy.matmul(mo_occ, numpy.matmul(vlx_dm_oo, mo_occ.T))\n",
    "vlx_dm_vv_in_ao = numpy.matmul(mo_vir, numpy.matmul(vlx_dm_vv, mo_vir.T))\n",
    "vlx_dm_ao = vlx_dm_oo_in_ao + vlx_dm_vv_in_ao\n",
    "\n",
    "# print(\"VLX:\")\n",
    "# print(vlx_dm_ao)"
   ]
  },
  {
   "cell_type": "markdown",
   "metadata": {},
   "source": [
    "#### Transform the excitation vectors to the AO basis\n",
    "\\begin{equation}\n",
    "    x_{\\mu \\nu} = \\sum_{ia} C_{\\mu i} x_{ia} C_{\\nu a}\n",
    "\\end{equation}"
   ]
  },
  {
   "cell_type": "code",
   "execution_count": 13,
   "metadata": {},
   "outputs": [],
   "source": [
    "# Transform the transition density matrix (the excitation vectors) from MO to AO basis\n",
    "# (will be needed for the two-particle density matrix)\n",
    "tda_eig_vec_ao = numpy.matmul(mo_occ, numpy.matmul(tda_eig_vec_as_mat, mo_vir.T))\n",
    "# print(tda_eig_vec_ao)"
   ]
  },
  {
   "cell_type": "markdown",
   "metadata": {},
   "source": [
    "The MO to AO transformation of the contribution of the two-particle density matrix with the ERI tensor is given as\n",
    "\\begin{align}\n",
    "\\begin{split}\n",
    "    - \\sum_{\\sigma \\sigma'} \\sum_{ijab} x_{i_{\\sigma} b_{\\sigma}} x_{j_{\\sigma'} a_{\\sigma'}}\n",
    "        \\langle i_{\\sigma} a_{\\sigma'} || j_{\\sigma'} b_{\\sigma} \\rangle\n",
    "    &= - \\sum_{ijab} x_{ib} x_{ja} [ 2 (ij|ab) - 4 (ib|aj) ] \\\\\n",
    "    &= + \\sum_{ijab} x_{ib} x_{ja} [ 4 (ib|aj) - 2 (ij|ab)  ] \\\\\n",
    "    &= \\sum_{ijab} x_{ib} x_{ja} \\sum_{\\mu \\nu \\theta \\varphi}\n",
    "        C_{\\mu i} C_{\\nu b} C_{\\theta a} C_{\\varphi j}  [ 4 (\\mu \\nu | \\theta \\varphi)\n",
    "        - 2 (\\mu \\varphi | \\theta \\nu) ] \\\\\n",
    "    &= \\sum_{\\mu \\nu \\theta \\varphi} [ 4 (\\mu \\nu | \\theta \\varphi)\n",
    "        - 2 (\\mu \\varphi | \\theta \\nu) ]\n",
    "        \\sum_{ib} C_{\\mu i} x_{ib} C_{\\nu b} \\sum_{ja} C_{\\varphi j} x_{ja} C_{\\theta a} \\\\\n",
    "    &= \\sum_{\\mu \\nu \\theta \\varphi} x_{\\mu \\nu} x_{\\varphi \\theta} [ 4 (\\mu \\nu | \\theta \\varphi)\n",
    "        - 2 (\\mu \\varphi | \\theta \\nu) ]       \\\\\n",
    "    &= \\sum_{\\mu \\nu} x_{\\mu \\nu} \\sum_{\\theta \\varphi} x_{\\varphi \\theta} [ 4 (\\mu \\nu | \\theta \\varphi)\n",
    "        - 2 (\\mu \\varphi | \\theta \\nu) ]\n",
    "\\end{split}\n",
    "\\end{align}"
   ]
  },
  {
   "cell_type": "markdown",
   "metadata": {},
   "source": [
    "# Orbital response\n",
    "\n",
    "\\begin{equation}\n",
    "   -\\sum_{pq} \\lambda_{pq} \\big( [pq|ai] - [pi|aq] \\big) + \\lambda_{ia} ( \\varepsilon_i - \\varepsilon_a ) = \n",
    "   R_{ia}\n",
    "   %R^{\\text{CIS}}_{ia}\n",
    "\\end{equation}"
   ]
  },
  {
   "cell_type": "markdown",
   "metadata": {},
   "source": [
    "## Right-hand side"
   ]
  },
  {
   "cell_type": "markdown",
   "metadata": {},
   "source": [
    "### 1. Contributions from the 1PDMs\n",
    "\\begin{align}\n",
    "F^\\gamma_{ia} &= \\sum_{\\theta,\\varphi}C^\\alpha_{\\varphi i}C^\\alpha_{\\theta a}\\sum_{\\mu,\\nu,\\sigma}\\gamma^\\sigma_{\\mu\\nu}(\\mu\\nu|\\theta \\varphi)-\\sum_{\\theta,\\varphi}C^\\alpha_{\\varphi i}C^\\alpha_{\\theta a}\\sum_{\\mu,\\nu}\\gamma^{\\alpha}_{\\mu\\nu}(\\mu\\varphi|\\theta\\nu)\\\\\n",
    "&= \\sum_{\\theta,\\varphi}C^\\alpha_{\\varphi i}C^\\alpha_{\\theta a} 2F^{1,\\alpha}_{\\varphi\\theta}-\\sum_{\\theta,\\varphi}C^\\alpha_{\\varphi i}C^\\alpha_{\\theta a}F^{2,\\alpha}_{\\varphi\\theta}\\\\\n",
    "&= \\sum_{\\theta,\\varphi}C^\\alpha_{\\varphi i}C^\\alpha_{\\theta a}F_{\\varphi\\theta}\n",
    "\\end{align}"
   ]
  },
  {
   "cell_type": "markdown",
   "metadata": {},
   "source": [
    "### 2. Contributions from the 2PDMs\n",
    "\n",
    "\\begin{align}\n",
    "F^\\Gamma_{ia} &= ~~ \\sum_{\\mu,\\zeta}C^\\alpha_{\\mu i}C^\\alpha_{\\zeta a} \\Big[\\sum_{\\rho,\\varphi}S_{\\rho\\zeta}x^\\alpha_{\\varphi\\rho}\\sum_{\\nu,\\theta}x^\\alpha_{\\theta\\nu}(\\mu\\nu|\\theta\\varphi)-\\sum_{\\rho,\\varphi}S_{\\rho\\zeta}x^\\alpha_{\\varphi\\rho}\\sum_{\\theta,\\nu,\\sigma} x^\\sigma_{\\theta\\nu}(\\mu\\varphi|\\theta\\nu) \\Big] \\\\\n",
    "&~~~ -\\sum_{\\mu,\\zeta}C^\\alpha_{\\mu i}C^\\alpha_{\\zeta a} \\Big[ \\sum_{\\rho,\\varphi}S_{\\mu\\rho}x^\\alpha_{\\rho\\varphi}\\sum_{\\nu,\\theta}x^\\alpha_{\\nu\\theta}(\\zeta\\nu|\\theta\\varphi)-\\sum_{\\rho,\\varphi} S_{\\mu\\rho}x^\\alpha_{\\rho\\varphi}\\sum_{\\theta,\\nu,\\sigma}x^\\sigma_{\\nu\\theta}(\\zeta\\varphi|\\theta\\nu) \\Big] \\\\\n",
    "&= - \\sum_{\\mu,\\zeta}C^\\alpha_{\\mu i}C^\\alpha_{\\zeta a} \\sum_{\\rho,\\varphi}S_{\\rho\\zeta}x^\\alpha_{\\varphi\\rho}\\Big[ 2\\sum_{\\theta,\\nu} x^\\alpha_{\\theta\\nu}(\\mu\\varphi|\\theta\\nu)- \\sum_{\\nu,\\theta}x^\\alpha_{\\theta\\nu}(\\mu\\nu|\\theta\\varphi) \\Big] \\\\\n",
    "&~~~~ +\\sum_{\\mu,\\zeta}C^\\alpha_{\\mu i}C^\\alpha_{\\zeta a} \\sum_{\\rho,\\varphi}S_{\\mu\\rho}x^\\alpha_{\\rho\\varphi}\\Big[ 2\\sum_{\\theta,\\nu} x^\\alpha_{\\nu\\theta}(\\zeta\\varphi|\\theta\\nu)- \\sum_{\\nu,\\theta}x^\\alpha_{\\nu\\theta}(\\zeta\\nu|\\theta\\varphi) \\Big] \\\\\n",
    "&= - \\sum_{\\mu,\\zeta}C^\\alpha_{\\mu i}C^\\alpha_{\\zeta a} \\sum_{\\rho,\\varphi}S_{\\rho\\zeta}x^\\alpha_{\\varphi\\rho}\\Big[ \\sum_{\\theta,\\nu} x^\\alpha_{\\theta\\nu} \\big[ 2 (\\mu\\varphi|\\theta\\nu)- (\\mu\\nu|\\theta\\varphi) \\big] \\Big] \\\\\n",
    "&~~~~ +\\sum_{\\mu,\\zeta}C^\\alpha_{\\mu i}C^\\alpha_{\\zeta a} \\sum_{\\rho,\\varphi}S_{\\mu\\rho}x^\\alpha_{\\rho\\varphi}\\Big[ \\sum_{\\theta,\\nu} x^\\alpha_{\\nu\\theta} \\big[ 2(\\zeta\\varphi|\\theta\\nu)- (\\zeta\\nu|\\theta\\varphi) \\big] \\Big]\n",
    "\\end{align}"
   ]
  },
  {
   "cell_type": "code",
   "execution_count": 14,
   "metadata": {},
   "outputs": [
    {
     "name": "stdout",
     "output_type": "stream",
     "text": [
      "[[-0.018333   0.0000249]\n",
      " [-0.0827309 -0.0000336]\n",
      " [ 0.0004581 -0.1069934]\n",
      " [-0.0907946  0.0001547]\n",
      " [-0.        -0.       ]]\n"
     ]
    }
   ],
   "source": [
    "# Calculate two different parts and transform the sum to MO\n",
    "nao = mo.shape[0]\n",
    "\n",
    "pqrs = numpy.zeros((nao, nao, nao, nao))\n",
    "eri_drv_pqrs = vlx.ElectronRepulsionIntegralsDriver(comm)\n",
    "eri_drv_pqrs.compute_in_mem(molecule, basis, pqrs)\n",
    "\n",
    "F1_vlx = numpy.einsum('mn,mntp->pt', vlx_dm_ao, pqrs)\n",
    "F2_vlx = numpy.einsum('mn,mptn->pt', vlx_dm_ao, pqrs)\n",
    "# The density matrices already have a factor of 2 (for alpha and beta spin)\n",
    "# hence a factor of 0.5 where the other spin part actually vanishes\n",
    "F_1pdm_vlx = F1_vlx - 0.5*F2_vlx\n",
    "vlx_1pdm_rhs = numpy.einsum('pi,pa->ia', mo_occ, numpy.einsum('ta,pt->pa', mo_vir, F_1pdm_vlx))\n",
    "print(vlx_1pdm_rhs)"
   ]
  },
  {
   "cell_type": "markdown",
   "metadata": {},
   "source": [
    "# Start -- Orbital Response "
   ]
  },
  {
   "cell_type": "code",
   "execution_count": 15,
   "metadata": {},
   "outputs": [],
   "source": [
    "# Set up ERI driver:\n",
    "nao = mo.shape[0]\n",
    "#Probably these will be properties of our OrbitalResponseSolver?\n",
    "qq_type = 'QQ_DEN'\n",
    "eri_thresh = 1.0e-15\n",
    "eri_drv = vlx.ElectronRepulsionIntegralsDriver(comm)\n",
    "screening = eri_drv.compute(get_qq_scheme(qq_type),\n",
    "                            eri_thresh, molecule, basis)\n",
    "# print(dir(screening))\n",
    "# print(screening.get_screener(7))\n"
   ]
  },
  {
   "cell_type": "code",
   "execution_count": 16,
   "metadata": {},
   "outputs": [
    {
     "name": "stdout",
     "output_type": "stream",
     "text": [
      "Single terms:\n",
      "1PDM\n",
      "Density Type: Restricted Density Matrix\n",
      "[Dimension 7 x 7]\n",
      "     0.01838912    -0.12316116     0.10921152     0.10970854     0.00000000    -0.05566002    -0.07927709\n",
      "    -0.12316116     0.82487198    -0.73144421    -0.73477300    -0.00000000     0.37278303     0.53095833\n",
      "     0.10921152    -0.73144421     0.64859839     0.65155015     0.00000000    -0.33056037    -0.47082021\n",
      "     0.10970854    -0.73477300     0.65155015     0.65451534     0.00000000    -0.33206475    -0.47296291\n",
      "     0.00000000    -0.00000000     0.00000000     0.00000000    -1.00000000     0.00000000     0.00000000\n",
      "    -0.05566002     0.37278303    -0.33056037    -0.33206475     0.00000000     0.16847122     0.23995512\n",
      "    -0.07927709     0.53095833    -0.47082021    -0.47296291     0.00000000     0.23995512     0.34177031\n",
      "\n",
      "\n",
      "2PDM:\n",
      "Density Type: Restricted Density Matrix\n",
      "[Dimension 7 x 7]\n",
      "    -0.00000000     0.00000000    -0.00000000    -0.00000000     0.13560650    -0.00000000    -0.00000000\n",
      "     0.00000000    -0.00000000     0.00000000     0.00000000    -0.90822463     0.00000000     0.00000000\n",
      "    -0.00000000     0.00000000    -0.00000000    -0.00000000     0.80535606    -0.00000000    -0.00000000\n",
      "    -0.00000000     0.00000000    -0.00000000    -0.00000000     0.80902122    -0.00000000    -0.00000000\n",
      "    -0.00000000     0.00000000    -0.00000000    -0.00000000     0.00000000    -0.00000000    -0.00000000\n",
      "     0.00000000    -0.00000000     0.00000000     0.00000000    -0.41045245     0.00000000     0.00000000\n",
      "     0.00000000    -0.00000000     0.00000000     0.00000000    -0.58461125     0.00000000     0.00000000\n",
      "\n",
      "\n",
      "Density Type: Restricted Density Matrix\n",
      "[Dimension 7 x 7]\n",
      "    -0.00000000     0.00000000    -0.00000000    -0.00000000    -0.00000000     0.00000000     0.00000000\n",
      "     0.00000000    -0.00000000     0.00000000     0.00000000     0.00000000    -0.00000000    -0.00000000\n",
      "    -0.00000000     0.00000000    -0.00000000    -0.00000000    -0.00000000     0.00000000     0.00000000\n",
      "    -0.00000000     0.00000000    -0.00000000    -0.00000000    -0.00000000     0.00000000     0.00000000\n",
      "     0.13560650    -0.90822463     0.80535606     0.80902122     0.00000000    -0.41045245    -0.58461125\n",
      "    -0.00000000     0.00000000    -0.00000000    -0.00000000    -0.00000000     0.00000000     0.00000000\n",
      "    -0.00000000     0.00000000    -0.00000000    -0.00000000    -0.00000000     0.00000000     0.00000000\n",
      "\n",
      "ALL RHS:\n",
      "Density Type: Restricted Density Matrix\n",
      "[Dimension 7 x 7]\n",
      "     0.01838912    -0.12316116     0.10921152     0.10970854     0.00000000    -0.05566002    -0.07927709\n",
      "    -0.12316116     0.82487198    -0.73144421    -0.73477300    -0.00000000     0.37278303     0.53095833\n",
      "     0.10921152    -0.73144421     0.64859839     0.65155015     0.00000000    -0.33056037    -0.47082021\n",
      "     0.10970854    -0.73477300     0.65155015     0.65451534     0.00000000    -0.33206475    -0.47296291\n",
      "     0.00000000    -0.00000000     0.00000000     0.00000000    -1.00000000     0.00000000     0.00000000\n",
      "    -0.05566002     0.37278303    -0.33056037    -0.33206475     0.00000000     0.16847122     0.23995512\n",
      "    -0.07927709     0.53095833    -0.47082021    -0.47296291     0.00000000     0.23995512     0.34177031\n",
      "[Dimension 7 x 7]\n",
      "    -0.00000000     0.00000000    -0.00000000    -0.00000000    -0.00000000     0.00000000     0.00000000\n",
      "     0.00000000    -0.00000000     0.00000000     0.00000000     0.00000000    -0.00000000    -0.00000000\n",
      "    -0.00000000     0.00000000    -0.00000000    -0.00000000    -0.00000000     0.00000000     0.00000000\n",
      "    -0.00000000     0.00000000    -0.00000000    -0.00000000    -0.00000000     0.00000000     0.00000000\n",
      "     0.13560650    -0.90822463     0.80535606     0.80902122     0.00000000    -0.41045245    -0.58461125\n",
      "    -0.00000000     0.00000000    -0.00000000    -0.00000000    -0.00000000     0.00000000     0.00000000\n",
      "    -0.00000000     0.00000000    -0.00000000    -0.00000000    -0.00000000     0.00000000     0.00000000\n",
      "\n"
     ]
    }
   ],
   "source": [
    "# Use AODensityMatrix object to compute a Fock-like matrix\n",
    "# expect something like F_{\\varphi\\theta}, equation above\n",
    "# see linearsolver.py; we have to create a linear solver object:\n",
    "# \n",
    "# from veloxchem.linearsolver import LinearSolver\n",
    "from veloxchem.veloxchemlib import AOFockMatrix\n",
    "from veloxchem.veloxchemlib import AODensityMatrix\n",
    "from veloxchem.veloxchemlib import denmat\n",
    "\n",
    "#Create all AODensityMatrices needed for the RHS\n",
    "#1PDM contribution:\n",
    "ao_density_1pdm = AODensityMatrix([vlx_dm_ao], denmat.rest)\n",
    "\n",
    "#2PDM contribution\n",
    "ao_density_2pdm_1 = AODensityMatrix([tda_eig_vec_ao.T], denmat.rest)\n",
    "ao_density_2pdm_2 = AODensityMatrix([tda_eig_vec_ao], denmat.rest)\n",
    "\n",
    "#We only use one of the terms (i.e. ao_density_2pdm_2 -- coresponding to tda_eig_vec_ao)\n",
    "#because we can get the other as its transpose\n",
    "ao_density_RHS_all = AODensityMatrix([vlx_dm_ao, tda_eig_vec_ao], denmat.rest)\n",
    "\n",
    "print(\"Single terms:\")\n",
    "print(\"1PDM\")\n",
    "print(ao_density_1pdm)\n",
    "print()\n",
    "print(\"2PDM:\")\n",
    "print(ao_density_2pdm_1)\n",
    "print()\n",
    "print(ao_density_2pdm_2)\n",
    "\n",
    "print(\"ALL RHS:\")\n",
    "print(ao_density_RHS_all)"
   ]
  },
  {
   "cell_type": "code",
   "execution_count": 17,
   "metadata": {},
   "outputs": [
    {
     "name": "stdout",
     "output_type": "stream",
     "text": [
      "Fock matrices, single terms:\n",
      "Fock-1PDM\n",
      "Fock Type: Restricted 2J + K Matrix\n",
      "Density Identifier: 0\n",
      "[Dimension 7 x 7]\n",
      "    -0.65125674    -0.12604156    -0.02685659    -0.02680190    -0.00000000     0.02126198     0.03030670\n",
      "    -0.12604156    -0.34263392    -0.04608774    -0.04532876     0.00000000     0.05187415     0.07412870\n",
      "    -0.02685659    -0.04608774    -0.03228598    -0.03918027    -0.00000000     0.01156119     0.08146541\n",
      "    -0.02680190    -0.04532876    -0.03918027    -0.03060907    -0.00000000     0.07221715     0.03922898\n",
      "    -0.00000000     0.00000000    -0.00000000    -0.00000000     0.25092946    -0.00000000    -0.00000000\n",
      "     0.02126198     0.05187415     0.01156119     0.07221715    -0.00000000    -0.39437864    -0.06132726\n",
      "     0.03030670     0.07412870     0.08146541     0.03922898    -0.00000000    -0.06132726    -0.43834986\n",
      "\n",
      "\n",
      "Fock-2PDM:\n",
      "Fock Type: Restricted general 2J + K Matrix\n",
      "Density Identifier: 0\n",
      "[Dimension 7 x 7]\n",
      "     0.00000000    -0.00000000     0.00000000     0.00000000    -0.04341824     0.00000000     0.00000000\n",
      "    -0.00000000     0.00000000    -0.00000000    -0.00000000     0.04982657    -0.00000000    -0.00000000\n",
      "     0.00000000    -0.00000000    -0.00000000     0.00000000    -0.15417108     0.00000000     0.00000000\n",
      "     0.00000000    -0.00000000     0.00000000    -0.00000000    -0.15468817     0.00000000     0.00000000\n",
      "    -0.01468687    -0.06491696    -0.02151771    -0.02152549     0.00000000    -0.01348915    -0.01922129\n",
      "    -0.00000000     0.00000000    -0.00000000    -0.00000000     0.16613170    -0.00000000    -0.00000000\n",
      "    -0.00000000     0.00000000    -0.00000000    -0.00000000     0.23675423    -0.00000000    -0.00000000\n",
      "\n",
      "\n",
      "Fock Type: Restricted general 2J + K Matrix\n",
      "Density Identifier: 0\n",
      "[Dimension 7 x 7]\n",
      "     0.00000000    -0.00000000     0.00000000     0.00000000    -0.01468687    -0.00000000    -0.00000000\n",
      "    -0.00000000     0.00000000    -0.00000000    -0.00000000    -0.06491696     0.00000000     0.00000000\n",
      "     0.00000000    -0.00000000    -0.00000000     0.00000000    -0.02151771    -0.00000000    -0.00000000\n",
      "     0.00000000    -0.00000000     0.00000000    -0.00000000    -0.02152549    -0.00000000    -0.00000000\n",
      "    -0.04341824     0.04982657    -0.15417108    -0.15468817     0.00000000     0.16613170     0.23675423\n",
      "     0.00000000    -0.00000000     0.00000000     0.00000000    -0.01348915    -0.00000000    -0.00000000\n",
      "     0.00000000    -0.00000000     0.00000000     0.00000000    -0.01922129    -0.00000000    -0.00000000\n",
      "\n",
      "Fock-ALL RHS:\n",
      "Fock Type: Restricted general 2J + K Matrix\n",
      "Density Identifier: 0\n",
      "[Dimension 7 x 7]\n",
      "    -0.65125674    -0.12604156    -0.02685659    -0.02680190    -0.00000000     0.02126198     0.03030670\n",
      "    -0.12604156    -0.34263392    -0.04608774    -0.04532876     0.00000000     0.05187415     0.07412870\n",
      "    -0.02685659    -0.04608774    -0.03228598    -0.03918027    -0.00000000     0.01156119     0.08146541\n",
      "    -0.02680190    -0.04532876    -0.03918027    -0.03060907    -0.00000000     0.07221715     0.03922898\n",
      "    -0.00000000     0.00000000    -0.00000000    -0.00000000     0.25092946    -0.00000000    -0.00000000\n",
      "     0.02126198     0.05187415     0.01156119     0.07221715    -0.00000000    -0.39437864    -0.06132726\n",
      "     0.03030670     0.07412870     0.08146541     0.03922898    -0.00000000    -0.06132726    -0.43834986\n",
      "Fock Type: Restricted general 2J + K Matrix\n",
      "Density Identifier: 1\n",
      "[Dimension 7 x 7]\n",
      "     0.00000000     0.00000000     0.00000000     0.00000000    -0.01468687    -0.00000000    -0.00000000\n",
      "    -0.00000000     0.00000000    -0.00000000    -0.00000000    -0.06491696     0.00000000     0.00000000\n",
      "     0.00000000    -0.00000000    -0.00000000     0.00000000    -0.02151771    -0.00000000    -0.00000000\n",
      "     0.00000000    -0.00000000     0.00000000    -0.00000000    -0.02152549    -0.00000000    -0.00000000\n",
      "    -0.04341824     0.04982657    -0.15417108    -0.15468817     0.00000000     0.16613170     0.23675423\n",
      "     0.00000000    -0.00000000     0.00000000     0.00000000    -0.01348915    -0.00000000    -0.00000000\n",
      "     0.00000000    -0.00000000     0.00000000     0.00000000    -0.01922129    -0.00000000    -0.00000000\n",
      "\n"
     ]
    }
   ],
   "source": [
    "fock_rhs_1pdm = AOFockMatrix(ao_density_1pdm)\n",
    "fock_rhs_2pdm_1 = AOFockMatrix(ao_density_2pdm_1)\n",
    "fock_rhs_2pdm_2 = AOFockMatrix(ao_density_2pdm_2)\n",
    "\n",
    "fock_RHS_all = AOFockMatrix(ao_density_RHS_all)\n",
    "fock_flag = fockmat.rgenjk\n",
    "for i in range(fock_RHS_all.number_of_fock_matrices()):\n",
    "    fock_RHS_all.set_fock_type(fock_flag, i)\n",
    "    \n",
    "fock_rhs_2pdm_1.set_fock_type(fock_flag, 0)\n",
    "fock_rhs_2pdm_2.set_fock_type(fock_flag, 0)\n",
    "\n",
    "AO_rhs_1pdm = eri_drv.compute(fock_rhs_1pdm, ao_density_1pdm, molecule, basis, screening) \n",
    "AO_rhs_2pdm_1 = eri_drv.compute(fock_rhs_2pdm_1, ao_density_2pdm_1, molecule, basis, screening) \n",
    "AO_rhs_2pdm_2 = eri_drv.compute(fock_rhs_2pdm_2, ao_density_2pdm_2, molecule, basis, screening) \n",
    "\n",
    "AO_RHS_all = eri_drv.compute(fock_RHS_all, ao_density_RHS_all, molecule, basis, screening)\n",
    "\n",
    "print(\"Fock matrices, single terms:\")\n",
    "print(\"Fock-1PDM\")\n",
    "print(fock_rhs_1pdm)\n",
    "print()\n",
    "print(\"Fock-2PDM:\")\n",
    "print(fock_rhs_2pdm_1)\n",
    "print()\n",
    "print(fock_rhs_2pdm_2)\n",
    "\n",
    "print(\"Fock-ALL RHS:\")\n",
    "print(fock_RHS_all)\n",
    "\n"
   ]
  },
  {
   "cell_type": "code",
   "execution_count": 18,
   "metadata": {},
   "outputs": [
    {
     "name": "stdout",
     "output_type": "stream",
     "text": [
      "\n",
      "In MO basis, 1PDM contribution to the RHS, using one-shot Fock-build?:\n",
      "[[-0.018333   0.0000249]\n",
      " [-0.0827309 -0.0000336]\n",
      " [ 0.0004581 -0.1069934]\n",
      " [-0.0907946  0.0001547]\n",
      " [-0.        -0.       ]]\n",
      "\n",
      "Original, for comparison:\n",
      "[[-0.018333   0.0000249]\n",
      " [-0.0827309 -0.0000336]\n",
      " [ 0.0004581 -0.1069934]\n",
      " [-0.0907946  0.0001547]\n",
      " [-0.        -0.       ]]\n"
     ]
    }
   ],
   "source": [
    "#Transform the 1PDM contribution to the RHS to MO basis:\n",
    "MO_rhs_1pdm = numpy.einsum('pi,pa->ia', mo_occ,\n",
    "                    numpy.einsum('ta,pt->pa', mo_vir, 0.5*fock_RHS_all.alpha_to_numpy(0)))\n",
    "\n",
    "print(\"\\nIn MO basis, 1PDM contribution to the RHS, using one-shot Fock-build?:\")\n",
    "print(MO_rhs_1pdm)\n",
    "print()\n",
    "print(\"Original, for comparison:\")\n",
    "print(vlx_1pdm_rhs)"
   ]
  },
  {
   "cell_type": "code",
   "execution_count": 19,
   "metadata": {},
   "outputs": [
    {
     "name": "stdout",
     "output_type": "stream",
     "text": [
      "[[ 0.0193612 -0.0000185]\n",
      " [ 0.0193312 -0.0000184]\n",
      " [-0.0001742  0.0000002]\n",
      " [ 0.0580351 -0.0000554]\n",
      " [ 0.        -0.       ]]\n"
     ]
    }
   ],
   "source": [
    "#Contract with excitation vector, overlap integrals and transform the 2PDM contribution to the RHS to MO basis:\n",
    "#print(fock_RHS_all.alpha_to_numpy(1))\n",
    "\n",
    "#LR_2pdm_F1 =  numpy.einsum('rz,mr->mz', ovlp,\n",
    "#                numpy.einsum('pr,mp->mr', tda_eig_vec_ao, 0.5*fock_RHS_all.alpha_to_numpy(1).T))\n",
    "#LR_2pdm_F2 =  numpy.einsum('mr,rz->mz', ovlp,\n",
    "#                numpy.einsum('rp,zp->rz', tda_eig_vec_ao, 0.5*fock_RHS_all.alpha_to_numpy(1)))\n",
    "\n",
    "MO_rhs_2pdm = numpy.einsum('mi,ma->ia', mo_occ, \n",
    "                                 numpy.einsum('za,mz->ma', mo_vir,  \n",
    "                                              (numpy.einsum('mr,rz->mz', ovlp,\n",
    "                                                            numpy.einsum('rp,zp->rz',\n",
    "                                                                         tda_eig_vec_ao, \n",
    "                                                                         0.5*fock_RHS_all.alpha_to_numpy(1))))\n",
    "                                              \n",
    "                                              -(numpy.einsum('rz,mr->mz', ovlp,\n",
    "                                                             numpy.einsum('pr,mp->mr',\n",
    "                                                                          tda_eig_vec_ao,\n",
    "                                                                          0.5*fock_RHS_all.alpha_to_numpy(1).T))))\n",
    "                          )\n",
    "\n",
    "print(MO_rhs_2pdm)"
   ]
  },
  {
   "cell_type": "code",
   "execution_count": 20,
   "metadata": {},
   "outputs": [],
   "source": [
    "RHS = MO_rhs_1pdm+MO_rhs_2pdm"
   ]
  },
  {
   "cell_type": "markdown",
   "metadata": {},
   "source": [
    "## Left-hand side\n",
    "### Initial guess for Lagrange multipliers $\\boldsymbol{\\lambda}$\n",
    "\n",
    "\\begin{equation}\n",
    "    \\lambda_{ia}^{(0)} = \\frac{R_{ia}}{\\varepsilon_i - \\varepsilon_a}\n",
    "\\end{equation}"
   ]
  },
  {
   "cell_type": "code",
   "execution_count": 21,
   "metadata": {},
   "outputs": [
    {
     "name": "stdout",
     "output_type": "stream",
     "text": [
      "[[-0.0000493 -0.0000003]\n",
      " [ 0.0339298  0.0000256]\n",
      " [-0.0002304  0.0766874]\n",
      " [ 0.0313636 -0.0000823]\n",
      " [ 0.         0.       ]]\n"
     ]
    }
   ],
   "source": [
    "#Construct Initial Guess: lambda_guess=RHS/(epsilon_i-epsilon_a)\n",
    "orb_ene = scfdrv.scf_tensors['E']\n",
    "eocc = orb_ene[:nocc]\n",
    "evir = orb_ene[nocc:]\n",
    "eov = -evir + eocc.reshape(-1, 1)\n",
    "#print(eov)\n",
    "\n",
    "lambda_guess = RHS / eov\n",
    "\n",
    "print(lambda_guess)"
   ]
  },
  {
   "cell_type": "markdown",
   "metadata": {},
   "source": [
    "### Contraction of the initial guess for $\\boldsymbol{\\lambda}$ with two-electron integrals\n",
    "\n",
    "using $p=j, q=b$ as well as $p=b, q=j$ with the condition $\\lambda_{pq} = \\lambda_{qp}$ and assuming real orbitals, the equation is obtained as\n",
    "\\begin{align}\n",
    "-\\sum_{pq} \\lambda_{pq} \\big( [pq|ai] - [pi|aq] \\big)\n",
    "    &= -\\sum_{\\varphi \\theta} C_{\\varphi i} C_{\\theta a} \\sum_{\\mu \\nu}\n",
    "        \\lambda_{\\mu \\nu} \\big[ 4 (\\mu \\nu | \\varphi \\theta)\n",
    "        - (\\mu \\theta | \\varphi \\nu) - (\\nu \\theta | \\varphi \\mu) \\big] \\\\\n",
    "    %+ (\\varepsilon_a - \\varepsilon_i ) \\gamma_{ia}\n",
    "    &= - \\sum_{\\varphi \\theta} \\big[ C_{\\varphi i} C_{\\theta a} + C_{\\theta i} C_{\\varphi a} \\big]\n",
    "        \\sum_{\\mu \\nu} \\lambda_{\\mu \\nu} \\big[ 2 (\\mu \\nu | \\varphi \\theta) - (\\mu \\theta | \\varphi \\nu) \\big]\n",
    "\\end{align}\n",
    "\n",
    "#### Full LHS \n",
    "\\begin{equation}\n",
    "   -\\sum_{pq} \\lambda_{pq} \\big( [pq|ai] - [pi|aq] \\big) + \\lambda_{ia} ( \\varepsilon_i - \\varepsilon_a )\n",
    "\\end{equation}"
   ]
  },
  {
   "cell_type": "markdown",
   "metadata": {},
   "source": [
    "## Solution via Conjugate Gradient\n",
    "\n",
    "To solve: $\\mathbf{A} \\mathbf{x} = \\mathbf{b}$\n",
    "\n",
    "However, we do not \"know\" the matrix $\\mathbf{A}$, only the matrix-vector product $\\mathbf{Ax}$.\n",
    "Thus, define it as a linear operator with a vector $\\mathbf{x}$ as an argument.\n",
    "\n",
    "### Defining a linear operator"
   ]
  },
  {
   "cell_type": "code",
   "execution_count": 22,
   "metadata": {},
   "outputs": [],
   "source": [
    "lambda_guess_ao = numpy.matmul(mo_occ, numpy.matmul(lambda_guess, mo_vir.T))\n",
    "    \n",
    "#Create AODensityMatrix object from lambda in AO\n",
    "ao_density_lambda_guess = AODensityMatrix([lambda_guess_ao], denmat.rest)\n",
    "fock_lambda = AOFockMatrix(ao_density_lambda_guess)\n",
    "fock_lambda.set_fock_type(fock_flag, 0)\n",
    "\n",
    "#Matrix-vector product routine for conjugate gradient:\n",
    "def OrbRsp_LHS_mvp(v):\n",
    "    \"\"\"Function to carry out matrix multiplication\n",
    "    of Lagrange multipier vector with orbital Hessian\n",
    "    matrix, using AODensityMatrix, AOFockMatrix\n",
    "    \n",
    "    v: lambda at current iteration\"\"\"\n",
    "    \n",
    "    #lambda_mo = v.reshape(nocc,nvir)\n",
    "    \n",
    "    # Transform to AO\n",
    "    lambda_ao = numpy.matmul(mo_occ, numpy.matmul(v.reshape(nocc,nvir), mo_vir.T))\n",
    "    \n",
    "    #Create AODensityMatrix object from lambda in AO\n",
    "    ao_density_lambda = AODensityMatrix([lambda_ao], denmat.rest)\n",
    "    \n",
    "    #Create a Fock Matrix Object (initialized with zeros)    \n",
    "    eri_drv.compute(fock_lambda, ao_density_lambda, molecule, basis, screening) \n",
    "    \n",
    "    #Transform to MO basis (symmetrized w.r.t. occ. and virt.) and add diagonal part\n",
    "    lambda_mo = (-( numpy.matmul(mo_occ.T, numpy.matmul(fock_lambda.alpha_to_numpy(0), mo_vir)) \n",
    "                + numpy.matmul(mo_vir.T, numpy.matmul(fock_lambda.alpha_to_numpy(0), mo_occ)).T )\n",
    "                +v.reshape(nocc,nvir) * eov) \n",
    "    \n",
    "    return lambda_mo.reshape(nocc*nvir)"
   ]
  },
  {
   "cell_type": "markdown",
   "metadata": {},
   "source": []
  },
  {
   "cell_type": "code",
   "execution_count": 55,
   "metadata": {},
   "outputs": [
    {
     "name": "stdout",
     "output_type": "stream",
     "text": [
      "[[-0.0001931 -0.0000005]\n",
      " [ 0.0302105  0.0000041]\n",
      " [-0.0002684  0.0793038]\n",
      " [ 0.0182954 -0.0001408]\n",
      " [ 0.         0.       ]]\n"
     ]
    }
   ],
   "source": [
    "#OrbRsp_LHS_mvp(lambda_guess.reshape(nocc*nvir))\n",
    "A = linalg.LinearOperator((nocc*nvir,nocc*nvir), matvec=OrbRsp_LHS_mvp)\n",
    "solution, w = linalg.cg(A=A, b=RHS.reshape(nocc*nvir), x0=lambda_guess.reshape(nocc*nvir), tol=1e-8, maxiter=25)\n",
    "\n",
    "lambda_OV = solution.reshape(nocc,nvir)\n",
    "print(lambda_OV)"
   ]
  },
  {
   "cell_type": "markdown",
   "metadata": {},
   "source": [
    "# Omega Multipliers (for Overlap Matrix)"
   ]
  },
  {
   "cell_type": "markdown",
   "metadata": {},
   "source": [
    "## General Equation:\n",
    "\\begin{equation}\n",
    "2\\left(\\gamma'_{ut}+\\lambda_{ut}\\right)\\epsilon_u +2\\sum_{p,q}\\left(\\gamma'_{pq}+\\lambda_{pq}\\right)\\langle{pu||qt}\\rangle\\delta_{t\\epsilon_o}+\\sum_{p,q,r}\\Gamma'_{tpqr}\\langle{up||qr}\\rangle+2\\omega_{ut}=0\\\n",
    "\\end{equation}\n",
    "\n",
    "## VV block ($\\alpha$ block)\n",
    "\\begin{equation}\n",
    "2\\gamma'_{ab}\\epsilon_a +\\sum_{p,q,r}\\Gamma'_{bpqr}\\langle{ap||qr}\\rangle+2\\omega_{ab}=0\\\\\n",
    "2\\gamma'_{ab}\\epsilon_a +\\sum_{p,q,r}\\Gamma'_{bpqr}([aq|pr]-[ar|pq])+2\\omega_{ab} = 0\\\\\n",
    "2\\gamma'_{ab}\\epsilon_a +\\sum_{p,q,r}\\Gamma'_{bpqr}[(aq|pr)(\\alpha\\sigma'|\\sigma\\sigma'')-(ar|pq)(\\alpha\\sigma''|\\sigma\\sigma')]+2\\omega_{ab} = 0\\\\\n",
    "2\\gamma'_{ab}\\epsilon_a +\\sum_{p,q,r}\\Gamma'_{pbrq}[(aq|pr)(\\alpha\\sigma'|\\sigma\\sigma'')-(ar|pq)(\\alpha\\sigma''|\\sigma\\sigma')]+2\\omega_{ab} = 0\\\\\n",
    "2\\gamma'_{ab}\\epsilon_a +2\\sum_{i,c,j}\\Gamma'_{ibjc}[(ac|ij)(\\alpha\\sigma'|\\sigma\\sigma'')-(aj|ic)(\\alpha\\sigma''|\\sigma\\sigma')]+2\\omega_{ab} = 0\\\\\n",
    "2\\gamma'_{ab}\\epsilon_a -2\\sum_{i,c,j}x_{ic}x_{jb}[(ac|ij)(\\alpha\\sigma'|\\sigma\\sigma'')-(aj|ic)(\\alpha\\sigma''|\\sigma\\sigma')]+2\\omega_{ab} = 0\\\\\n",
    "2\\gamma'_{ab}\\epsilon_a -2\\sum_{i,c,j}x_{ic}x_{jb}[(ac|ij)(\\alpha\\alpha|\\alpha\\alpha)-(aj|ic)(\\alpha\\alpha|\\sigma\\sigma)]+2\\omega_{ab} = 0\\\\\n",
    "2\\gamma'_{ab}\\epsilon_a + 2\\sum_{i,c,j}x_{ic}x_{jb}[2(aj|ic)-(ac|ij)]+2\\omega_{ab} = 0\\\\\n",
    "\\gamma'_{ab}\\epsilon_a + \\sum_{\\mu\\nu\\theta\\varphi}C_{\\theta a}[2(\\theta\\nu|\\mu\\varphi)-(\\theta\\varphi|\\mu\\nu)]\\sum_{j}x_{jb}C_{\\nu j}\\sum_{i,c}C_{\\mu i}x_{ic}C_{\\varphi c}+\\omega_{ab} = 0\\\\\n",
    "\\gamma'_{ab}\\epsilon_a + \\sum_{\\mu\\nu\\theta\\varphi}C_{\\theta a}[2(\\theta\\nu|\\mu\\varphi)-(\\theta\\varphi|\\mu\\nu)]\\sum_{j}C_{\\nu j}x_{jb}x_{\\mu\\varphi}+\\omega_{ab} = 0\\\\\n",
    "\\gamma'_{ab}\\epsilon_a + \\sum_{\\mu\\nu\\theta\\varphi}C_{\\theta a}[2(\\theta\\nu|\\mu\\varphi)-(\\theta\\varphi|\\mu\\nu)]x_{\\nu b}x_{\\mu\\varphi}+\\omega_{ab} = 0\\\\\n",
    "\\gamma'_{ab}\\epsilon_a + \\sum_{\\mu\\nu\\theta\\varphi}C_{\\theta a}[2(\\theta\\nu|\\mu\\varphi)-(\\theta\\varphi|\\mu\\nu)]\\sum_{\\rho,\\zeta}x_{\\nu \\zeta}S_{\\zeta\\rho}C_{\\rho b}x_{\\mu\\varphi}+\\omega_{ab} = 0\\\\\n",
    "\\gamma'_{ab}\\epsilon_a + \\sum_{\\theta\\rho}C_{\\theta a}C_{\\rho b}\\sum_{\\nu,\\zeta}x_{\\nu \\zeta}S_{\\zeta\\rho} \\sum_{\\mu,\\varphi}[2(\\theta\\nu|\\mu\\varphi)-(\\theta\\varphi|\\mu\\nu)]x_{\\mu\\varphi}+\\omega_{ab} = 0\\\\\n",
    "\\end{equation}\n"
   ]
  },
  {
   "cell_type": "markdown",
   "metadata": {},
   "source": []
  },
  {
   "cell_type": "markdown",
   "metadata": {},
   "source": [
    "## Omega, VV block"
   ]
  },
  {
   "cell_type": "code",
   "execution_count": 56,
   "metadata": {},
   "outputs": [
    {
     "name": "stdout",
     "output_type": "stream",
     "text": [
      "[[-0.0478955  0.0000457]\n",
      " [ 0.0000457 -0.       ]]\n"
     ]
    }
   ],
   "source": [
    "#omega_VV = numpy.zeros(vlx_dm_vv.shape)\n",
    "omega_VV = -numpy.einsum('ta,tb->ab', mo_vir, \n",
    "                                 numpy.einsum('rb,tr->tb', mo_vir,  \n",
    "                                              (numpy.einsum('zr,tz->tr', ovlp,\n",
    "                                                            numpy.einsum('nz,tn->tz',\n",
    "                                                                         tda_eig_vec_ao, \n",
    "                                                                         0.5*fock_RHS_all.alpha_to_numpy(1).T\n",
    "                                                                        )\n",
    "                                                           )\n",
    "                                              )\n",
    "                                             )\n",
    "                        )\n",
    "# print(\"MO virtual energies:\")\n",
    "# print(evir)\n",
    "# print()\n",
    "for a in range(evir.shape[0]):\n",
    "    omega_VV[a,:]-=evir[a]*0.5*vlx_dm_vv[a,:]\n",
    "print(omega_VV)\n",
    "# print(\"1PDM\")\n",
    "# print(vlx_dm_vv/2)"
   ]
  },
  {
   "cell_type": "markdown",
   "metadata": {},
   "source": [
    "## OV block {$\\alpha$ block}\n",
    "\\begin{equation}\n",
    "2\\lambda_{ia}\\epsilon_i + \\sum_{p,q,r}\\Gamma'_{apqr}\\langle{ip||qr}\\rangle+2\\omega_{ia}=0\\\\\n",
    "2\\lambda_{ia}\\epsilon_i + \\sum_{p,q,r}\\Gamma'_{parq}[(iq|pr)(\\alpha\\sigma'|\\sigma\\sigma'')-(ir|pq)(\\alpha\\sigma''|\\sigma\\sigma')]+2\\omega_{ia}=0\\\\\n",
    "2\\lambda_{ia}\\epsilon_i + 2\\sum_{j,b,k}\\Gamma'_{jakb}[(ib|jk)(\\alpha\\sigma'|\\sigma\\sigma'')-(ik|jb)(\\alpha\\sigma''|\\sigma\\sigma')]+2\\omega_{ia}=0\\\\\n",
    "\\lambda_{ia}\\epsilon_i + \\sum_{j,b,k}x_{jb}x_{ka}[2(ik|jb)-(ib|jk)]+\\omega_{ia}=0\\\\\n",
    "\\lambda_{ia}\\epsilon_i + \\sum_{\\mu,\\nu,\\theta,\\varphi}\\sum_{j,b,k}C_{\\mu i}C_{\\nu j}C_{\\theta k}C_{\\varphi b}x_{jb}x_{ka}[2(\\mu\\theta|\\nu\\varphi)-(\\mu\\varphi|\\nu\\theta)]+\\omega_{ia}=0\\\\\n",
    "\\lambda_{ia}\\epsilon_i + \\sum_{\\mu,\\nu,\\theta,\\varphi}C_{\\mu i}x_{\\nu\\varphi}\\sum_{\\rho,\\zeta}x_{\\theta \\rho}S_{\\rho\\zeta}C_{\\zeta a}[2(\\mu\\theta|\\nu\\varphi)-(\\mu\\varphi|\\nu\\theta)]+\\omega_{ia}=0\\\\\n",
    "\\lambda_{ia}\\epsilon_i + \\sum_{\\mu, \\zeta}C_{\\mu i}C_{\\zeta a}\\sum_{\\rho,\\theta}x_{\\theta \\rho}S_{\\rho\\zeta}\\sum_{\\nu,\\varphi}[2(\\mu\\theta|\\nu\\varphi)-(\\mu\\varphi|\\nu\\theta)]x_{\\nu\\varphi}+\\omega_{ia}=0\\\\\n",
    "\\end{equation}"
   ]
  },
  {
   "cell_type": "code",
   "execution_count": 61,
   "metadata": {},
   "outputs": [
    {
     "name": "stdout",
     "output_type": "stream",
     "text": [
      "[[ 0.0154542 -0.0000286]\n",
      " [ 0.057569  -0.0000133]\n",
      " [-0.0003431  0.0499034]\n",
      " [ 0.0661156 -0.0001175]\n",
      " [ 0.         0.       ]]\n"
     ]
    }
   ],
   "source": [
    "omega_OV = numpy.zeros((nocc,nvir))\n",
    "omega_OV = -numpy.einsum('mi,ma->ia', mo_occ, \n",
    "                                 numpy.einsum('za,mz->ma', mo_vir,  \n",
    "                                              (numpy.einsum('rz,mr->mz', ovlp,\n",
    "                                                            numpy.einsum('tr,mt->mr',\n",
    "                                                                         tda_eig_vec_ao, \n",
    "                                                                         0.5*fock_RHS_all.alpha_to_numpy(1).T\n",
    "                                                                        )\n",
    "                                                           )\n",
    "                                              )\n",
    "                                             )\n",
    "                        )\n",
    "# print(\"MO occupied energies:\")\n",
    "#print(eocc)\n",
    "# print()\n",
    "for i in range(nocc):\n",
    "    omega_OV[i,:]-=eocc[i]*lambda_OV[i,:]\n",
    "print(omega_OV)"
   ]
  },
  {
   "cell_type": "markdown",
   "metadata": {},
   "source": [
    "## OO block ($\\alpha$ block)\n",
    "\\begin{equation}\n",
    "2\\gamma'_{ij}\\epsilon_i +2\\sum_{p,q}\\left(\\gamma'_{pq}+\\lambda_{pq}\\right)\\langle{pi||qj}\\rangle+\\sum_{p,q,r}\\Gamma'_{jpqr}\\langle{ip||qr}\\rangle+2\\omega_{ij}=0\\\\\n",
    "2\\gamma'_{ij}\\epsilon_i +2\\sum_{p,q}\\left(\\gamma'_{pq}+\\lambda_{pq}\\right)([pq|ij]-[pj|iq])+\\sum_{p,q,r}\\Gamma'_{jpqr}([iq|pr]-[ir|pq])+2\\omega_{ij}=0\\\\\n",
    "2\\gamma'_{ij}\\epsilon_i +2\\sum_{p,q}\\left(\\gamma'_{pq}+\\lambda_{pq}\\right)[(pq|ij)(\\sigma\\sigma'|\\alpha\\alpha)-(pj|iq)(\\sigma\\alpha|\\alpha\\sigma')]+\\sum_{p,q,r}\\Gamma'_{jpqr}[(iq|pr)(\\alpha\\sigma'|\\sigma\\sigma'')-(ir|pq)(\\alpha\\sigma''|\\sigma\\sigma')]+2\\omega_{ij}=0\\\\\n",
    "2\\gamma'_{ij}\\epsilon_i +2\\sum_{p,q}\\left(\\gamma'_{pq}+\\lambda_{pq}\\right)[2(pq|ij)-(pj|iq)]+\\sum_{p,q,r}\\Gamma'_{jpqr}[(iq|pr)(\\alpha\\sigma'|\\sigma\\sigma'')-(ir|pq)(\\alpha\\sigma''|\\sigma\\sigma')]+2\\omega_{ij}=0\\\\\n",
    "2\\gamma'_{ij}\\epsilon_i +2\\sum_{p,q}\\left(\\gamma'_{pq}+\\lambda_{pq}\\right)[2(pq|ij)-(pj|iq)]+2\\sum_{a,k,b}\\Gamma'_{jakb}[(ik|ab)(\\alpha\\sigma'|\\sigma\\sigma'')-(ib|ak)(\\alpha\\sigma''|\\sigma\\sigma')]+2\\omega_{ij}=0\\\\\n",
    "2\\gamma'_{ij}\\epsilon_i +2\\sum_{p,q}\\left(\\gamma'_{pq}+\\lambda_{pq}\\right)[2(pq|ij)-(pj|iq)]-2\\sum_{a,k,b}x_{jb}x_{ka}[(ik|ab)-2(ib|ak)]+2\\omega_{ij}=0\\\\\n",
    "\\gamma'_{ij}\\epsilon_i +\\sum_{p,q}\\left(\\gamma'_{pq}+\\lambda_{pq}\\right)[2(pq|ij)-(pj|iq)]+\\sum_{a,k,b}x_{jb}x_{ka}[2(ib|ak)-(ik|ab)]+\\omega_{ij}=0\\\\\n",
    "\\gamma'_{ij}\\epsilon_i +\\sum_{\\mu,\\nu,\\theta,\\varphi}\\sum_{p,q}C_{\\mu p}C_{\\nu q}C_{\\theta i}C_{\\varphi j}\\left(\\gamma'_{pq}+\\lambda_{pq}\\right)[2(\\mu\\nu|\\theta\\varphi)-(\\mu\\varphi|\\theta\\nu)]+\\sum_{a,k,b}x_{jb}x_{ka}[2(ib|ak)-(ik|ab)]+\\omega_{ij}=0\\\\\n",
    "\\gamma'_{ij}\\epsilon_i +\\sum_{\\theta,\\varphi}C_{\\theta i}C_{\\varphi j}\\sum_{\\mu,\\nu}\\left(\\gamma'_{\\mu\\nu}+\\lambda_{\\mu\\nu}\\right)[2(\\mu\\nu|\\theta\\varphi)-(\\mu\\varphi|\\theta\\nu)]+\\sum_{\\mu,\\nu,\\theta,\\varphi}\\sum_{a,k,b}C_{\\mu i}C_{\\nu k}C_{\\theta a}C_{\\varphi b}x_{jb}x_{ka}[2(\\mu\\varphi|\\theta\\nu)-(\\mu\\nu|\\theta\\varphi)]+\\omega_{ij}=0\\\\\n",
    "\\gamma'_{ij}\\epsilon_i +\\sum_{\\theta,\\varphi}C_{\\theta i}C_{\\varphi j}\\sum_{\\mu,\\nu}\\left(\\gamma'_{\\mu\\nu}+\\lambda_{\\mu\\nu}\\right)[2(\\mu\\nu|\\theta\\varphi)-(\\mu\\varphi|\\theta\\nu)]+\\sum_{\\mu}C_{\\mu i}\\sum_{\\nu,\\theta,\\varphi}x_{j\\varphi}x_{\\nu\\theta}[2(\\mu\\varphi|\\theta\\nu)-(\\mu\\nu|\\theta\\varphi)]+\\omega_{ij}=0\\\\\n",
    "\\gamma'_{ij}\\epsilon_i +\\sum_{\\theta,\\varphi}C_{\\theta i}C_{\\varphi j}\\sum_{\\mu,\\nu}\\left(\\gamma'_{\\mu\\nu}+\\lambda_{\\mu\\nu}\\right)[2(\\mu\\nu|\\theta\\varphi)-(\\mu\\varphi|\\theta\\nu)]+\\sum_{\\mu}C_{\\mu i}\\sum_{\\nu,\\theta,\\varphi,\\rho,\\zeta}C_{\\zeta j}S_{\\zeta\\rho}x_{\\rho\\varphi}x_{\\nu\\theta}[2(\\mu\\varphi|\\theta\\nu)-(\\mu\\nu|\\theta\\varphi)]+\\omega_{ij}=0\\\\\n",
    "\\gamma'_{ij}\\epsilon_i +\\sum_{\\theta,\\varphi}C_{\\theta i}C_{\\varphi j}\\sum_{\\mu,\\nu}\\left(\\gamma'_{\\mu\\nu}+\\lambda_{\\mu\\nu}\\right)[2(\\mu\\nu|\\theta\\varphi)-(\\mu\\varphi|\\theta\\nu)]+\\sum_{\\mu,\\zeta}C_{\\mu i}C_{\\zeta j}\\sum_{\\varphi,\\rho}S_{\\zeta\\rho}x_{\\rho\\varphi}\\sum_{\\nu,\\theta}[2(\\mu\\varphi|\\theta\\nu)-(\\mu\\nu|\\theta\\varphi)]x_{\\nu\\theta}+\\omega_{ij}=0\\\\\n",
    "\\end{equation}"
   ]
  },
  {
   "cell_type": "code",
   "execution_count": 79,
   "metadata": {},
   "outputs": [
    {
     "name": "stdout",
     "output_type": "stream",
     "text": [
      "[[20.3943956  0.0113169 -0.0000467  0.0124865  0.       ]\n",
      " [ 0.0113169  1.3292665  0.0002716 -0.0539192 -0.       ]\n",
      " [-0.0000467  0.0002716  0.6804604  0.0000735  0.       ]\n",
      " [ 0.0124865 -0.0539192  0.0000735  0.5655055  0.       ]\n",
      " [ 0.        -0.         0.         0.         0.2414031]]\n"
     ]
    }
   ],
   "source": [
    "omega_OO = numpy.zeros((nocc,nocc))\n",
    "omega_OO = -numpy.einsum('mi,mj->ij', mo_occ, \n",
    "                                 numpy.einsum('zj,mz->mj', mo_occ,  \n",
    "                                              (numpy.einsum('zr,mr->mz', ovlp,\n",
    "                                                            numpy.einsum('rp,mp->mr',\n",
    "                                                                         tda_eig_vec_ao, \n",
    "                                                                         0.5*fock_RHS_all.alpha_to_numpy(1)\n",
    "                                                                        )\n",
    "                                                           )\n",
    "                                              )\n",
    "                                             )\n",
    "                        )\n",
    "omega_OO -= numpy.einsum('pi,pj->ij', mo_occ,\n",
    "                    numpy.einsum('tj,pt->pj', mo_occ, 0.5*fock_RHS_all.alpha_to_numpy(0)))\n",
    "omega_OO -= ( numpy.matmul(mo_occ.T, numpy.matmul(fock_lambda.alpha_to_numpy(0), mo_occ)) \n",
    "            + numpy.matmul(mo_occ.T, numpy.matmul(fock_lambda.alpha_to_numpy(0), mo_occ)).T \n",
    "            )\n",
    "\n",
    "#print(numpy.matmul(mo_occ.T, numpy.matmul(fock_lambda.alpha_to_numpy(0), mo_occ)))\n",
    "# print(\"MO occupied energies:\")\n",
    "#print(eocc)\n",
    "# print()\n",
    "#eov = -evir + eocc.reshape(-1, 1)\n",
    "#omega_OO-=eocc*0.5*vlx_dm_oo[i,:]\n",
    "for i in range(nocc):\n",
    "    omega_OO[i,:]-=eocc[i]*0.5*vlx_dm_oo[i,:]\n",
    "    omega_OO[i,i]-=eocc[i]\n",
    "print(omega_OO)"
   ]
  },
  {
   "cell_type": "code",
   "execution_count": null,
   "metadata": {},
   "outputs": [],
   "source": []
  }
 ],
 "metadata": {
  "kernelspec": {
   "display_name": "Python 3",
   "language": "python",
   "name": "python3"
  },
  "language_info": {
   "codemirror_mode": {
    "name": "ipython",
    "version": 3
   },
   "file_extension": ".py",
   "mimetype": "text/x-python",
   "name": "python",
   "nbconvert_exporter": "python",
   "pygments_lexer": "ipython3",
   "version": "3.6.9"
  }
 },
 "nbformat": 4,
 "nbformat_minor": 4
}
