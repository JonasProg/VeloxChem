{
 "cells": [
  {
   "cell_type": "code",
   "execution_count": 1,
   "metadata": {},
   "outputs": [],
   "source": [
    "import pyscf\n",
    "from pyscf import grad #required for direct TDA call\n",
    "import numpy\n",
    "numpy.set_printoptions(precision=7, suppress=True)"
   ]
  },
  {
   "cell_type": "code",
   "execution_count": 2,
   "metadata": {},
   "outputs": [],
   "source": [
    "#pyscf molecule\n",
    "pyscf_mol = pyscf.gto.M(\n",
    "atom='O 0 0 0;'\n",
    "     'H 0 0 1.795239827225189;'\n",
    "     'H 1.693194615993441 0 -0.599043184453037;',\n",
    "basis='sto-3g',\n",
    "unit='au'\n",
    ") "
   ]
  },
  {
   "cell_type": "code",
   "execution_count": 3,
   "metadata": {},
   "outputs": [
    {
     "name": "stdout",
     "output_type": "stream",
     "text": [
      "converged SCF energy = -74.9593192866306\n"
     ]
    },
    {
     "data": {
      "text/plain": [
       "-74.95931928663063"
      ]
     },
     "execution_count": 3,
     "metadata": {},
     "output_type": "execute_result"
    }
   ],
   "source": [
    "# PYSCF\n",
    "pyscf_drv = pyscf.scf.RHF(pyscf_mol)\n",
    "pyscf_drv.conv_tol = 1e-6\n",
    "pyscf_drv.kernel()"
   ]
  },
  {
   "cell_type": "code",
   "execution_count": 4,
   "metadata": {},
   "outputs": [
    {
     "name": "stdout",
     "output_type": "stream",
     "text": [
      "Excited State energies (eV)\n",
      "[13.1548063 15.6247102 16.3848932]\n",
      "\n",
      "** Singlet excitation energies and oscillator strengths **\n",
      "Excited State   1:     13.15481 eV     94.25 nm  f=0.0039\n",
      "Excited State   2:     15.62471 eV     79.35 nm  f=0.0000\n",
      "Excited State   3:     16.38489 eV     75.67 nm  f=0.0665\n"
     ]
    },
    {
     "data": {
      "text/plain": [
       "['Gradients',\n",
       " '__call__',\n",
       " '__class__',\n",
       " '__delattr__',\n",
       " '__dict__',\n",
       " '__dir__',\n",
       " '__doc__',\n",
       " '__eq__',\n",
       " '__format__',\n",
       " '__ge__',\n",
       " '__getattribute__',\n",
       " '__gt__',\n",
       " '__hash__',\n",
       " '__init__',\n",
       " '__init_subclass__',\n",
       " '__le__',\n",
       " '__lt__',\n",
       " '__module__',\n",
       " '__ne__',\n",
       " '__new__',\n",
       " '__reduce__',\n",
       " '__reduce_ex__',\n",
       " '__repr__',\n",
       " '__setattr__',\n",
       " '__sizeof__',\n",
       " '__str__',\n",
       " '__subclasshook__',\n",
       " '__weakref__',\n",
       " '_contract_multipole',\n",
       " '_keys',\n",
       " '_scf',\n",
       " 'analyze',\n",
       " 'apply',\n",
       " 'as_scanner',\n",
       " 'check_sanity',\n",
       " 'chkfile',\n",
       " 'conv_tol',\n",
       " 'converged',\n",
       " 'dump_flags',\n",
       " 'e',\n",
       " 'e_tot',\n",
       " 'gen_vind',\n",
       " 'get_ab',\n",
       " 'get_nto',\n",
       " 'get_precond',\n",
       " 'init_guess',\n",
       " 'kernel',\n",
       " 'level_shift',\n",
       " 'lindep',\n",
       " 'max_cycle',\n",
       " 'max_memory',\n",
       " 'max_space',\n",
       " 'mol',\n",
       " 'nroots',\n",
       " 'nstates',\n",
       " 'nuc_grad_method',\n",
       " 'oscillator_strength',\n",
       " 'post_kernel',\n",
       " 'pre_kernel',\n",
       " 'reset',\n",
       " 'run',\n",
       " 'set',\n",
       " 'singlet',\n",
       " 'stdout',\n",
       " 'transition_dipole',\n",
       " 'transition_magnetic_dipole',\n",
       " 'transition_magnetic_quadrupole',\n",
       " 'transition_octupole',\n",
       " 'transition_quadrupole',\n",
       " 'transition_velocity_dipole',\n",
       " 'transition_velocity_octupole',\n",
       " 'transition_velocity_quadrupole',\n",
       " 'verbose',\n",
       " 'view',\n",
       " 'wfnsym',\n",
       " 'xy']"
      ]
     },
     "execution_count": 4,
     "metadata": {},
     "output_type": "execute_result"
    }
   ],
   "source": [
    "pyscf_tda = pyscf_drv.TDA()\n",
    "eigenvals, eigenvects = pyscf_tda.kernel()\n",
    "pyscf_tda.analyze()\n",
    "dir(pyscf_tda)"
   ]
  },
  {
   "cell_type": "code",
   "execution_count": 5,
   "metadata": {},
   "outputs": [
    {
     "data": {
      "text/plain": [
       "array([0.4834302, 0.5741975, 0.6021337])"
      ]
     },
     "execution_count": 5,
     "metadata": {},
     "output_type": "execute_result"
    }
   ],
   "source": [
    "eigenvals"
   ]
  },
  {
   "cell_type": "code",
   "execution_count": 6,
   "metadata": {},
   "outputs": [
    {
     "name": "stdout",
     "output_type": "stream",
     "text": [
      "[[-0.        -0.       ]\n",
      " [ 0.         0.       ]\n",
      " [-0.        -0.       ]\n",
      " [-0.        -0.       ]\n",
      " [ 0.7071065  0.0006745]]\n"
     ]
    }
   ],
   "source": [
    "eigen_vect = eigenvects[0][0]\n",
    "print(eigen_vect)"
   ]
  },
  {
   "cell_type": "code",
   "execution_count": 7,
   "metadata": {},
   "outputs": [
    {
     "data": {
      "text/plain": [
       "[(array([[-0.       , -0.       ],\n",
       "         [ 0.       ,  0.       ],\n",
       "         [-0.       , -0.       ],\n",
       "         [-0.       , -0.       ],\n",
       "         [ 0.7071065,  0.0006745]]),\n",
       "  0),\n",
       " (array([[ 0.       ,  0.       ],\n",
       "         [-0.       ,  0.       ],\n",
       "         [ 0.       ,  0.       ],\n",
       "         [ 0.       ,  0.       ],\n",
       "         [ 0.0006745, -0.7071065]]),\n",
       "  0),\n",
       " (array([[ 0.0005829,  0.000001 ],\n",
       "         [-0.0422774,  0.000075 ],\n",
       "         [ 0.000752 ,  0.1412219],\n",
       "         [ 0.6915693,  0.0002368],\n",
       "         [ 0.       ,  0.       ]]),\n",
       "  0)]"
      ]
     },
     "execution_count": 7,
     "metadata": {},
     "output_type": "execute_result"
    }
   ],
   "source": [
    "eigenvects"
   ]
  },
  {
   "cell_type": "code",
   "execution_count": 8,
   "metadata": {},
   "outputs": [
    {
     "data": {
      "text/plain": [
       "0.7071067811865476"
      ]
     },
     "execution_count": 8,
     "metadata": {},
     "output_type": "execute_result"
    }
   ],
   "source": [
    "numpy.linalg.norm(eigen_vect)"
   ]
  },
  {
   "cell_type": "code",
   "execution_count": 9,
   "metadata": {},
   "outputs": [],
   "source": [
    "tda_gradient = pyscf_tda.Gradients()"
   ]
  },
  {
   "cell_type": "code",
   "execution_count": 10,
   "metadata": {},
   "outputs": [
    {
     "name": "stdout",
     "output_type": "stream",
     "text": [
      "\n",
      "PYSCF Z1:\n",
      "(5, 2)\n",
      "[[ 0.0007725 -0.000002 ]\n",
      " [ 0.120848  -0.0000164]\n",
      " [-0.0010734 -0.3172186]\n",
      " [ 0.0731763  0.0005631]\n",
      " [-0.         0.       ]]\n",
      "\n",
      "PYSCF Z1, AO:\n",
      "(7, 7)\n",
      "[[ 0.0027181 -0.0084424 -0.0081517  0.        -0.0057091 -0.005263\n",
      "  -0.0053286]\n",
      " [-0.0182045  0.0565431  0.0545748 -0.         0.0382667  0.0352756\n",
      "   0.035661 ]\n",
      " [-0.0116846  0.0362463  0.0993144  0.        -0.0658382 -0.0588292\n",
      "   0.1046228]\n",
      " [-0.         0.         0.         0.        -0.        -0.\n",
      "   0.       ]\n",
      " [-0.0082737  0.0257629 -0.0660854 -0.         0.1452015  0.1312182\n",
      "  -0.0993503]\n",
      " [ 0.0161903 -0.0503534  0.0444007  0.        -0.1647231 -0.1491546\n",
      "   0.0864466]\n",
      " [ 0.0161682 -0.0501517 -0.1414464 -0.         0.0967593  0.086502\n",
      "  -0.1498838]]\n",
      "\n",
      "(7, 7)\n",
      "[[ 0.3281563  0.0667625  0.0013945 -0.         0.0009855  0.0148685\n",
      "   0.0148529]\n",
      " [ 0.0667625  0.1316714 -0.0270638 -0.        -0.018991   0.0471336\n",
      "   0.0470236]\n",
      " [ 0.0013945 -0.0270638  0.1059069 -0.         0.0368502 -0.0036022\n",
      "   0.0193441]\n",
      " [-0.        -0.        -0.         0.1609593  0.        -0.\n",
      "  -0.       ]\n",
      " [ 0.0009855 -0.018991   0.0368502  0.         0.0802558  0.0219146\n",
      "  -0.0106234]\n",
      " [ 0.0148685  0.0471336 -0.0036022 -0.         0.0219146  0.0604234\n",
      "   0.0097449]\n",
      " [ 0.0148529  0.0470236  0.0193441 -0.        -0.0106234  0.0097449\n",
      "   0.0602679]]\n",
      "\n",
      "\n",
      "\n",
      "--------- TDA gradients for state 1 ----------\n",
      "         x                y                z\n",
      "0 O     0.2519584401     0.0000000000     0.1764390247\n",
      "1 H     0.0438383082    -0.0000000000    -0.3275706505\n",
      "2 H    -0.2957967483    -0.0000000000     0.1511316258\n",
      "----------------------------------------------\n"
     ]
    },
    {
     "data": {
      "text/plain": [
       "array([[ 0.2519584,  0.       ,  0.176439 ],\n",
       "       [ 0.0438383, -0.       , -0.3275707],\n",
       "       [-0.2957967, -0.       ,  0.1511316]])"
      ]
     },
     "execution_count": 10,
     "metadata": {},
     "output_type": "execute_result"
    }
   ],
   "source": [
    "tda_gradient.kernel(eigenvects[0])\n",
    "#dir(tda_gradient.view)"
   ]
  },
  {
   "cell_type": "code",
   "execution_count": null,
   "metadata": {},
   "outputs": [],
   "source": []
  }
 ],
 "metadata": {
  "kernelspec": {
   "display_name": "Python 3",
   "language": "python",
   "name": "python3"
  },
  "language_info": {
   "codemirror_mode": {
    "name": "ipython",
    "version": 3
   },
   "file_extension": ".py",
   "mimetype": "text/x-python",
   "name": "python",
   "nbconvert_exporter": "python",
   "pygments_lexer": "ipython3",
   "version": "3.6.9"
  }
 },
 "nbformat": 4,
 "nbformat_minor": 4
}
