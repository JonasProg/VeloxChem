{
 "cells": [
  {
   "cell_type": "code",
   "execution_count": 1,
   "metadata": {},
   "outputs": [],
   "source": [
    "import pyscf\n",
    "from pyscf import grad #required for direct TDA call\n",
    "import numpy\n",
    "#numpy.set_printoptions(precision=10, suppress=True)"
   ]
  },
  {
   "cell_type": "code",
   "execution_count": 2,
   "metadata": {},
   "outputs": [],
   "source": [
    "#pyscf molecule\n",
    "pyscf_mol = pyscf.gto.M(\n",
    "atom='O 0 0 0;'\n",
    "     'H 0 0 1.795239827225189;'\n",
    "     'H 1.693194615993441 0 -0.599043184453037;',\n",
    "basis='sto-3g',\n",
    "unit='au'\n",
    ") "
   ]
  },
  {
   "cell_type": "code",
   "execution_count": 3,
   "metadata": {},
   "outputs": [
    {
     "name": "stdout",
     "output_type": "stream",
     "text": [
      "converged SCF energy = -74.9593192866306\n"
     ]
    },
    {
     "data": {
      "text/plain": [
       "-74.95931928663065"
      ]
     },
     "execution_count": 3,
     "metadata": {},
     "output_type": "execute_result"
    }
   ],
   "source": [
    "# PYSCF\n",
    "pyscf_drv = pyscf.scf.RHF(pyscf_mol)\n",
    "pyscf_drv.conv_tol = 1e-6\n",
    "pyscf_drv.kernel()"
   ]
  },
  {
   "cell_type": "code",
   "execution_count": 4,
   "metadata": {},
   "outputs": [
    {
     "name": "stdout",
     "output_type": "stream",
     "text": [
      "Excited State energies (eV)\n",
      "[13.15480634 15.62471018 16.38489321]\n"
     ]
    }
   ],
   "source": [
    "pyscf_tda = pyscf_drv.TDA()\n",
    "eigenvals, eigenvects = pyscf_tda.kernel()"
   ]
  },
  {
   "cell_type": "code",
   "execution_count": 5,
   "metadata": {},
   "outputs": [
    {
     "data": {
      "text/plain": [
       "array([0.48343022, 0.57419751, 0.60213372])"
      ]
     },
     "execution_count": 5,
     "metadata": {},
     "output_type": "execute_result"
    }
   ],
   "source": [
    "eigenvals"
   ]
  },
  {
   "cell_type": "code",
   "execution_count": 6,
   "metadata": {},
   "outputs": [
    {
     "name": "stdout",
     "output_type": "stream",
     "text": [
      "[[ 2.46743645e-19 -3.93861621e-19]\n",
      " [-2.72521562e-17  1.28501399e-17]\n",
      " [-3.45395780e-16  4.23728753e-17]\n",
      " [-3.88613216e-16  4.26866865e-17]\n",
      " [ 7.07106459e-01  6.74518283e-04]]\n"
     ]
    }
   ],
   "source": [
    "eigen_vect = eigenvects[0][0]\n",
    "print(eigen_vect)"
   ]
  },
  {
   "cell_type": "code",
   "execution_count": 7,
   "metadata": {},
   "outputs": [
    {
     "data": {
      "text/plain": [
       "[(array([[ 2.46743645e-19, -3.93861621e-19],\n",
       "         [-2.72521562e-17,  1.28501399e-17],\n",
       "         [-3.45395780e-16,  4.23728753e-17],\n",
       "         [-3.88613216e-16,  4.26866865e-17],\n",
       "         [ 7.07106459e-01,  6.74518283e-04]]),\n",
       "  0),\n",
       " (array([[-1.09673861e-17, -6.47996383e-19],\n",
       "         [ 7.83477388e-16, -1.41446253e-17],\n",
       "         [ 3.68073094e-17, -2.88943199e-15],\n",
       "         [-1.25607397e-14, -4.55953251e-16],\n",
       "         [-6.74518283e-04,  7.07106459e-01]]),\n",
       "  0),\n",
       " (array([[ 5.82919595e-04,  1.03920805e-06],\n",
       "         [-4.22773951e-02,  7.50442872e-05],\n",
       "         [ 7.51993122e-04,  1.41221898e-01],\n",
       "         [ 6.91569252e-01,  2.36827045e-04],\n",
       "         [ 3.58077868e-16,  1.31102720e-14]]),\n",
       "  0)]"
      ]
     },
     "execution_count": 7,
     "metadata": {},
     "output_type": "execute_result"
    }
   ],
   "source": [
    "eigenvects"
   ]
  },
  {
   "cell_type": "code",
   "execution_count": 8,
   "metadata": {},
   "outputs": [
    {
     "data": {
      "text/plain": [
       "0.7071067811865476"
      ]
     },
     "execution_count": 8,
     "metadata": {},
     "output_type": "execute_result"
    }
   ],
   "source": [
    "numpy.linalg.norm(eigen_vect)"
   ]
  },
  {
   "cell_type": "code",
   "execution_count": 9,
   "metadata": {},
   "outputs": [
    {
     "data": {
      "text/plain": [
       "0.500005001"
      ]
     },
     "execution_count": 9,
     "metadata": {},
     "output_type": "execute_result"
    }
   ],
   "source": [
    "0.70711**2+0.00067**2"
   ]
  },
  {
   "cell_type": "code",
   "execution_count": null,
   "metadata": {},
   "outputs": [],
   "source": []
  }
 ],
 "metadata": {
  "kernelspec": {
   "display_name": "Python 3",
   "language": "python",
   "name": "python3"
  },
  "language_info": {
   "codemirror_mode": {
    "name": "ipython",
    "version": 3
   },
   "file_extension": ".py",
   "mimetype": "text/x-python",
   "name": "python",
   "nbconvert_exporter": "python",
   "pygments_lexer": "ipython3",
   "version": "3.6.9"
  }
 },
 "nbformat": 4,
 "nbformat_minor": 4
}
