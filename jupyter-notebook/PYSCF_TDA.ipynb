{
 "cells": [
  {
   "cell_type": "code",
   "execution_count": 9,
   "metadata": {},
   "outputs": [],
   "source": [
    "import pyscf\n",
    "from pyscf import grad #required for direct TDA call\n",
    "import numpy\n",
    "numpy.set_printoptions(precision=7, suppress=True)"
   ]
  },
  {
   "cell_type": "code",
   "execution_count": 10,
   "metadata": {},
   "outputs": [],
   "source": [
    "#pyscf molecule\n",
    "pyscf_mol = pyscf.gto.M(\n",
    "atom='O 0 0 0;'\n",
    "     'H 0 0 1.795239827225189;'\n",
    "     'H 1.693194615993441 0 -0.599043184453037;',\n",
    "basis='sto-3g',\n",
    "unit='au'\n",
    ") "
   ]
  },
  {
   "cell_type": "code",
   "execution_count": 11,
   "metadata": {},
   "outputs": [
    {
     "name": "stdout",
     "output_type": "stream",
     "text": [
      "converged SCF energy = -74.9593192866306\n"
     ]
    },
    {
     "data": {
      "text/plain": [
       "-74.95931928663063"
      ]
     },
     "execution_count": 11,
     "metadata": {},
     "output_type": "execute_result"
    }
   ],
   "source": [
    "# PYSCF\n",
    "pyscf_drv = pyscf.scf.RHF(pyscf_mol)\n",
    "pyscf_drv.conv_tol = 1e-6\n",
    "pyscf_drv.kernel()"
   ]
  },
  {
   "cell_type": "code",
   "execution_count": 12,
   "metadata": {},
   "outputs": [
    {
     "name": "stdout",
     "output_type": "stream",
     "text": [
      "Excited State energies (eV)\n",
      "[13.1548063 15.6247102 16.3848932]\n"
     ]
    }
   ],
   "source": [
    "pyscf_tda = pyscf_drv.TDA()\n",
    "eigenvals, eigenvects = pyscf_tda.kernel()"
   ]
  },
  {
   "cell_type": "code",
   "execution_count": 13,
   "metadata": {},
   "outputs": [
    {
     "data": {
      "text/plain": [
       "array([0.4834302, 0.5741975, 0.6021337])"
      ]
     },
     "execution_count": 13,
     "metadata": {},
     "output_type": "execute_result"
    }
   ],
   "source": [
    "eigenvals"
   ]
  },
  {
   "cell_type": "code",
   "execution_count": 14,
   "metadata": {},
   "outputs": [
    {
     "name": "stdout",
     "output_type": "stream",
     "text": [
      "[[-0.         0.       ]\n",
      " [ 0.        -0.       ]\n",
      " [ 0.        -0.       ]\n",
      " [ 0.        -0.       ]\n",
      " [ 0.7071065  0.0006745]]\n"
     ]
    }
   ],
   "source": [
    "eigen_vect = eigenvects[0][0]\n",
    "print(eigen_vect)"
   ]
  },
  {
   "cell_type": "code",
   "execution_count": 15,
   "metadata": {},
   "outputs": [
    {
     "data": {
      "text/plain": [
       "[(array([[-0.       ,  0.       ],\n",
       "         [ 0.       , -0.       ],\n",
       "         [ 0.       , -0.       ],\n",
       "         [ 0.       , -0.       ],\n",
       "         [ 0.7071065,  0.0006745]]),\n",
       "  0),\n",
       " (array([[-0.       , -0.       ],\n",
       "         [ 0.       , -0.       ],\n",
       "         [ 0.       , -0.       ],\n",
       "         [-0.       , -0.       ],\n",
       "         [ 0.0006745, -0.7071065]]),\n",
       "  0),\n",
       " (array([[-0.0005829, -0.000001 ],\n",
       "         [ 0.0422774, -0.000075 ],\n",
       "         [-0.000752 , -0.1412219],\n",
       "         [-0.6915693, -0.0002368],\n",
       "         [ 0.       ,  0.       ]]),\n",
       "  0)]"
      ]
     },
     "execution_count": 15,
     "metadata": {},
     "output_type": "execute_result"
    }
   ],
   "source": [
    "eigenvects"
   ]
  },
  {
   "cell_type": "code",
   "execution_count": 16,
   "metadata": {},
   "outputs": [
    {
     "data": {
      "text/plain": [
       "0.7071067811865476"
      ]
     },
     "execution_count": 16,
     "metadata": {},
     "output_type": "execute_result"
    }
   ],
   "source": [
    "numpy.linalg.norm(eigen_vect)"
   ]
  },
  {
   "cell_type": "code",
   "execution_count": 17,
   "metadata": {},
   "outputs": [
    {
     "data": {
      "text/plain": [
       "0.500005001"
      ]
     },
     "execution_count": 17,
     "metadata": {},
     "output_type": "execute_result"
    }
   ],
   "source": []
  },
  {
   "cell_type": "code",
   "execution_count": null,
   "metadata": {},
   "outputs": [],
   "source": []
  }
 ],
 "metadata": {
  "kernelspec": {
   "display_name": "Python 3",
   "language": "python",
   "name": "python3"
  },
  "language_info": {
   "codemirror_mode": {
    "name": "ipython",
    "version": 3
   },
   "file_extension": ".py",
   "mimetype": "text/x-python",
   "name": "python",
   "nbconvert_exporter": "python",
   "pygments_lexer": "ipython3",
   "version": "3.6.9"
  }
 },
 "nbformat": 4,
 "nbformat_minor": 4
}
