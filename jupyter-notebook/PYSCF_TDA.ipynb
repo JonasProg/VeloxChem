{
 "cells": [
  {
   "cell_type": "code",
   "execution_count": 1,
   "metadata": {},
   "outputs": [],
   "source": [
    "import pyscf\n",
    "from pyscf import grad #required for direct TDA call\n",
    "import numpy\n",
    "numpy.set_printoptions(precision=7, suppress=True)"
   ]
  },
  {
   "cell_type": "code",
   "execution_count": 7,
   "metadata": {},
   "outputs": [],
   "source": [
    "#pyscf molecule\n",
    "pyscf_mol = pyscf.gto.M(\n",
    "atom='O 0 0 0;'\n",
    "     'H 0 0 1.795239827225189;'\n",
    "     'H 1.693194615993441 0 -0.599043184453037;',\n",
    "basis='sto-3g',\n",
    "unit='au'\n",
    ") "
   ]
  },
  {
   "cell_type": "code",
   "execution_count": 8,
   "metadata": {},
   "outputs": [
    {
     "name": "stdout",
     "output_type": "stream",
     "text": [
      "converged SCF energy = -75.2718075857227\n"
     ]
    },
    {
     "data": {
      "text/plain": [
       "-75.27180758572268"
      ]
     },
     "execution_count": 8,
     "metadata": {},
     "output_type": "execute_result"
    }
   ],
   "source": [
    "# PYSCF\n",
    "pyscf_drv = pyscf.scf.RKS(pyscf_mol) #use scf.RHF for HF reference state\n",
    "pyscf_drv.xc = \"b88,lyp\"\n",
    "pyscf_drv.conv_tol = 1e-6\n",
    "pyscf_drv.kernel()"
   ]
  },
  {
   "cell_type": "code",
   "execution_count": 9,
   "metadata": {},
   "outputs": [
    {
     "name": "stdout",
     "output_type": "stream",
     "text": [
      "Excited State energies (eV)\n",
      "[11.2454306 13.5624295 14.0921608]\n",
      "\n",
      "** Singlet excitation energies and oscillator strengths **\n",
      "Excited State   1:     11.24543 eV    110.25 nm  f=0.0027\n",
      "Excited State   2:     13.56243 eV     91.42 nm  f=0.0632\n",
      "Excited State   3:     14.09216 eV     87.98 nm  f=0.0000\n"
     ]
    },
    {
     "data": {
      "text/plain": [
       "['Gradients',\n",
       " '__call__',\n",
       " '__class__',\n",
       " '__delattr__',\n",
       " '__dict__',\n",
       " '__dir__',\n",
       " '__doc__',\n",
       " '__eq__',\n",
       " '__format__',\n",
       " '__ge__',\n",
       " '__getattribute__',\n",
       " '__gt__',\n",
       " '__hash__',\n",
       " '__init__',\n",
       " '__init_subclass__',\n",
       " '__le__',\n",
       " '__lt__',\n",
       " '__module__',\n",
       " '__ne__',\n",
       " '__new__',\n",
       " '__reduce__',\n",
       " '__reduce_ex__',\n",
       " '__repr__',\n",
       " '__setattr__',\n",
       " '__sizeof__',\n",
       " '__str__',\n",
       " '__subclasshook__',\n",
       " '__weakref__',\n",
       " '_contract_multipole',\n",
       " '_keys',\n",
       " '_scf',\n",
       " 'analyze',\n",
       " 'apply',\n",
       " 'as_scanner',\n",
       " 'check_sanity',\n",
       " 'chkfile',\n",
       " 'conv_tol',\n",
       " 'converged',\n",
       " 'dump_flags',\n",
       " 'e',\n",
       " 'e_tot',\n",
       " 'gen_vind',\n",
       " 'get_ab',\n",
       " 'get_nto',\n",
       " 'get_precond',\n",
       " 'init_guess',\n",
       " 'kernel',\n",
       " 'level_shift',\n",
       " 'lindep',\n",
       " 'max_cycle',\n",
       " 'max_memory',\n",
       " 'max_space',\n",
       " 'mol',\n",
       " 'nroots',\n",
       " 'nstates',\n",
       " 'nuc_grad_method',\n",
       " 'oscillator_strength',\n",
       " 'post_kernel',\n",
       " 'pre_kernel',\n",
       " 'reset',\n",
       " 'run',\n",
       " 'set',\n",
       " 'singlet',\n",
       " 'stdout',\n",
       " 'transition_dipole',\n",
       " 'transition_magnetic_dipole',\n",
       " 'transition_magnetic_quadrupole',\n",
       " 'transition_octupole',\n",
       " 'transition_quadrupole',\n",
       " 'transition_velocity_dipole',\n",
       " 'transition_velocity_octupole',\n",
       " 'transition_velocity_quadrupole',\n",
       " 'verbose',\n",
       " 'view',\n",
       " 'wfnsym',\n",
       " 'xy']"
      ]
     },
     "execution_count": 9,
     "metadata": {},
     "output_type": "execute_result"
    }
   ],
   "source": [
    "pyscf_tda = pyscf_drv.TDA()\n",
    "eigenvals, eigenvects = pyscf_tda.kernel()\n",
    "pyscf_tda.analyze()\n",
    "dir(pyscf_tda)"
   ]
  },
  {
   "cell_type": "code",
   "execution_count": 10,
   "metadata": {},
   "outputs": [
    {
     "data": {
      "text/plain": [
       "array([0.413262 , 0.4984101, 0.5178774])"
      ]
     },
     "execution_count": 10,
     "metadata": {},
     "output_type": "execute_result"
    }
   ],
   "source": [
    "eigenvals"
   ]
  },
  {
   "cell_type": "code",
   "execution_count": 11,
   "metadata": {},
   "outputs": [
    {
     "name": "stdout",
     "output_type": "stream",
     "text": [
      "[[ 0.         0.       ]\n",
      " [-0.         0.       ]\n",
      " [ 0.         0.       ]\n",
      " [ 0.        -0.       ]\n",
      " [ 0.7071067  0.0003108]]\n"
     ]
    }
   ],
   "source": [
    "eigen_vect = eigenvects[0][0]\n",
    "print(eigen_vect)"
   ]
  },
  {
   "cell_type": "code",
   "execution_count": 12,
   "metadata": {},
   "outputs": [
    {
     "data": {
      "text/plain": [
       "[(array([[ 0.       ,  0.       ],\n",
       "         [-0.       ,  0.       ],\n",
       "         [ 0.       ,  0.       ],\n",
       "         [ 0.       , -0.       ],\n",
       "         [ 0.7071067,  0.0003108]]),\n",
       "  0),\n",
       " (array([[-0.0000911, -0.0000011],\n",
       "         [ 0.0485056, -0.0001272],\n",
       "         [-0.0005305, -0.1310604],\n",
       "         [-0.6931594,  0.0002457],\n",
       "         [ 0.       , -0.       ]]),\n",
       "  0),\n",
       " (array([[-0.       , -0.       ],\n",
       "         [-0.       , -0.       ],\n",
       "         [-0.       ,  0.       ],\n",
       "         [ 0.       ,  0.       ],\n",
       "         [ 0.0003108, -0.7071067]]),\n",
       "  0)]"
      ]
     },
     "execution_count": 12,
     "metadata": {},
     "output_type": "execute_result"
    }
   ],
   "source": [
    "eigenvects"
   ]
  },
  {
   "cell_type": "code",
   "execution_count": 13,
   "metadata": {},
   "outputs": [
    {
     "data": {
      "text/plain": [
       "0.7071067811865476"
      ]
     },
     "execution_count": 13,
     "metadata": {},
     "output_type": "execute_result"
    }
   ],
   "source": [
    "numpy.linalg.norm(eigen_vect)"
   ]
  },
  {
   "cell_type": "code",
   "execution_count": 14,
   "metadata": {},
   "outputs": [],
   "source": [
    "tda_gradient = pyscf_tda.Gradients()"
   ]
  },
  {
   "cell_type": "code",
   "execution_count": 15,
   "metadata": {},
   "outputs": [
    {
     "name": "stdout",
     "output_type": "stream",
     "text": [
      "PYSCF Z1, TDDFT\n",
      "[[ 0.0003748  0.2008367 -0.0015344  0.1458698 -0.       ]\n",
      " [-0.0000033 -0.0000709 -0.3174125  0.0005858  0.       ]]\n",
      "\n",
      " div. by 4\n",
      "[[ 0.0000937  0.0502092 -0.0003836  0.0364675 -0.       ]\n",
      " [-0.0000008 -0.0000177 -0.0793531  0.0001465  0.       ]]\n",
      "--------- TDA gradients for state 1 ----------\n",
      "         x                y                z\n",
      "0 O     0.2866133450     0.0000000000     0.2013864924\n",
      "1 H     0.0418173342     0.0000000000    -0.3625578919\n",
      "2 H    -0.3290345187     0.0000000000     0.1607471336\n",
      "----------------------------------------------\n"
     ]
    },
    {
     "data": {
      "text/plain": [
       "array([[ 0.2866133,  0.       ,  0.2013865],\n",
       "       [ 0.0418173,  0.       , -0.3625579],\n",
       "       [-0.3290345,  0.       ,  0.1607471]])"
      ]
     },
     "execution_count": 15,
     "metadata": {},
     "output_type": "execute_result"
    }
   ],
   "source": [
    "tda_gradient.kernel(eigenvects[0])\n",
    "#dir(tda_gradient.view)"
   ]
  },
  {
   "cell_type": "code",
   "execution_count": null,
   "metadata": {},
   "outputs": [],
   "source": []
  }
 ],
 "metadata": {
  "kernelspec": {
   "display_name": "Python 3",
   "language": "python",
   "name": "python3"
  },
  "language_info": {
   "codemirror_mode": {
    "name": "ipython",
    "version": 3
   },
   "file_extension": ".py",
   "mimetype": "text/x-python",
   "name": "python",
   "nbconvert_exporter": "python",
   "pygments_lexer": "ipython3",
   "version": "3.6.9"
  }
 },
 "nbformat": 4,
 "nbformat_minor": 4
}
