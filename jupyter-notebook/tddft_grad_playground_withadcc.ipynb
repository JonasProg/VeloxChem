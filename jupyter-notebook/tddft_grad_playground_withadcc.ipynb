{
 "cells": [
  {
   "cell_type": "code",
   "execution_count": 2,
   "metadata": {},
   "outputs": [
    {
     "name": "stdout",
     "output_type": "stream",
     "text": [
      "* Warning * Environment variable OMP_NUM_THREADS not set.\n",
      "* Warning * Setting OMP_NUM_THREADS to 8.\n"
     ]
    }
   ],
   "source": [
    "import veloxchem as vlx"
   ]
  },
  {
   "cell_type": "code",
   "execution_count": 3,
   "metadata": {},
   "outputs": [],
   "source": [
    "class MockTask:\n",
    "    def __init__(self, mol, basis, comm, ostream):\n",
    "\n",
    "        self.molecule = mol\n",
    "        self.ao_basis = basis\n",
    "        self.mpi_comm = comm\n",
    "        self.ostream = ostream"
   ]
  },
  {
   "cell_type": "code",
   "execution_count": 4,
   "metadata": {},
   "outputs": [],
   "source": [
    "import adcc\n",
    "from mpi4py import MPI\n",
    "import sys\n",
    "import numpy\n",
    "numpy.set_printoptions(precision=7, suppress=True)"
   ]
  },
  {
   "cell_type": "code",
   "execution_count": 5,
   "metadata": {},
   "outputs": [],
   "source": [
    "# Input settings\n",
    "#molecule_string = \"\"\"\n",
    "#    O 0 0 0\n",
    "#    H 0 0 1.795239827225189\n",
    "#    H 1.693194615993441 0 -0.599043184453037\"\"\"\n",
    "\n",
    "molecule_string = \"\"\"\n",
    "    H 0 0 0\n",
    "    H 0 0 1.795239827225189\n",
    "    \"\"\"\n",
    "\n",
    "basis_set_label = '6-31G'\n",
    "scf_settings = {'conv_thresh': 1.0e-6}\n",
    "method_settings = {} #{'xcfun': 'b3lyp', 'grid_level': 4}\n",
    "rsp_settings = {'conv_thresh': 1.0e-4, 'nstates': 1}"
   ]
  },
  {
   "cell_type": "code",
   "execution_count": 6,
   "metadata": {},
   "outputs": [],
   "source": [
    "# Communicator and output stream\n",
    "comm = MPI.COMM_WORLD\n",
    "ostream = vlx.OutputStream(sys.stdout)"
   ]
  },
  {
   "cell_type": "code",
   "execution_count": 7,
   "metadata": {},
   "outputs": [
    {
     "name": "stdout",
     "output_type": "stream",
     "text": [
      "                                              Molecular Geometry (Angstroms)                                              \n",
      "                                             ================================                                             \n",
      "                                                                                                                          \n",
      "                          Atom         Coordinate X          Coordinate Y          Coordinate Z                           \n",
      "                                                                                                                          \n",
      "                           H           0.000000000000        0.000000000000        0.000000000000                         \n",
      "                           H           0.000000000000        0.000000000000        0.950000004704                         \n",
      "                                                                                                                          \n",
      "                                              Molecular Basis (Atomic Basis)                                              \n",
      "                                             ================================                                             \n",
      "                                                                                                                          \n",
      "                                  Basis: 6-31G                                                                            \n",
      "                                                                                                                          \n",
      "                                  Atom Contracted GTOs          Primitive GTOs                                            \n",
      "                                                                                                                          \n",
      "                                   H   (2S)                     (4S)                                                      \n",
      "                                                                                                                          \n",
      "                                  Contracted Basis Functions : 4                                                          \n",
      "                                  Primitive Basis Functions  : 8                                                          \n",
      "                                                                                                                          \n"
     ]
    }
   ],
   "source": [
    "# Molecule and basis set\n",
    "molecule = vlx.Molecule.read_str(molecule_string, units='au')\n",
    "basis = vlx.MolecularBasis.read(molecule, basis_set_label)\n",
    "\n",
    "ostream.print_block(molecule.get_string())\n",
    "ostream.print_block(basis.get_string('Atomic Basis', molecule))\n",
    "ostream.flush()"
   ]
  },
  {
   "cell_type": "code",
   "execution_count": 8,
   "metadata": {},
   "outputs": [
    {
     "name": "stdout",
     "output_type": "stream",
     "text": [
      "                                                                                                                          \n",
      "                                            Self Consistent Field Driver Setup                                            \n",
      "                                           ====================================                                           \n",
      "                                                                                                                          \n",
      "                   Wave Function Model             : Spin-Restricted Hartree-Fock                                         \n",
      "                   Initial Guess Model             : Superposition of Atomic Densities                                    \n",
      "                   Convergence Accelerator         : Two Level Direct Inversion of Iterative Subspace                     \n",
      "                   Max. Number of Iterations       : 50                                                                   \n",
      "                   Max. Number of Error Vectors    : 10                                                                   \n",
      "                   Convergence Threshold           : 1.0e-06                                                              \n",
      "                   ERI Screening Scheme            : Cauchy Schwarz + Density                                             \n",
      "                   ERI Screening Mode              : Dynamic                                                              \n",
      "                   ERI Screening Threshold         : 1.0e-12                                                              \n",
      "                   Linear Dependence Threshold     : 1.0e-06                                                              \n",
      "                                                                                                                          \n",
      "* Info * Nuclear repulsion energy: 0.5570286403 au                                                                        \n",
      "                                                                                                                          \n",
      "* Info * Overlap matrix computed in 0.02 sec.                                                                             \n",
      "                                                                                                                          \n",
      "* Info * Kinetic energy matrix computed in 0.00 sec.                                                                      \n",
      "                                                                                                                          \n",
      "* Info * Nuclear potential matrix computed in 0.00 sec.                                                                   \n",
      "                                                                                                                          \n",
      "* Info * Orthogonalization matrix computed in 0.03 sec.                                                                   \n",
      "                                                                                                                          \n",
      "* Info * SAD initial guess computed in 0.00 sec.                                                                          \n",
      "                                                                                                                          \n",
      "* Info * Starting Reduced Basis SCF calculation...                                                                        \n",
      "* Info * ...done. SCF energy in reduced basis set: -1.103654705728 au. Time: 0.07 sec.                                    \n",
      "                                                                                                                          \n",
      "* Info * Overlap matrix computed in 0.00 sec.                                                                             \n",
      "                                                                                                                          \n",
      "* Info * Kinetic energy matrix computed in 0.00 sec.                                                                      \n",
      "                                                                                                                          \n",
      "* Info * Nuclear potential matrix computed in 0.00 sec.                                                                   \n",
      "                                                                                                                          \n",
      "* Info * Orthogonalization matrix computed in 0.00 sec.                                                                   \n",
      "                                                                                                                          \n",
      "                                                                                                                          \n",
      "               Iter. | Hartree-Fock Energy | Energy Change | Gradient Norm | Max. Gradient | Density Change               \n",
      "               --------------------------------------------------------------------------------------------               \n",
      "                  1        -1.103654705728    0.0000000000      0.00000006      0.00000002      0.00000000                \n",
      "                                                                                                                          \n",
      "               *** SCF converged in 1 iterations. Time: 0.01 sec.                                                         \n",
      "                                                                                                                          \n",
      "               Spin-Restricted Hartree-Fock:                                                                              \n",
      "               -----------------------------                                                                              \n",
      "               Total Energy                       :       -1.1036547057 au                                                \n",
      "               Electronic Energy                  :       -1.6606833460 au                                                \n",
      "               Nuclear Repulsion Energy           :        0.5570286403 au                                                \n",
      "               ------------------------------------                                                                       \n",
      "               Gradient Norm                      :        0.0000000638 au                                                \n",
      "                                                                                                                          \n",
      "               Ground State Information                                                                                   \n",
      "               ------------------------                                                                                   \n",
      "               Charge of Molecule            :  0.0                                                                       \n",
      "               Multiplicity (2S+1)           :  1.0                                                                       \n",
      "               Magnetic Quantum Number (S_z) :  0.0                                                                       \n",
      "                                                                                                                          \n",
      "                                                                                                                          \n",
      "                                                 Spin Restricted Orbitals                                                 \n",
      "                                                 ------------------------                                                 \n",
      "                                                                                                                          \n",
      "               Molecular Orbital No.   1:                                                                                 \n",
      "               --------------------------                                                                                 \n",
      "               Occupation: 2.0 Energy:   -0.53921 au                                                                      \n",
      "               (   1 H   1s  :    -0.29) (   1 H   2s  :    -0.32) (   2 H   1s  :    -0.29)                              \n",
      "               (   2 H   2s  :    -0.32)                                                                                  \n",
      "                                                                                                                          \n",
      "               Molecular Orbital No.   2:                                                                                 \n",
      "               --------------------------                                                                                 \n",
      "               Occupation: 0.0 Energy:    0.18120 au                                                                      \n",
      "               (   1 H   1s  :     0.16) (   1 H   2s  :     1.30) (   2 H   1s  :    -0.16)                              \n",
      "               (   2 H   2s  :    -1.30)                                                                                  \n",
      "                                                                                                                          \n",
      "               Molecular Orbital No.   3:                                                                                 \n",
      "               --------------------------                                                                                 \n",
      "               Occupation: 0.0 Energy:    0.87966 au                                                                      \n",
      "               (   1 H   1s  :    -0.85) (   1 H   2s  :     0.70) (   2 H   1s  :    -0.85)                              \n",
      "               (   2 H   2s  :     0.70)                                                                                  \n",
      "                                                                                                                          \n",
      "               Molecular Orbital No.   4:                                                                                 \n",
      "               --------------------------                                                                                 \n",
      "               Occupation: 0.0 Energy:    1.19579 au                                                                      \n",
      "               (   1 H   1s  :    -1.00) (   1 H   2s  :     1.23) (   2 H   1s  :     1.00)                              \n",
      "               (   2 H   2s  :    -1.23)                                                                                  \n",
      "                                                                                                                          \n"
     ]
    }
   ],
   "source": [
    "# SCF\n",
    "task = MockTask(molecule, basis, comm, ostream)\n",
    "scfdrv = vlx.ScfRestrictedDriver(comm, ostream)\n",
    "scfdrv.update_settings(scf_settings, method_settings)\n",
    "scfdrv.compute(molecule, basis)\n",
    "scfdrv.task = task"
   ]
  },
  {
   "cell_type": "code",
   "execution_count": 10,
   "metadata": {},
   "outputs": [],
   "source": [
    "# SCF first-order properties\n",
    "#scf_prop = vlx.ScfFirstOrderProperties(comm, ostream)\n",
    "#scf_prop.compute(molecule, basis, scfdrv.scf_tensors)\n",
    "#scf_prop.print_properties(molecule)"
   ]
  },
  {
   "cell_type": "code",
   "execution_count": 11,
   "metadata": {},
   "outputs": [],
   "source": [
    "# Linear Response\n",
    "#lr_eig_drv = vlx.LinearResponseEigenSolver(comm, ostream)\n",
    "#lr_eig_drv.update_settings(rsp_settings, method_settings)\n",
    "#lr_results = lr_eig_drv.compute(molecule, basis, scfdrv.scf_tensors)\n",
    "#lr_eig_drv.ostream.flush()"
   ]
  },
  {
   "cell_type": "code",
   "execution_count": 12,
   "metadata": {},
   "outputs": [
    {
     "name": "stdout",
     "output_type": "stream",
     "text": [
      "                                                                                                                          \n",
      "                                                     TDA Driver Setup                                                     \n",
      "                                                    ==================                                                    \n",
      "                                                                                                                          \n",
      "                               Number of States                : 1                                                        \n",
      "                               Max. Number of Iterations       : 150                                                      \n",
      "                               Convergence Threshold           : 1.0e-04                                                  \n",
      "                               ERI Screening Scheme            : Cauchy Schwarz + Density                                 \n",
      "                               ERI Screening Threshold         : 1.0e-15                                                  \n",
      "                                                                                                                          \n",
      "                   *** Iteration:   1 * Reduced Space:    1 * Residues (Max,Min): 2.28e-02 and 2.28e-02                   \n",
      "                                                                                                                          \n",
      "                   State  1: 0.48493223 au Residual Norm: 0.02284775                                                      \n",
      "                                                                                                                          \n",
      "                   *** Iteration:   2 * Reduced Space:    2 * Residues (Max,Min): 1.24e-17 and 1.24e-17                   \n",
      "                                                                                                                          \n",
      "                   State  1: 0.48434940 au Residual Norm: 0.00000000                                                      \n",
      "                                                                                                                          \n",
      "               *** 1 excited states converged in 2 iterations. Time: 0.02 sec                                             \n",
      "                                                                                                                          \n",
      "                                                                                                                          \n"
     ]
    }
   ],
   "source": [
    "# TDHF/TDA, i.e. CIS\n",
    "tda_drv = vlx.TDAExciDriver(comm, ostream)\n",
    "tda_drv.update_settings(rsp_settings, method_settings)\n",
    "tda_results = tda_drv.compute(molecule, basis, scfdrv.scf_tensors)\n",
    "tda_drv.ostream.flush()"
   ]
  },
  {
   "cell_type": "code",
   "execution_count": 13,
   "metadata": {},
   "outputs": [],
   "source": [
    "# Get eigenvalues and eigenvectors\n",
    "\n",
    "nocc = molecule.number_of_alpha_electrons()\n",
    "mo = scfdrv.scf_tensors['C'] # MO coefficients\n",
    "mo_occ = mo[:, :nocc]        # occupied\n",
    "mo_vir = mo[:, nocc:]        # virtual\n",
    "\n",
    "nocc = mo_occ.shape[1]\n",
    "nvir = mo_vir.shape[1]\n",
    "\n",
    "#eig_vals = lr_results[\"eigenvalues\"]\n",
    "#eig_vecs = lr_results[\"eigenvectors\"]\n",
    "\n",
    "#eig_vec = eig_vecs[:, 0].copy() # first eigenvector\n",
    "#print(eig_vec)"
   ]
  },
  {
   "cell_type": "code",
   "execution_count": 14,
   "metadata": {},
   "outputs": [],
   "source": [
    "# Convert the first eigenvector to matrix form\n",
    "#eig_vec_as_mat = vlx.LinearResponseEigenSolver.lrvec2mat(eig_vec, nocc, nocc + nvir)"
   ]
  },
  {
   "cell_type": "code",
   "execution_count": 15,
   "metadata": {},
   "outputs": [],
   "source": [
    "tda_eig_vals = tda_results[\"eigenvalues\"]\n",
    "tda_eig_vecs = tda_results[\"eigenvectors\"]\n",
    "tda_size = tda_eig_vecs[:,0].shape\n",
    "tda_eig_vec=tda_eig_vecs[:,0].copy()\n",
    "tda_eig_vec_as_mat = tda_eig_vec.reshape(nocc, nvir) #/ numpy.sqrt(2.0)"
   ]
  },
  {
   "cell_type": "code",
   "execution_count": 16,
   "metadata": {},
   "outputs": [
    {
     "name": "stdout",
     "output_type": "stream",
     "text": [
      "[-0.9996748  0.        -0.0255009]\n"
     ]
    }
   ],
   "source": [
    "print(tda_eig_vec)"
   ]
  },
  {
   "cell_type": "code",
   "execution_count": 17,
   "metadata": {},
   "outputs": [],
   "source": [
    "#tda_eig_vec_as_mat = vlx.LinearResponseEigenSolver.lrvec2mat(tda_eig_vec, nocc, nocc + nvir)"
   ]
  },
  {
   "cell_type": "code",
   "execution_count": 18,
   "metadata": {},
   "outputs": [
    {
     "name": "stdout",
     "output_type": "stream",
     "text": [
      "[[-0.9996748  0.        -0.0255009]]\n"
     ]
    }
   ],
   "source": [
    "print(tda_eig_vec_as_mat)"
   ]
  },
  {
   "cell_type": "code",
   "execution_count": 19,
   "metadata": {},
   "outputs": [
    {
     "name": "stdout",
     "output_type": "stream",
     "text": [
      "Starting adc1 singlet Jacobi-Davidson ...\n",
      "Niter n_ss  max_residual  time  Ritz values\n",
      "  1     3    1.3509e-32    5ms  [0.4843494]\n",
      "=== Converged ===\n",
      "    Number of matrix applies:    3\n",
      "    Total solver time:            6.419ms\n"
     ]
    }
   ],
   "source": [
    "adc1 = adcc.run_adc(scfdrv, method='adc1', n_singlets=1, conv_tol=1e-4)"
   ]
  },
  {
   "cell_type": "code",
   "execution_count": 22,
   "metadata": {},
   "outputs": [],
   "source": [
    "adc1_eig_vec = adc1.excitation_vector[0][\"ph\"].to_ndarray()\n",
    "adc1_eig_vals = adc1.excitation_energy"
   ]
  },
  {
   "cell_type": "code",
   "execution_count": 23,
   "metadata": {},
   "outputs": [
    {
     "name": "stdout",
     "output_type": "stream",
     "text": [
      "[[ 0.7068768 -0.         0.0180318  0.         0.         0.       ]\n",
      " [ 0.         0.         0.         0.7068768 -0.         0.0180318]]\n",
      "[0.4843494]\n",
      "+----------------------------------------------------+\n",
      "| adc1                          singlet ,  converged |\n",
      "+----------------------------------------------------+\n",
      "|  #        excitation energy     osc str    |v1|^2  |\n",
      "|          (au)           (eV)                       |\n",
      "|  0     0.4843494      13.17982   0.7768         1  |\n",
      "+----------------------------------------------------+\n",
      "\n"
     ]
    }
   ],
   "source": [
    "print(adc1_eig_vec)\n",
    "print(adc1_eig_vals)\n",
    "print(adc1.describe())"
   ]
  },
  {
   "cell_type": "code",
   "execution_count": 24,
   "metadata": {},
   "outputs": [
    {
     "name": "stdout",
     "output_type": "stream",
     "text": [
      "[-0.9996748  0.        -0.0255009]\n",
      "[0.4843494]\n"
     ]
    }
   ],
   "source": [
    "print(tda_eig_vecs[:,0])\n",
    "print(tda_eig_vals)"
   ]
  },
  {
   "cell_type": "code",
   "execution_count": 25,
   "metadata": {},
   "outputs": [
    {
     "data": {
      "text/plain": [
       "1.0"
      ]
     },
     "execution_count": 25,
     "metadata": {},
     "output_type": "execute_result"
    }
   ],
   "source": [
    "numpy.linalg.norm(adc1_eig_vec)"
   ]
  },
  {
   "cell_type": "code",
   "execution_count": 26,
   "metadata": {},
   "outputs": [
    {
     "data": {
      "text/plain": [
       "0.7071064276331569"
      ]
     },
     "execution_count": 26,
     "metadata": {},
     "output_type": "execute_result"
    }
   ],
   "source": [
    "0.9999995/numpy.sqrt(2.0)"
   ]
  },
  {
   "cell_type": "code",
   "execution_count": 27,
   "metadata": {},
   "outputs": [
    {
     "data": {
      "text/plain": [
       "0.0006745091585738476"
      ]
     },
     "execution_count": 27,
     "metadata": {},
     "output_type": "execute_result"
    }
   ],
   "source": [
    "0.0009539/numpy.sqrt(2.0)"
   ]
  },
  {
   "cell_type": "code",
   "execution_count": 28,
   "metadata": {},
   "outputs": [
    {
     "data": {
      "text/plain": [
       "array([[ 0.7068768, -0.       ,  0.0180318,  0.       ,  0.       ,\n",
       "         0.       ],\n",
       "       [ 0.       ,  0.       ,  0.       ,  0.7068768, -0.       ,\n",
       "         0.0180318]])"
      ]
     },
     "execution_count": 28,
     "metadata": {},
     "output_type": "execute_result"
    }
   ],
   "source": [
    "adc1_eig_vec"
   ]
  },
  {
   "cell_type": "code",
   "execution_count": 29,
   "metadata": {},
   "outputs": [],
   "source": [
    "vlx_dm_oo = -numpy.einsum('ia,ja->ij', tda_eig_vec_as_mat, tda_eig_vec_as_mat)\n",
    "vlx_dm_vv = numpy.einsum('ia,ib->ab', tda_eig_vec_as_mat, tda_eig_vec_as_mat)\n",
    "vlx_DM_ovov = -numpy.einsum('ib,ja->iajb', tda_eig_vec_as_mat, tda_eig_vec_as_mat)"
   ]
  },
  {
   "cell_type": "code",
   "execution_count": 30,
   "metadata": {},
   "outputs": [],
   "source": [
    "adcc_dm_oo = -numpy.einsum('ia,ja->ij', adc1_eig_vec, adc1_eig_vec)\n",
    "adcc_dm_vv = numpy.einsum('ia,ib->ab', adc1_eig_vec, adc1_eig_vec)\n",
    "adcc_DM_ovov = -numpy.einsum('ib,ja->iajb', adc1_eig_vec, adc1_eig_vec)\n",
    "\n",
    "foo = adc1.reference_state.fock(\"o1o1\").to_ndarray()\n",
    "fvv = adc1.reference_state.fock(\"v1v1\").to_ndarray()\n",
    "ovov = adc1.reference_state.eri(\"o1v1o1v1\").to_ndarray()\n",
    "\n",
    "excitation_energy = (numpy.einsum('ij,ij->',adcc_dm_oo,foo)\n",
    "                     + numpy.einsum('ab,ab->', adcc_dm_vv, fvv)\n",
    "                     + numpy.einsum('iajb,iajb->', adcc_DM_ovov, ovov)\n",
    "                    )"
   ]
  },
  {
   "cell_type": "code",
   "execution_count": 31,
   "metadata": {},
   "outputs": [
    {
     "name": "stdout",
     "output_type": "stream",
     "text": [
      "0.48434940135740473\n"
     ]
    }
   ],
   "source": [
    "print(excitation_energy)"
   ]
  },
  {
   "cell_type": "code",
   "execution_count": 115,
   "metadata": {},
   "outputs": [],
   "source": [
    "vlx_excitation_energy = (2.0*numpy.einsum('ij,ij->', vlx_dm_oo,foo[:nocc,:nocc])\n",
    "                        +2.0*numpy.einsum('ab,ab->', vlx_dm_vv, fvv[:nvir,:nvir])\n",
    "                        +1.0*(\n",
    "                        +1.0*numpy.einsum('iajb,iajb->', vlx_DM_ovov, ovov[:nocc, :nvir, :nocc, :nvir])\n",
    "                        +0.0*numpy.einsum('iajb,iajb->', vlx_DM_ovov, ovov[:nocc, :nvir, :nocc, nvir:])# zero block\n",
    "                        +1.0*numpy.einsum('iajb,iajb->', vlx_DM_ovov, ovov[:nocc, :nvir, nocc:, :nvir])\n",
    "                        +1.0*numpy.einsum('iajb,iajb->', vlx_DM_ovov, ovov[:nocc, :nvir, nocc:, nvir:])\n",
    "                        +1.0*numpy.einsum('iajb,iajb->', vlx_DM_ovov, ovov[:nocc, nvir:, :nocc, :nvir])# zero block\n",
    "                        +1.0*numpy.einsum('iajb,iajb->', vlx_DM_ovov, ovov[:nocc, nvir:, :nocc, nvir:])\n",
    "                        +1.0*numpy.einsum('iajb,iajb->', vlx_DM_ovov, ovov[:nocc, nvir:, nocc:, :nvir])\n",
    "                        +1.0*numpy.einsum('iajb,iajb->', vlx_DM_ovov, ovov[:nocc, nvir:, nocc:, nvir:])\n",
    "                        +1.0*numpy.einsum('iajb,iajb->', vlx_DM_ovov, ovov[nocc:, :nvir, :nocc, :nvir])#zero block\n",
    "                        +1.0*numpy.einsum('iajb,iajb->', vlx_DM_ovov, ovov[nocc:, :nvir, :nocc, nvir:])\n",
    "                        +1.0*numpy.einsum('iajb,iajb->', vlx_DM_ovov, ovov[nocc:, :nvir, nocc:, :nvir])\n",
    "                        +1.0*numpy.einsum('iajb,iajb->', vlx_DM_ovov, ovov[nocc:, nvir:, :nocc, :nvir])# zero block\n",
    "                        +1.0*numpy.einsum('iajb,iajb->', vlx_DM_ovov, ovov[nocc:, nvir:, :nocc, nvir:])# zero block\n",
    "                        +1.0*numpy.einsum('iajb,iajb->', vlx_DM_ovov, ovov[nocc:, nvir:, nocc:, :nvir])# zero block\n",
    "                        +1.0*numpy.einsum('iajb,iajb->', vlx_DM_ovov, ovov[nocc:, nvir:, nocc:, nvir:])\n",
    "                        ))"
   ]
  },
  {
   "cell_type": "code",
   "execution_count": 116,
   "metadata": {},
   "outputs": [
    {
     "name": "stdout",
     "output_type": "stream",
     "text": [
      "0.10401652281676621\n"
     ]
    }
   ],
   "source": [
    "print(vlx_excitation_energy)"
   ]
  },
  {
   "cell_type": "code",
   "execution_count": 37,
   "metadata": {},
   "outputs": [
    {
     "name": "stdout",
     "output_type": "stream",
     "text": [
      "(2, 6, 2, 6)\n",
      "[[[[ 0.3374075 -0.        -0.0581306  0.         0.         0.       ]\n",
      "   [ 0.         0.         0.         0.         0.         0.       ]]\n",
      "\n",
      "  [[-0.         0.4120629 -0.         0.         0.         0.       ]\n",
      "   [ 0.         0.         0.         0.         0.         0.       ]]\n",
      "\n",
      "  [[-0.0581306 -0.         0.4708726  0.         0.         0.       ]\n",
      "   [ 0.         0.         0.         0.         0.         0.       ]]\n",
      "\n",
      "  [[ 0.         0.         0.         0.4393378 -0.        -0.139109 ]\n",
      "   [-0.1019303  0.         0.0809784  0.         0.         0.       ]]\n",
      "\n",
      "  [[ 0.         0.         0.        -0.         0.5094985  0.       ]\n",
      "   [ 0.        -0.0974356 -0.         0.         0.         0.       ]]\n",
      "\n",
      "  [[ 0.         0.         0.        -0.139109  -0.         0.586764 ]\n",
      "   [ 0.0809784 -0.        -0.1158914  0.         0.         0.       ]]]\n",
      "\n",
      "\n",
      " [[[ 0.         0.         0.        -0.1019303  0.         0.0809784]\n",
      "   [ 0.4393378 -0.        -0.139109   0.         0.         0.       ]]\n",
      "\n",
      "  [[ 0.         0.         0.         0.        -0.0974356 -0.       ]\n",
      "   [-0.         0.5094985  0.         0.         0.         0.       ]]\n",
      "\n",
      "  [[ 0.         0.         0.         0.0809784 -0.        -0.1158914]\n",
      "   [-0.139109  -0.         0.586764   0.         0.         0.       ]]\n",
      "\n",
      "  [[ 0.         0.         0.         0.         0.         0.       ]\n",
      "   [ 0.         0.         0.         0.3374075 -0.        -0.0581306]]\n",
      "\n",
      "  [[ 0.         0.         0.         0.         0.         0.       ]\n",
      "   [ 0.         0.         0.        -0.         0.4120629 -0.       ]]\n",
      "\n",
      "  [[ 0.         0.         0.         0.         0.         0.       ]\n",
      "   [ 0.         0.         0.        -0.0581306 -0.         0.4708726]]]]\n"
     ]
    }
   ],
   "source": [
    "print(ovov.shape)\n",
    "print(ovov)"
   ]
  },
  {
   "cell_type": "code",
   "execution_count": 105,
   "metadata": {},
   "outputs": [
    {
     "name": "stdout",
     "output_type": "stream",
     "text": [
      "[[[[-0.9993497  0.        -0.0254926]]\n",
      "\n",
      "  [[ 0.        -0.         0.       ]]\n",
      "\n",
      "  [[-0.0254926  0.        -0.0006503]]]]\n",
      "\n",
      "(1, 3, 1, 3)\n"
     ]
    }
   ],
   "source": [
    "print(vlx_DM_ovov)\n",
    "print()\n",
    "print(vlx_DM_ovov.shape)\n",
    "#print(adcc_DM_ovov)"
   ]
  },
  {
   "cell_type": "code",
   "execution_count": 150,
   "metadata": {},
   "outputs": [
    {
     "name": "stdout",
     "output_type": "stream",
     "text": [
      "2.6113194510212303e-08\n",
      "0.4952591093896861\n"
     ]
    }
   ],
   "source": [
    "# Making the Vlx 2PDM twice the size with the other spin blocks\n",
    "# and assign the corresponding values to it by comparing to the adcc matrix\n",
    "# afterwards divide by two to yield the same numbers\n",
    "vlx_DM_ovov_full = numpy.zeros((2*nocc, 2*nvir, 2*nocc, 2*nvir))\n",
    "#vlx_DM_ovov_full[:nocc, :nvir, :nocc, :nvir] = vlx_DM_ovov\n",
    "vlx_DM_ovov_full[0, 0, 0, 0] = vlx_DM_ovov_full[0, 3, 1, 0] = vlx_DM_ovov_full[1,0,0,3] = vlx_DM_ovov_full[1,3,1,3] = vlx_DM_ovov[0,0,0,0]\n",
    "vlx_DM_ovov_full[0, 0, 0, 2] = vlx_DM_ovov_full[0, 2, 0, 0] = vlx_DM_ovov_full[0,3,1,2] = vlx_DM_ovov_full[0,5,1,0] = vlx_DM_ovov[0,2,0,0]\n",
    "vlx_DM_ovov_full[1, 0, 0, 5] = vlx_DM_ovov_full[1, 2, 0, 3] = vlx_DM_ovov_full[1,3,1,5] = vlx_DM_ovov_full[1,5,1,3] = vlx_DM_ovov[0,2,0,0]\n",
    "vlx_DM_ovov_full[0, 2, 0, 2] = vlx_DM_ovov_full[0, 5, 1, 2] = vlx_DM_ovov_full[1,2,0,5] = vlx_DM_ovov_full[1,5,1,5] = vlx_DM_ovov[0,2,0,2]\n",
    "\n",
    "# matrix elements were twice as large\n",
    "vlx_DM_ovov_full *= 0.5\n",
    "# norm of the difference between the two density matrices does not seem to vanish entirely...\n",
    "print(numpy.linalg.norm(adcc_DM_ovov - vlx_DM_ovov_full))\n",
    "#print(vlx_DM_ovov_full)\n",
    "vlx_excitation_energy = (2.0*numpy.einsum('ij,ij->', vlx_dm_oo,foo[:nocc,:nocc])\n",
    "                        +2.0*numpy.einsum('ab,ab->', vlx_dm_vv, fvv[:nvir,:nvir])\n",
    "                        +4.0*numpy.einsum('iajb,iajb->', vlx_DM_ovov_full, ovov)\n",
    "                        )\n",
    "print(vlx_excitation_energy)"
   ]
  },
  {
   "cell_type": "code",
   "execution_count": 147,
   "metadata": {},
   "outputs": [
    {
     "name": "stdout",
     "output_type": "stream",
     "text": [
      "(2, 6, 2, 6)\n",
      "\n",
      "\n",
      "[[[[-0.  0.  0. -0. -0. -0.]\n",
      "   [-0. -0. -0. -0. -0. -0.]]\n",
      "\n",
      "  [[ 0. -0.  0. -0. -0. -0.]\n",
      "   [-0. -0. -0. -0. -0. -0.]]\n",
      "\n",
      "  [[ 0.  0.  0. -0. -0. -0.]\n",
      "   [-0. -0. -0. -0. -0. -0.]]\n",
      "\n",
      "  [[-0. -0. -0. -0. -0. -0.]\n",
      "   [-0.  0.  0. -0. -0. -0.]]\n",
      "\n",
      "  [[-0. -0. -0. -0. -0. -0.]\n",
      "   [ 0. -0.  0. -0. -0. -0.]]\n",
      "\n",
      "  [[-0. -0. -0. -0. -0. -0.]\n",
      "   [ 0.  0.  0. -0. -0. -0.]]]\n",
      "\n",
      "\n",
      " [[[-0. -0. -0. -0.  0.  0.]\n",
      "   [-0. -0. -0. -0. -0. -0.]]\n",
      "\n",
      "  [[-0. -0. -0.  0. -0.  0.]\n",
      "   [-0. -0. -0. -0. -0. -0.]]\n",
      "\n",
      "  [[-0. -0. -0.  0.  0.  0.]\n",
      "   [-0. -0. -0. -0. -0. -0.]]\n",
      "\n",
      "  [[-0. -0. -0. -0. -0. -0.]\n",
      "   [-0. -0. -0. -0.  0.  0.]]\n",
      "\n",
      "  [[-0. -0. -0. -0. -0. -0.]\n",
      "   [-0. -0. -0.  0. -0.  0.]]\n",
      "\n",
      "  [[-0. -0. -0. -0. -0. -0.]\n",
      "   [-0. -0. -0.  0.  0.  0.]]]]\n"
     ]
    }
   ],
   "source": [
    "print(adcc_DM_ovov.shape)\n",
    "print()\n",
    "#print(adcc_DM_ovov)\n",
    "print()\n",
    "print(adcc_DM_ovov - vlx_DM_ovov_full) # here everything appears to be zero"
   ]
  },
  {
   "cell_type": "code",
   "execution_count": null,
   "metadata": {},
   "outputs": [],
   "source": []
  }
 ],
 "metadata": {
  "kernelspec": {
   "display_name": "Python 3",
   "language": "python",
   "name": "python3"
  },
  "language_info": {
   "codemirror_mode": {
    "name": "ipython",
    "version": 3
   },
   "file_extension": ".py",
   "mimetype": "text/x-python",
   "name": "python",
   "nbconvert_exporter": "python",
   "pygments_lexer": "ipython3",
   "version": "3.8.5"
  }
 },
 "nbformat": 4,
 "nbformat_minor": 4
}
