{
 "cells": [
  {
   "cell_type": "code",
   "execution_count": 1,
   "metadata": {},
   "outputs": [
    {
     "name": "stdout",
     "output_type": "stream",
     "text": [
      "* Warning * Environment variable OMP_NUM_THREADS not set.\n",
      "* Warning * Setting OMP_NUM_THREADS to 8.\n"
     ]
    }
   ],
   "source": [
    "import veloxchem as vlx"
   ]
  },
  {
   "cell_type": "code",
   "execution_count": 2,
   "metadata": {},
   "outputs": [],
   "source": [
    "class MockTask:\n",
    "    def __init__(self, mol, basis, comm, ostream):\n",
    "\n",
    "        self.molecule = mol\n",
    "        self.ao_basis = basis\n",
    "        self.mpi_comm = comm\n",
    "        self.ostream = ostream"
   ]
  },
  {
   "cell_type": "code",
   "execution_count": 3,
   "metadata": {},
   "outputs": [],
   "source": [
    "import adcc\n",
    "from mpi4py import MPI\n",
    "import sys\n",
    "import numpy\n",
    "numpy.set_printoptions(precision=7, suppress=True)"
   ]
  },
  {
   "cell_type": "code",
   "execution_count": 4,
   "metadata": {},
   "outputs": [],
   "source": [
    "#Input settings\n",
    "molecule_string = \"\"\"\n",
    "    O 0 0 0\n",
    "    H 0 0 1.795239827225189\n",
    "    H 1.693194615993441 0 -0.599043184453037\"\"\"\n",
    "\n",
    "# molecule_string = \"\"\"\n",
    "#    Li 0 0 0\n",
    "#    H 0 0 1.795239827225189\n",
    "#    \"\"\"\n",
    "\n",
    "basis_set_label = 'STO-3G'\n",
    "scf_settings = {'conv_thresh': 1.0e-8}\n",
    "method_settings = {} #{'xcfun': 'b3lyp', 'grid_level': 4}\n",
    "rsp_settings = {'conv_thresh': 1.0e-6, 'nstates': 3}"
   ]
  },
  {
   "cell_type": "code",
   "execution_count": 5,
   "metadata": {},
   "outputs": [],
   "source": [
    "# Communicator and output stream\n",
    "comm = MPI.COMM_WORLD\n",
    "ostream = vlx.OutputStream(sys.stdout)"
   ]
  },
  {
   "cell_type": "code",
   "execution_count": 6,
   "metadata": {},
   "outputs": [
    {
     "name": "stdout",
     "output_type": "stream",
     "text": [
      "                                              Molecular Geometry (Angstroms)                                              \n",
      "                                             ================================                                             \n",
      "                                                                                                                          \n",
      "                          Atom         Coordinate X          Coordinate Y          Coordinate Z                           \n",
      "                                                                                                                          \n",
      "                           O           0.000000000000        0.000000000000        0.000000000000                         \n",
      "                           H           0.000000000000        0.000000000000        0.950000004704                         \n",
      "                           H           0.896000004436        0.000000000000       -0.317000001569                         \n",
      "                                                                                                                          \n",
      "                                              Molecular Basis (Atomic Basis)                                              \n",
      "                                             ================================                                             \n",
      "                                                                                                                          \n",
      "                                  Basis: STO-3G                                                                           \n",
      "                                                                                                                          \n",
      "                                  Atom Contracted GTOs          Primitive GTOs                                            \n",
      "                                                                                                                          \n",
      "                                   H   (1S)                     (3S)                                                      \n",
      "                                   O   (2S,1P)                  (6S,3P)                                                   \n",
      "                                                                                                                          \n",
      "                                  Contracted Basis Functions : 7                                                          \n",
      "                                  Primitive Basis Functions  : 21                                                         \n",
      "                                                                                                                          \n"
     ]
    }
   ],
   "source": [
    "# Molecule and basis set\n",
    "molecule = vlx.Molecule.read_str(molecule_string, units='au')\n",
    "basis = vlx.MolecularBasis.read(molecule, basis_set_label)\n",
    "\n",
    "ostream.print_block(molecule.get_string())\n",
    "ostream.print_block(basis.get_string('Atomic Basis', molecule))\n",
    "ostream.flush()"
   ]
  },
  {
   "cell_type": "code",
   "execution_count": 7,
   "metadata": {},
   "outputs": [
    {
     "data": {
      "text/plain": [
       "['__class__',\n",
       " '__delattr__',\n",
       " '__dir__',\n",
       " '__doc__',\n",
       " '__eq__',\n",
       " '__format__',\n",
       " '__ge__',\n",
       " '__getattribute__',\n",
       " '__gt__',\n",
       " '__hash__',\n",
       " '__init__',\n",
       " '__init_subclass__',\n",
       " '__iter__',\n",
       " '__le__',\n",
       " '__lt__',\n",
       " '__module__',\n",
       " '__ne__',\n",
       " '__new__',\n",
       " '__reduce__',\n",
       " '__reduce_ex__',\n",
       " '__repr__',\n",
       " '__setattr__',\n",
       " '__sizeof__',\n",
       " '__str__',\n",
       " '__subclasshook__',\n",
       " 'add_atom_basis',\n",
       " 'broadcast',\n",
       " 'get_ao_basis_map',\n",
       " 'get_avail_basis',\n",
       " 'get_dimensions_of_basis',\n",
       " 'get_dimensions_of_primitive_basis',\n",
       " 'get_label',\n",
       " 'get_string',\n",
       " 'get_valence_basis',\n",
       " 'n_basis_functions',\n",
       " 'n_primitive_basis_functions',\n",
       " 'read',\n",
       " 'set_label']"
      ]
     },
     "execution_count": 7,
     "metadata": {},
     "output_type": "execute_result"
    }
   ],
   "source": [
    "dir(basis)\n",
    "#print(basis.get_dimensions_of_basis)"
   ]
  },
  {
   "cell_type": "code",
   "execution_count": 8,
   "metadata": {},
   "outputs": [
    {
     "name": "stdout",
     "output_type": "stream",
     "text": [
      "                                                                                                                          \n",
      "                                            Self Consistent Field Driver Setup                                            \n",
      "                                           ====================================                                           \n",
      "                                                                                                                          \n",
      "                   Wave Function Model             : Spin-Restricted Hartree-Fock                                         \n",
      "                   Initial Guess Model             : Superposition of Atomic Densities                                    \n",
      "                   Convergence Accelerator         : Two Level Direct Inversion of Iterative Subspace                     \n",
      "                   Max. Number of Iterations       : 50                                                                   \n",
      "                   Max. Number of Error Vectors    : 10                                                                   \n",
      "                   Convergence Threshold           : 1.0e-08                                                              \n",
      "                   ERI Screening Scheme            : Cauchy Schwarz + Density                                             \n",
      "                   ERI Screening Mode              : Dynamic                                                              \n",
      "                   ERI Screening Threshold         : 1.0e-12                                                              \n",
      "                   Linear Dependence Threshold     : 1.0e-06                                                              \n",
      "                                                                                                                          \n",
      "* Info * Nuclear repulsion energy: 9.2514792692 au                                                                        \n",
      "                                                                                                                          \n",
      "* Info * Overlap matrix computed in 0.02 sec.                                                                             \n",
      "                                                                                                                          \n",
      "* Info * Kinetic energy matrix computed in 0.01 sec.                                                                      \n",
      "                                                                                                                          \n",
      "* Info * Nuclear potential matrix computed in 0.01 sec.                                                                   \n",
      "                                                                                                                          \n",
      "* Info * Orthogonalization matrix computed in 0.06 sec.                                                                   \n",
      "                                                                                                                          \n",
      "* Info * SAD initial guess computed in 0.00 sec.                                                                          \n",
      "                                                                                                                          \n",
      "* Info * Starting Reduced Basis SCF calculation...                                                                        \n",
      "* Info * ...done. SCF energy in reduced basis set: -74.959319283728 au. Time: 0.19 sec.                                   \n",
      "                                                                                                                          \n",
      "* Info * Overlap matrix computed in 0.00 sec.                                                                             \n",
      "                                                                                                                          \n",
      "* Info * Kinetic energy matrix computed in 0.01 sec.                                                                      \n",
      "                                                                                                                          \n",
      "* Info * Nuclear potential matrix computed in 0.00 sec.                                                                   \n",
      "                                                                                                                          \n",
      "* Info * Orthogonalization matrix computed in 0.00 sec.                                                                   \n",
      "                                                                                                                          \n",
      "                                                                                                                          \n",
      "               Iter. | Hartree-Fock Energy | Energy Change | Gradient Norm | Max. Gradient | Density Change               \n",
      "               --------------------------------------------------------------------------------------------               \n",
      "                  1       -74.959319286641    0.0000000000      0.00003237      0.00000781      0.00000000                \n",
      "                  2       -74.959319286972   -0.0000000003      0.00001030      0.00000238      0.00002812                \n",
      "                  3       -74.959319287015   -0.0000000000      0.00000057      0.00000013      0.00001419                \n",
      "                  4       -74.959319287015   -0.0000000000      0.00000003      0.00000001      0.00000034                \n",
      "                  5       -74.959319287015    0.0000000000      0.00000000      0.00000000      0.00000002                \n",
      "                                                                                                                          \n",
      "               *** SCF converged in 5 iterations. Time: 0.14 sec.                                                         \n",
      "                                                                                                                          \n",
      "               Spin-Restricted Hartree-Fock:                                                                              \n",
      "               -----------------------------                                                                              \n",
      "               Total Energy                       :      -74.9593192870 au                                                \n",
      "               Electronic Energy                  :      -84.2107985563 au                                                \n",
      "               Nuclear Repulsion Energy           :        9.2514792692 au                                                \n",
      "               ------------------------------------                                                                       \n",
      "               Gradient Norm                      :        0.0000000001 au                                                \n",
      "                                                                                                                          \n",
      "               Ground State Information                                                                                   \n",
      "               ------------------------                                                                                   \n",
      "               Charge of Molecule            :  0.0                                                                       \n",
      "               Multiplicity (2S+1)           :  1.0                                                                       \n",
      "               Magnetic Quantum Number (S_z) :  0.0                                                                       \n",
      "                                                                                                                          \n",
      "                                                                                                                          \n",
      "                                                 Spin Restricted Orbitals                                                 \n",
      "                                                 ------------------------                                                 \n",
      "                                                                                                                          \n",
      "               Molecular Orbital No.   1:                                                                                 \n",
      "               --------------------------                                                                                 \n",
      "               Occupation: 2.0 Energy:  -20.23340 au                                                                      \n",
      "               (   1 O   1s  :    -0.99)                                                                                  \n",
      "                                                                                                                          \n",
      "               Molecular Orbital No.   2:                                                                                 \n",
      "               --------------------------                                                                                 \n",
      "               Occupation: 2.0 Energy:   -1.26571 au                                                                      \n",
      "               (   1 O   1s  :    -0.23) (   1 O   2s  :     0.83) (   2 H   1s  :     0.16)                              \n",
      "               (   3 H   1s  :     0.16)                                                                                  \n",
      "                                                                                                                          \n",
      "               Molecular Orbital No.   3:                                                                                 \n",
      "               --------------------------                                                                                 \n",
      "               Occupation: 2.0 Energy:   -0.62927 au                                                                      \n",
      "               (   1 O   1p+1:    -0.35) (   1 O   1p0 :     0.49) (   2 H   1s  :     0.44)                              \n",
      "               (   3 H   1s  :    -0.44)                                                                                  \n",
      "                                                                                                                          \n",
      "               Molecular Orbital No.   4:                                                                                 \n",
      "               --------------------------                                                                                 \n",
      "               Occupation: 2.0 Energy:   -0.44167 au                                                                      \n",
      "               (   1 O   2s  :    -0.52) (   1 O   1p+1:     0.65) (   1 O   1p0 :     0.46)                              \n",
      "               (   2 H   1s  :     0.27) (   3 H   1s  :     0.27)                                                        \n",
      "                                                                                                                          \n",
      "               Molecular Orbital No.   5:                                                                                 \n",
      "               --------------------------                                                                                 \n",
      "               Occupation: 2.0 Energy:   -0.38765 au                                                                      \n",
      "               (   1 O   1p-1:     1.00)                                                                                  \n",
      "                                                                                                                          \n",
      "               Molecular Orbital No.   6:                                                                                 \n",
      "               --------------------------                                                                                 \n",
      "               Occupation: 0.0 Energy:    0.60284 au                                                                      \n",
      "               (   1 O   2s  :     0.91) (   1 O   1p+1:     0.58) (   1 O   1p0 :     0.41)                              \n",
      "               (   2 H   1s  :    -0.81) (   3 H   1s  :    -0.81)                                                        \n",
      "                                                                                                                          \n",
      "               Molecular Orbital No.   7:                                                                                 \n",
      "               --------------------------                                                                                 \n",
      "               Occupation: 0.0 Energy:    0.76592 au                                                                      \n",
      "               (   1 O   1p+1:    -0.58) (   1 O   1p0 :     0.82) (   2 H   1s  :    -0.84)                              \n",
      "               (   3 H   1s  :     0.84)                                                                                  \n",
      "                                                                                                                          \n"
     ]
    }
   ],
   "source": [
    "# SCF\n",
    "task = MockTask(molecule, basis, comm, ostream)\n",
    "scfdrv = vlx.ScfRestrictedDriver(comm, ostream)\n",
    "scfdrv.update_settings(scf_settings, method_settings)\n",
    "scfdrv.compute(molecule, basis)\n",
    "scfdrv.task = task"
   ]
  },
  {
   "cell_type": "code",
   "execution_count": 9,
   "metadata": {},
   "outputs": [
    {
     "name": "stdout",
     "output_type": "stream",
     "text": [
      "                                                                                                                          \n",
      "                                                Ground-State Dipole Moment                                                \n",
      "                                               ----------------------------                                               \n",
      "                                                                                                                          \n",
      "                                   X   :         0.546315 a.u.         1.388593 Debye                                     \n",
      "                                   Y   :         0.000000 a.u.         0.000000 Debye                                     \n",
      "                                   Z   :         0.386302 a.u.         0.981881 Debye                                     \n",
      "                                 Total :         0.669095 a.u.         1.700671 Debye                                     \n",
      "                                                                                                                          \n"
     ]
    }
   ],
   "source": [
    "# SCF first-order properties\n",
    "scf_prop = vlx.ScfFirstOrderProperties(comm, ostream)\n",
    "scf_prop.compute(molecule, basis, scfdrv.scf_tensors)\n",
    "scf_prop.print_properties(molecule)"
   ]
  },
  {
   "cell_type": "code",
   "execution_count": 10,
   "metadata": {},
   "outputs": [
    {
     "data": {
      "text/plain": [
       "1.09263"
      ]
     },
     "execution_count": 10,
     "metadata": {},
     "output_type": "execute_result"
    }
   ],
   "source": [
    "#0.546315*vlx.veloxchemlib.dipole_in_debye()\n",
    "0.546315*2"
   ]
  },
  {
   "cell_type": "code",
   "execution_count": 11,
   "metadata": {},
   "outputs": [],
   "source": [
    "# Linear Response\n",
    "#lr_eig_drv = vlx.LinearResponseEigenSolver(comm, ostream)\n",
    "#lr_eig_drv.update_settings(rsp_settings, method_settings)\n",
    "#lr_results = lr_eig_drv.compute(molecule, basis, scfdrv.scf_tensors)\n",
    "#lr_eig_drv.ostream.flush()"
   ]
  },
  {
   "cell_type": "code",
   "execution_count": 12,
   "metadata": {},
   "outputs": [
    {
     "name": "stdout",
     "output_type": "stream",
     "text": [
      "                                                                                                                          \n",
      "                                                     TDA Driver Setup                                                     \n",
      "                                                    ==================                                                    \n",
      "                                                                                                                          \n",
      "                               Number of States                : 3                                                        \n",
      "                               Max. Number of Iterations       : 150                                                      \n",
      "                               Convergence Threshold           : 1.0e-06                                                  \n",
      "                               ERI Screening Scheme            : Cauchy Schwarz + Density                                 \n",
      "                               ERI Screening Threshold         : 1.0e-15                                                  \n",
      "                                                                                                                          \n",
      "                   *** Iteration:   1 * Reduced Space:    3 * Residues (Max,Min): 1.22e-01 and 2.18e-16                   \n",
      "                                                                                                                          \n",
      "                   State  1: 0.48343609 au Residual Norm: 0.00000000                                                      \n",
      "                   State  2: 0.57420044 au Residual Norm: 0.00000000                                                      \n",
      "                   State  3: 0.62684138 au Residual Norm: 0.12175411                                                      \n",
      "                                                                                                                          \n",
      "                   *** Iteration:   2 * Reduced Space:    6 * Residues (Max,Min): 1.41e-02 and 3.78e-17                   \n",
      "                                                                                                                          \n",
      "                   State  1: 0.48343609 au Residual Norm: 0.00000000                                                      \n",
      "                   State  2: 0.57420044 au Residual Norm: 0.00000000                                                      \n",
      "                   State  3: 0.60222652 au Residual Norm: 0.01405744                                                      \n",
      "                                                                                                                          \n",
      "                   *** Iteration:   3 * Reduced Space:    9 * Residues (Max,Min): 2.88e-03 and 2.11e-18                   \n",
      "                                                                                                                          \n",
      "                   State  1: 0.48343609 au Residual Norm: 0.00000000                                                      \n",
      "                   State  2: 0.57420044 au Residual Norm: 0.00000000                                                      \n",
      "                   State  3: 0.60213766 au Residual Norm: 0.00287675                                                      \n",
      "                                                                                                                          \n",
      "                   *** Iteration:   4 * Reduced Space:   10 * Residues (Max,Min): 8.46e-15 and 1.90e-18                   \n",
      "                                                                                                                          \n",
      "                   State  1: 0.48343609 au Residual Norm: 0.00000000                                                      \n",
      "                   State  2: 0.57420044 au Residual Norm: 0.00000000                                                      \n",
      "                   State  3: 0.60213699 au Residual Norm: 0.00000000                                                      \n",
      "                                                                                                                          \n",
      "               *** 3 excited states converged in 4 iterations. Time: 0.10 sec                                             \n",
      "                                                                                                                          \n",
      "                                                                                                                          \n"
     ]
    }
   ],
   "source": [
    "# TDHF/TDA, i.e. CIS\n",
    "tda_drv = vlx.TDAExciDriver(comm, ostream)\n",
    "tda_drv.update_settings(rsp_settings, method_settings)\n",
    "tda_results = tda_drv.compute(molecule, basis, scfdrv.scf_tensors)\n",
    "tda_drv.ostream.flush()"
   ]
  },
  {
   "cell_type": "code",
   "execution_count": 13,
   "metadata": {},
   "outputs": [
    {
     "name": "stdout",
     "output_type": "stream",
     "text": [
      "[[ 1.0525205 -0.2195687 -0.0163902 -0.0163788  0.         0.0313626\n",
      "   0.0443584]\n",
      " [-0.2195687  0.9665874 -0.0077686 -0.0077197 -0.        -0.1790849\n",
      "  -0.2532264]\n",
      " [-0.0163902 -0.0077686  0.2930728 -0.0968177 -0.         0.3514432\n",
      "   0.038026 ]\n",
      " [-0.0163788 -0.0077197 -0.0968177  0.2931674 -0.        -0.0813823\n",
      "   0.3440366]\n",
      " [ 0.        -0.        -0.        -0.         1.         0.\n",
      "  -0.       ]\n",
      " [ 0.0313626 -0.1790849  0.3514432 -0.0813823  0.         0.4556496\n",
      "   0.1348586]\n",
      " [ 0.0443584 -0.2532264  0.038026   0.3440366 -0.         0.1348586\n",
      "   0.5510049]]\n",
      "\n",
      "[[ 1.0525205 -0.2195687 -0.0163902 -0.0163788  0.         0.0313626\n",
      "   0.0443584]\n",
      " [-0.2195687  0.9665874 -0.0077686 -0.0077197 -0.        -0.1790849\n",
      "  -0.2532264]\n",
      " [-0.0163902 -0.0077686  0.2930728 -0.0968177 -0.         0.3514432\n",
      "   0.038026 ]\n",
      " [-0.0163788 -0.0077197 -0.0968177  0.2931674 -0.        -0.0813823\n",
      "   0.3440366]\n",
      " [ 0.        -0.        -0.        -0.         1.         0.\n",
      "  -0.       ]\n",
      " [ 0.0313626 -0.1790849  0.3514432 -0.0813823  0.         0.4556496\n",
      "   0.1348586]\n",
      " [ 0.0443584 -0.2532264  0.038026   0.3440366 -0.         0.1348586\n",
      "   0.5510049]]\n",
      "mo_occ:\n",
      "[[-0.9941004 -0.2328975  0.0000651  0.100218   0.       ]\n",
      " [-0.0267754  0.8318658 -0.0003549 -0.5233255 -0.       ]\n",
      " [ 0.0060845  0.1602966  0.4415423  0.2690376  0.       ]\n",
      " [ 0.0060786  0.1601298 -0.4415633  0.2692782  0.       ]\n",
      " [-0.        -0.         0.        -0.         1.       ]\n",
      " [-0.0024519  0.0731199  0.4902286  0.4582281  0.       ]\n",
      " [-0.0034627  0.103217  -0.3463593  0.6483629  0.       ]]\n",
      "\n",
      "mo_vir:\n",
      "[[-0.1356068 -0.0002233]\n",
      " [ 0.9082267  0.0016893]\n",
      " [-0.8061612 -0.8437322]\n",
      " [-0.8082192  0.8410846]\n",
      " [ 0.         0.       ]\n",
      " [ 0.4112391  0.8244282]\n",
      " [ 0.5840569 -0.5814892]]\n"
     ]
    }
   ],
   "source": [
    "# Get MO coefficients, eigenvalues and eigenvectors\n",
    "\n",
    "nocc = molecule.number_of_alpha_electrons()\n",
    "mo = scfdrv.scf_tensors['C'] # MO coefficients\n",
    "mo_occ = mo[:, :nocc]        # occupied\n",
    "mo_vir = mo[:, nocc:]        # virtual\n",
    "\n",
    "nocc = mo_occ.shape[1]\n",
    "nvir = mo_vir.shape[1]\n",
    "\n",
    "print(scfdrv.density.alpha_to_numpy(0))\n",
    "print()\n",
    "print(scfdrv.scf_tensors['D'][0])\n",
    "#eig_vals = lr_results[\"eigenvalues\"]\n",
    "#eig_vecs = lr_results[\"eigenvectors\"]\n",
    "\n",
    "#eig_vec = eig_vecs[:, 0].copy() # first eigenvector\n",
    "#print(eig_vec)\n",
    "print(\"mo_occ:\")\n",
    "print(mo_occ)\n",
    "print()\n",
    "print(\"mo_vir:\")\n",
    "print(mo_vir)"
   ]
  },
  {
   "cell_type": "code",
   "execution_count": 14,
   "metadata": {},
   "outputs": [
    {
     "name": "stdout",
     "output_type": "stream",
     "text": [
      "dict_keys(['C', 'E', 'S', 'D', 'F'])\n",
      "[[ 1. -0. -0. -0. -0. -0. -0.]\n",
      " [-0.  1.  0. -0. -0. -0. -0.]\n",
      " [-0.  0.  1.  0.  0.  0. -0.]\n",
      " [-0. -0.  0.  1. -0. -0.  0.]\n",
      " [-0. -0.  0. -0.  1.  0.  0.]\n",
      " [-0. -0.  0. -0.  0.  1. -0.]\n",
      " [-0. -0. -0.  0.  0. -0.  1.]]\n",
      "[[-20.2333974  -0.         -0.         -0.         -0.         -0.\n",
      "   -0.       ]\n",
      " [ -0.         -1.2657146   0.          0.         -0.         -0.\n",
      "    0.       ]\n",
      " [ -0.          0.         -0.6292671   0.         -0.         -0.\n",
      "   -0.       ]\n",
      " [ -0.          0.          0.         -0.441668   -0.         -0.\n",
      "    0.       ]\n",
      " [ -0.         -0.         -0.         -0.         -0.3876451  -0.\n",
      "   -0.       ]\n",
      " [ -0.         -0.         -0.         -0.         -0.          0.6028394\n",
      "    0.       ]\n",
      " [ -0.          0.         -0.          0.         -0.          0.\n",
      "    0.7659183]]\n"
     ]
    }
   ],
   "source": [
    "print(scfdrv.scf_tensors.keys())\n",
    "# Transform the Fock matrix from AO to MO basis\n",
    "fock = scfdrv.scf_tensors['F'][0]\n",
    "ovlp = scfdrv.scf_tensors['S']\n",
    "print(numpy.matmul(mo.T, numpy.matmul(ovlp, mo)))\n",
    "print(numpy.matmul(mo.T, numpy.matmul(fock, mo)))"
   ]
  },
  {
   "cell_type": "code",
   "execution_count": 15,
   "metadata": {},
   "outputs": [],
   "source": [
    "# Convert the first eigenvector to matrix form\n",
    "#eig_vec_as_mat = vlx.LinearResponseEigenSolver.lrvec2mat(eig_vec, nocc, nocc + nvir)"
   ]
  },
  {
   "cell_type": "code",
   "execution_count": 16,
   "metadata": {},
   "outputs": [],
   "source": [
    "tda_eig_vals = tda_results[\"eigenvalues\"]\n",
    "tda_eig_vecs = tda_results[\"eigenvectors\"]\n",
    "tda_size = tda_eig_vecs[:,0].shape\n",
    "tda_eig_vec=tda_eig_vecs[:,0].copy()\n",
    "tda_eig_vec_as_mat = tda_eig_vec.reshape(nocc, nvir) #/ numpy.sqrt(2.0)"
   ]
  },
  {
   "cell_type": "code",
   "execution_count": 17,
   "metadata": {},
   "outputs": [
    {
     "name": "stdout",
     "output_type": "stream",
     "text": [
      "[-0.         0.        -0.        -0.         0.        -0.\n",
      " -0.         0.         0.9999995 -0.0009539]\n"
     ]
    }
   ],
   "source": [
    "print(tda_eig_vec)"
   ]
  },
  {
   "cell_type": "code",
   "execution_count": 18,
   "metadata": {},
   "outputs": [],
   "source": [
    "#tda_eig_vec_as_mat = vlx.LinearResponseEigenSolver.lrvec2mat(tda_eig_vec, nocc, nocc + nvir)"
   ]
  },
  {
   "cell_type": "code",
   "execution_count": 19,
   "metadata": {},
   "outputs": [
    {
     "name": "stdout",
     "output_type": "stream",
     "text": [
      "[[-0.         0.       ]\n",
      " [-0.        -0.       ]\n",
      " [ 0.        -0.       ]\n",
      " [-0.         0.       ]\n",
      " [ 0.9999995 -0.0009539]]\n"
     ]
    }
   ],
   "source": [
    "print(tda_eig_vec_as_mat)"
   ]
  },
  {
   "cell_type": "code",
   "execution_count": 20,
   "metadata": {},
   "outputs": [
    {
     "name": "stdout",
     "output_type": "stream",
     "text": [
      "Starting adc1 singlet Jacobi-Davidson ...\n",
      "Niter n_ss  max_residual  time  Ritz values\n",
      "  1     6     0.0028135   38ms  [0.4834361 0.5742004 0.6052005]\n",
      "  2    10    1.3584e-29   27ms  [0.4834361 0.5742004 0.602137 ]\n",
      "=== Converged ===\n",
      "    Number of matrix applies:    10\n",
      "    Total solver time:           67.858ms\n"
     ]
    }
   ],
   "source": [
    "adc1 = adcc.run_adc(scfdrv, method='adc1', n_singlets=3, conv_tol=1e-4)"
   ]
  },
  {
   "cell_type": "code",
   "execution_count": 21,
   "metadata": {},
   "outputs": [
    {
     "data": {
      "text/plain": [
       "array([[-0.2107819, -0.       , -0.1423891],\n",
       "       [ 0.0418872,  0.       ,  0.0233941],\n",
       "       [-0.3315491,  0.       , -0.2288043]])"
      ]
     },
     "execution_count": 21,
     "metadata": {},
     "output_type": "execute_result"
    }
   ],
   "source": [
    "adc1_eig_vec = adc1.excitation_vector[0][\"ph\"].to_ndarray()\n",
    "adc1_eig_vals = adc1.excitation_energy\n",
    "adc1.state_dipole_moment"
   ]
  },
  {
   "cell_type": "code",
   "execution_count": 22,
   "metadata": {},
   "outputs": [
    {
     "name": "stdout",
     "output_type": "stream",
     "text": [
      "[[-0.         0.         0.         0.       ]\n",
      " [-0.         0.         0.         0.       ]\n",
      " [ 0.         0.         0.         0.       ]\n",
      " [-0.        -0.         0.         0.       ]\n",
      " [-0.7071065  0.0006745  0.         0.       ]\n",
      " [ 0.         0.        -0.         0.       ]\n",
      " [ 0.         0.        -0.         0.       ]\n",
      " [ 0.         0.         0.         0.       ]\n",
      " [ 0.         0.        -0.        -0.       ]\n",
      " [ 0.         0.        -0.7071065  0.0006745]]\n",
      "[0.4834361 0.5742004 0.602137 ]\n",
      "+----------------------------------------------------+\n",
      "| adc1                          singlet ,  converged |\n",
      "+----------------------------------------------------+\n",
      "|  #        excitation energy     osc str    |v1|^2  |\n",
      "|          (au)           (eV)                       |\n",
      "|  0     0.4834361      13.15497   0.0038         1  |\n",
      "|  1     0.5742004      15.62479   0.0000         1  |\n",
      "|  2      0.602137      16.38498   0.0546         1  |\n",
      "+----------------------------------------------------+\n",
      "\n"
     ]
    }
   ],
   "source": [
    "print(adc1_eig_vec)\n",
    "print(adc1_eig_vals)\n",
    "print(adc1.describe())"
   ]
  },
  {
   "cell_type": "code",
   "execution_count": 23,
   "metadata": {},
   "outputs": [
    {
     "name": "stdout",
     "output_type": "stream",
     "text": [
      "[-0.         0.        -0.        -0.         0.        -0.\n",
      " -0.         0.         0.9999995 -0.0009539]\n",
      "[0.4834361 0.5742004 0.602137 ]\n"
     ]
    }
   ],
   "source": [
    "print(tda_eig_vecs[:,0])\n",
    "print(tda_eig_vals)"
   ]
  },
  {
   "cell_type": "code",
   "execution_count": 24,
   "metadata": {},
   "outputs": [
    {
     "data": {
      "text/plain": [
       "0.9999999999999999"
      ]
     },
     "execution_count": 24,
     "metadata": {},
     "output_type": "execute_result"
    }
   ],
   "source": [
    "numpy.linalg.norm(adc1_eig_vec)"
   ]
  },
  {
   "cell_type": "code",
   "execution_count": 25,
   "metadata": {},
   "outputs": [
    {
     "data": {
      "text/plain": [
       "0.7071064276331569"
      ]
     },
     "execution_count": 25,
     "metadata": {},
     "output_type": "execute_result"
    }
   ],
   "source": [
    "0.9999995/numpy.sqrt(2.0)"
   ]
  },
  {
   "cell_type": "code",
   "execution_count": 26,
   "metadata": {},
   "outputs": [
    {
     "data": {
      "text/plain": [
       "0.0006745091585738476"
      ]
     },
     "execution_count": 26,
     "metadata": {},
     "output_type": "execute_result"
    }
   ],
   "source": [
    "0.0009539/numpy.sqrt(2.0)"
   ]
  },
  {
   "cell_type": "code",
   "execution_count": 27,
   "metadata": {},
   "outputs": [
    {
     "name": "stdout",
     "output_type": "stream",
     "text": [
      "(10, 4)\n",
      "[[-0.         0.         0.         0.       ]\n",
      " [-0.         0.         0.         0.       ]\n",
      " [ 0.         0.         0.         0.       ]\n",
      " [-0.        -0.         0.         0.       ]\n",
      " [-0.7071065  0.0006745  0.         0.       ]\n",
      " [ 0.         0.        -0.         0.       ]\n",
      " [ 0.         0.        -0.         0.       ]\n",
      " [ 0.         0.         0.         0.       ]\n",
      " [ 0.         0.        -0.        -0.       ]\n",
      " [ 0.         0.        -0.7071065  0.0006745]]\n",
      "\n",
      "(5, 2)\n",
      "[[-0.         0.       ]\n",
      " [-0.        -0.       ]\n",
      " [ 0.        -0.       ]\n",
      " [-0.         0.       ]\n",
      " [ 0.7071065 -0.0006745]]\n"
     ]
    }
   ],
   "source": [
    "print(adc1_eig_vec.shape)\n",
    "print(adc1_eig_vec)\n",
    "print()\n",
    "print(tda_eig_vec_as_mat.shape)\n",
    "print(tda_eig_vec_as_mat/numpy.sqrt(2))"
   ]
  },
  {
   "cell_type": "code",
   "execution_count": 28,
   "metadata": {},
   "outputs": [
    {
     "name": "stdout",
     "output_type": "stream",
     "text": [
      "[[-0. -0.  0. -0.  0.]\n",
      " [-0. -0.  0. -0.  0.]\n",
      " [ 0.  0. -0.  0. -0.]\n",
      " [-0. -0.  0. -0.  0.]\n",
      " [ 0.  0. -0.  0. -1.]]\n"
     ]
    }
   ],
   "source": [
    "vlx_dm_oo = -numpy.einsum('ia,ja->ij', tda_eig_vec_as_mat, tda_eig_vec_as_mat)\n",
    "vlx_dm_vv = numpy.einsum('ia,ib->ab', tda_eig_vec_as_mat, tda_eig_vec_as_mat)\n",
    "vlx_DM_ovov = -numpy.einsum('ib,ja->iajb', tda_eig_vec_as_mat, tda_eig_vec_as_mat)\n",
    "\n",
    "print(vlx_dm_oo)"
   ]
  },
  {
   "cell_type": "code",
   "execution_count": 29,
   "metadata": {},
   "outputs": [],
   "source": [
    "adcc_dm_oo = -numpy.einsum('ia,ja->ij', adc1_eig_vec, adc1_eig_vec)\n",
    "adcc_dm_vv = numpy.einsum('ia,ib->ab', adc1_eig_vec, adc1_eig_vec)\n",
    "adcc_DM_ovov = -numpy.einsum('ib,ja->iajb', adc1_eig_vec, adc1_eig_vec)\n",
    "\n",
    "#print(adcc_dm_oo)\n",
    "\n",
    "foo = adc1.reference_state.fock(\"o1o1\").to_ndarray()\n",
    "fvv = adc1.reference_state.fock(\"v1v1\").to_ndarray()\n",
    "ovov = adc1.reference_state.eri(\"o1v1o1v1\").to_ndarray()\n",
    "\n",
    "adcc_excitation_energy = (numpy.einsum('ij,ij->',adcc_dm_oo,foo)\n",
    "                     + numpy.einsum('ab,ab->', adcc_dm_vv, fvv)\n",
    "                     + numpy.einsum('iajb,iajb->', adcc_DM_ovov, ovov)\n",
    "                    )"
   ]
  },
  {
   "cell_type": "code",
   "execution_count": 30,
   "metadata": {},
   "outputs": [
    {
     "name": "stdout",
     "output_type": "stream",
     "text": [
      "0.4834360910410641\n"
     ]
    }
   ],
   "source": [
    "print(adcc_excitation_energy)"
   ]
  },
  {
   "cell_type": "markdown",
   "metadata": {},
   "source": [
    "$E = \\frac{1}{4} \\sum_{pqrs} \\Gamma_{pqrs} \\langle pq || rs \\rangle$\n",
    "\n",
    "$\\langle ia || jb \\rangle = - \\langle ai || jb \\rangle = - \\langle ia || bj \\rangle = \\langle ai || bj \\rangle$\n",
    "\n",
    "analogous symmetry for $\\boldsymbol{\\Gamma}$"
   ]
  },
  {
   "cell_type": "code",
   "execution_count": 31,
   "metadata": {},
   "outputs": [
    {
     "name": "stdout",
     "output_type": "stream",
     "text": [
      "vlx energy = 0.48343609104106433\n"
     ]
    }
   ],
   "source": [
    "vlx_excitation_energy = (1.0*numpy.einsum('ij,ij->', vlx_dm_oo,foo[:nocc,:nocc])\n",
    "                        +1.0*numpy.einsum('ab,ab->', vlx_dm_vv, fvv[:nvir,:nvir])\n",
    "                        +1.0*(\n",
    "                        +1.0*numpy.einsum('iajb,iajb->', vlx_DM_ovov, ovov[:nocc, :nvir, :nocc, :nvir])##aaaa\n",
    "                        #+0.0*numpy.einsum('iajb,iajb->', vlx_DM_ovov, ovov[:nocc, :nvir, :nocc, nvir:])# zero block\n",
    "                        #+1.0*numpy.einsum('iajb,iajb->', vlx_DM_ovov, ovov[:nocc, :nvir, nocc:, :nvir])# zero block\n",
    "                        #+1.0*numpy.einsum('iajb,iajb->', vlx_DM_ovov, ovov[:nocc, :nvir, nocc:, nvir:])# zero block\n",
    "                        #+1.0*numpy.einsum('iajb,iajb->', vlx_DM_ovov, ovov[:nocc, nvir:, :nocc, :nvir])# zero block\n",
    "                        #+1.0*numpy.einsum('iajb,iajb->', vlx_DM_ovov, ovov[:nocc, nvir:, :nocc, nvir:])# zero block\n",
    "                        +1.0*numpy.einsum('iajb,iajb->', vlx_DM_ovov, ovov[:nocc, nvir:, nocc:, :nvir])##bbbb\n",
    "                        #+1.0*numpy.einsum('iajb,iajb->', vlx_DM_ovov, ovov[:nocc, nvir:, nocc:, nvir:])# zero block\n",
    "                        #+1.0*numpy.einsum('iajb,iajb->', vlx_DM_ovov, ovov[nocc:, :nvir, :nocc, :nvir])# zero block\n",
    "                        #+1.0*numpy.einsum('iajb,iajb->', vlx_DM_ovov, ovov[nocc:, :nvir, :nocc, nvir:])##abba\n",
    "                        #+1.0*numpy.einsum('iajb,iajb->', vlx_DM_ovov, ovov[nocc:, :nvir, nocc:, :nvir])# zero block\n",
    "                        #+1.0*numpy.einsum('iajb,iajb->', vlx_DM_ovov, ovov[nocc:, nvir:, :nocc, :nvir])# zero block\n",
    "                        #+1.0*numpy.einsum('iajb,iajb->', vlx_DM_ovov, ovov[nocc:, nvir:, :nocc, nvir:])# zero block\n",
    "                        #+1.0*numpy.einsum('iajb,iajb->', vlx_DM_ovov, ovov[nocc:, nvir:, nocc:, :nvir])# zero block\n",
    "                        #+1.0*numpy.einsum('iajb,iajb->', vlx_DM_ovov, ovov[nocc:, nvir:, nocc:, nvir:])##baab\n",
    "                        ))\n",
    "print(\"vlx energy =\", vlx_excitation_energy)"
   ]
  },
  {
   "cell_type": "code",
   "execution_count": 32,
   "metadata": {},
   "outputs": [
    {
     "name": "stdout",
     "output_type": "stream",
     "text": [
      "0.48343609104106433\n"
     ]
    }
   ],
   "source": [
    "print(vlx_excitation_energy)"
   ]
  },
  {
   "cell_type": "code",
   "execution_count": 33,
   "metadata": {},
   "outputs": [
    {
     "name": "stdout",
     "output_type": "stream",
     "text": [
      "0.48343609104104057\n"
     ]
    }
   ],
   "source": [
    "adcc_excitation_energy = (1.0*numpy.einsum('ij,ij->', vlx_dm_oo,foo[:nocc,:nocc])\n",
    "                        +1.0*numpy.einsum('ab,ab->', vlx_dm_vv, fvv[:nvir,:nvir])\n",
    "                        +2.0*numpy.einsum('iajb,iajb->', adcc_DM_ovov[:nocc, :nvir, :nocc, :nvir], ovov[:nocc, :nvir, :nocc, :nvir])\n",
    "                        +2.0*numpy.einsum('iajb,iajb->', adcc_DM_ovov[:nocc, :nvir, :nocc, :nvir], ovov[:nocc, nvir:, nocc:, :nvir])\n",
    "    )\n",
    "print(adcc_excitation_energy)"
   ]
  },
  {
   "cell_type": "code",
   "execution_count": 34,
   "metadata": {},
   "outputs": [
    {
     "name": "stdout",
     "output_type": "stream",
     "text": [
      "(10, 4, 10, 4)\n"
     ]
    }
   ],
   "source": [
    "print(ovov.shape)\n",
    "#print(ovov)"
   ]
  },
  {
   "cell_type": "code",
   "execution_count": 35,
   "metadata": {},
   "outputs": [
    {
     "name": "stdout",
     "output_type": "stream",
     "text": [
      "(5, 2, 5, 2)\n"
     ]
    }
   ],
   "source": [
    "#print(vlx_DM_ovov)\n",
    "#print()\n",
    "print(vlx_DM_ovov.shape)\n",
    "#print(adcc_DM_ovov)"
   ]
  },
  {
   "cell_type": "code",
   "execution_count": 36,
   "metadata": {},
   "outputs": [],
   "source": [
    "# Making the Vlx 2PDM twice the size with the other spin blocks\n",
    "# and assign the corresponding values to it by comparing to the adcc matrix\n",
    "# afterwards divide by two to yield the same numbers\n",
    "##vlx_DM_ovov_full = numpy.zeros((2*nocc, 2*nvir, 2*nocc, 2*nvir))\n",
    "#vlx_DM_ovov_full[:nocc, :nvir, :nocc, :nvir] = vlx_DM_ovov\n",
    "##vlx_DM_ovov_full[0, 0, 0, 0] = vlx_DM_ovov_full[0, 3, 1, 0] = vlx_DM_ovov_full[1,0,0,3] = vlx_DM_ovov_full[1,3,1,3] = vlx_DM_ovov[0,0,0,0]\n",
    "##vlx_DM_ovov_full[0, 0, 0, 2] = vlx_DM_ovov_full[0, 2, 0, 0] = vlx_DM_ovov_full[0,3,1,2] = vlx_DM_ovov_full[0,5,1,0] = vlx_DM_ovov[0,2,0,0]\n",
    "##vlx_DM_ovov_full[1, 0, 0, 5] = vlx_DM_ovov_full[1, 2, 0, 3] = vlx_DM_ovov_full[1,3,1,5] = vlx_DM_ovov_full[1,5,1,3] = vlx_DM_ovov[0,2,0,0]\n",
    "##vlx_DM_ovov_full[0, 2, 0, 2] = vlx_DM_ovov_full[0, 5, 1, 2] = vlx_DM_ovov_full[1,2,0,5] = vlx_DM_ovov_full[1,5,1,5] = vlx_DM_ovov[0,2,0,2]\n",
    "\n",
    "### matrix elements were twice as large\n",
    "##vlx_DM_ovov_full *= 0.5\n",
    "# norm of the difference between the two density matrices does not seem to vanish entirely...\n",
    "##print(\"norm of the difference of the 2PDMs = \", numpy.linalg.norm(adcc_DM_ovov - vlx_DM_ovov_full))\n",
    "#print(vlx_DM_ovov_full)\n",
    "##vlx_excitation_energy = (1.0*numpy.einsum('ij,ij->', vlx_dm_oo,foo[:nocc,:nocc])\n",
    "##                        #(1.0*numpy.einsum('ij,ij->', adcc_dm_oo,foo)\n",
    "##                        #+1.0*numpy.einsum('ij,ij->', adcc_dm_vv,fvv)\n",
    "##                        +1.0*numpy.einsum('ab,ab->', vlx_dm_vv, fvv[:nvir,:nvir])\n",
    "##                        +1.0*numpy.einsum('iajb,iajb->', vlx_DM_ovov_full, ovov)\n",
    "##                        )\n",
    "##print(\"vlx exc. energy =\", vlx_excitation_energy)\n",
    "#print(\"adcc - vlx =\", adcc_excitation_energy - vlx_excitation_energy)"
   ]
  },
  {
   "cell_type": "code",
   "execution_count": 37,
   "metadata": {},
   "outputs": [
    {
     "name": "stdout",
     "output_type": "stream",
     "text": [
      "(10, 4, 10, 4)\n",
      "\n",
      "\n"
     ]
    }
   ],
   "source": [
    "print(adcc_DM_ovov.shape)\n",
    "print()\n",
    "#print(adcc_DM_ovov)\n",
    "print()\n",
    "#print(adcc_DM_ovov - vlx_DM_ovov_full) # here everything appears to be zero"
   ]
  },
  {
   "cell_type": "code",
   "execution_count": 38,
   "metadata": {},
   "outputs": [
    {
     "name": "stdout",
     "output_type": "stream",
     "text": [
      "[[ 0.0183891 -0.1231612  0.1092115  0.1097085 -0.        -0.05566\n",
      "  -0.0792771]\n",
      " [-0.1231612  0.8248721 -0.7314442 -0.734773   0.         0.3727831\n",
      "   0.5309584]\n",
      " [ 0.1092115 -0.7314442  0.6485983  0.6515501 -0.        -0.3305604\n",
      "  -0.4708202]\n",
      " [ 0.1097085 -0.734773   0.6515501  0.6545153 -0.        -0.3320648\n",
      "  -0.4729629]\n",
      " [-0.         0.        -0.        -0.        -1.        -0.\n",
      "  -0.       ]\n",
      " [-0.05566    0.3727831 -0.3305604 -0.3320648 -0.         0.1684713\n",
      "   0.2399552]\n",
      " [-0.0792771  0.5309584 -0.4708202 -0.4729629 -0.         0.2399552\n",
      "   0.3417704]]\n",
      "\n",
      "VLX\n",
      "[[ 0.0183891 -0.1231612  0.1092115  0.1097085 -0.        -0.05566\n",
      "  -0.0792771]\n",
      " [-0.1231612  0.8248721 -0.7314442 -0.734773   0.         0.3727831\n",
      "   0.5309584]\n",
      " [ 0.1092115 -0.7314442  0.6485983  0.6515501 -0.        -0.3305604\n",
      "  -0.4708202]\n",
      " [ 0.1097085 -0.734773   0.6515501  0.6545153 -0.        -0.3320648\n",
      "  -0.4729629]\n",
      " [-0.         0.        -0.        -0.        -1.        -0.\n",
      "  -0.       ]\n",
      " [-0.05566    0.3727831 -0.3305604 -0.3320648 -0.         0.1684713\n",
      "   0.2399552]\n",
      " [-0.0792771  0.5309584 -0.4708202 -0.4729629 -0.         0.2399552\n",
      "   0.3417704]]\n",
      "\n",
      "ADCC\n",
      "[[ 0.0183891 -0.1231612  0.1092115  0.1097085 -0.        -0.05566\n",
      "  -0.0792771]\n",
      " [-0.1231612  0.8248721 -0.7314442 -0.734773   0.         0.3727831\n",
      "   0.5309584]\n",
      " [ 0.1092115 -0.7314442  0.6485983  0.6515501 -0.        -0.3305604\n",
      "  -0.4708202]\n",
      " [ 0.1097085 -0.734773   0.6515501  0.6545153 -0.        -0.3320648\n",
      "  -0.4729629]\n",
      " [-0.         0.        -0.        -0.        -1.        -0.\n",
      "  -0.       ]\n",
      " [-0.05566    0.3727831 -0.3305604 -0.3320648 -0.         0.1684713\n",
      "   0.2399552]\n",
      " [-0.0792771  0.5309584 -0.4708202 -0.4729629 -0.         0.2399552\n",
      "   0.3417704]]\n",
      "contract_fock_ao = 0.990484609362379\n",
      "contract_fock_mo = 0.9904846093623791\n"
     ]
    }
   ],
   "source": [
    "# Transform the one-particle density matrices from MO to AO basis\n",
    "vlx_dm_oo_in_ao = numpy.matmul(mo_occ, numpy.matmul(vlx_dm_oo, mo_occ.T))\n",
    "adcc_dm_oo_in_ao = 2.0*numpy.matmul(mo_occ, numpy.matmul(adcc_dm_oo[:nocc,:nocc], mo_occ.T))\n",
    "\n",
    "vlx_dm_vv_in_ao = numpy.matmul(mo_vir, numpy.matmul(vlx_dm_vv, mo_vir.T))\n",
    "adcc_dm_vv_in_ao = 2.0*numpy.matmul(mo_vir, numpy.matmul(adcc_dm_vv[:nvir,:nvir], mo_vir.T))\n",
    "\n",
    "vlx_dm_ao = vlx_dm_oo_in_ao + vlx_dm_vv_in_ao\n",
    "adcc_dm_ao = adcc_dm_oo_in_ao + adcc_dm_vv_in_ao\n",
    "\n",
    "from veloxchem.veloxchemlib import AODensityMatrix\n",
    "from veloxchem.veloxchemlib import denmat\n",
    "\n",
    "ao_density_object = AODensityMatrix([vlx_dm_ao], denmat.rest)\n",
    "\n",
    "print(ao_density_object.beta_to_numpy(0))\n",
    "print()\n",
    "print(\"VLX\")\n",
    "print(vlx_dm_ao)\n",
    "print(\"\\nADCC\")\n",
    "print(adcc_dm_ao)\n",
    "\n",
    "contract_fock_mo = (1.0*numpy.einsum('ij,ij->', vlx_dm_oo, foo[:nocc,:nocc])\n",
    "                    +1.0*numpy.einsum('ab,ab->', vlx_dm_vv, fvv[:nvir,:nvir]))\n",
    "\n",
    "contract_fock_ao = numpy.einsum('mn,mn->', vlx_dm_ao, fock)\n",
    "\n",
    "print(\"contract_fock_ao =\", contract_fock_ao)\n",
    "print(\"contract_fock_mo =\", contract_fock_mo)"
   ]
  },
  {
   "cell_type": "code",
   "execution_count": 39,
   "metadata": {},
   "outputs": [
    {
     "name": "stdout",
     "output_type": "stream",
     "text": [
      "dipole moment [au] = [-0.2107819 -0.        -0.1423891]\n",
      "\n",
      "adcc dm dipole moment [au] = [-0.2107819 -0.        -0.1423891]\n",
      "\n",
      "ADC(1)/6-31G dipole moment for water in Q-Chem:\n",
      "Dip. moment [a.u.]:  [0.221200,  -0.00000,   0.151505]\n",
      "\n",
      "ADC(1) dipole moment from adcc:\n",
      "[[-0.2107819 -0.        -0.1423891]\n",
      " [ 0.0418872  0.         0.0233941]\n",
      " [-0.3315491  0.        -0.2288043]]\n"
     ]
    }
   ],
   "source": [
    "# Calculate the total density (including HF part)\n",
    "# and calculated the unrelaxed excited-state dipole moment\n",
    "\n",
    "# dipole integrals\n",
    "dipole_drv = vlx.ElectricDipoleIntegralsDriver(comm)\n",
    "dipole_mats = dipole_drv.compute(molecule, basis)\n",
    "dipole_ints = (dipole_mats.x_to_numpy(),\n",
    "              dipole_mats.y_to_numpy(),\n",
    "              dipole_mats.z_to_numpy())\n",
    "\n",
    "# electronic contribution\n",
    "total_density = 2*scfdrv.scf_tensors['D'][0] + vlx_dm_ao\n",
    "adcc_total_density = 2*scfdrv.scf_tensors['D'][0] + adcc_dm_ao\n",
    "electronic_dipole = -1.0 * numpy.array(\n",
    "    [numpy.sum(dipole_ints[d] * total_density) for d in range(3)])\n",
    "adcc_electronic_dipole = -1.0 * numpy.array(\n",
    "    [numpy.sum(dipole_ints[d] * adcc_total_density) for d in range(3)])\n",
    "\n",
    "# nuclear contribution\n",
    "coords = molecule.get_coordinates()\n",
    "nuclear_charges = molecule.elem_ids_to_numpy()\n",
    "nuclear_dipole = numpy.sum(coords.T * nuclear_charges, axis=1)\n",
    "\n",
    "dipole_moment = (nuclear_dipole + electronic_dipole)\n",
    "adcc_dipole_moment = (nuclear_dipole + adcc_electronic_dipole)\n",
    "\n",
    "print(\"dipole moment [au] =\", dipole_moment)\n",
    "print()\n",
    "print(\"adcc dm dipole moment [au] =\", adcc_dipole_moment)\n",
    "print()\n",
    "print(\"ADC(1)/6-31G dipole moment for water in Q-Chem:\")\n",
    "print(\"Dip. moment [a.u.]:  [0.221200,  -0.00000,   0.151505]\")\n",
    "print()\n",
    "print(\"ADC(1) dipole moment from adcc:\")\n",
    "print(adc1.state_dipole_moment)"
   ]
  },
  {
   "cell_type": "code",
   "execution_count": null,
   "metadata": {},
   "outputs": [],
   "source": [
    "# Transform the excitation vectors from MO to AO basis\n",
    "tda_eig_vec_ao = numpy.matmul(mo_occ, numpy.matmul(tda_eig_vec_as_mat, mo_vir.T))\n",
    "print(tda_eig_vec_ao)"
   ]
  },
  {
   "cell_type": "code",
   "execution_count": null,
   "metadata": {},
   "outputs": [],
   "source": [
    "#dir(scfdrv)"
   ]
  },
  {
   "cell_type": "code",
   "execution_count": null,
   "metadata": {},
   "outputs": [],
   "source": [
    "# Get the ERI tensor in AO basis (chemists' notation)\n",
    "\n",
    "nao = mo.shape[0]\n",
    "\n",
    "pqrs = numpy.zeros((nao, nao, nao, nao))\n",
    "eri_drv = vlx.ElectronRepulsionIntegralsDriver(comm)\n",
    "eri_drv.compute_in_mem(molecule, basis, pqrs)\n",
    "#print(\"(pq|rs) =\")\n",
    "#print(pqrs)"
   ]
  },
  {
   "cell_type": "markdown",
   "metadata": {},
   "source": [
    "\n",
    "\\begin{align}\n",
    "\\begin{split}\n",
    "    - \\sum_{\\sigma \\sigma'} \\sum_{ijab} x_{i_{\\sigma} b_{\\sigma}} x_{j_{\\sigma'} a_{\\sigma'}}\n",
    "        \\langle i_{\\sigma} a_{\\sigma'} || j_{\\sigma'} b_{\\sigma} \\rangle\n",
    "    &= - \\sum_{ijab} x_{ib} x_{ja} [ 2 (ij|ab) - 4 (ib|aj) ] \\\\\n",
    "    &= + \\sum_{ijab} x_{ib} x_{ja} [ 4 (ib|aj) - 2 (ij|ab)  ] \\\\\n",
    "    &= \\sum_{ijab} x_{ib} x_{ja} \\sum_{\\mu \\nu \\theta \\varphi}\n",
    "        C_{\\mu i} C_{\\nu b} C_{\\theta a} C_{\\varphi j}  [ 4 (\\mu \\nu | \\theta \\varphi)\n",
    "        - 2 (\\mu \\varphi | \\theta \\nu) ] \\\\\n",
    "    &= \\sum_{\\mu \\nu \\theta \\varphi} [ 4 (\\mu \\nu | \\theta \\varphi)\n",
    "        - 2 (\\mu \\varphi | \\theta \\nu) ]\n",
    "        \\sum_{ib} C_{\\mu i} x_{ib} C_{\\nu b} \\sum_{ja} C_{\\varphi j} x_{ja} C_{\\theta a} \\\\\n",
    "    &= \\sum_{\\mu \\nu \\theta \\varphi} x_{\\mu \\nu} x_{\\varphi \\theta} [ 4 (\\mu \\nu | \\theta \\varphi)\n",
    "        - 2 (\\mu \\varphi | \\theta \\nu) ]       \\\\\n",
    "    &= \\sum_{\\mu \\nu} x_{\\mu \\nu} \\sum_{\\theta \\varphi} x_{\\varphi \\theta} [ 4 (\\mu \\nu | \\theta \\varphi)\n",
    "        - 2 (\\mu \\varphi | \\theta \\nu) ]\n",
    "\\end{split}\n",
    "\\end{align}"
   ]
  },
  {
   "cell_type": "code",
   "execution_count": null,
   "metadata": {},
   "outputs": [],
   "source": [
    "# Contraction of electron repulsion integrals in AO basis\n",
    "# First reference value in MO\n",
    "eri_contract_mo_adcc = numpy.einsum('iajb,iajb->', adcc_DM_ovov, ovov)\n",
    "print(\"Contraction in MO adcc:\", eri_contract_mo_adcc)\n",
    "\n",
    "eri_contract_mo_vlx = (+1.0*numpy.einsum('iajb,iajb->', vlx_DM_ovov, ovov[:nocc, :nvir, :nocc, :nvir])##aaaa\n",
    "                        +1.0*numpy.einsum('iajb,iajb->', vlx_DM_ovov, ovov[:nocc, nvir:, nocc:, :nvir]))##bbbb\n",
    "print(\"Contraction in MO vlx: \", eri_contract_mo_vlx)\n",
    "\n",
    "# Now contract everything in AO\n",
    "eri_contract_ao = (0.5*numpy.einsum('mn,mn->', tda_eig_vec_ao, numpy.einsum('pt,mntp->mn', tda_eig_vec_ao, 4*pqrs)\n",
    "                                   - numpy.einsum('pt,mptn->mn', tda_eig_vec_ao, 2*pqrs))\n",
    "                    )\n",
    "print(\"Contraction in AO:     \", eri_contract_ao)"
   ]
  },
  {
   "cell_type": "code",
   "execution_count": null,
   "metadata": {},
   "outputs": [],
   "source": [
    "mo.shape\n",
    "print(nocc + nvir)"
   ]
  },
  {
   "cell_type": "markdown",
   "metadata": {},
   "source": [
    "## Orbital response, right hand side"
   ]
  },
  {
   "cell_type": "markdown",
   "metadata": {},
   "source": [
    "### 1. Contributions from the 1PDMs\n",
    "\\begin{equation}\n",
    "F^\\gamma_{ia}=\\sum_{\\theta,\\varphi}C^\\alpha_{\\varphi i}C^\\alpha_{\\theta a}\\sum_{\\mu,\\nu,\\sigma}\\gamma^\\sigma_{\\mu\\nu}(\\mu\\nu|\\theta \\varphi)-\\sum_{\\theta,\\varphi}C^\\alpha_{\\varphi i}C^\\alpha_{\\theta a}\\sum_{\\mu,\\nu}\\gamma^{\\alpha}_{\\mu\\nu}(\\mu\\varphi|\\theta\\nu)\\\\\n",
    "=\\sum_{\\theta,\\varphi,\\sigma}C^\\alpha_{\\varphi i}C^\\alpha_{\\theta a}F^{1,\\sigma}_{\\varphi\\theta}-\\sum_{\\theta,\\varphi}C^\\alpha_{\\varphi i}C^\\alpha_{\\theta a}F^{2,\\alpha}_{\\varphi\\theta}\\\\\n",
    "=\\sum_{\\theta,\\varphi}C^\\alpha_{\\varphi i}C^\\alpha_{\\theta a}F_{\\varphi\\theta}\n",
    "\\end{equation}"
   ]
  },
  {
   "cell_type": "code",
   "execution_count": null,
   "metadata": {},
   "outputs": [],
   "source": [
    "F1_vlx = numpy.einsum('mn,mntp->pt', vlx_dm_ao, pqrs)\n",
    "F2_vlx = numpy.einsum('mn,mptn->pt', vlx_dm_ao, pqrs)\n",
    "F_1pdm_vlx = F1_vlx - 0.5*F2_vlx\n",
    "vlx_1pdm_rhs = numpy.einsum('pi,pa->ia', mo_occ, numpy.einsum('ta,pt->pa', mo_vir, F_1pdm_vlx))\n",
    "print(vlx_1pdm_rhs)"
   ]
  },
  {
   "cell_type": "code",
   "execution_count": null,
   "metadata": {},
   "outputs": [],
   "source": [
    "#Use AODensityMatrix object to compute a Fock-like matrix\n",
    "#expect something like F_{\\varphi\\theta}, equation above\n",
    "#see linearsolver.py; we have to create a linear solver object:\n",
    "from veloxchem.linearsolver import LinearSolver\n",
    "from veloxchem.veloxchemlib import AOFockMatrix\n",
    "linear_solver_object = LinearSolver(comm, ostream)\n",
    "eri_dict = linear_solver_object.init_eri(molecule, basis)\n",
    "# DFT information\n",
    "dft_dict = linear_solver_object.init_dft(molecule, scfdrv.scf_tensors)\n",
    "# PE information\n",
    "pe_dict = linear_solver_object.init_pe(molecule, basis)\n",
    "timing_dict = {}\n",
    "fock_matrix_rhs_1pdm = AOFockMatrix(ao_density_object)\n",
    "print(fock_matrix_rhs_1pdm)\n",
    "linear_solver_object.comp_lr_fock(fock_matrix_rhs_1pdm, ao_density_object, molecule, basis,\n",
    "                                  eri_dict, dft_dict, pe_dict, timing_dict)\n",
    "print(\"Fock matrix from 1PDM, from LinearSolver\")\n",
    "print(fock_matrix_rhs_1pdm)\n",
    "print()\n",
    "print(\"Fock matrix from 1PDM, numpy.einsum\")\n",
    "print(2*F_1pdm_vlx)\n",
    "#We have to take 0.5*fock_matrix_rhs_1pdm because there is a sqrt(2) in the excitation vectors\n",
    "#(normalized? alpha+beta?, but we are looking only at the alpha-alpha block of the multipliers) \n",
    "rhs_1pdm_from_LinearSolver = numpy.einsum('pi,pa->ia', mo_occ,\n",
    "                            numpy.einsum('ta,pt->pa', mo_vir, 0.5*fock_matrix_rhs_1pdm.alpha_to_numpy(0)))\n",
    "print(\"\\nIn MO basis, 1PDM contribution to the RHS, LinearSolver:\")\n",
    "print(rhs_1pdm_from_LinearSolver)\n",
    "print()\n",
    "print(\"Original, for comparison:\")\n",
    "print(vlx_1pdm_rhs)"
   ]
  },
  {
   "cell_type": "code",
   "execution_count": null,
   "metadata": {},
   "outputs": [],
   "source": [
    "ooov = adc1.reference_state.eri(\"o1o1o1v1\").to_ndarray()\n",
    "ovvv = adc1.reference_state.eri(\"o1v1v1v1\").to_ndarray()\n",
    "adcc_1pdm_rhs = ( -numpy.einsum('jk,ikja->ia', adcc_dm_oo, ooov, optimize=True) \n",
    "                 -numpy.einsum('bc,icba->ia', adcc_dm_vv, ovvv, optimize=True)\n",
    "                )\n",
    "print(adcc_1pdm_rhs)"
   ]
  },
  {
   "cell_type": "markdown",
   "metadata": {},
   "source": [
    "### 2. Contributions from the 2PDMs\n",
    "\n",
    "\\begin{equation}\n",
    "F^\\Gamma_{ia}=\\sum_{\\mu,\\rho}C^\\alpha_{\\mu a}C^\\alpha_{\\rho i}\\left[\\sum_{\\tau,\\varphi}S_{\\rho\\tau}x^\\alpha_{\\tau\\varphi}\\sum_{\\nu,\\theta}x^\\alpha_{\\theta\\nu}(\\mu\\nu|\\theta\\varphi)-\\sum_{\\tau,\\nu}S_{\\rho\\tau}x^\\alpha_{\\tau\\nu}\\sum_{\\theta,\\varphi,\\sigma} x^\\sigma_{\\theta\\varphi}(\\mu\\nu|\\theta\\varphi)\\right]-\\sum_{\\mu,\\rho}C^\\alpha_{\\rho i}C^\\alpha_{\\mu a}\\left[\\sum_{\\tau,\\varphi}S_{\\mu\\tau}x^\\alpha_{\\tau\\varphi}\\sum_{\\nu,\\theta}x^\\alpha_{\\theta\\nu}(\\rho\\nu|\\theta\\varphi)-\\sum_{\\tau,\\nu} S_{\\mu\\tau}x^\\alpha_{\\tau\\nu}\\sum_{\\theta,\\varphi,\\sigma}x^\\sigma_{\\theta\\varphi}(\\rho\\nu|\\theta\\varphi) \\right]\n",
    "\\end{equation}\n",
    "\n",
    "Corrected Equation:\n",
    "\n",
    "\\begin{equation}\n",
    "F^\\Gamma_{ia}=\\sum_{\\mu,\\zeta}C^\\alpha_{\\mu i}C^\\alpha_{\\zeta a}\\sum_{\\rho,\\varphi}S_{\\rho\\zeta}x^\\alpha_{\\varphi\\rho}\\left[\\sum_{\\nu,\\theta}x^\\alpha_{\\theta\\nu}(\\mu\\nu|\\theta\\varphi)-\\sum_{\\theta,\\nu,\\sigma} x^\\sigma_{\\theta\\nu}(\\mu\\varphi|\\theta\\nu)\\right]-\\sum_{\\mu,\\zeta}C^\\alpha_{\\mu i}C^\\alpha_{\\zeta a}\\sum_{\\rho,\\varphi}S_{\\mu\\rho}x^\\alpha_{\\rho\\varphi}\\left[\\sum_{\\nu,\\theta}x^\\alpha_{\\nu\\theta}(\\zeta\\nu|\\theta\\varphi)-\\sum_{\\theta,\\nu,\\sigma}x^\\sigma_{\\nu\\theta}(\\zeta\\varphi|\\theta\\nu) \\right]\n",
    "\\end{equation}"
   ]
  },
  {
   "cell_type": "code",
   "execution_count": null,
   "metadata": {},
   "outputs": [],
   "source": [
    "# Care needs to be taken with the index order of the excitation vectors\n",
    "FG1 = ( numpy.einsum('rz,mr->mz', ovlp,\n",
    "                    numpy.einsum('pr,mp->mr', tda_eig_vec_ao,\n",
    "                        (0.5*numpy.einsum('tn,mntp->mp',tda_eig_vec_ao,pqrs)\n",
    "                        -numpy.einsum('tn,mptn->mp',tda_eig_vec_ao,pqrs))\n",
    "                                )\n",
    "                      )\n",
    "            )\n",
    "FG2 = ( numpy.einsum('mr,rz->mz', ovlp,\n",
    "                    numpy.einsum('rp,zp->rz', tda_eig_vec_ao,\n",
    "                        (0.5*numpy.einsum('nt,zntp->zp',tda_eig_vec_ao,pqrs)\n",
    "                        -numpy.einsum('nt,zptn->zp',tda_eig_vec_ao,pqrs))\n",
    "                                )\n",
    "                      )\n",
    "            )\n",
    "\n",
    "#FG1_try2 =( numpy.einsum('rz,mr->mz', ovlp,\n",
    "#                       numpy.einsum('pr,mp->mr', tda_eig_vec_ao,\n",
    "#                                    numpy.einsum('tn,mntp->mp',tda_eig_vec_ao,pqrs)\n",
    "#                                   )\n",
    "#                      )\n",
    "#            )\n",
    "#FG2_try2 =( numpy.einsum('rz,mr->mz', ovlp,\n",
    "#                       numpy.einsum('pr,mp->mr', tda_eig_vec_ao,\n",
    "#                                    numpy.einsum('tn,mptn->mp',tda_eig_vec_ao,pqrs)\n",
    "#                                   )\n",
    "#                      )\n",
    "#            )\n",
    "#FG3_try2 =( numpy.einsum('mr,rz->mz', ovlp,\n",
    "#                       numpy.einsum('rp,zp->rz', tda_eig_vec_ao,\n",
    "#                                    numpy.einsum('nt,zntp->zp',tda_eig_vec_ao,pqrs)\n",
    "#                                   )\n",
    "#                      )\n",
    "#            )\n",
    "#FG4_try2 =( numpy.einsum('mr,rz->mz', ovlp,\n",
    "#                       numpy.einsum('rp,zp->rz', tda_eig_vec_ao,\n",
    "#                                    numpy.einsum('nt,zptn->zp',tda_eig_vec_ao,pqrs)\n",
    "#                                   )\n",
    "#                      )\n",
    "#            )\n",
    "#\n",
    "#\n",
    "#FG1_vlx =( numpy.einsum('rz,zm->rm', ovlp,\n",
    "#                       numpy.einsum('zp,mp->zm', tda_eig_vec_ao,\n",
    "#                                    numpy.einsum('tn,mntp->mp',tda_eig_vec_ao,pqrs)\n",
    "#                                   )\n",
    "#                      )\n",
    "#            )\n",
    "#FG1_vlx_ovlp =( numpy.einsum('rp,mp->rm',\n",
    "#                numpy.einsum('rz,zp->rp', ovlp, tda_eig_vec_ao),\n",
    "#                numpy.einsum('tn,mntp->mp',tda_eig_vec_ao,pqrs)\n",
    "#                                   )\n",
    "#            )\n",
    "#\n",
    "#FG2_vlx =  numpy.einsum('rz,zm->rm', ovlp,\n",
    "#                       numpy.einsum('zn,nm->zm', tda_eig_vec_ao,\n",
    "#                                    numpy.einsum('tp,mntp->nm',tda_eig_vec_ao,pqrs)\n",
    "#                                   )\n",
    "#                      )\n",
    "#FG3_vlx =  numpy.einsum('mz,rz->rm', ovlp,\n",
    "#                       numpy.einsum('zp,rp->rz', tda_eig_vec_ao,\n",
    "#                                    numpy.einsum('tn,rntp->rp',tda_eig_vec_ao,pqrs)\n",
    "#                                   )\n",
    "#                      )\n",
    "#FG4_vlx =  numpy.einsum('mz,rz->rm', ovlp,\n",
    "#                       numpy.einsum('zn,rn->rz', tda_eig_vec_ao,\n",
    "#                                    numpy.einsum('tp,rntp->rn',tda_eig_vec_ao,pqrs)\n",
    "#                                   )\n",
    "#                      )\n",
    "print(\"eigenvector in MO:\")\n",
    "print(tda_eig_vec_as_mat)\n",
    "print()\n",
    "print(\"eigenvector in AO:\")\n",
    "print(tda_eig_vec_ao)\n",
    "print()\n",
    "# print(\"first term:\")\n",
    "# print(FG1_try2)\n",
    "# print()\n",
    "# print(\"first term:\")\n",
    "# print(FG1_vlx-FG2_vlx)\n",
    "# print()\n",
    "# F_2pdm_vlx_A = 0.5*FG1_try2 - FG2_try2 \n",
    "# F_2pdm_vlx_B =-0.5*FG3_try2 + FG4_try2\n",
    "\n",
    "# F_2pdm_vlx = F_2pdm_vlx_A + F_2pdm_vlx_B\n",
    "#print(F_2pdm_vlx)\n",
    "# another_vlx_2pdm_rhs = (numpy.einsum('mi,ma->ia', mo_occ, numpy.einsum('za,mz->ma', mo_vir, F_2pdm_vlx_A))\n",
    "#                 +numpy.einsum('mi,ma->ia', mo_occ, numpy.einsum('za,mz->ma', mo_vir, F_2pdm_vlx_B))\n",
    "#                )\n",
    "# vlx_2pdm_rhs = (numpy.einsum('mi,ma->ia', mo_occ, numpy.einsum('za,mz->ma', mo_vir, F_2pdm_vlx)))\n",
    "final_vlx_2pdm_rhs = (numpy.einsum('mi,ma->ia', mo_occ, numpy.einsum('za,mz->ma', mo_vir, FG1-FG2)))\n",
    "# print(vlx_2pdm_rhs)\n",
    "# print()\n",
    "# print(another_vlx_2pdm_rhs)         \n",
    "# print()\n",
    "print(final_vlx_2pdm_rhs)"
   ]
  },
  {
   "cell_type": "code",
   "execution_count": null,
   "metadata": {},
   "outputs": [],
   "source": [
    "#2PDM contribution, using AODensityMatrix, AOFockMatrix, LinearSolver\n",
    "#we need the transpose of the vector because of how the exchange part is calculated\n",
    "#(mn|tp)!=(mt|np), but (mn|tp)=(nm|tp)=(mn|pt)=(nm|pt) real orbitals \n",
    "ao_density_2pdm_1 = AODensityMatrix([tda_eig_vec_ao.T], denmat.rest)\n",
    "ao_density_2pdm_2 = AODensityMatrix([tda_eig_vec_ao], denmat.rest)\n",
    "ao_fock_2pdm_1 = AOFockMatrix(ao_density_2pdm_1)\n",
    "ao_fock_2pdm_2 =AOFockMatrix(ao_density_2pdm_2)\n",
    "linear_solver_2pdm_1 = LinearSolver(comm, ostream) #Can we use the same object?\n",
    "linear_solver_2pdm_1.comp_lr_fock(ao_fock_2pdm_1, ao_density_2pdm_1, molecule, basis,\n",
    "                                  eri_dict, dft_dict, pe_dict, timing_dict)\n",
    "linear_solver_2pdm_2 = LinearSolver(comm, ostream) #Can we use the same object?\n",
    "linear_solver_2pdm_2.comp_lr_fock(ao_fock_2pdm_2, ao_density_2pdm_2, molecule, basis,\n",
    "                                  eri_dict, dft_dict, pe_dict, timing_dict)\n",
    "                        \n",
    "fock_1 = (1.0*numpy.einsum('tn,mntp->mp',tda_eig_vec_ao,pqrs)\n",
    "        -2.0*numpy.einsum('mn,mnpt->pt',tda_eig_vec_ao,pqrs))\n",
    "\n",
    "fock_2 = (1.0*numpy.einsum('nt,zntp->zp',tda_eig_vec_ao,pqrs)\n",
    "        -2.0*numpy.einsum('nt,zptn->zp',tda_eig_vec_ao,pqrs))\n",
    "\n",
    "print(\"What we are after, 1st term:\")\n",
    "print(fock_1)\n",
    "print()\n",
    "print(\"What we get from comp_lr_fock using tda_eig_vec_ao.T:\")\n",
    "print(ao_fock_2pdm_1)\n",
    "print()\n",
    "print(\"What we are after, 2nd term:\")\n",
    "print(fock_2)\n",
    "print()\n",
    "print(\"What we get from comp_lr_fock using tda_eig_vec_ao:\")\n",
    "print(ao_fock_2pdm_2)\n",
    "print()\n",
    "LR_2pdm_F1 =  numpy.einsum('rz,mr->mz', ovlp,\n",
    "             numpy.einsum('pr,mp->mr', tda_eig_vec_ao, 0.5*ao_fock_2pdm_1.alpha_to_numpy(0)))\n",
    "LR_2pdm_F2 =  numpy.einsum('mr,rz->mz', ovlp,\n",
    "                    numpy.einsum('rp,zp->rz', tda_eig_vec_ao, 0.5*ao_fock_2pdm_2.alpha_to_numpy(0)))\n",
    "\n",
    "rhs_2pdm_from_LinearSolver = numpy.einsum('mi,ma->ia', mo_occ, \n",
    "                                          numpy.einsum('za,mz->ma', mo_vir, LR_2pdm_F2-LR_2pdm_F1))\n",
    "print(\"2PDM RHS using LinearSolver:\")\n",
    "print(rhs_2pdm_from_LinearSolver)\n",
    "print()\n",
    "print(\"2PDM RHS using numpy.einsum:\")\n",
    "print(final_vlx_2pdm_rhs)"
   ]
  },
  {
   "cell_type": "code",
   "execution_count": null,
   "metadata": {},
   "outputs": [],
   "source": [
    "# Compare to adcc\n",
    "adcc_2pdm_rhs = (numpy.einsum('jakb,ijkb->ia', adcc_DM_ovov, ooov, optimize=True)\n",
    "                + numpy.einsum('ibjc,jcab->ia', adcc_DM_ovov, ovvv, optimize=True)\n",
    "                )\n",
    "print(adcc_2pdm_rhs)\n",
    "#print(ooov)"
   ]
  },
  {
   "cell_type": "markdown",
   "metadata": {},
   "source": [
    "### INITIAL GUESS"
   ]
  },
  {
   "cell_type": "code",
   "execution_count": null,
   "metadata": {},
   "outputs": [],
   "source": [
    "# Neglect the non-diagonal part of the LHS,\n",
    "# i.e. divide the RHS by the orbital-energy difference\n",
    "vlx_rhs = final_vlx_2pdm_rhs + vlx_1pdm_rhs\n",
    "lambda_guess = numpy.zeros((nocc,nvir))\n",
    "mo_energies = scfdrv.scf_tensors['E']\n",
    "#print(mo_energies[nocc:])\n",
    "for i in range(nocc):\n",
    "    ei=mo_energies[i]\n",
    "    for a in range(nvir):\n",
    "        ea=mo_energies[nocc+a]\n",
    "        lambda_guess[i,a] = vlx_rhs[i,a]/(ei-ea)\n",
    "print(lambda_guess)"
   ]
  },
  {
   "cell_type": "code",
   "execution_count": null,
   "metadata": {},
   "outputs": [],
   "source": [
    "# Compare to the analogous calculation with adcc\n",
    "foo = adc1.reference_state.fock(\"o1o1\").to_ndarray() \n",
    "fvv = adc1.reference_state.fock(\"v1v1\").to_ndarray()\n",
    "\n",
    "adcc_rhs = adcc_1pdm_rhs + adcc_2pdm_rhs\n",
    "adcc_guess = adcc_rhs.copy() # rhs\n",
    "for i in range(foo.shape[0]):\n",
    "    for a in range(fvv.shape[0]):\n",
    "        adcc_guess[i,a] = adcc_guess[i,a]/(foo[i,i]-fvv[a,a])\n",
    "\n",
    "print(adcc_guess)"
   ]
  },
  {
   "cell_type": "code",
   "execution_count": null,
   "metadata": {},
   "outputs": [],
   "source": [
    "#A L = RHS\n",
    "# Transform the initial guess for lambda to the AO basis\n",
    "\n",
    "lambda_guess_ao = numpy.matmul(mo_occ, numpy.matmul(lambda_guess, mo_vir.T))\n",
    "print(lambda_guess_ao)\n",
    "\n",
    "#print(numpy.matmul(mo_occ, numpy.matmul(adcc_guess[:nocc,:nvir], mo_vir.T))[:nocc+nvir,:nocc+nvir])\n",
    "\n",
    "# Transform back to MO basis to check\n",
    "lambda_guess_back_to_mo = numpy.matmul(mo_occ.T, numpy.matmul(ovlp, numpy.matmul(lambda_guess_ao, numpy.matmul(ovlp, mo_vir))))\n",
    "print(lambda_guess_back_to_mo)"
   ]
  },
  {
   "cell_type": "markdown",
   "metadata": {},
   "source": [
    "### LHS: Contraction of the initial guess for $\\boldsymbol{\\lambda}$ with two-electron integrals"
   ]
  },
  {
   "cell_type": "markdown",
   "metadata": {},
   "source": [
    "wrong equation, spin not integrated out, which needs to be done at the beginning!\n",
    "\\begin{equation}\n",
    "    \\sum_{\\mu \\nu} C_{\\mu i} C_{\\nu a}\n",
    "    \\sum_{\\lambda \\sigma} \\big[\n",
    "    \\tilde{\\lambda}_{\\lambda \\sigma} ( \\mu \\nu | \\sigma \\lambda )\n",
    "    - \\tilde{\\lambda}_{\\lambda \\sigma} ( \\mu \\lambda | \\sigma \\nu )\n",
    "        \\big]\n",
    "    %+ (\\varepsilon_a - \\varepsilon_i ) \\gamma_{ia}\n",
    "\\end{equation}\n",
    "\n",
    "using $p=j, q=b$ as well as $p=b, q=j$ with the condition $\\lambda_{pq} = \\lambda_{qp}$, the probably correct one is obtained:\n",
    "\\begin{equation}\n",
    "    -\\sum_{pq} \\lambda_{pq} \\big( [pq|ai] - [pi|aq] \\big)\n",
    "    = -\\sum_{\\varphi \\theta} C_{\\varphi i} C_{\\theta a} \\sum_{\\mu \\nu}\n",
    "        \\lambda_{\\mu \\nu} \\big[ 4 (\\mu \\nu | \\varphi \\theta)\n",
    "        - (\\mu \\theta | \\varphi \\nu) - (\\nu \\theta | \\varphi \\mu) \\big]\n",
    "\\end{equation}"
   ]
  },
  {
   "cell_type": "code",
   "execution_count": null,
   "metadata": {},
   "outputs": [],
   "source": [
    "vlx_lhs1 = numpy.einsum('mn,mnpt->pt', lambda_guess_ao, pqrs)\n",
    "vlx_lhs2 = numpy.einsum('mn,mtpn->pt', lambda_guess_ao, pqrs)\n",
    "vlx_lhs3 = numpy.einsum('mn,ntpm->pt', lambda_guess_ao, pqrs)\n",
    "\n",
    "vlx_lhs_ao = -4*vlx_lhs1 + vlx_lhs2 + vlx_lhs3\n",
    "\n",
    "vlx_lhs_check = (-4*numpy.einsum('mn,mntp->pt', lambda_guess_ao, pqrs)\n",
    "                    + 1.0*numpy.einsum('mn,mtpn->pt', lambda_guess_ao, pqrs)\n",
    "                    + 1.0*numpy.einsum('mn,ntpm->pt', lambda_guess_ao, pqrs)\n",
    "                      )\n",
    "# Transform to MO\n",
    "vlx_lhs_mo = numpy.matmul(mo_occ.T, numpy.matmul(vlx_lhs_ao, mo_vir))\n",
    "#vlx_lhs_mo2 = numpy.einsum('pi,pa->ia', mo_occ, numpy.einsum('ta,pt->pa', mo_vir, vlx_lhs_ao))\n",
    "print(vlx_lhs_mo)\n",
    "print(\"Do we get the same result?\")\n",
    "print(vlx_lhs_ao)\n",
    "print()\n",
    "print(vlx_lhs_check)"
   ]
  },
  {
   "cell_type": "code",
   "execution_count": null,
   "metadata": {},
   "outputs": [],
   "source": [
    "#Lambda guess contracted with eri using AODensityMatrix, AOFockMatrix, LinearSolver\n",
    "ao_density_lambda = AODensityMatrix([lambda_guess_ao], denmat.rest)\n",
    "ao_fock_lambda = AOFockMatrix(ao_density_lambda)\n",
    "linear_solver_lambda = LinearSolver(comm, ostream) #Can we use the same object?\n",
    "linear_solver_lambda.comp_lr_fock(ao_fock_lambda, ao_density_lambda, molecule, basis,\n",
    "                                  eri_dict, dft_dict, pe_dict, timing_dict)\n",
    "\n",
    "L1_vlx = numpy.einsum('mn,mnpt->pt', lambda_guess_ao, pqrs)\n",
    "L2_vlx = numpy.einsum('mn,mptn->pt', lambda_guess_ao, pqrs)\n",
    "L_total_vlx = 2*L1_vlx - L2_vlx\n",
    "print(ao_fock_lambda)\n",
    "print()\n",
    "print(L_total_vlx)\n",
    "fock_lambda_numpy = ao_fock_lambda.alpha_to_numpy(0)\n",
    "print()\n",
    "print(fock_lambda_numpy)\n",
    "lambda_mo_from_fock = ( numpy.matmul(mo_occ.T, numpy.matmul(fock_lambda_numpy, mo_vir)) \n",
    "                       + numpy.matmul(mo_vir.T, numpy.matmul(fock_lambda_numpy, mo_occ)).T )\n",
    "print()\n",
    "print(\"In MO, using the Fock Matrix object\")\n",
    "print(lambda_mo_from_fock)\n",
    "print()\n",
    "print(\"From the Equation:\")\n",
    "print(vlx_lhs_mo)"
   ]
  },
  {
   "cell_type": "code",
   "execution_count": null,
   "metadata": {},
   "outputs": [],
   "source": [
    "#vlx_lhs3 = numpy.einsum('mn,mntp->pt', lambda_guess_ao, pqrs)\n",
    "#vlx_lhs4 = numpy.einsum('mn,mptn->pt', lambda_guess_ao, pqrs)\n",
    "#vlx_lhs_ao_try2 = -vlx_lhs3 + 0.5*vlx_lhs4\n",
    "#vlx_1pdm_lhs = numpy.einsum('pi,pa->ia', mo_occ, numpy.einsum('ta,pt->pa', mo_vir, vlx_lhs_ao_try2))\n",
    "#print(vlx_1pdm_lhs)"
   ]
  },
  {
   "cell_type": "markdown",
   "metadata": {},
   "source": [
    "### Equation derived using $p=j, q=b$ and $p=b, q=j$:\n",
    "\n",
    "\\begin{equation}\n",
    "-\\sum_{pq}\\lambda_{pq}\\langle pa||qi\\rangle = -\\sum_{\\theta\\varphi}C^\\alpha_{\\theta a}C^\\alpha_{\\varphi i} \\sum_{\\mu\\nu}(\\mu\\nu|\\theta\\varphi)\\sum_{j,b,\\sigma}C^\\sigma_{\\mu j} \\lambda_{jb} C^\\sigma_{\\nu b}+\\sum_{\\theta\\varphi}C^\\alpha_{\\theta a}C^\\alpha_{\\varphi i} \\sum_{\\mu\\nu}(\\mu\\varphi|\\theta\\nu)\\sum_{j,b}C^\\alpha_{\\mu j} \\lambda_{jb} C^\\alpha_{\\nu b}\\\\\n",
    "-\\sum_{\\theta\\varphi}C^\\alpha_{\\theta a}C^\\alpha_{\\varphi i} \\sum_{\\mu\\nu}(\\nu\\mu|\\theta\\varphi)\\sum_{j,b,\\sigma}C^\\sigma_{\\mu j} \\lambda_{jb} C^\\sigma_{\\nu b}+\\sum_{\\theta\\varphi}C^\\alpha_{\\theta a}C^\\alpha_{\\varphi i} \\sum_{\\mu\\nu}(\\nu\\varphi|\\theta\\mu)\\sum_{j,b}C^\\alpha_{\\mu j} \\lambda_{jb} C^\\alpha_{\\nu b}\\\\\n",
    "\\\\\n",
    "=-\\sum_{\\theta\\varphi}C^\\alpha_{\\theta a}C^\\alpha_{\\varphi i} \\sum_{\\mu\\nu}(\\mu\\nu|\\theta\\varphi)\\lambda^\\sigma_{\\mu\\nu}+\\sum_{\\theta\\varphi}C^\\alpha_{\\theta a}C^\\alpha_{\\varphi i} \\sum_{\\mu\\nu}(\\mu\\varphi|\\theta\\nu)\\lambda^\\alpha_{\\mu\\nu}\\\\\n",
    "-\\sum_{\\theta\\varphi}C^\\alpha_{\\theta a}C^\\alpha_{\\varphi i} \\sum_{\\mu\\nu}(\\nu\\mu|\\theta\\varphi)\\lambda^\\sigma_{\\mu\\nu}+\\sum_{\\theta\\varphi}C^\\alpha_{\\theta a}C^\\alpha_{\\varphi i} \\sum_{\\mu\\nu}(\\nu\\varphi|\\theta\\mu)\\lambda^\\alpha_{\\mu\\nu}\\\\\n",
    "\\\\\n",
    "=-2\\sum_{\\theta\\varphi}C^\\alpha_{\\theta a}C^\\alpha_{\\varphi i} \\sum_{\\mu\\nu,\\sigma}(\\mu\\nu|\\theta\\varphi)\\lambda^\\sigma_{\\mu\\nu}+\\sum_{\\theta\\varphi}C^\\alpha_{\\theta a}C^\\alpha_{\\varphi i} \\sum_{\\mu\\nu}(\\mu\\varphi|\\theta\\nu)\\lambda^\\alpha_{\\mu\\nu}+\\sum_{\\theta\\varphi}C^\\alpha_{\\theta a}C^\\alpha_{\\varphi i} \\sum_{\\mu\\nu}(\\nu\\varphi|\\theta\\mu)\\lambda^\\alpha_{\\mu\\nu}\n",
    "\\end{equation}"
   ]
  },
  {
   "cell_type": "code",
   "execution_count": null,
   "metadata": {},
   "outputs": [],
   "source": [
    "vlx_lhs5 = numpy.einsum('mn,mnpt->pt', lambda_guess_ao, pqrs)\n",
    "vlx_lhs6 = numpy.einsum('mn,mtpn->pt', lambda_guess_ao, pqrs)\n",
    "vlx_lhs7 = numpy.einsum('mn,ntpm->pt', lambda_guess_ao, pqrs)\n",
    "vlx_lhs_ao_try3 = -2*vlx_lhs5 + 0.5*vlx_lhs6 + 0.5*vlx_lhs7\n",
    "\n",
    "vlx_1pdm_lhs_new = numpy.einsum('pi,pa->ia', mo_occ, numpy.einsum('ta,pt->pa', mo_vir, vlx_lhs_ao_try3))\n",
    "print(vlx_1pdm_lhs_new)"
   ]
  },
  {
   "cell_type": "code",
   "execution_count": null,
   "metadata": {},
   "outputs": [],
   "source": [
    "print(\"vlx_lhs_mo:\")\n",
    "print(vlx_lhs_mo)\n",
    "print()\n",
    "print(\"lambda_guess:\")\n",
    "print(lambda_guess)"
   ]
  },
  {
   "cell_type": "code",
   "execution_count": null,
   "metadata": {},
   "outputs": [],
   "source": [
    "# Add product of guess and eigenvalue differences to LHS\n",
    "vlx_full_lhs = numpy.zeros((nocc,nvir))\n",
    "for i in range(nocc):\n",
    "    ei = mo_energies[i]\n",
    "    for a in range(nvir):\n",
    "        ea = mo_energies[nocc+a]\n",
    "        vlx_full_lhs[i,a] = vlx_lhs_mo[i,a] + lambda_guess[i,a]*(ei-ea)\n",
    "\n",
    "vlx_full_lhs_vec = vlx_full_lhs.reshape(nocc*nvir)\n",
    "vlx_rhs_vec = vlx_rhs.reshape(nocc*nvir)\n",
    "\n",
    "print(vlx_full_lhs_vec)\n",
    "print()\n",
    "print(vlx_rhs_vec)"
   ]
  },
  {
   "cell_type": "code",
   "execution_count": null,
   "metadata": {},
   "outputs": [],
   "source": [
    "from scipy.sparse import linalg"
   ]
  },
  {
   "cell_type": "code",
   "execution_count": null,
   "metadata": {},
   "outputs": [],
   "source": [
    "# Try conjugate gradient with identity matrix, full LHS and RHS\n",
    "# identity = numpy.identity(nocc*nvir)\n",
    "\n",
    "# solution, w = linalg.cg(A=identity, b=vlx_rhs_vec, x0=vlx_full_lhs_vec, tol=1e-6, maxiter=25)\n",
    "\n",
    "# print(solution)\n",
    "# print()\n",
    "# print(w)"
   ]
  },
  {
   "cell_type": "markdown",
   "metadata": {},
   "source": [
    "### Trying to define a linear Operator"
   ]
  },
  {
   "cell_type": "code",
   "execution_count": null,
   "metadata": {},
   "outputs": [],
   "source": [
    "# class vlx_lambda:\n",
    "#     def __init__(self, guess, eri, scf_tensors, nocc):\n",
    "#         \"\"\"Parameters:\n",
    "#         vlx_lambda: guess at current iteration for the lambda OV block\n",
    "#         eri: two electron repulsion integrals in AO basis (chemists notation)\n",
    "#         scf_tensors: from vlx scdrv\n",
    "#         nocc: number of occupied orbitals\n",
    "#         \"\"\"\n",
    "#         self.vector = guess\n",
    "#         self.eri = eri\n",
    "#         self.scf_tensors = scf_tensors\n",
    "#         #print(scf_tensors)\n",
    "#         self.nocc = nocc\n",
    "        \n",
    "def Ax(v):\n",
    "    \"\"\"Function to carry out matrix multiplication\n",
    "    of Lagrange multipier vector with orbital Hessian\n",
    "    matrix. Transforms guess to AO basis, carries out\n",
    "    matrix-vector product and transforms back to MO.\n",
    "    \n",
    "    v: lambda at current iteration\"\"\"\n",
    "    #print(\"Entering Ax(v)...:\")\n",
    "    #print(v)\n",
    "    #print()\n",
    "    #vlx_1pdm_lhs = 2.0*v\n",
    "    #mo_energies = v.scf_tensors['E']\n",
    "    #mo_occ = v.scf_tensors['C'][:,:nocc]\n",
    "    #mo_vir = v.scf_tensors['C'][:,nocc:]\n",
    "    #nvir = mo_vir.shape[1]\n",
    "    current_lambda = v.reshape(nocc,nvir)\n",
    "    print(\"VLX INPUT:\")\n",
    "    print(current_lambda)\n",
    "    print()\n",
    "    \n",
    "    #vlx_lambda_2_in_ao = numpy.matmul(mo_occ, numpy.matmul(new_v, mo_vir.T))\n",
    "    #L1_vlx = numpy.einsum('mn,mntp->pt', vlx_lambda_2_in_ao, pqrs)\n",
    "    #L2_vlx = numpy.einsum('mn,mptn->pt', vlx_lambda_2_in_ao, pqrs)\n",
    "    #L3_vlx = numpy.einsum('mn,nmtp->pt', vlx_lambda_2_in_ao, pqrs)\n",
    "    #L4_vlx = numpy.einsum('mn,nptm->pt', vlx_lambda_2_in_ao, pqrs)\n",
    "    #L_total_vlx = -2.0*L1_vlx + 1.0*L2_vlx - 2.0*L3_vlx + 1.0*L4_vlx\n",
    "    #vlx_lambda_lhs_2 = numpy.einsum('pi,pa->ia', mo_occ, numpy.einsum('ta,pt->pa', mo_vir, L_total_vlx))\n",
    "    #print(\"Vlx output using 4 terms:\")\n",
    "    #print(vlx_lambda_lhs_2)\n",
    "    \n",
    "    # Transform to AO\n",
    "    vlx_lambda_ao = numpy.matmul(mo_occ, numpy.matmul(current_lambda, mo_vir.T))\n",
    " \n",
    "    # Calculate the different contractions\n",
    "    vlx_lhs_interm = (-4*numpy.einsum('mn,mntp->pt', vlx_lambda_ao, pqrs)\n",
    "                    + 1.0*numpy.einsum('mn,mtpn->pt', vlx_lambda_ao, pqrs)\n",
    "                    + 1.0*numpy.einsum('mn,ntpm->pt', vlx_lambda_ao, pqrs)\n",
    "                      )\n",
    "    # Transform back to MO\n",
    "    vlx_1pdm_lhs = numpy.einsum('pi,pa->ia', mo_occ, numpy.einsum('ta,pt->pa', mo_vir, vlx_lhs_interm))\n",
    "    print(\"OLD AX: what we get using numpy einsum:\")\n",
    "    print(vlx_1pdm_lhs)\n",
    "\n",
    "# Add the diagonal part\n",
    "    for i in range(nocc):\n",
    "        ei = mo_energies[i]\n",
    "        for a in range(nvir):\n",
    "            ea = mo_energies[nocc+a]\n",
    "            vlx_1pdm_lhs[i,a] += current_lambda[i,a]*(ei-ea) \n",
    "    print(\"VLX OUTPUT:\")    \n",
    "    print(vlx_1pdm_lhs)\n",
    "    print()\n",
    "    return vlx_1pdm_lhs.reshape(nocc*nvir)\n",
    "    "
   ]
  },
  {
   "cell_type": "code",
   "execution_count": null,
   "metadata": {},
   "outputs": [],
   "source": [
    "def Ax_with_LinearSolver(v):\n",
    "    \"\"\"Function to carry out matrix multiplication\n",
    "    of Lagrange multipier vector with orbital Hessian\n",
    "    matrix, using AODensityMatrix, AOFockMatrix, and comp_lr_fock\n",
    "    Transforms guess to AO basis, carries out\n",
    "    matrix-vector product and transforms back to MO.\n",
    "    \n",
    "    v: lambda at current iteration\"\"\"\n",
    "    \n",
    "    current_lambda = v.reshape(nocc,nvir)\n",
    "    print(\"LinearSolver VLX INPUT:\")\n",
    "    print(current_lambda)\n",
    "    print()\n",
    "\n",
    "    # Transform to AO\n",
    "    vlx_lambda_ao = numpy.matmul(mo_occ, numpy.matmul(current_lambda, mo_vir.T))\n",
    "    \n",
    "    #Create AODensityMatrix object from lambda in AO\n",
    "    vlx_ao_density_lambda = AODensityMatrix([vlx_lambda_ao], denmat.rest)\n",
    "    \n",
    "    #Create a Fock Matrix Object (initialized with zeros)\n",
    "    vlx_fock_lambda = AOFockMatrix(vlx_ao_density_lambda)\n",
    "    \n",
    "    #Create linear solver object and compute the Fock matrix (contracts AODensityMatrix with ERI: 2J-K)\n",
    "    linear_solver_lambda = LinearSolver(comm, ostream) #Can we use the same object?\n",
    "    linear_solver_lambda.comp_lr_fock(vlx_fock_lambda, vlx_ao_density_lambda, molecule, basis,\n",
    "                                      eri_dict, dft_dict, pe_dict, timing_dict)\n",
    "\n",
    "    #Transform AOFockMatrix to numpy array (here we took only the alpha block)\n",
    "    vlx_fock_lambda_numpy = vlx_fock_lambda.alpha_to_numpy(0)\n",
    "    \n",
    "    \n",
    "    #Transform to MO basis (symmetrized w.r.t. occ. and virt.)\n",
    "    vlx_lambda_mo_from_fock = -( numpy.matmul(mo_occ.T, numpy.matmul(vlx_fock_lambda_numpy, mo_vir)) \n",
    "                               + numpy.matmul(mo_vir.T, numpy.matmul(vlx_fock_lambda_numpy, mo_occ)).T )\n",
    "\n",
    "#     print(\"What we get from LinearSolver:\")\n",
    "#     print(vlx_lambda_mo_from_fock)\n",
    "#     #Calculate the different contractions\n",
    "#     vlx_lhs_interm = (-4*numpy.einsum('mn,mntp->pt', vlx_lambda_ao, pqrs)\n",
    "#                     + 1.0*numpy.einsum('mn,mtpn->pt', vlx_lambda_ao, pqrs)\n",
    "#                     + 1.0*numpy.einsum('mn,ntpm->pt', vlx_lambda_ao, pqrs)\n",
    "#                       )\n",
    "#     # Transform back to MO\n",
    "#     vlx_1pdm_lhs = numpy.einsum('pi,pa->ia', mo_occ, numpy.einsum('ta,pt->pa', mo_vir, vlx_lhs_interm))\n",
    "\n",
    "#     print(\"What we get using numpy einsum:\")\n",
    "#     print(vlx_1pdm_lhs)\n",
    "    \n",
    "    # Add the diagonal part\n",
    "    for i in range(nocc):\n",
    "        ei = mo_energies[i]\n",
    "        for a in range(nvir):\n",
    "            ea = mo_energies[nocc+a]\n",
    "            vlx_lambda_mo_from_fock[i,a] += current_lambda[i,a]*(ei-ea) \n",
    "    print(\"LinearSolver VLX OUTPUT:\")    \n",
    "    print(vlx_lambda_mo_from_fock)\n",
    "    print()\n",
    "    return vlx_lambda_mo_from_fock.reshape(nocc*nvir)"
   ]
  },
  {
   "cell_type": "code",
   "execution_count": null,
   "metadata": {},
   "outputs": [],
   "source": [
    "Ax_with_LinearSolver(lambda_guess.reshape(nocc*nvir))"
   ]
  },
  {
   "cell_type": "code",
   "execution_count": null,
   "metadata": {},
   "outputs": [],
   "source": [
    "#new_lambda_guess = vlx_lambda(lambda_guess, pqrs, scfdrv.scf_tensors, nocc)\n",
    "# print(\"This is lambda guess\")\n",
    "vlx_guess_vec=lambda_guess.reshape(nocc*nvir)\n",
    "# print(vlx_guess_vec)\n",
    "# print()\n",
    "# print(\"This is the rhs:\")\n",
    "# print(vlx_rhs_vec)\n",
    "# print()\n",
    "# print(\"This is Ax(lambda_guess)\")\n",
    "# print(Ax(v).shape)\n",
    "# print()\n",
    "A = linalg.LinearOperator((nocc*nvir,nocc*nvir), matvec=Ax)\n",
    "\n",
    "print(\"Starting conjugate gradient:\")\n",
    "solution, w = linalg.cg(A=A, b=vlx_rhs_vec, x0=vlx_guess_vec, tol=1e-8, maxiter=25)\n",
    "\n",
    "print(\"The solution in matrix form:\")\n",
    "print(solution.reshape(nocc,nvir))"
   ]
  },
  {
   "cell_type": "code",
   "execution_count": null,
   "metadata": {},
   "outputs": [],
   "source": [
    "#Use Ax_with_LinearSolver for conjugate gradient\n",
    "lr_vlx_guess_vec=lambda_guess.reshape(nocc*nvir)\n",
    "\n",
    "print(\"Run Ax_with_LinearSolver once, lambda_guess as input:\")\n",
    "Ax_with_LinearSolver(lambda_guess.reshape(nocc*nvir))\n",
    "print()\n",
    "\n",
    "print(\"Create scipy.linalg LinearOperator:\")\n",
    "LR_A = linalg.LinearOperator((nocc*nvir,nocc*nvir), matvec=Ax_with_LinearSolver)\n",
    "\n",
    "LR_full_RHS_1d_vec = (rhs_2pdm_from_LinearSolver + rhs_1pdm_from_LinearSolver).reshape(nocc*nvir)\n",
    "\n",
    "print(\"Starting conjugate gradient...\")\n",
    "LR_solution, lr_w = linalg.cg(A=LR_A, b=LR_full_RHS_1d_vec, x0=LR_full_RHS_1d_vec.copy(), tol=1e-8, maxiter=25)\n",
    "\n",
    "print(\"The solution in matrix form:\")\n",
    "print(LR_solution.reshape(nocc,nvir))\n",
    "print()\n",
    "print(\"The solution using numpy.einsum:\")\n",
    "print(solution.reshape(nocc,nvir))\n",
    "#z1 = [[ 0.0007725 -0.000002 ]\n",
    "# [ 0.120848  -0.0000164]\n",
    "# [-0.0010734 -0.3172186]\n",
    "# [ 0.0731763  0.0005631]\n",
    "# [-0.         0.       ]]"
   ]
  },
  {
   "cell_type": "code",
   "execution_count": null,
   "metadata": {},
   "outputs": [],
   "source": [
    "AOVOV = numpy.ones(ovov.shape)   \n",
    "adcc_nocc = foo.shape[0]\n",
    "adcc_nvirt = fvv.shape[0]\n",
    "oovv = adc1.reference_state.eri(\"o1o1v1v1\").to_ndarray()\n",
    "#adcc_A = np.zeros((adcc_nocc*adcc_nvirt, adcc_nocc*adcc_nvirt))\n",
    "#these are supposed to be the elements that multiply lambda_jb\n",
    "AOVOV = ( numpy.einsum('iajb,ibja->iajb', AOVOV, ovov, optimize=True)\n",
    "         -numpy.einsum('iajb,ijab->iajb', AOVOV, oovv, optimize=True) \n",
    "        )\n",
    "#print(\"OOVV\\n\")\n",
    "#print(oovv)\n",
    "#print()\n",
    "for i in range(adcc_nocc):\n",
    "    for a in range(adcc_nvirt):\n",
    "        AOVOV[i,a,i,a] += foo[i,i]-fvv[a,a] #check signs!\n",
    "\n",
    "adcc_A = AOVOV.reshape(adcc_nocc*adcc_nvirt,adcc_nocc*adcc_nvirt)"
   ]
  },
  {
   "cell_type": "code",
   "execution_count": null,
   "metadata": {},
   "outputs": [],
   "source": [
    "adcc_1d_guess = numpy.reshape(adcc_guess, (adcc_nocc*adcc_nvirt))\n",
    "adcc_1d_rhs = numpy.reshape(adcc_rhs, (adcc_nocc*adcc_nvirt))\n",
    "\n",
    "# print(\"MATRIX A:\\n\")\n",
    "# print(adcc_A)\n",
    "# print()\n",
    "# print(\"GUESS:\\n\")\n",
    "# print(adcc_1d_guess)\n",
    "# print()\n",
    "# print(\"RHS:\\n\")\n",
    "# print(adcc_1d_rhs)\n",
    "# print()\n",
    "\n",
    "lov, w = linalg.cg(A=adcc_A, b=adcc_1d_rhs, x0=adcc_1d_guess, tol=1e-8, maxiter=25)"
   ]
  },
  {
   "cell_type": "code",
   "execution_count": null,
   "metadata": {},
   "outputs": [],
   "source": [
    "def adcc_Ax_MO(v):\n",
    "    print(\"Entering Ax_MO(v)...:\")\n",
    "    #print(v)\n",
    "    #print()\n",
    "    new_v = v.reshape(adcc_nocc,adcc_nvirt)\n",
    "    print(\"ADCC INPUT\")\n",
    "    print(new_v)\n",
    "    print()\n",
    "    adcc_1pdm_lhs = ( numpy.einsum('kb,kaib->ia', new_v, ovov, optimize=True)\n",
    "         -numpy.einsum('kb,kiba->ia', new_v, oovv, optimize=True) \n",
    "        )\n",
    "\n",
    "    # Add the diagonal part\n",
    "    for i in range(adcc_nocc):\n",
    "        ei = foo[i,i]\n",
    "        for a in range(adcc_nvirt):\n",
    "            ea = fvv[a,a]\n",
    "            adcc_1pdm_lhs[i,a] += new_v[i,a]*(ei-ea)\n",
    "    print(\"ADCC OUTPUT\")\n",
    "    print(adcc_1pdm_lhs)\n",
    "    print()\n",
    "    return adcc_1pdm_lhs.reshape(adcc_nocc*adcc_nvirt)\n",
    "\n",
    "adcc_Ax = linalg.LinearOperator((adcc_nocc*adcc_nvirt,adcc_nocc*adcc_nvirt), matvec=adcc_Ax_MO)\n",
    "adcc_solution, adcc_w = linalg.cg(A=adcc_Ax, b=adcc_1d_rhs, x0=adcc_1d_guess, tol=1e-8, maxiter=25)"
   ]
  },
  {
   "cell_type": "code",
   "execution_count": null,
   "metadata": {},
   "outputs": [],
   "source": [
    "print(\"MO basis, ADCC solution, regular CG\")\n",
    "print(lov.reshape(adcc_nocc,adcc_nvirt))\n",
    "print()\n",
    "print(\"MO basis, ADCC solution, Linear Operator\")\n",
    "print(adcc_solution.reshape(adcc_nocc, adcc_nvirt))\n",
    "print()\n",
    "print(\"AO basis, VLX solution, linear operator\")\n",
    "print(solution.reshape(nocc,nvir))"
   ]
  },
  {
   "cell_type": "code",
   "execution_count": null,
   "metadata": {},
   "outputs": [],
   "source": [
    "#solution, w = linalg.cg(A=A, b=vlx_rhs_vec, x0=vlx_guess_vec, tol=1e-8, maxiter=25)\n",
    "#adcc_solution, adcc_w = linalg.cg(A=adcc_Ax, b=adcc_1d_rhs, x0=adcc_1d_guess, tol=1e-8, maxiter=25)\n",
    "print(\"VLX RHS:\\n\")\n",
    "print(vlx_rhs_vec)\n",
    "print()\n",
    "print(\"ADCC RHS:\\n\")\n",
    "print(adcc_1d_rhs)\n",
    "print()\n",
    "print(\"VLX GUESS:\\n\")\n",
    "print(vlx_guess_vec)\n",
    "print()\n",
    "print(\"ADCC GUESS:\\n\")\n",
    "print(adcc_1d_guess)\n",
    "print()\n",
    "vlx_apply_Ax = Ax(vlx_guess_vec)\n",
    "adcc_apply_Ax = adcc_Ax_MO(adcc_1d_guess)\n",
    "print(\"VLX Ax(v)\\n\")\n",
    "print(vlx_apply_Ax)\n",
    "print()\n",
    "print(\"ADCC Ax(v)\\n\")\n",
    "print(adcc_apply_Ax)\n",
    "print()"
   ]
  },
  {
   "cell_type": "code",
   "execution_count": null,
   "metadata": {},
   "outputs": [],
   "source": [
    "# Calculate the total density (including SCF part)\n",
    "# and calculate the relaxed excited-state dipole moment\n",
    "\n",
    "# dipole integrals\n",
    "dipole_drv = vlx.ElectricDipoleIntegralsDriver(comm)\n",
    "dipole_mats = dipole_drv.compute(molecule, basis)\n",
    "dipole_ints = (dipole_mats.x_to_numpy(),\n",
    "              dipole_mats.y_to_numpy(),\n",
    "              dipole_mats.z_to_numpy())\n",
    "\n",
    "\n",
    "#vlx_lambda_ao_conv = numpy.matmul(mo_occ, numpy.matmul(solution.reshape(nocc,nvir), mo_vir.T))\n",
    "vlx_lambda_ao_conv = numpy.matmul(mo_occ, numpy.matmul(LR_solution.reshape(nocc,nvir), mo_vir.T))\n",
    "\n",
    "# electronic contribution\n",
    "# factor 4 because 2 for ov and vo blocks and 2 for alpha & beta spin\n",
    "total_density = 2*scfdrv.scf_tensors['D'][0] + vlx_dm_ao + 4*vlx_lambda_ao_conv\n",
    "adcc_total_density = 2*scfdrv.scf_tensors['D'][0] + adcc_dm_ao \n",
    "electronic_dipole = -1.0 * numpy.array(\n",
    "    [numpy.sum(dipole_ints[d] * total_density) for d in range(3)])\n",
    "adcc_electronic_dipole = -1.0 * numpy.array(\n",
    "    [numpy.sum(dipole_ints[d] * adcc_total_density) for d in range(3)])\n",
    "\n",
    "# nuclear contribution\n",
    "coords = molecule.get_coordinates()\n",
    "nuclear_charges = molecule.elem_ids_to_numpy()\n",
    "nuclear_dipole = numpy.sum(coords.T * nuclear_charges, axis=1)\n",
    "\n",
    "dipole_moment = (nuclear_dipole + electronic_dipole)\n",
    "total_dipole = numpy.linalg.norm(dipole_moment)\n",
    "adcc_dipole_moment = (nuclear_dipole + adcc_electronic_dipole)\n",
    "\n",
    "au_in_debye = vlx.veloxchemlib.dipole_in_debye()\n",
    "\n",
    "print(\"TDA/{} relaxed dipole moment in VeloxChem:\".format(basis.get_label()))\n",
    "print(\"Dipole moment [au]:\", dipole_moment)\n",
    "print(\"Total dipole: {0:.4f} au, {1:.4f} Debye\".format(total_dipole,\n",
    "                                                       total_dipole*au_in_debye))\n",
    "print()\n",
    "#print(\"adcc dm dipole moment [au] =\", adcc_dipole_moment)\n",
    "#print()\n",
    "print(\"CIS/STO-3G relaxed dipole moment for water in Q-Chem:\")\n",
    "print(\"Dipole moment [au]: [-0.0184062, 0.00000, -0.0076203]\")\n",
    "print(\"Total dipole: 0.020 au, 0.051 Debye\")\n",
    "print()\n",
    "print(\"CIS/6-31G relaxed dipole moment for water in Q-Chem:\")\n",
    "print(\"Dipole moment [au]: [-0.0424424,  0.00000,   -0.0256919]\")\n",
    "print(\"Total dipole: 0.050 au, 0.126 Debye\")"
   ]
  },
  {
   "cell_type": "code",
   "execution_count": null,
   "metadata": {},
   "outputs": [],
   "source": []
  },
  {
   "cell_type": "code",
   "execution_count": null,
   "metadata": {},
   "outputs": [],
   "source": []
  }
 ],
 "metadata": {
  "kernelspec": {
   "display_name": "Python 3",
   "language": "python",
   "name": "python3"
  },
  "language_info": {
   "codemirror_mode": {
    "name": "ipython",
    "version": 3
   },
   "file_extension": ".py",
   "mimetype": "text/x-python",
   "name": "python",
   "nbconvert_exporter": "python",
   "pygments_lexer": "ipython3",
   "version": "3.8.5"
  }
 },
 "nbformat": 4,
 "nbformat_minor": 4
}
