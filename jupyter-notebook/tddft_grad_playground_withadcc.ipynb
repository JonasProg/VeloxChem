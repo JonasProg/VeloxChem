{
 "cells": [
  {
   "cell_type": "code",
   "execution_count": 1,
   "metadata": {},
   "outputs": [
    {
     "name": "stdout",
     "output_type": "stream",
     "text": [
      "* Warning * Environment variable OMP_NUM_THREADS not set.\n",
      "* Warning * Setting OMP_NUM_THREADS to 8.\n"
     ]
    }
   ],
   "source": [
    "import veloxchem as vlx"
   ]
  },
  {
   "cell_type": "code",
   "execution_count": 2,
   "metadata": {},
   "outputs": [],
   "source": [
    "class MockTask:\n",
    "    def __init__(self, mol, basis, comm, ostream):\n",
    "\n",
    "        self.molecule = mol\n",
    "        self.ao_basis = basis\n",
    "        self.mpi_comm = comm\n",
    "        self.ostream = ostream"
   ]
  },
  {
   "cell_type": "code",
   "execution_count": 3,
   "metadata": {},
   "outputs": [],
   "source": [
    "import adcc\n",
    "from mpi4py import MPI\n",
    "import sys\n",
    "import numpy\n",
    "numpy.set_printoptions(precision=4, suppress=True)"
   ]
  },
  {
   "cell_type": "code",
   "execution_count": 4,
   "metadata": {},
   "outputs": [],
   "source": [
    "# Input settings\n",
    "molecule_string = \"\"\"\n",
    "    O 0 0 0\n",
    "    H 0 0 1.795239827225189\n",
    "    H 1.693194615993441 0 -0.599043184453037\"\"\"\n",
    "\n",
    "#molecule_string = \"\"\"\n",
    "#    H 0 0 0\n",
    "#    H 0 0 1.795239827225189\n",
    "#    \"\"\"\n",
    "\n",
    "basis_set_label = 'STO-3G'\n",
    "scf_settings = {'conv_thresh': 1.0e-6}\n",
    "method_settings = {} #{'xcfun': 'b3lyp', 'grid_level': 4}\n",
    "rsp_settings = {'conv_thresh': 1.0e-4, 'nstates': 2}"
   ]
  },
  {
   "cell_type": "code",
   "execution_count": 5,
   "metadata": {},
   "outputs": [],
   "source": [
    "# Communicator and output stream\n",
    "comm = MPI.COMM_WORLD\n",
    "ostream = vlx.OutputStream(sys.stdout)"
   ]
  },
  {
   "cell_type": "code",
   "execution_count": 6,
   "metadata": {},
   "outputs": [
    {
     "name": "stdout",
     "output_type": "stream",
     "text": [
      "                                              Molecular Geometry (Angstroms)                                              \n",
      "                                             ================================                                             \n",
      "                                                                                                                          \n",
      "                          Atom         Coordinate X          Coordinate Y          Coordinate Z                           \n",
      "                                                                                                                          \n",
      "                           O           0.000000000000        0.000000000000        0.000000000000                         \n",
      "                           H           0.000000000000        0.000000000000        0.950000004704                         \n",
      "                           H           0.896000004436        0.000000000000       -0.317000001569                         \n",
      "                                                                                                                          \n",
      "                                              Molecular Basis (Atomic Basis)                                              \n",
      "                                             ================================                                             \n",
      "                                                                                                                          \n",
      "                                  Basis: STO-3G                                                                           \n",
      "                                                                                                                          \n",
      "                                  Atom Contracted GTOs          Primitive GTOs                                            \n",
      "                                                                                                                          \n",
      "                                   H   (1S)                     (3S)                                                      \n",
      "                                   O   (2S,1P)                  (6S,3P)                                                   \n",
      "                                                                                                                          \n",
      "                                  Contracted Basis Functions : 7                                                          \n",
      "                                  Primitive Basis Functions  : 21                                                         \n",
      "                                                                                                                          \n"
     ]
    }
   ],
   "source": [
    "# Molecule and basis set\n",
    "molecule = vlx.Molecule.read_str(molecule_string, units='au')\n",
    "basis = vlx.MolecularBasis.read(molecule, basis_set_label)\n",
    "\n",
    "ostream.print_block(molecule.get_string())\n",
    "ostream.print_block(basis.get_string('Atomic Basis', molecule))\n",
    "ostream.flush()"
   ]
  },
  {
   "cell_type": "code",
   "execution_count": 7,
   "metadata": {},
   "outputs": [
    {
     "name": "stdout",
     "output_type": "stream",
     "text": [
      "                                                                                                                          \n",
      "                                            Self Consistent Field Driver Setup                                            \n",
      "                                           ====================================                                           \n",
      "                                                                                                                          \n",
      "                   Wave Function Model             : Spin-Restricted Hartree-Fock                                         \n",
      "                   Initial Guess Model             : Superposition of Atomic Densities                                    \n",
      "                   Convergence Accelerator         : Two Level Direct Inversion of Iterative Subspace                     \n",
      "                   Max. Number of Iterations       : 50                                                                   \n",
      "                   Max. Number of Error Vectors    : 10                                                                   \n",
      "                   Convergence Threshold           : 1.0e-06                                                              \n",
      "                   ERI Screening Scheme            : Cauchy Schwarz + Density                                             \n",
      "                   ERI Screening Mode              : Dynamic                                                              \n",
      "                   ERI Screening Threshold         : 1.0e-12                                                              \n",
      "                   Linear Dependence Threshold     : 1.0e-06                                                              \n",
      "                                                                                                                          \n",
      "* Info * Nuclear repulsion energy: 9.2514792692 au                                                                        \n",
      "                                                                                                                          \n",
      "* Info * Overlap matrix computed in 0.02 sec.                                                                             \n",
      "                                                                                                                          \n",
      "* Info * Kinetic energy matrix computed in 0.00 sec.                                                                      \n",
      "                                                                                                                          \n",
      "* Info * Nuclear potential matrix computed in 0.00 sec.                                                                   \n",
      "                                                                                                                          \n",
      "* Info * Orthogonalization matrix computed in 0.04 sec.                                                                   \n",
      "                                                                                                                          \n",
      "* Info * SAD initial guess computed in 0.00 sec.                                                                          \n",
      "                                                                                                                          \n",
      "* Info * Starting Reduced Basis SCF calculation...                                                                        \n",
      "* Info * ...done. SCF energy in reduced basis set: -74.959319283728 au. Time: 0.18 sec.                                   \n",
      "                                                                                                                          \n",
      "* Info * Overlap matrix computed in 0.02 sec.                                                                             \n",
      "                                                                                                                          \n",
      "* Info * Kinetic energy matrix computed in 0.02 sec.                                                                      \n",
      "                                                                                                                          \n",
      "* Info * Nuclear potential matrix computed in 0.02 sec.                                                                   \n",
      "                                                                                                                          \n",
      "* Info * Orthogonalization matrix computed in 0.00 sec.                                                                   \n",
      "                                                                                                                          \n",
      "                                                                                                                          \n",
      "               Iter. | Hartree-Fock Energy | Energy Change | Gradient Norm | Max. Gradient | Density Change               \n",
      "               --------------------------------------------------------------------------------------------               \n",
      "                  1       -74.959319286641    0.0000000000      0.00003237      0.00000781      0.00000000                \n",
      "                  2       -74.959319286972   -0.0000000003      0.00001030      0.00000238      0.00002812                \n",
      "                  3       -74.959319287015   -0.0000000000      0.00000057      0.00000013      0.00001419                \n",
      "                                                                                                                          \n",
      "               *** SCF converged in 3 iterations. Time: 0.14 sec.                                                         \n",
      "                                                                                                                          \n",
      "               Spin-Restricted Hartree-Fock:                                                                              \n",
      "               -----------------------------                                                                              \n",
      "               Total Energy                       :      -74.9593192870 au                                                \n",
      "               Electronic Energy                  :      -84.2107985563 au                                                \n",
      "               Nuclear Repulsion Energy           :        9.2514792692 au                                                \n",
      "               ------------------------------------                                                                       \n",
      "               Gradient Norm                      :        0.0000005744 au                                                \n",
      "                                                                                                                          \n",
      "               Ground State Information                                                                                   \n",
      "               ------------------------                                                                                   \n",
      "               Charge of Molecule            :  0.0                                                                       \n",
      "               Multiplicity (2S+1)           :  1.0                                                                       \n",
      "               Magnetic Quantum Number (S_z) :  0.0                                                                       \n",
      "                                                                                                                          \n",
      "                                                                                                                          \n",
      "                                                 Spin Restricted Orbitals                                                 \n",
      "                                                 ------------------------                                                 \n",
      "                                                                                                                          \n",
      "               Molecular Orbital No.   1:                                                                                 \n",
      "               --------------------------                                                                                 \n",
      "               Occupation: 2.0 Energy:  -20.23340 au                                                                      \n",
      "               (   1 O   1s  :    -0.99)                                                                                  \n",
      "                                                                                                                          \n",
      "               Molecular Orbital No.   2:                                                                                 \n",
      "               --------------------------                                                                                 \n",
      "               Occupation: 2.0 Energy:   -1.26571 au                                                                      \n",
      "               (   1 O   1s  :    -0.23) (   1 O   2s  :     0.83) (   2 H   1s  :     0.16)                              \n",
      "               (   3 H   1s  :     0.16)                                                                                  \n",
      "                                                                                                                          \n",
      "               Molecular Orbital No.   3:                                                                                 \n",
      "               --------------------------                                                                                 \n",
      "               Occupation: 2.0 Energy:   -0.62927 au                                                                      \n",
      "               (   1 O   1p+1:    -0.35) (   1 O   1p0 :     0.49) (   2 H   1s  :     0.44)                              \n",
      "               (   3 H   1s  :    -0.44)                                                                                  \n",
      "                                                                                                                          \n",
      "               Molecular Orbital No.   4:                                                                                 \n",
      "               --------------------------                                                                                 \n",
      "               Occupation: 2.0 Energy:   -0.44167 au                                                                      \n",
      "               (   1 O   2s  :    -0.52) (   1 O   1p+1:     0.65) (   1 O   1p0 :     0.46)                              \n",
      "               (   2 H   1s  :     0.27) (   3 H   1s  :     0.27)                                                        \n",
      "                                                                                                                          \n",
      "               Molecular Orbital No.   5:                                                                                 \n",
      "               --------------------------                                                                                 \n",
      "               Occupation: 2.0 Energy:   -0.38765 au                                                                      \n",
      "               (   1 O   1p-1:     1.00)                                                                                  \n",
      "                                                                                                                          \n",
      "               Molecular Orbital No.   6:                                                                                 \n",
      "               --------------------------                                                                                 \n",
      "               Occupation: 0.0 Energy:    0.60284 au                                                                      \n",
      "               (   1 O   2s  :     0.91) (   1 O   1p+1:     0.58) (   1 O   1p0 :     0.41)                              \n",
      "               (   2 H   1s  :    -0.81) (   3 H   1s  :    -0.81)                                                        \n",
      "                                                                                                                          \n",
      "               Molecular Orbital No.   7:                                                                                 \n",
      "               --------------------------                                                                                 \n",
      "               Occupation: 0.0 Energy:    0.76592 au                                                                      \n",
      "               (   1 O   1p+1:    -0.58) (   1 O   1p0 :     0.82) (   2 H   1s  :    -0.84)                              \n",
      "               (   3 H   1s  :     0.84)                                                                                  \n",
      "                                                                                                                          \n"
     ]
    }
   ],
   "source": [
    "# SCF\n",
    "task = MockTask(molecule, basis, comm, ostream)\n",
    "scfdrv = vlx.ScfRestrictedDriver(comm, ostream)\n",
    "scfdrv.update_settings(scf_settings, method_settings)\n",
    "scfdrv.compute(molecule, basis)\n",
    "scfdrv.task = task"
   ]
  },
  {
   "cell_type": "code",
   "execution_count": 8,
   "metadata": {},
   "outputs": [
    {
     "name": "stdout",
     "output_type": "stream",
     "text": [
      "                                                                                                                          \n",
      "                                                Ground-State Dipole Moment                                                \n",
      "                                               ----------------------------                                               \n",
      "                                                                                                                          \n",
      "                                   X   :         0.546314 a.u.         1.388593 Debye                                     \n",
      "                                   Y   :         0.000000 a.u.         0.000000 Debye                                     \n",
      "                                   Z   :         0.386302 a.u.         0.981881 Debye                                     \n",
      "                                 Total :         0.669095 a.u.         1.700671 Debye                                     \n",
      "                                                                                                                          \n"
     ]
    }
   ],
   "source": [
    "# SCF first-order properties\n",
    "scf_prop = vlx.ScfFirstOrderProperties(comm, ostream)\n",
    "scf_prop.compute(molecule, basis, scfdrv.scf_tensors)\n",
    "scf_prop.print_properties(molecule)"
   ]
  },
  {
   "cell_type": "code",
   "execution_count": 9,
   "metadata": {},
   "outputs": [],
   "source": [
    "# Linear Response\n",
    "#lr_eig_drv = vlx.LinearResponseEigenSolver(comm, ostream)\n",
    "#lr_eig_drv.update_settings(rsp_settings, method_settings)\n",
    "#lr_results = lr_eig_drv.compute(molecule, basis, scfdrv.scf_tensors)\n",
    "#lr_eig_drv.ostream.flush()"
   ]
  },
  {
   "cell_type": "code",
   "execution_count": 10,
   "metadata": {},
   "outputs": [
    {
     "name": "stdout",
     "output_type": "stream",
     "text": [
      "                                                                                                                          \n",
      "                                                     TDA Driver Setup                                                     \n",
      "                                                    ==================                                                    \n",
      "                                                                                                                          \n",
      "                               Number of States                : 2                                                        \n",
      "                               Max. Number of Iterations       : 150                                                      \n",
      "                               Convergence Threshold           : 1.0e-04                                                  \n",
      "                               ERI Screening Scheme            : Cauchy Schwarz + Density                                 \n",
      "                               ERI Screening Threshold         : 1.0e-15                                                  \n",
      "                                                                                                                          \n",
      "                   *** Iteration:   1 * Reduced Space:    2 * Residues (Max,Min): 1.22e-01 and 8.66e-05                   \n",
      "                                                                                                                          \n",
      "                   State  1: 0.48343620 au Residual Norm: 0.00008658                                                      \n",
      "                   State  2: 0.62684144 au Residual Norm: 0.12175409                                                      \n",
      "                                                                                                                          \n",
      "                   *** Iteration:   2 * Reduced Space:    4 * Residues (Max,Min): 6.10e-13 and 5.43e-16                   \n",
      "                                                                                                                          \n",
      "                   State  1: 0.48343611 au Residual Norm: 0.00000000                                                      \n",
      "                   State  2: 0.57420051 au Residual Norm: 0.00000000                                                      \n",
      "                                                                                                                          \n",
      "               *** 2 excited states converged in 2 iterations. Time: 0.04 sec                                             \n",
      "                                                                                                                          \n",
      "                                                                                                                          \n"
     ]
    }
   ],
   "source": [
    "# TDHF/TDA, i.e. CIS\n",
    "tda_drv = vlx.TDAExciDriver(comm, ostream)\n",
    "tda_drv.update_settings(rsp_settings, method_settings)\n",
    "tda_results = tda_drv.compute(molecule, basis, scfdrv.scf_tensors)\n",
    "tda_drv.ostream.flush()"
   ]
  },
  {
   "cell_type": "code",
   "execution_count": 11,
   "metadata": {},
   "outputs": [
    {
     "name": "stdout",
     "output_type": "stream",
     "text": [
      "mo_occ:\n",
      "[[-0.9941 -0.2329  0.0001  0.1002  0.    ]\n",
      " [-0.0268  0.8319 -0.0004 -0.5233 -0.    ]\n",
      " [ 0.0061  0.1603  0.4415  0.269  -0.    ]\n",
      " [ 0.0061  0.1601 -0.4416  0.2693  0.    ]\n",
      " [-0.     -0.      0.     -0.      1.    ]\n",
      " [-0.0025  0.0731  0.4902  0.4582  0.    ]\n",
      " [-0.0035  0.1032 -0.3464  0.6484  0.    ]]\n",
      "\n",
      "mo_vir:\n",
      "[[-0.1356 -0.0002]\n",
      " [ 0.9082  0.0017]\n",
      " [-0.8062 -0.8437]\n",
      " [-0.8082  0.8411]\n",
      " [ 0.     -0.    ]\n",
      " [ 0.4112  0.8244]\n",
      " [ 0.5841 -0.5815]]\n"
     ]
    }
   ],
   "source": [
    "# Get MO coefficients, eigenvalues and eigenvectors\n",
    "\n",
    "nocc = molecule.number_of_alpha_electrons()\n",
    "mo = scfdrv.scf_tensors['C'] # MO coefficients\n",
    "mo_occ = mo[:, :nocc]        # occupied\n",
    "mo_vir = mo[:, nocc:]        # virtual\n",
    "\n",
    "nocc = mo_occ.shape[1]\n",
    "nvir = mo_vir.shape[1]\n",
    "\n",
    "#eig_vals = lr_results[\"eigenvalues\"]\n",
    "#eig_vecs = lr_results[\"eigenvectors\"]\n",
    "\n",
    "#eig_vec = eig_vecs[:, 0].copy() # first eigenvector\n",
    "#print(eig_vec)\n",
    "print(\"mo_occ:\")\n",
    "print(mo_occ)\n",
    "print()\n",
    "print(\"mo_vir:\")\n",
    "print(mo_vir)"
   ]
  },
  {
   "cell_type": "code",
   "execution_count": 12,
   "metadata": {},
   "outputs": [
    {
     "name": "stdout",
     "output_type": "stream",
     "text": [
      "dict_keys(['C', 'E', 'S', 'D', 'F'])\n",
      "[[ 1. -0. -0. -0. -0.  0.  0.]\n",
      " [-0.  1.  0. -0. -0. -0. -0.]\n",
      " [-0.  0.  1.  0.  0.  0. -0.]\n",
      " [-0. -0.  0.  1. -0. -0.  0.]\n",
      " [-0. -0.  0. -0.  1.  0.  0.]\n",
      " [ 0. -0.  0. -0.  0.  1. -0.]\n",
      " [ 0. -0. -0.  0.  0. -0.  1.]]\n",
      "[[-20.2334   0.      -0.       0.      -0.       0.       0.    ]\n",
      " [  0.      -1.2657   0.      -0.       0.       0.       0.    ]\n",
      " [ -0.       0.      -0.6293   0.      -0.       0.      -0.    ]\n",
      " [  0.      -0.       0.      -0.4417  -0.       0.       0.    ]\n",
      " [ -0.       0.      -0.      -0.      -0.3876  -0.       0.    ]\n",
      " [  0.       0.       0.       0.      -0.       0.6028   0.    ]\n",
      " [  0.       0.      -0.       0.       0.       0.       0.7659]]\n"
     ]
    }
   ],
   "source": [
    "print(scfdrv.scf_tensors.keys())\n",
    "# Transform the Fock matrix from AO to MO basis\n",
    "fock = scfdrv.scf_tensors['F'][0]\n",
    "ovlp = scfdrv.scf_tensors['S']\n",
    "print(numpy.matmul(mo.T, numpy.matmul(ovlp, mo)))\n",
    "print(numpy.matmul(mo.T, numpy.matmul(fock, mo)))"
   ]
  },
  {
   "cell_type": "code",
   "execution_count": 13,
   "metadata": {},
   "outputs": [],
   "source": [
    "# Convert the first eigenvector to matrix form\n",
    "#eig_vec_as_mat = vlx.LinearResponseEigenSolver.lrvec2mat(eig_vec, nocc, nocc + nvir)"
   ]
  },
  {
   "cell_type": "code",
   "execution_count": 14,
   "metadata": {},
   "outputs": [],
   "source": [
    "tda_eig_vals = tda_results[\"eigenvalues\"]\n",
    "tda_eig_vecs = tda_results[\"eigenvectors\"]\n",
    "tda_size = tda_eig_vecs[:,0].shape\n",
    "tda_eig_vec=tda_eig_vecs[:,0].copy()\n",
    "tda_eig_vec_as_mat = tda_eig_vec.reshape(nocc, nvir) #/ numpy.sqrt(2.0)"
   ]
  },
  {
   "cell_type": "code",
   "execution_count": 15,
   "metadata": {},
   "outputs": [
    {
     "name": "stdout",
     "output_type": "stream",
     "text": [
      "[ 0.     0.    -0.    -0.     0.     0.    -0.     0.     1.    -0.001]\n"
     ]
    }
   ],
   "source": [
    "print(tda_eig_vec)"
   ]
  },
  {
   "cell_type": "code",
   "execution_count": 16,
   "metadata": {},
   "outputs": [],
   "source": [
    "#tda_eig_vec_as_mat = vlx.LinearResponseEigenSolver.lrvec2mat(tda_eig_vec, nocc, nocc + nvir)"
   ]
  },
  {
   "cell_type": "code",
   "execution_count": 17,
   "metadata": {},
   "outputs": [
    {
     "name": "stdout",
     "output_type": "stream",
     "text": [
      "[[ 0.     0.   ]\n",
      " [-0.    -0.   ]\n",
      " [ 0.     0.   ]\n",
      " [-0.     0.   ]\n",
      " [ 1.    -0.001]]\n"
     ]
    }
   ],
   "source": [
    "print(tda_eig_vec_as_mat)"
   ]
  },
  {
   "cell_type": "code",
   "execution_count": 18,
   "metadata": {},
   "outputs": [
    {
     "name": "stdout",
     "output_type": "stream",
     "text": [
      "Starting adc1 singlet Jacobi-Davidson ...\n",
      "Niter n_ss  max_residual  time  Ritz values\n",
      "  1     6     0.0028135   13ms  [0.4834 0.5742 0.6052]\n",
      "  2    10    2.6269e-29   17ms  [0.4834 0.5742 0.6021]\n",
      "=== Converged ===\n",
      "    Number of matrix applies:    10\n",
      "    Total solver time:           32.316ms\n"
     ]
    }
   ],
   "source": [
    "adc1 = adcc.run_adc(scfdrv, method='adc1', n_singlets=3, conv_tol=1e-4)"
   ]
  },
  {
   "cell_type": "code",
   "execution_count": 19,
   "metadata": {},
   "outputs": [
    {
     "name": "stderr",
     "output_type": "stream",
     "text": [
      "/home/manu/.local/lib/python3.8/site-packages/adcc/AmplitudeVector.py:78: UserWarning: Using the list interface of AmplitudeVector is deprecated and will be removed in version 0.16.0. Use block labels like 'ph', 'pphh' instead.\n",
      "  warnings.warn(\"Using the list interface of AmplitudeVector is \"\n"
     ]
    },
    {
     "data": {
      "text/plain": [
       "array([[-0.2108,  0.    , -0.1424],\n",
       "       [ 0.0419,  0.    ,  0.0234],\n",
       "       [-0.3315, -0.    , -0.2288]])"
      ]
     },
     "execution_count": 19,
     "metadata": {},
     "output_type": "execute_result"
    }
   ],
   "source": [
    "adc1_eig_vec = adc1.excitation_vector[0][\"s\"].to_ndarray()\n",
    "adc1_eig_vals = adc1.excitation_energy\n",
    "adc1.state_dipole_moment"
   ]
  },
  {
   "cell_type": "code",
   "execution_count": 20,
   "metadata": {},
   "outputs": [
    {
     "name": "stdout",
     "output_type": "stream",
     "text": [
      "[[ 0.      0.      0.      0.    ]\n",
      " [-0.      0.      0.      0.    ]\n",
      " [-0.     -0.      0.      0.    ]\n",
      " [ 0.      0.      0.      0.    ]\n",
      " [-0.7071  0.0007  0.      0.    ]\n",
      " [ 0.      0.      0.      0.    ]\n",
      " [ 0.      0.     -0.      0.    ]\n",
      " [ 0.      0.     -0.     -0.    ]\n",
      " [ 0.      0.      0.      0.    ]\n",
      " [ 0.      0.     -0.7071  0.0007]]\n",
      "[0.4834 0.5742 0.6021]\n",
      "+----------------------------------------------------+\n",
      "| adc1                          singlet ,  converged |\n",
      "+----------------------------------------------------+\n",
      "|  #        excitation energy     osc str    |v1|^2  |\n",
      "|          (au)           (eV)                       |\n",
      "|  0     0.4834361      13.15497   0.0038         1  |\n",
      "|  1     0.5742004      15.62479   0.0000         1  |\n",
      "|  2      0.602137      16.38498   0.0546         1  |\n",
      "+----------------------------------------------------+\n",
      "\n"
     ]
    }
   ],
   "source": [
    "print(adc1_eig_vec)\n",
    "print(adc1_eig_vals)\n",
    "print(adc1.describe())"
   ]
  },
  {
   "cell_type": "code",
   "execution_count": 21,
   "metadata": {},
   "outputs": [
    {
     "name": "stdout",
     "output_type": "stream",
     "text": [
      "[ 0.     0.    -0.    -0.     0.     0.    -0.     0.     1.    -0.001]\n",
      "[0.4834 0.5742]\n"
     ]
    }
   ],
   "source": [
    "print(tda_eig_vecs[:,0])\n",
    "print(tda_eig_vals)"
   ]
  },
  {
   "cell_type": "code",
   "execution_count": 22,
   "metadata": {},
   "outputs": [
    {
     "data": {
      "text/plain": [
       "0.9999999999999998"
      ]
     },
     "execution_count": 22,
     "metadata": {},
     "output_type": "execute_result"
    }
   ],
   "source": [
    "numpy.linalg.norm(adc1_eig_vec)"
   ]
  },
  {
   "cell_type": "code",
   "execution_count": 23,
   "metadata": {},
   "outputs": [
    {
     "data": {
      "text/plain": [
       "0.7071064276331569"
      ]
     },
     "execution_count": 23,
     "metadata": {},
     "output_type": "execute_result"
    }
   ],
   "source": [
    "0.9999995/numpy.sqrt(2.0)"
   ]
  },
  {
   "cell_type": "code",
   "execution_count": 24,
   "metadata": {},
   "outputs": [
    {
     "data": {
      "text/plain": [
       "0.0006745091585738476"
      ]
     },
     "execution_count": 24,
     "metadata": {},
     "output_type": "execute_result"
    }
   ],
   "source": [
    "0.0009539/numpy.sqrt(2.0)"
   ]
  },
  {
   "cell_type": "code",
   "execution_count": 25,
   "metadata": {},
   "outputs": [
    {
     "name": "stdout",
     "output_type": "stream",
     "text": [
      "(10, 4)\n",
      "[[ 0.      0.      0.      0.    ]\n",
      " [-0.      0.      0.      0.    ]\n",
      " [-0.     -0.      0.      0.    ]\n",
      " [ 0.      0.      0.      0.    ]\n",
      " [-0.7071  0.0007  0.      0.    ]\n",
      " [ 0.      0.      0.      0.    ]\n",
      " [ 0.      0.     -0.      0.    ]\n",
      " [ 0.      0.     -0.     -0.    ]\n",
      " [ 0.      0.      0.      0.    ]\n",
      " [ 0.      0.     -0.7071  0.0007]]\n",
      "\n",
      "(5, 2)\n",
      "[[ 0.      0.    ]\n",
      " [-0.     -0.    ]\n",
      " [ 0.      0.    ]\n",
      " [-0.      0.    ]\n",
      " [ 0.7071 -0.0007]]\n"
     ]
    }
   ],
   "source": [
    "print(adc1_eig_vec.shape)\n",
    "print(adc1_eig_vec)\n",
    "print()\n",
    "print(tda_eig_vec_as_mat.shape)\n",
    "print(tda_eig_vec_as_mat/numpy.sqrt(2))"
   ]
  },
  {
   "cell_type": "code",
   "execution_count": 26,
   "metadata": {},
   "outputs": [
    {
     "name": "stdout",
     "output_type": "stream",
     "text": [
      "[[-0.  0. -0.  0. -0.]\n",
      " [ 0. -0.  0. -0.  0.]\n",
      " [-0.  0. -0.  0. -0.]\n",
      " [ 0. -0.  0. -0.  0.]\n",
      " [-0.  0. -0.  0. -1.]]\n"
     ]
    }
   ],
   "source": [
    "vlx_dm_oo = -numpy.einsum('ia,ja->ij', tda_eig_vec_as_mat, tda_eig_vec_as_mat)\n",
    "vlx_dm_vv = numpy.einsum('ia,ib->ab', tda_eig_vec_as_mat, tda_eig_vec_as_mat)\n",
    "vlx_DM_ovov = -numpy.einsum('ib,ja->iajb', tda_eig_vec_as_mat, tda_eig_vec_as_mat)\n",
    "\n",
    "print(vlx_dm_oo)"
   ]
  },
  {
   "cell_type": "code",
   "execution_count": 27,
   "metadata": {},
   "outputs": [],
   "source": [
    "adcc_dm_oo = -numpy.einsum('ia,ja->ij', adc1_eig_vec, adc1_eig_vec)\n",
    "adcc_dm_vv = numpy.einsum('ia,ib->ab', adc1_eig_vec, adc1_eig_vec)\n",
    "adcc_DM_ovov = -numpy.einsum('ib,ja->iajb', adc1_eig_vec, adc1_eig_vec)\n",
    "\n",
    "#print(adcc_dm_oo)\n",
    "\n",
    "foo = adc1.reference_state.fock(\"o1o1\").to_ndarray()\n",
    "fvv = adc1.reference_state.fock(\"v1v1\").to_ndarray()\n",
    "ovov = adc1.reference_state.eri(\"o1v1o1v1\").to_ndarray()\n",
    "\n",
    "adcc_excitation_energy = (numpy.einsum('ij,ij->',adcc_dm_oo,foo)\n",
    "                     + numpy.einsum('ab,ab->', adcc_dm_vv, fvv)\n",
    "                     + numpy.einsum('iajb,iajb->', adcc_DM_ovov, ovov)\n",
    "                    )"
   ]
  },
  {
   "cell_type": "code",
   "execution_count": 28,
   "metadata": {},
   "outputs": [
    {
     "name": "stdout",
     "output_type": "stream",
     "text": [
      "0.4834361086240123\n"
     ]
    }
   ],
   "source": [
    "print(adcc_excitation_energy)"
   ]
  },
  {
   "cell_type": "markdown",
   "metadata": {},
   "source": [
    "$E = \\frac{1}{4} \\sum_{pqrs} \\Gamma_{pqrs} \\langle pq || rs \\rangle$\n",
    "\n",
    "$\\langle ia || jb \\rangle = - \\langle ai || jb \\rangle = - \\langle ia || bj \\rangle = \\langle ai || bj \\rangle$\n",
    "\n",
    "analogous symmetry for $\\boldsymbol{\\Gamma}$"
   ]
  },
  {
   "cell_type": "code",
   "execution_count": 29,
   "metadata": {},
   "outputs": [
    {
     "name": "stdout",
     "output_type": "stream",
     "text": [
      "vlx energy = 0.48343610862401276\n"
     ]
    }
   ],
   "source": [
    "vlx_excitation_energy = (1.0*numpy.einsum('ij,ij->', vlx_dm_oo,foo[:nocc,:nocc])\n",
    "                        +1.0*numpy.einsum('ab,ab->', vlx_dm_vv, fvv[:nvir,:nvir])\n",
    "                        +1.0*(\n",
    "                        +1.0*numpy.einsum('iajb,iajb->', vlx_DM_ovov, ovov[:nocc, :nvir, :nocc, :nvir])##aaaa\n",
    "                        #+0.0*numpy.einsum('iajb,iajb->', vlx_DM_ovov, ovov[:nocc, :nvir, :nocc, nvir:])# zero block\n",
    "                        #+1.0*numpy.einsum('iajb,iajb->', vlx_DM_ovov, ovov[:nocc, :nvir, nocc:, :nvir])# zero block\n",
    "                        #+1.0*numpy.einsum('iajb,iajb->', vlx_DM_ovov, ovov[:nocc, :nvir, nocc:, nvir:])# zero block\n",
    "                        #+1.0*numpy.einsum('iajb,iajb->', vlx_DM_ovov, ovov[:nocc, nvir:, :nocc, :nvir])# zero block\n",
    "                        #+1.0*numpy.einsum('iajb,iajb->', vlx_DM_ovov, ovov[:nocc, nvir:, :nocc, nvir:])# zero block\n",
    "                        +1.0*numpy.einsum('iajb,iajb->', vlx_DM_ovov, ovov[:nocc, nvir:, nocc:, :nvir])##bbbb\n",
    "                        #+1.0*numpy.einsum('iajb,iajb->', vlx_DM_ovov, ovov[:nocc, nvir:, nocc:, nvir:])# zero block\n",
    "                        #+1.0*numpy.einsum('iajb,iajb->', vlx_DM_ovov, ovov[nocc:, :nvir, :nocc, :nvir])# zero block\n",
    "                        #+1.0*numpy.einsum('iajb,iajb->', vlx_DM_ovov, ovov[nocc:, :nvir, :nocc, nvir:])##abba\n",
    "                        #+1.0*numpy.einsum('iajb,iajb->', vlx_DM_ovov, ovov[nocc:, :nvir, nocc:, :nvir])# zero block\n",
    "                        #+1.0*numpy.einsum('iajb,iajb->', vlx_DM_ovov, ovov[nocc:, nvir:, :nocc, :nvir])# zero block\n",
    "                        #+1.0*numpy.einsum('iajb,iajb->', vlx_DM_ovov, ovov[nocc:, nvir:, :nocc, nvir:])# zero block\n",
    "                        #+1.0*numpy.einsum('iajb,iajb->', vlx_DM_ovov, ovov[nocc:, nvir:, nocc:, :nvir])# zero block\n",
    "                        #+1.0*numpy.einsum('iajb,iajb->', vlx_DM_ovov, ovov[nocc:, nvir:, nocc:, nvir:])##baab\n",
    "                        ))\n",
    "print(\"vlx energy =\", vlx_excitation_energy)"
   ]
  },
  {
   "cell_type": "code",
   "execution_count": 30,
   "metadata": {},
   "outputs": [
    {
     "name": "stdout",
     "output_type": "stream",
     "text": [
      "0.48343610862401276\n"
     ]
    }
   ],
   "source": [
    "print(vlx_excitation_energy)"
   ]
  },
  {
   "cell_type": "code",
   "execution_count": 31,
   "metadata": {},
   "outputs": [
    {
     "name": "stdout",
     "output_type": "stream",
     "text": [
      "0.4834361086226621\n"
     ]
    }
   ],
   "source": [
    "adcc_excitation_energy = (1.0*numpy.einsum('ij,ij->', vlx_dm_oo,foo[:nocc,:nocc])\n",
    "                        +1.0*numpy.einsum('ab,ab->', vlx_dm_vv, fvv[:nvir,:nvir])\n",
    "                        +2.0*numpy.einsum('iajb,iajb->', adcc_DM_ovov[:nocc, :nvir, :nocc, :nvir], ovov[:nocc, :nvir, :nocc, :nvir])\n",
    "                        +2.0*numpy.einsum('iajb,iajb->', adcc_DM_ovov[:nocc, :nvir, :nocc, :nvir], ovov[:nocc, nvir:, nocc:, :nvir])\n",
    "    )\n",
    "print(adcc_excitation_energy)"
   ]
  },
  {
   "cell_type": "code",
   "execution_count": 32,
   "metadata": {},
   "outputs": [
    {
     "name": "stdout",
     "output_type": "stream",
     "text": [
      "(10, 4, 10, 4)\n"
     ]
    }
   ],
   "source": [
    "print(ovov.shape)\n",
    "#print(ovov)"
   ]
  },
  {
   "cell_type": "code",
   "execution_count": 33,
   "metadata": {},
   "outputs": [
    {
     "name": "stdout",
     "output_type": "stream",
     "text": [
      "(5, 2, 5, 2)\n"
     ]
    }
   ],
   "source": [
    "#print(vlx_DM_ovov)\n",
    "#print()\n",
    "print(vlx_DM_ovov.shape)\n",
    "#print(adcc_DM_ovov)"
   ]
  },
  {
   "cell_type": "code",
   "execution_count": 34,
   "metadata": {},
   "outputs": [],
   "source": [
    "# Making the Vlx 2PDM twice the size with the other spin blocks\n",
    "# and assign the corresponding values to it by comparing to the adcc matrix\n",
    "# afterwards divide by two to yield the same numbers\n",
    "##vlx_DM_ovov_full = numpy.zeros((2*nocc, 2*nvir, 2*nocc, 2*nvir))\n",
    "#vlx_DM_ovov_full[:nocc, :nvir, :nocc, :nvir] = vlx_DM_ovov\n",
    "##vlx_DM_ovov_full[0, 0, 0, 0] = vlx_DM_ovov_full[0, 3, 1, 0] = vlx_DM_ovov_full[1,0,0,3] = vlx_DM_ovov_full[1,3,1,3] = vlx_DM_ovov[0,0,0,0]\n",
    "##vlx_DM_ovov_full[0, 0, 0, 2] = vlx_DM_ovov_full[0, 2, 0, 0] = vlx_DM_ovov_full[0,3,1,2] = vlx_DM_ovov_full[0,5,1,0] = vlx_DM_ovov[0,2,0,0]\n",
    "##vlx_DM_ovov_full[1, 0, 0, 5] = vlx_DM_ovov_full[1, 2, 0, 3] = vlx_DM_ovov_full[1,3,1,5] = vlx_DM_ovov_full[1,5,1,3] = vlx_DM_ovov[0,2,0,0]\n",
    "##vlx_DM_ovov_full[0, 2, 0, 2] = vlx_DM_ovov_full[0, 5, 1, 2] = vlx_DM_ovov_full[1,2,0,5] = vlx_DM_ovov_full[1,5,1,5] = vlx_DM_ovov[0,2,0,2]\n",
    "\n",
    "### matrix elements were twice as large\n",
    "##vlx_DM_ovov_full *= 0.5\n",
    "# norm of the difference between the two density matrices does not seem to vanish entirely...\n",
    "##print(\"norm of the difference of the 2PDMs = \", numpy.linalg.norm(adcc_DM_ovov - vlx_DM_ovov_full))\n",
    "#print(vlx_DM_ovov_full)\n",
    "##vlx_excitation_energy = (1.0*numpy.einsum('ij,ij->', vlx_dm_oo,foo[:nocc,:nocc])\n",
    "##                        #(1.0*numpy.einsum('ij,ij->', adcc_dm_oo,foo)\n",
    "##                        #+1.0*numpy.einsum('ij,ij->', adcc_dm_vv,fvv)\n",
    "##                        +1.0*numpy.einsum('ab,ab->', vlx_dm_vv, fvv[:nvir,:nvir])\n",
    "##                        +1.0*numpy.einsum('iajb,iajb->', vlx_DM_ovov_full, ovov)\n",
    "##                        )\n",
    "##print(\"vlx exc. energy =\", vlx_excitation_energy)\n",
    "#print(\"adcc - vlx =\", adcc_excitation_energy - vlx_excitation_energy)"
   ]
  },
  {
   "cell_type": "code",
   "execution_count": 35,
   "metadata": {},
   "outputs": [
    {
     "name": "stdout",
     "output_type": "stream",
     "text": [
      "(10, 4, 10, 4)\n",
      "\n",
      "\n"
     ]
    }
   ],
   "source": [
    "print(adcc_DM_ovov.shape)\n",
    "print()\n",
    "#print(adcc_DM_ovov)\n",
    "print()\n",
    "#print(adcc_DM_ovov - vlx_DM_ovov_full) # here everything appears to be zero"
   ]
  },
  {
   "cell_type": "code",
   "execution_count": 36,
   "metadata": {},
   "outputs": [
    {
     "name": "stdout",
     "output_type": "stream",
     "text": [
      "VLX\n",
      "[[ 0.0184 -0.1232  0.1092  0.1097 -0.     -0.0557 -0.0793]\n",
      " [-0.1232  0.8249 -0.7314 -0.7348  0.      0.3728  0.531 ]\n",
      " [ 0.1092 -0.7314  0.6486  0.6516 -0.     -0.3306 -0.4708]\n",
      " [ 0.1097 -0.7348  0.6516  0.6545  0.     -0.3321 -0.473 ]\n",
      " [-0.      0.     -0.      0.     -1.     -0.      0.    ]\n",
      " [-0.0557  0.3728 -0.3306 -0.3321 -0.      0.1685  0.24  ]\n",
      " [-0.0793  0.531  -0.4708 -0.473   0.      0.24    0.3418]]\n",
      "\n",
      "ADCC\n",
      "[[ 0.0184 -0.1232  0.1092  0.1097  0.     -0.0557 -0.0793]\n",
      " [-0.1232  0.8249 -0.7314 -0.7348 -0.      0.3728  0.531 ]\n",
      " [ 0.1092 -0.7314  0.6486  0.6516  0.     -0.3306 -0.4708]\n",
      " [ 0.1097 -0.7348  0.6516  0.6545  0.     -0.3321 -0.473 ]\n",
      " [ 0.     -0.      0.      0.     -1.      0.      0.    ]\n",
      " [-0.0557  0.3728 -0.3306 -0.3321  0.      0.1685  0.24  ]\n",
      " [-0.0793  0.531  -0.4708 -0.473   0.      0.24    0.3418]]\n",
      "contract_fock_ao = 0.9904845983017296\n",
      "contract_fock_mo = 0.9904845983017287\n"
     ]
    }
   ],
   "source": [
    "# Transform the one-particle density matrices from MO to AO basis\n",
    "vlx_dm_oo_in_ao = numpy.matmul(mo_occ, numpy.matmul(vlx_dm_oo, mo_occ.T))\n",
    "adcc_dm_oo_in_ao = 2.0*numpy.matmul(mo_occ, numpy.matmul(adcc_dm_oo[:nocc,:nocc], mo_occ.T))\n",
    "\n",
    "vlx_dm_vv_in_ao = numpy.matmul(mo_vir, numpy.matmul(vlx_dm_vv, mo_vir.T))\n",
    "adcc_dm_vv_in_ao = 2.0*numpy.matmul(mo_vir, numpy.matmul(adcc_dm_vv[:nvir,:nvir], mo_vir.T))\n",
    "\n",
    "vlx_dm_ao = vlx_dm_oo_in_ao + vlx_dm_vv_in_ao\n",
    "adcc_dm_ao = adcc_dm_oo_in_ao + adcc_dm_vv_in_ao\n",
    "\n",
    "print(\"VLX\")\n",
    "print(vlx_dm_ao)\n",
    "print(\"\\nADCC\")\n",
    "print(adcc_dm_ao)\n",
    "\n",
    "contract_fock_mo = (1.0*numpy.einsum('ij,ij->', vlx_dm_oo, foo[:nocc,:nocc])\n",
    "                    +1.0*numpy.einsum('ab,ab->', vlx_dm_vv, fvv[:nvir,:nvir]))\n",
    "\n",
    "contract_fock_ao = numpy.einsum('mn,mn->', vlx_dm_ao, fock)\n",
    "\n",
    "print(\"contract_fock_ao =\", contract_fock_ao)\n",
    "print(\"contract_fock_mo =\", contract_fock_mo)"
   ]
  },
  {
   "cell_type": "code",
   "execution_count": 37,
   "metadata": {},
   "outputs": [
    {
     "name": "stdout",
     "output_type": "stream",
     "text": [
      "dipole moment [au] = [-0.2108 -0.     -0.1424]\n",
      "\n",
      "adcc dm dipole moment [au] = [-0.2108  0.     -0.1424]\n",
      "\n",
      "ADC(1) dipole moment for water in Q-Chem:\n",
      "Dip. moment [a.u.]:  [0.221200,  -0.00000,   0.151505]\n",
      "\n",
      "ADC(1) dipole moment from adcc:\n",
      "[[-0.2108  0.     -0.1424]\n",
      " [ 0.0419  0.      0.0234]\n",
      " [-0.3315 -0.     -0.2288]]\n"
     ]
    }
   ],
   "source": [
    "# Calculate the total density (including HF part)\n",
    "# and calculated the unrelaxed excited-state dipole moment\n",
    "\n",
    "# dipole integrals\n",
    "dipole_drv = vlx.ElectricDipoleIntegralsDriver(comm)\n",
    "dipole_mats = dipole_drv.compute(molecule, basis)\n",
    "dipole_ints = (dipole_mats.x_to_numpy(),\n",
    "              dipole_mats.y_to_numpy(),\n",
    "              dipole_mats.z_to_numpy())\n",
    "\n",
    "# electronic contribution\n",
    "total_density = 2*scfdrv.scf_tensors['D'][0] + vlx_dm_ao\n",
    "adcc_total_density = 2*scfdrv.scf_tensors['D'][0] + adcc_dm_ao\n",
    "electronic_dipole = -1.0 * numpy.array(\n",
    "    [numpy.sum(dipole_ints[d] * total_density) for d in range(3)])\n",
    "adcc_electronic_dipole = -1.0 * numpy.array(\n",
    "    [numpy.sum(dipole_ints[d] * adcc_total_density) for d in range(3)])\n",
    "\n",
    "# nuclear contribution\n",
    "coords = molecule.get_coordinates()\n",
    "nuclear_charges = molecule.elem_ids_to_numpy()\n",
    "nuclear_dipole = numpy.sum(coords.T * nuclear_charges, axis=1)\n",
    "\n",
    "dipole_moment = (nuclear_dipole + electronic_dipole)\n",
    "adcc_dipole_moment = (nuclear_dipole + adcc_electronic_dipole)\n",
    "\n",
    "print(\"dipole moment [au] =\", dipole_moment)\n",
    "print()\n",
    "print(\"adcc dm dipole moment [au] =\", adcc_dipole_moment)\n",
    "print()\n",
    "print(\"ADC(1) dipole moment for water in Q-Chem:\")\n",
    "print(\"Dip. moment [a.u.]:  [0.221200,  -0.00000,   0.151505]\")\n",
    "print()\n",
    "print(\"ADC(1) dipole moment from adcc:\")\n",
    "print(adc1.state_dipole_moment)"
   ]
  },
  {
   "cell_type": "code",
   "execution_count": 38,
   "metadata": {},
   "outputs": [
    {
     "name": "stdout",
     "output_type": "stream",
     "text": [
      "[[-0.      0.     -0.     -0.      0.      0.      0.    ]\n",
      " [ 0.     -0.      0.      0.     -0.     -0.     -0.    ]\n",
      " [-0.      0.     -0.     -0.      0.      0.      0.    ]\n",
      " [ 0.     -0.      0.      0.     -0.     -0.     -0.    ]\n",
      " [-0.1356  0.9082 -0.8054 -0.809   0.      0.4105  0.5846]\n",
      " [-0.      0.     -0.     -0.      0.      0.      0.    ]\n",
      " [ 0.     -0.      0.      0.     -0.      0.     -0.    ]]\n"
     ]
    }
   ],
   "source": [
    "# Transform the excitation vectors from MO to AO basis\n",
    "tda_eig_vec_ao = numpy.matmul(mo_occ, numpy.matmul(tda_eig_vec_as_mat, mo_vir.T))\n",
    "print(tda_eig_vec_ao)"
   ]
  },
  {
   "cell_type": "code",
   "execution_count": 39,
   "metadata": {},
   "outputs": [],
   "source": [
    "#dir(scfdrv)"
   ]
  },
  {
   "cell_type": "code",
   "execution_count": 40,
   "metadata": {},
   "outputs": [],
   "source": [
    "# Get the ERI tensor in AO basis (chemists' notation)\n",
    "\n",
    "nao = mo.shape[0]\n",
    "\n",
    "pqrs = numpy.zeros((nao, nao, nao, nao))\n",
    "eri_drv = vlx.ElectronRepulsionIntegralsDriver(comm)\n",
    "eri_drv.compute_in_mem(molecule, basis, pqrs)\n",
    "#print(\"(pq|rs) =\")\n",
    "#print(pqrs)"
   ]
  },
  {
   "cell_type": "markdown",
   "metadata": {},
   "source": [
    "\n",
    "\\begin{align}\n",
    "\\begin{split}\n",
    "    - \\sum_{\\sigma \\sigma'} \\sum_{ijab} x_{i_{\\sigma} b_{\\sigma}} x_{j_{\\sigma'} a_{\\sigma'}}\n",
    "        \\langle i_{\\sigma} a_{\\sigma'} || j_{\\sigma'} b_{\\sigma} \\rangle\n",
    "    &= - \\sum_{ijab} x_{ib} x_{ja} [ 2 (ij|ab) - 4 (ib|aj) ] \\\\\n",
    "    &= + \\sum_{ijab} x_{ib} x_{ja} [ 4 (ib|aj) - 2 (ij|ab)  ] \\\\\n",
    "    &= \\sum_{ijab} x_{ib} x_{ja} \\sum_{\\mu \\nu \\theta \\varphi}\n",
    "        C_{\\mu i} C_{\\nu b} C_{\\theta a} C_{\\varphi j}  [ 4 (\\mu \\nu | \\theta \\varphi)\n",
    "        - 2 (\\mu \\varphi | \\theta \\nu) ] \\\\\n",
    "    &= \\sum_{\\mu \\nu \\theta \\varphi} [ 4 (\\mu \\nu | \\theta \\varphi)\n",
    "        - 2 (\\mu \\varphi | \\theta \\nu) ]\n",
    "        \\sum_{ib} C_{\\mu i} x_{ib} C_{\\nu b} \\sum_{ja} C_{\\varphi j} x_{ja} C_{\\theta a} \\\\\n",
    "    &= \\sum_{\\mu \\nu \\theta \\varphi} x_{\\mu \\nu} x_{\\varphi \\theta} [ 4 (\\mu \\nu | \\theta \\varphi)\n",
    "        - 2 (\\mu \\varphi | \\theta \\nu) ]       \\\\\n",
    "    &= \\sum_{\\mu \\nu} x_{\\mu \\nu} \\sum_{\\theta \\varphi} x_{\\varphi \\theta} [ 4 (\\mu \\nu | \\theta \\varphi)\n",
    "        - 2 (\\mu \\varphi | \\theta \\nu) ]\n",
    "\\end{split}\n",
    "\\end{align}"
   ]
  },
  {
   "cell_type": "code",
   "execution_count": 41,
   "metadata": {},
   "outputs": [
    {
     "name": "stdout",
     "output_type": "stream",
     "text": [
      "Contraction in MO adcc: -0.5070484896790668\n",
      "Contraction in MO vlx:  -0.507048489677716\n",
      "Contraction in AO:      -0.5070484896777157\n"
     ]
    }
   ],
   "source": [
    "# Contraction of electron repulsion integrals in AO basis\n",
    "# First reference value in MO\n",
    "eri_contract_mo_adcc = numpy.einsum('iajb,iajb->', adcc_DM_ovov, ovov)\n",
    "print(\"Contraction in MO adcc:\", eri_contract_mo_adcc)\n",
    "\n",
    "eri_contract_mo_vlx = (+1.0*numpy.einsum('iajb,iajb->', vlx_DM_ovov, ovov[:nocc, :nvir, :nocc, :nvir])##aaaa\n",
    "                        +1.0*numpy.einsum('iajb,iajb->', vlx_DM_ovov, ovov[:nocc, nvir:, nocc:, :nvir]))##bbbb\n",
    "print(\"Contraction in MO vlx: \", eri_contract_mo_vlx)\n",
    "\n",
    "# Now contract everything in AO\n",
    "eri_contract_ao = (0.5*numpy.einsum('mn,mn->', tda_eig_vec_ao, numpy.einsum('pt,mntp->mn', tda_eig_vec_ao, 4*pqrs)\n",
    "                                   - numpy.einsum('pt,mptn->mn', tda_eig_vec_ao, 2*pqrs))\n",
    "                    )\n",
    "print(\"Contraction in AO:     \", eri_contract_ao)"
   ]
  },
  {
   "cell_type": "code",
   "execution_count": 42,
   "metadata": {},
   "outputs": [
    {
     "name": "stdout",
     "output_type": "stream",
     "text": [
      "7\n"
     ]
    }
   ],
   "source": [
    "mo.shape\n",
    "print(nocc + nvir)"
   ]
  },
  {
   "cell_type": "markdown",
   "metadata": {},
   "source": [
    "## Orbital response, right hand side"
   ]
  },
  {
   "cell_type": "markdown",
   "metadata": {},
   "source": [
    "### 1. Contributions from the 1PDMs\n",
    "\\begin{equation}\n",
    "F^\\gamma_{ia}=\\sum_{\\theta,\\varphi}C^\\alpha_{\\varphi i}C^\\alpha_{\\theta a}\\sum_{\\mu,\\nu,\\sigma}\\gamma^\\sigma_{\\mu\\nu}(\\mu\\nu|\\theta \\varphi)-\\sum_{\\theta,\\varphi}C^\\alpha_{\\varphi i}C^\\alpha_{\\theta a}\\sum_{\\mu,\\nu}\\gamma^{\\alpha}_{\\mu\\nu}(\\mu\\varphi|\\theta\\nu)\\\\\n",
    "=\\sum_{\\theta,\\varphi,\\sigma}C^\\alpha_{\\varphi i}C^\\alpha_{\\theta a}F^{1,\\sigma}_{\\varphi\\theta}-\\sum_{\\theta,\\varphi}C^\\alpha_{\\varphi i}C^\\alpha_{\\theta a}F^{2,\\alpha}_{\\varphi\\theta}\\\\\n",
    "=\\sum_{\\theta,\\varphi}C^\\alpha_{\\varphi i}C^\\alpha_{\\theta a}F_{\\varphi\\theta}\n",
    "\\end{equation}"
   ]
  },
  {
   "cell_type": "code",
   "execution_count": 43,
   "metadata": {},
   "outputs": [
    {
     "name": "stdout",
     "output_type": "stream",
     "text": [
      "[[-0.0183  0.    ]\n",
      " [-0.0827 -0.    ]\n",
      " [ 0.0005 -0.107 ]\n",
      " [-0.0908  0.0002]\n",
      " [-0.      0.    ]]\n"
     ]
    }
   ],
   "source": [
    "F1_vlx = numpy.einsum('mn,mntp->pt', vlx_dm_ao, pqrs)\n",
    "F2_vlx = numpy.einsum('mn,mptn->pt', vlx_dm_ao, pqrs)\n",
    "F_1pdm_vlx = F1_vlx - 0.5*F2_vlx\n",
    "vlx_1pdm_rhs = numpy.einsum('pi,pa->ia', mo_occ, numpy.einsum('ta,pt->pa', mo_vir, F_1pdm_vlx))\n",
    "print(vlx_1pdm_rhs)"
   ]
  },
  {
   "cell_type": "code",
   "execution_count": 44,
   "metadata": {},
   "outputs": [
    {
     "name": "stdout",
     "output_type": "stream",
     "text": [
      "[[-0.0183  0.     -0.     -0.    ]\n",
      " [-0.0827 -0.     -0.     -0.    ]\n",
      " [ 0.0005 -0.107  -0.     -0.    ]\n",
      " [-0.0908  0.0002 -0.     -0.    ]\n",
      " [-0.      0.     -0.     -0.    ]\n",
      " [-0.     -0.     -0.0183  0.    ]\n",
      " [-0.     -0.     -0.0827 -0.    ]\n",
      " [-0.     -0.      0.0005 -0.107 ]\n",
      " [-0.     -0.     -0.0908  0.0002]\n",
      " [-0.     -0.     -0.      0.    ]]\n"
     ]
    }
   ],
   "source": [
    "ooov = adc1.reference_state.eri(\"o1o1o1v1\").to_ndarray()\n",
    "ovvv = adc1.reference_state.eri(\"o1v1v1v1\").to_ndarray()\n",
    "adcc_1pdm_rhs = ( -numpy.einsum('jk,ikja->ia', adcc_dm_oo, ooov, optimize=True) \n",
    "                 -numpy.einsum('bc,icba->ia', adcc_dm_vv, ovvv, optimize=True)\n",
    "                )\n",
    "print(adcc_1pdm_rhs)"
   ]
  },
  {
   "cell_type": "markdown",
   "metadata": {},
   "source": [
    "### 2. Contributions from the 2PDMs\n",
    "\n",
    "\\begin{equation}\n",
    "F^\\Gamma_{ia}=\\sum_{\\mu,\\rho}C^\\alpha_{\\mu a}C^\\alpha_{\\rho i}\\left[\\sum_{\\tau,\\varphi}S_{\\rho\\tau}x^\\alpha_{\\tau\\varphi}\\sum_{\\nu,\\theta}x^\\alpha_{\\theta\\nu}(\\mu\\nu|\\theta\\varphi)-\\sum_{\\tau,\\nu}S_{\\rho\\tau}x^\\alpha_{\\tau\\nu}\\sum_{\\theta,\\varphi,\\sigma} x^\\sigma_{\\theta\\varphi}(\\mu\\nu|\\theta\\varphi)\\right]-\\sum_{\\mu,\\rho}C^\\alpha_{\\rho i}C^\\alpha_{\\mu a}\\left[\\sum_{\\tau,\\varphi}S_{\\mu\\tau}x^\\alpha_{\\tau\\varphi}\\sum_{\\nu,\\theta}x^\\alpha_{\\theta\\nu}(\\rho\\nu|\\theta\\varphi)-\\sum_{\\tau,\\nu} S_{\\mu\\tau}x^\\alpha_{\\tau\\nu}\\sum_{\\theta,\\varphi,\\sigma}x^\\sigma_{\\theta\\varphi}(\\rho\\nu|\\theta\\varphi) \\right]\n",
    "\\end{equation}\n",
    "\n",
    "Corrected Equation:\n",
    "\n",
    "\\begin{equation}\n",
    "F^\\Gamma_{ia}=\\sum_{\\mu,\\zeta}C^\\alpha_{\\mu i}C^\\alpha_{\\zeta a}\\left[\\sum_{\\rho,\\varphi}S_{\\rho\\zeta}x^\\alpha_{\\varphi\\rho}\\sum_{\\nu,\\theta}x^\\alpha_{\\theta\\nu}(\\mu\\nu|\\theta\\varphi)-\\sum_{\\rho,\\varphi}S_{\\rho\\zeta}x^\\alpha_{\\varphi\\rho}\\sum_{\\theta,\\nu,\\sigma} x^\\sigma_{\\theta\\nu}(\\mu\\varphi|\\theta\\nu)\\right]-\\sum_{\\mu,\\zeta}C^\\alpha_{\\mu i}C^\\alpha_{\\zeta a}\\left[\\sum_{\\rho,\\varphi}S_{\\mu\\rho}x^\\alpha_{\\rho\\varphi}\\sum_{\\nu,\\theta}x^\\alpha_{\\nu\\theta}(\\zeta\\nu|\\theta\\varphi)-\\sum_{\\rho,\\varphi} S_{\\mu\\rho}x^\\alpha_{\\rho\\varphi}\\sum_{\\theta,\\nu,\\sigma}x^\\sigma_{\\nu\\theta}(\\zeta\\varphi|\\theta\\nu) \\right]\n",
    "\\end{equation}"
   ]
  },
  {
   "cell_type": "code",
   "execution_count": 45,
   "metadata": {},
   "outputs": [
    {
     "name": "stdout",
     "output_type": "stream",
     "text": [
      "eigenvector in MO:\n",
      "[[ 0.     0.   ]\n",
      " [-0.    -0.   ]\n",
      " [ 0.     0.   ]\n",
      " [-0.     0.   ]\n",
      " [ 1.    -0.001]]\n",
      "\n",
      "eigenvector in AO:\n",
      "[[-0.      0.     -0.     -0.      0.      0.      0.    ]\n",
      " [ 0.     -0.      0.      0.     -0.     -0.     -0.    ]\n",
      " [-0.      0.     -0.     -0.      0.      0.      0.    ]\n",
      " [ 0.     -0.      0.      0.     -0.     -0.     -0.    ]\n",
      " [-0.1356  0.9082 -0.8054 -0.809   0.      0.4105  0.5846]\n",
      " [-0.      0.     -0.     -0.      0.      0.      0.    ]\n",
      " [ 0.     -0.      0.      0.     -0.      0.     -0.    ]]\n",
      "\n",
      "first term:\n",
      "[[ 0.0001 -0.0014  0.0057  0.0057 -0.     -0.0028 -0.004 ]\n",
      " [-0.0017  0.0184 -0.0732 -0.0735  0.      0.0356  0.0508]\n",
      " [ 0.001  -0.0114  0.0453  0.0455 -0.     -0.022  -0.0314]\n",
      " [ 0.001  -0.0114  0.0455  0.0457 -0.     -0.0221 -0.0316]\n",
      " [-0.      0.     -0.     -0.      0.      0.      0.    ]\n",
      " [-0.0018  0.0197 -0.0787 -0.079   0.      0.0383  0.0546]\n",
      " [-0.0025  0.0281 -0.1122 -0.1126  0.      0.0546  0.0778]]\n",
      "\n",
      "first term:\n",
      "[[-0.  0. -0. -0.  0.  0.  0.]\n",
      " [ 0. -0.  0.  0.  0. -0. -0.]\n",
      " [-0.  0. -0. -0.  0.  0.  0.]\n",
      " [-0.  0.  0. -0.  0. -0.  0.]\n",
      " [ 0. -0. -0.  0.  0.  0. -0.]\n",
      " [-0.  0. -0. -0. -0.  0.  0.]\n",
      " [-0.  0. -0. -0.  0. -0.  0.]]\n",
      "\n",
      "[[ 0.0194 -0.    ]\n",
      " [ 0.0193 -0.    ]\n",
      " [-0.0002  0.    ]\n",
      " [ 0.058  -0.0001]\n",
      " [ 0.     -0.    ]]\n",
      "\n",
      "[[ 0.0194 -0.    ]\n",
      " [ 0.0193 -0.    ]\n",
      " [-0.0002  0.    ]\n",
      " [ 0.058  -0.0001]\n",
      " [ 0.     -0.    ]]\n",
      "\n",
      "[[ 0.0194 -0.    ]\n",
      " [ 0.0193 -0.    ]\n",
      " [-0.0002  0.    ]\n",
      " [ 0.058  -0.0001]\n",
      " [ 0.     -0.    ]]\n"
     ]
    }
   ],
   "source": [
    "# Care needs to be taken with the index order of the excitation vectors\n",
    "FG1 = ( numpy.einsum('rz,mr->mz', ovlp,\n",
    "                    numpy.einsum('pr,mp->mr', tda_eig_vec_ao,\n",
    "                        (0.5*numpy.einsum('tn,mntp->mp',tda_eig_vec_ao,pqrs)\n",
    "                        -numpy.einsum('tn,mptn->mp',tda_eig_vec_ao,pqrs))\n",
    "                                )\n",
    "                      )\n",
    "            )\n",
    "FG2 = ( numpy.einsum('mr,rz->mz', ovlp,\n",
    "                    numpy.einsum('rp,zp->rz', tda_eig_vec_ao,\n",
    "                        (0.5*numpy.einsum('nt,zntp->zp',tda_eig_vec_ao,pqrs)\n",
    "                        -numpy.einsum('nt,zptn->zp',tda_eig_vec_ao,pqrs))\n",
    "                                )\n",
    "                      )\n",
    "            )\n",
    "\n",
    "FG1_try2 =( numpy.einsum('rz,mr->mz', ovlp,\n",
    "                       numpy.einsum('pr,mp->mr', tda_eig_vec_ao,\n",
    "                                    numpy.einsum('tn,mntp->mp',tda_eig_vec_ao,pqrs)\n",
    "                                   )\n",
    "                      )\n",
    "            )\n",
    "FG2_try2 =( numpy.einsum('rz,mr->mz', ovlp,\n",
    "                       numpy.einsum('pr,mp->mr', tda_eig_vec_ao,\n",
    "                                    numpy.einsum('tn,mptn->mp',tda_eig_vec_ao,pqrs)\n",
    "                                   )\n",
    "                      )\n",
    "            )\n",
    "FG3_try2 =( numpy.einsum('mr,rz->mz', ovlp,\n",
    "                       numpy.einsum('rp,zp->rz', tda_eig_vec_ao,\n",
    "                                    numpy.einsum('nt,zntp->zp',tda_eig_vec_ao,pqrs)\n",
    "                                   )\n",
    "                      )\n",
    "            )\n",
    "FG4_try2 =( numpy.einsum('mr,rz->mz', ovlp,\n",
    "                       numpy.einsum('rp,zp->rz', tda_eig_vec_ao,\n",
    "                                    numpy.einsum('nt,zptn->zp',tda_eig_vec_ao,pqrs)\n",
    "                                   )\n",
    "                      )\n",
    "            )\n",
    "\n",
    "\n",
    "FG1_vlx =( numpy.einsum('rz,zm->rm', ovlp,\n",
    "                       numpy.einsum('zp,mp->zm', tda_eig_vec_ao,\n",
    "                                    numpy.einsum('tn,mntp->mp',tda_eig_vec_ao,pqrs)\n",
    "                                   )\n",
    "                      )\n",
    "            )\n",
    "FG1_vlx_ovlp =( numpy.einsum('rp,mp->rm',\n",
    "                numpy.einsum('rz,zp->rp', ovlp, tda_eig_vec_ao),\n",
    "                numpy.einsum('tn,mntp->mp',tda_eig_vec_ao,pqrs)\n",
    "                                   )\n",
    "            )\n",
    "\n",
    "FG2_vlx =  numpy.einsum('rz,zm->rm', ovlp,\n",
    "                       numpy.einsum('zn,nm->zm', tda_eig_vec_ao,\n",
    "                                    numpy.einsum('tp,mntp->nm',tda_eig_vec_ao,pqrs)\n",
    "                                   )\n",
    "                      )\n",
    "#FG3_vlx =  numpy.einsum('mz,rz->rm', ovlp,\n",
    "#                       numpy.einsum('zp,rp->rz', tda_eig_vec_ao,\n",
    "#                                    numpy.einsum('tn,rntp->rp',tda_eig_vec_ao,pqrs)\n",
    "#                                   )\n",
    "#                      )\n",
    "#FG4_vlx =  numpy.einsum('mz,rz->rm', ovlp,\n",
    "#                       numpy.einsum('zn,rn->rz', tda_eig_vec_ao,\n",
    "#                                    numpy.einsum('tp,rntp->rn',tda_eig_vec_ao,pqrs)\n",
    "#                                   )\n",
    "#                      )\n",
    "print(\"eigenvector in MO:\")\n",
    "print(tda_eig_vec_as_mat)\n",
    "print()\n",
    "print(\"eigenvector in AO:\")\n",
    "print(tda_eig_vec_ao)\n",
    "print()\n",
    "print(\"first term:\")\n",
    "print(FG1_try2)\n",
    "print()\n",
    "print(\"first term:\")\n",
    "print(FG1_vlx-FG2_vlx)\n",
    "print()\n",
    "F_2pdm_vlx_A = 0.5*FG1_try2 - FG2_try2 \n",
    "F_2pdm_vlx_B =-0.5*FG3_try2 + FG4_try2\n",
    "\n",
    "F_2pdm_vlx = F_2pdm_vlx_A + F_2pdm_vlx_B\n",
    "#print(F_2pdm_vlx)\n",
    "another_vlx_2pdm_rhs = (numpy.einsum('mi,ma->ia', mo_occ, numpy.einsum('za,mz->ma', mo_vir, F_2pdm_vlx_A))\n",
    "                +numpy.einsum('mi,ma->ia', mo_occ, numpy.einsum('za,mz->ma', mo_vir, F_2pdm_vlx_B))\n",
    "               )\n",
    "vlx_2pdm_rhs = (numpy.einsum('mi,ma->ia', mo_occ, numpy.einsum('za,mz->ma', mo_vir, F_2pdm_vlx)))\n",
    "final_vlx_2pdm_rhs = (numpy.einsum('mi,ma->ia', mo_occ, numpy.einsum('za,mz->ma', mo_vir, FG1-FG2)))\n",
    "print(vlx_2pdm_rhs)\n",
    "print()\n",
    "print(another_vlx_2pdm_rhs)         \n",
    "print()\n",
    "print(final_vlx_2pdm_rhs)"
   ]
  },
  {
   "cell_type": "code",
   "execution_count": 46,
   "metadata": {},
   "outputs": [
    {
     "name": "stdout",
     "output_type": "stream",
     "text": [
      "[[ 0.0194 -0.      0.      0.    ]\n",
      " [ 0.0193 -0.      0.      0.    ]\n",
      " [-0.0002  0.      0.      0.    ]\n",
      " [ 0.058  -0.0001  0.      0.    ]\n",
      " [ 0.      0.      0.      0.    ]\n",
      " [ 0.      0.      0.0194 -0.    ]\n",
      " [ 0.      0.      0.0193 -0.    ]\n",
      " [ 0.      0.     -0.0002  0.    ]\n",
      " [ 0.      0.      0.058  -0.0001]\n",
      " [ 0.      0.      0.      0.    ]]\n"
     ]
    }
   ],
   "source": [
    "# Compare to adcc\n",
    "adcc_2pdm_rhs = (numpy.einsum('jakb,ijkb->ia', adcc_DM_ovov, ooov, optimize=True)\n",
    "                + numpy.einsum('ibjc,jcab->ia', adcc_DM_ovov, ovvv, optimize=True)\n",
    "                )\n",
    "print(adcc_2pdm_rhs)"
   ]
  },
  {
   "cell_type": "markdown",
   "metadata": {},
   "source": [
    "### INITIAL GUESS"
   ]
  },
  {
   "cell_type": "code",
   "execution_count": 47,
   "metadata": {},
   "outputs": [
    {
     "name": "stdout",
     "output_type": "stream",
     "text": [
      "[[ 0.      0.    ]\n",
      " [-0.0339 -0.    ]\n",
      " [ 0.0002 -0.0767]\n",
      " [-0.0314  0.0001]\n",
      " [-0.      0.    ]]\n"
     ]
    }
   ],
   "source": [
    "# Neglect the non-diagonal part of the LHS,\n",
    "# i.e. divide the RHS by the orbital-energy difference\n",
    "vlx_rhs = final_vlx_2pdm_rhs + vlx_1pdm_rhs\n",
    "lambda_guess = numpy.zeros((nocc,nvir))\n",
    "mo_energies = scfdrv.scf_tensors['E']\n",
    "#print(mo_energies[nocc:])\n",
    "for i in range(nocc):\n",
    "    ei=mo_energies[i]\n",
    "    for a in range(nvir):\n",
    "        ea=mo_energies[nocc+a]\n",
    "        lambda_guess[i,a] = vlx_rhs[i,a]/(ea-ei)\n",
    "print(lambda_guess)"
   ]
  },
  {
   "cell_type": "code",
   "execution_count": 48,
   "metadata": {},
   "outputs": [
    {
     "name": "stdout",
     "output_type": "stream",
     "text": [
      "[[ 0.      0.      0.      0.    ]\n",
      " [-0.0339 -0.      0.      0.    ]\n",
      " [ 0.0002 -0.0767  0.      0.    ]\n",
      " [-0.0314  0.0001  0.      0.    ]\n",
      " [ 0.      0.      0.      0.    ]\n",
      " [ 0.      0.      0.      0.    ]\n",
      " [ 0.      0.     -0.0339 -0.    ]\n",
      " [ 0.      0.      0.0002 -0.0767]\n",
      " [ 0.      0.     -0.0314  0.0001]\n",
      " [ 0.      0.      0.      0.    ]]\n"
     ]
    }
   ],
   "source": [
    "# Compare to the analogous calculation with adcc\n",
    "foo = adc1.reference_state.fock(\"o1o1\").to_ndarray() \n",
    "fvv = adc1.reference_state.fock(\"v1v1\").to_ndarray()\n",
    "\n",
    "adcc_rhs = adcc_1pdm_rhs + adcc_2pdm_rhs\n",
    "adcc_guess = adcc_rhs.copy() # rhs\n",
    "for i in range(foo.shape[0]):\n",
    "    for a in range(fvv.shape[0]):\n",
    "        adcc_guess[i,a] = adcc_guess[i,a]/(fvv[a,a]-foo[i,i])\n",
    "\n",
    "print(adcc_guess)"
   ]
  },
  {
   "cell_type": "code",
   "execution_count": 49,
   "metadata": {},
   "outputs": [
    {
     "name": "stdout",
     "output_type": "stream",
     "text": [
      "[[-0.0006  0.0043 -0.0038 -0.0038  0.      0.0019  0.0027]\n",
      " [ 0.0016 -0.0107  0.0096  0.0095 -0.     -0.0049 -0.0069]\n",
      " [ 0.0019 -0.0126  0.0397 -0.0173  0.     -0.0336  0.0116]\n",
      " [ 0.0019 -0.0126 -0.0173  0.0398 -0.      0.0222 -0.0279]\n",
      " [-0.      0.      0.     -0.      0.     -0.      0.    ]\n",
      " [ 0.0023 -0.0153  0.0452 -0.0181  0.     -0.0378  0.0121]\n",
      " [ 0.0032 -0.0217 -0.0032  0.0417 -0.      0.0121 -0.0294]]\n",
      "[[ 0.      0.    ]\n",
      " [-0.0339 -0.    ]\n",
      " [ 0.0002 -0.0767]\n",
      " [-0.0314  0.0001]\n",
      " [-0.      0.    ]]\n"
     ]
    }
   ],
   "source": [
    "#A L = RHS\n",
    "# Transform the initial guess for lambda to the AO basis\n",
    "\n",
    "lambda_guess_ao = numpy.matmul(mo_occ, numpy.matmul(lambda_guess, mo_vir.T))\n",
    "print(lambda_guess_ao)\n",
    "\n",
    "#print(numpy.matmul(mo_occ, numpy.matmul(adcc_guess[:nocc,:nvir], mo_vir.T))[:nocc+nvir,:nocc+nvir])\n",
    "\n",
    "# Transform back to MO basis to check\n",
    "lambda_guess_back_to_mo = numpy.matmul(mo_occ.T, numpy.matmul(ovlp, numpy.matmul(lambda_guess_ao, numpy.matmul(ovlp, mo_vir))))\n",
    "print(lambda_guess_back_to_mo)"
   ]
  },
  {
   "cell_type": "markdown",
   "metadata": {},
   "source": [
    "### LHS: Contraction of the initial guess for $\\boldsymbol{\\lambda}$ with two-electron integrals"
   ]
  },
  {
   "cell_type": "markdown",
   "metadata": {},
   "source": [
    "\\begin{equation}\n",
    "    \\sum_{\\mu \\nu} C_{\\mu i} C_{\\nu a}\n",
    "    \\sum_{\\lambda \\sigma} \\big[\n",
    "    \\tilde{\\gamma}_{\\lambda \\sigma} ( \\mu \\nu | \\sigma \\lambda )\n",
    "    - \\tilde{\\gamma}_{\\lambda \\sigma} ( \\mu \\lambda | \\sigma \\nu )\n",
    "        \\big]\n",
    "    %+ (\\varepsilon_a - \\varepsilon_i ) \\gamma_{ia}\n",
    "\\end{equation}"
   ]
  },
  {
   "cell_type": "code",
   "execution_count": 50,
   "metadata": {},
   "outputs": [
    {
     "name": "stdout",
     "output_type": "stream",
     "text": [
      "[[ 0.0009  0.    ]\n",
      " [-0.0038  0.    ]\n",
      " [ 0.     -0.0094]\n",
      " [-0.0016  0.    ]\n",
      " [ 0.     -0.    ]]\n"
     ]
    }
   ],
   "source": [
    "vlx_lhs1 = numpy.einsum('ls,mnsl->mn', lambda_guess_ao, pqrs)\n",
    "vlx_lhs2 = numpy.einsum('ls,mlsn->mn', lambda_guess_ao, pqrs)\n",
    "\n",
    "vlx_lhs_ao = -vlx_lhs1 + 0.5*vlx_lhs2\n",
    "\n",
    "# Transform to MO\n",
    "vlx_lhs_mo = numpy.matmul(mo_occ.T, numpy.matmul(vlx_lhs_ao, mo_vir))\n",
    "print(vlx_lhs_mo)"
   ]
  },
  {
   "cell_type": "code",
   "execution_count": 51,
   "metadata": {},
   "outputs": [
    {
     "name": "stdout",
     "output_type": "stream",
     "text": [
      "[[ 0.0009  0.    ]\n",
      " [-0.0038  0.    ]\n",
      " [ 0.     -0.0094]\n",
      " [-0.0016  0.    ]\n",
      " [ 0.     -0.    ]]\n"
     ]
    }
   ],
   "source": [
    "vlx_lhs3 = numpy.einsum('mn,mntp->pt', lambda_guess_ao, pqrs)\n",
    "vlx_lhs4 = numpy.einsum('mn,mptn->pt', lambda_guess_ao, pqrs)\n",
    "vlx_lhs_ao_try2 = -vlx_lhs3 + 0.5*vlx_lhs4\n",
    "vlx_1pdm_lhs = numpy.einsum('pi,pa->ia', mo_occ, numpy.einsum('ta,pt->pa', mo_vir, vlx_lhs_ao_try2))\n",
    "print(vlx_1pdm_lhs)"
   ]
  },
  {
   "cell_type": "code",
   "execution_count": 52,
   "metadata": {},
   "outputs": [
    {
     "name": "stdout",
     "output_type": "stream",
     "text": [
      "[ 0.0019  0.     -0.0672 -0.      0.0003 -0.1164 -0.0343  0.0001 -0.\n",
      "  0.    ]\n",
      "\n",
      "[ 0.001   0.     -0.0634 -0.0001  0.0003 -0.107  -0.0328  0.0001 -0.\n",
      "  0.    ]\n"
     ]
    }
   ],
   "source": [
    "# Add eigenvalue differences to LHS\n",
    "vlx_full_lhs = numpy.zeros((nocc,nvir))\n",
    "for i in range(nocc):\n",
    "    ei=mo_energies[i]\n",
    "    for a in range(nvir):\n",
    "        ea=mo_energies[nocc+a]\n",
    "        vlx_full_lhs[i,a] = vlx_1pdm_lhs[i,a] + lambda_guess[i,a]*(ea-ei)\n",
    "\n",
    "vlx_full_lhs_vec = vlx_full_lhs.reshape(nocc*nvir)\n",
    "vlx_rhs_vec = vlx_rhs.reshape(nocc*nvir)\n",
    "\n",
    "print(vlx_full_lhs_vec)\n",
    "print()\n",
    "print(vlx_rhs_vec)"
   ]
  },
  {
   "cell_type": "code",
   "execution_count": 53,
   "metadata": {},
   "outputs": [],
   "source": [
    "from scipy.sparse import linalg"
   ]
  },
  {
   "cell_type": "code",
   "execution_count": 54,
   "metadata": {},
   "outputs": [
    {
     "name": "stdout",
     "output_type": "stream",
     "text": [
      "[ 0.001   0.     -0.0634 -0.0001  0.0003 -0.107  -0.0328  0.0001 -0.\n",
      "  0.    ]\n",
      "\n",
      "0\n"
     ]
    }
   ],
   "source": [
    "# Try conjugate gradient with identity matrix, full LHS and RHS\n",
    "identity = numpy.identity(nocc*nvir)\n",
    "\n",
    "solution, w = linalg.cg(A=identity, b=vlx_rhs_vec, x0=vlx_full_lhs_vec, tol=1e-6, maxiter=25)\n",
    "\n",
    "print(solution)\n",
    "print()\n",
    "print(w)"
   ]
  },
  {
   "cell_type": "markdown",
   "metadata": {},
   "source": [
    "### Trying to define a linear Operator"
   ]
  },
  {
   "cell_type": "code",
   "execution_count": 55,
   "metadata": {},
   "outputs": [],
   "source": [
    "class vlx_lambda:\n",
    "    def __init__(self, guess, eri, scf_tensors, nocc):\n",
    "        \"\"\"Parameters:\n",
    "        vlx_lambda: guess at current iteration for the lambda OV block\n",
    "        eri: two electron repulsion integrals in AO basis (chemists notation)\n",
    "        scf_tensors: from vlx scdrv\n",
    "        nocc: number of occupied orbitals\n",
    "        \"\"\"\n",
    "        self.vector = guess\n",
    "        self.eri = eri\n",
    "        self.scf_tensors = scf_tensors\n",
    "        #print(scf_tensors)\n",
    "        self.nocc = nocc\n",
    "        \n",
    "def Ax(v):\n",
    "    #\"\"\"v: vlx_lambda object\"\"\"\n",
    "    print(\"Entering Ax(v)...:\")\n",
    "    print(v)\n",
    "    print()\n",
    "    #vlx_1pdm_lhs = 2.0*v\n",
    "    #mo_energies = v.scf_tensors['E']\n",
    "    #mo_occ = v.scf_tensors['C'][:,:nocc]\n",
    "    #mo_vir = v.scf_tensors['C'][:,nocc:]\n",
    "    #nvir = mo_vir.shape[1]\n",
    "    new_v = v.reshape(nocc,nvir)\n",
    "    vlx_lambda_ao = numpy.matmul(mo_occ, numpy.matmul(new_v, mo_vir.T))\n",
    " \n",
    "    vlx_lhs_interm = (-numpy.einsum('mn,mntp->pt', vlx_lambda_ao, pqrs)\n",
    "                       + 0.5*numpy.einsum('mn,mptn->pt', vlx_lambda_ao, pqrs)\n",
    "                      )\n",
    "    vlx_1pdm_lhs = numpy.einsum('pi,pa->ia', mo_occ, numpy.einsum('ta,pt->pa', mo_vir, vlx_lhs_interm))\n",
    "    \n",
    "    for i in range(nocc):\n",
    "        ei=mo_energies[i]\n",
    "        for a in range(nvir):\n",
    "            ea=mo_energies[nocc+a]\n",
    "            vlx_1pdm_lhs[i,a] += new_v[i,a]*(ea-ei)    \n",
    "    return vlx_1pdm_lhs.reshape(nocc*nvir)\n",
    "    "
   ]
  },
  {
   "cell_type": "code",
   "execution_count": 56,
   "metadata": {},
   "outputs": [
    {
     "name": "stdout",
     "output_type": "stream",
     "text": [
      "This is lambda guess\n",
      "[ 0.      0.     -0.0339 -0.      0.0002 -0.0767 -0.0314  0.0001 -0.\n",
      "  0.    ]\n",
      "\n",
      "This is the rhs:\n",
      "[ 0.001   0.     -0.0634 -0.0001  0.0003 -0.107  -0.0328  0.0001 -0.\n",
      "  0.    ]\n",
      "\n",
      "This is Ax(lambda_guess)\n",
      "Entering Ax(v)...:\n",
      "[ 0.      0.     -0.0339 -0.      0.0002 -0.0767 -0.0314  0.0001 -0.\n",
      "  0.    ]\n",
      "\n",
      "(10,)\n",
      "\n",
      "Entering Ax(v)...:\n",
      "[0. 0. 0. 0. 0. 0. 0. 0. 0. 0.]\n",
      "\n",
      "Entering Ax(v)...:\n",
      "[ 0.      0.     -0.0339 -0.      0.0002 -0.0767 -0.0314  0.0001 -0.\n",
      "  0.    ]\n",
      "\n",
      "Entering Ax(v)...:\n",
      "[ 0.      0.     -0.0339 -0.      0.0002 -0.0767 -0.0314  0.0001 -0.\n",
      "  0.    ]\n",
      "\n",
      "Entering Ax(v)...:\n",
      "[-0.0009 -0.      0.0038 -0.     -0.      0.0094  0.0016 -0.     -0.\n",
      "  0.    ]\n",
      "\n",
      "Entering Ax(v)...:\n",
      "[ 0.0094  0.      0.0033 -0.     -0.      0.0107  0.0024 -0.     -0.\n",
      " -0.    ]\n",
      "\n",
      "Entering Ax(v)...:\n",
      "[-0.     -0.     -0.0009  0.     -0.      0.0004  0.0007 -0.      0.\n",
      " -0.    ]\n",
      "\n",
      "Entering Ax(v)...:\n",
      "[ 0.      0.      0.0001 -0.     -0.     -0.0001  0.0002 -0.      0.\n",
      " -0.    ]\n",
      "\n",
      "Entering Ax(v)...:\n",
      "[ 0. -0.  0.  0.  0. -0.  0.  0.  0.  0.]\n",
      "\n",
      "Entering Ax(v)...:\n",
      "[-0.  0.  0.  0.  0.  0.  0.  0.  0.  0.]\n",
      "\n",
      "Entering Ax(v)...:\n",
      "[ 0.  0. -0. -0.  0.  0.  0.  0.  0.  0.]\n",
      "\n",
      "Entering Ax(v)...:\n",
      "[ 0.      0.     -0.032  -0.      0.0002 -0.0705 -0.0298  0.0001 -0.\n",
      "  0.    ]\n",
      "\n"
     ]
    }
   ],
   "source": [
    "#new_lambda_guess = vlx_lambda(lambda_guess, pqrs, scfdrv.scf_tensors, nocc)\n",
    "print(\"This is lambda guess\")\n",
    "v=lambda_guess.reshape(nocc*nvir)\n",
    "print(v)\n",
    "print()\n",
    "print(\"This is the rhs:\")\n",
    "print(vlx_rhs_vec)\n",
    "print()\n",
    "print(\"This is Ax(lambda_guess)\")\n",
    "print(Ax(v).shape)\n",
    "print()\n",
    "A = linalg.LinearOperator((nocc*nvir,nocc*nvir), matvec=Ax)\n",
    "solution, w = linalg.cg(A=A, b=vlx_rhs_vec, x0=v, tol=1e-8, maxiter=25)"
   ]
  },
  {
   "cell_type": "code",
   "execution_count": 57,
   "metadata": {},
   "outputs": [
    {
     "name": "stdout",
     "output_type": "stream",
     "text": [
      "[[ 0.      0.    ]\n",
      " [-0.032  -0.    ]\n",
      " [ 0.0002 -0.0705]\n",
      " [-0.0298  0.0001]\n",
      " [-0.      0.    ]]\n"
     ]
    }
   ],
   "source": [
    "print(solution.reshape(nocc,nvir))"
   ]
  },
  {
   "cell_type": "code",
   "execution_count": 58,
   "metadata": {},
   "outputs": [],
   "source": [
    "AOVOV = numpy.ones(ovov.shape)   \n",
    "adcc_nocc = foo.shape[0]\n",
    "adcc_nvirt = fvv.shape[0]\n",
    "oovv = adc1.reference_state.eri(\"o1o1v1v1\").to_ndarray()\n",
    "#adcc_A = np.zeros((adcc_nocc*adcc_nvirt, adcc_nocc*adcc_nvirt))\n",
    "#these are supposed to be the elements that multiply lambda_jb\n",
    "AOVOV = ( numpy.einsum('iajb,ibja->iajb', AOVOV, ovov, optimize=True)\n",
    "         -numpy.einsum('iajb,ijab->iajb', AOVOV, oovv, optimize=True) \n",
    "        )\n",
    "for i in range(adcc_nocc):\n",
    "    for a in range(adcc_nvirt):\n",
    "        AOVOV[i,a,i,a] += -foo[i,i]+fvv[a,a] #check signs !\n",
    "\n",
    "adcc_A = AOVOV.reshape(adcc_nocc*adcc_nvirt,adcc_nocc*adcc_nvirt)\n"
   ]
  },
  {
   "cell_type": "code",
   "execution_count": 59,
   "metadata": {},
   "outputs": [],
   "source": [
    "adcc_1d_guess = numpy.reshape(adcc_guess, (adcc_nocc*adcc_nvirt))\n",
    "adcc_1d_rhs = numpy.reshape(adcc_rhs, (adcc_nocc*adcc_nvirt))\n",
    "\n",
    "lov, w = linalg.cg(A=adcc_A, b=adcc_1d_rhs, x0=adcc_1d_guess, tol=1e-8, maxiter=25)"
   ]
  },
  {
   "cell_type": "code",
   "execution_count": 60,
   "metadata": {},
   "outputs": [
    {
     "name": "stdout",
     "output_type": "stream",
     "text": [
      "[[-0.0001  0.      0.      0.    ]\n",
      " [-0.0377 -0.      0.      0.    ]\n",
      " [ 0.0002 -0.0781  0.      0.    ]\n",
      " [-0.0383  0.0001  0.      0.    ]\n",
      " [-0.      0.      0.      0.    ]\n",
      " [ 0.      0.     -0.0001  0.    ]\n",
      " [ 0.      0.     -0.0377 -0.    ]\n",
      " [ 0.      0.      0.0002 -0.0781]\n",
      " [ 0.      0.     -0.0383  0.0001]\n",
      " [ 0.      0.     -0.      0.    ]]\n"
     ]
    }
   ],
   "source": [
    "print(lov.reshape(adcc_nocc,adcc_nvirt))"
   ]
  },
  {
   "cell_type": "code",
   "execution_count": 61,
   "metadata": {},
   "outputs": [
    {
     "name": "stdout",
     "output_type": "stream",
     "text": [
      "[[ 0.      0.    ]\n",
      " [-0.032  -0.    ]\n",
      " [ 0.0002 -0.0705]\n",
      " [-0.0298  0.0001]\n",
      " [-0.      0.    ]]\n"
     ]
    }
   ],
   "source": [
    "print(solution.reshape(nocc,nvir))"
   ]
  },
  {
   "cell_type": "code",
   "execution_count": null,
   "metadata": {},
   "outputs": [],
   "source": []
  }
 ],
 "metadata": {
  "kernelspec": {
   "display_name": "Python 3",
   "language": "python",
   "name": "python3"
  },
  "language_info": {
   "codemirror_mode": {
    "name": "ipython",
    "version": 3
   },
   "file_extension": ".py",
   "mimetype": "text/x-python",
   "name": "python",
   "nbconvert_exporter": "python",
   "pygments_lexer": "ipython3",
   "version": "3.8.5"
  }
 },
 "nbformat": 4,
 "nbformat_minor": 4
}
