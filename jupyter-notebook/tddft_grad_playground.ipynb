{
 "cells": [
  {
   "cell_type": "code",
   "execution_count": 1,
   "metadata": {},
   "outputs": [
    {
     "name": "stdout",
     "output_type": "stream",
     "text": [
      "* Warning * Environment variable OMP_NUM_THREADS not set.\n",
      "* Warning * Setting OMP_NUM_THREADS to 8.\n"
     ]
    }
   ],
   "source": [
    "import veloxchem as vlx\n",
    "import adcc\n",
    "from mpi4py import MPI\n",
    "import sys\n",
    "import numpy\n",
    "from scipy.sparse import linalg\n",
    "\n",
    "numpy.set_printoptions(precision=7, suppress=True)"
   ]
  },
  {
   "cell_type": "markdown",
   "metadata": {},
   "source": [
    "### Prepare a VeloxChem SCF calculation"
   ]
  },
  {
   "cell_type": "code",
   "execution_count": 66,
   "metadata": {},
   "outputs": [],
   "source": [
    "# Input settings\n",
    "molecule_string = \"\"\"\n",
    "    O 0 0 0\n",
    "    H 0 0 1.795239827225189\n",
    "    H 1.693194615993441 0 -0.599043184453037\"\"\"\n",
    "\n",
    "#molecule_string = \"\"\"\n",
    "#    H 0 0 0\n",
    "#    H 0 0 1.795239827225189\n",
    "#    \"\"\"\n",
    "\n",
    "basis_set_label = 'STO-3G'\n",
    "scf_settings = {'conv_thresh': 1.0e-6}\n",
    "method_settings = {} #{'xcfun': 'b3lyp', 'grid_level': 4}\n",
    "rsp_settings = {'conv_thresh': 1.0e-4, 'nstates': 3}"
   ]
  },
  {
   "cell_type": "code",
   "execution_count": 62,
   "metadata": {},
   "outputs": [],
   "source": [
    "# Communicator and output stream\n",
    "comm = MPI.COMM_WORLD\n",
    "ostream = vlx.OutputStream(sys.stdout)"
   ]
  },
  {
   "cell_type": "code",
   "execution_count": 63,
   "metadata": {},
   "outputs": [
    {
     "name": "stdout",
     "output_type": "stream",
     "text": [
      "                                              Molecular Geometry (Angstroms)                                              \n",
      "                                             ================================                                             \n",
      "                                                                                                                          \n",
      "                          Atom         Coordinate X          Coordinate Y          Coordinate Z                           \n",
      "                                                                                                                          \n",
      "                           O           0.000000000000        0.000000000000        0.000000000000                         \n",
      "                           H           0.000000000000        0.000000000000        0.950000004704                         \n",
      "                           H           0.896000004436        0.000000000000       -0.317000001569                         \n",
      "                                                                                                                          \n",
      "                                              Molecular Basis (Atomic Basis)                                              \n",
      "                                             ================================                                             \n",
      "                                                                                                                          \n",
      "                                  Basis: STO-3G                                                                           \n",
      "                                                                                                                          \n",
      "                                  Atom Contracted GTOs          Primitive GTOs                                            \n",
      "                                                                                                                          \n",
      "                                   H   (1S)                     (3S)                                                      \n",
      "                                   O   (2S,1P)                  (6S,3P)                                                   \n",
      "                                                                                                                          \n",
      "                                  Contracted Basis Functions : 7                                                          \n",
      "                                  Primitive Basis Functions  : 21                                                         \n",
      "                                                                                                                          \n"
     ]
    }
   ],
   "source": [
    "# Molecule and basis set\n",
    "molecule = vlx.Molecule.read_str(molecule_string, units='au')\n",
    "basis = vlx.MolecularBasis.read(molecule, basis_set_label)\n",
    "\n",
    "ostream.print_block(molecule.get_string())\n",
    "ostream.print_block(basis.get_string('Atomic Basis', molecule))\n",
    "ostream.flush()"
   ]
  },
  {
   "cell_type": "code",
   "execution_count": 18,
   "metadata": {},
   "outputs": [],
   "source": [
    "# MockTask class needed later\n",
    "class MockTask:\n",
    "    def __init__(self, mol, basis, comm, ostream):\n",
    "\n",
    "        self.molecule = mol\n",
    "        self.ao_basis = basis\n",
    "        self.mpi_comm = comm\n",
    "        self.ostream = ostream"
   ]
  },
  {
   "cell_type": "code",
   "execution_count": 67,
   "metadata": {},
   "outputs": [
    {
     "name": "stdout",
     "output_type": "stream",
     "text": [
      "                                                                                                                          \n",
      "                                            Self Consistent Field Driver Setup                                            \n",
      "                                           ====================================                                           \n",
      "                                                                                                                          \n",
      "                   Wave Function Model             : Spin-Restricted Hartree-Fock                                         \n",
      "                   Initial Guess Model             : Superposition of Atomic Densities                                    \n",
      "                   Convergence Accelerator         : Two Level Direct Inversion of Iterative Subspace                     \n",
      "                   Max. Number of Iterations       : 50                                                                   \n",
      "                   Max. Number of Error Vectors    : 10                                                                   \n",
      "                   Convergence Threshold           : 1.0e-06                                                              \n",
      "                   ERI Screening Scheme            : Cauchy Schwarz + Density                                             \n",
      "                   ERI Screening Mode              : Dynamic                                                              \n",
      "                   ERI Screening Threshold         : 1.0e-12                                                              \n",
      "                   Linear Dependence Threshold     : 1.0e-06                                                              \n",
      "                                                                                                                          \n",
      "* Info * Nuclear repulsion energy: 9.2514792692 au                                                                        \n",
      "                                                                                                                          \n",
      "* Info * Overlap matrix computed in 0.01 sec.                                                                             \n",
      "                                                                                                                          \n",
      "* Info * Kinetic energy matrix computed in 0.02 sec.                                                                      \n",
      "                                                                                                                          \n",
      "* Info * Nuclear potential matrix computed in 0.01 sec.                                                                   \n",
      "                                                                                                                          \n",
      "* Info * Orthogonalization matrix computed in 0.00 sec.                                                                   \n",
      "                                                                                                                          \n",
      "* Info * SAD initial guess computed in 0.01 sec.                                                                          \n",
      "                                                                                                                          \n",
      "* Info * Starting Reduced Basis SCF calculation...                                                                        \n",
      "* Info * ...done. SCF energy in reduced basis set: -74.959319283728 au. Time: 0.12 sec.                                   \n",
      "                                                                                                                          \n",
      "* Info * Overlap matrix computed in 0.00 sec.                                                                             \n",
      "                                                                                                                          \n",
      "* Info * Kinetic energy matrix computed in 0.01 sec.                                                                      \n",
      "                                                                                                                          \n",
      "* Info * Nuclear potential matrix computed in 0.00 sec.                                                                   \n",
      "                                                                                                                          \n",
      "* Info * Orthogonalization matrix computed in 0.00 sec.                                                                   \n",
      "                                                                                                                          \n",
      "                                                                                                                          \n",
      "               Iter. | Hartree-Fock Energy | Energy Change | Gradient Norm | Max. Gradient | Density Change               \n",
      "               --------------------------------------------------------------------------------------------               \n",
      "                  1       -74.959319286641    0.0000000000      0.00003237      0.00000781      0.00000000                \n",
      "                  2       -74.959319286972   -0.0000000003      0.00001030      0.00000238      0.00002812                \n",
      "                  3       -74.959319287015   -0.0000000000      0.00000057      0.00000013      0.00001419                \n",
      "                                                                                                                          \n",
      "               *** SCF converged in 3 iterations. Time: 0.05 sec.                                                         \n",
      "                                                                                                                          \n",
      "               Spin-Restricted Hartree-Fock:                                                                              \n",
      "               -----------------------------                                                                              \n",
      "               Total Energy                       :      -74.9593192870 au                                                \n",
      "               Electronic Energy                  :      -84.2107985563 au                                                \n",
      "               Nuclear Repulsion Energy           :        9.2514792692 au                                                \n",
      "               ------------------------------------                                                                       \n",
      "               Gradient Norm                      :        0.0000005744 au                                                \n",
      "                                                                                                                          \n",
      "               Ground State Information                                                                                   \n",
      "               ------------------------                                                                                   \n",
      "               Charge of Molecule            :  0.0                                                                       \n",
      "               Multiplicity (2S+1)           :  1.0                                                                       \n",
      "               Magnetic Quantum Number (S_z) :  0.0                                                                       \n",
      "                                                                                                                          \n",
      "                                                                                                                          \n",
      "                                                 Spin Restricted Orbitals                                                 \n",
      "                                                 ------------------------                                                 \n",
      "                                                                                                                          \n",
      "               Molecular Orbital No.   1:                                                                                 \n",
      "               --------------------------                                                                                 \n",
      "               Occupation: 2.0 Energy:  -20.23340 au                                                                      \n",
      "               (   1 O   1s  :     0.99)                                                                                  \n",
      "                                                                                                                          \n",
      "               Molecular Orbital No.   2:                                                                                 \n",
      "               --------------------------                                                                                 \n",
      "               Occupation: 2.0 Energy:   -1.26571 au                                                                      \n",
      "               (   1 O   1s  :    -0.23) (   1 O   2s  :     0.83) (   2 H   1s  :     0.16)                              \n",
      "               (   3 H   1s  :     0.16)                                                                                  \n",
      "                                                                                                                          \n",
      "               Molecular Orbital No.   3:                                                                                 \n",
      "               --------------------------                                                                                 \n",
      "               Occupation: 2.0 Energy:   -0.62927 au                                                                      \n",
      "               (   1 O   1p+1:     0.35) (   1 O   1p0 :    -0.49) (   2 H   1s  :    -0.44)                              \n",
      "               (   3 H   1s  :     0.44)                                                                                  \n",
      "                                                                                                                          \n",
      "               Molecular Orbital No.   4:                                                                                 \n",
      "               --------------------------                                                                                 \n",
      "               Occupation: 2.0 Energy:   -0.44167 au                                                                      \n",
      "               (   1 O   2s  :    -0.52) (   1 O   1p+1:     0.65) (   1 O   1p0 :     0.46)                              \n",
      "               (   2 H   1s  :     0.27) (   3 H   1s  :     0.27)                                                        \n",
      "                                                                                                                          \n",
      "               Molecular Orbital No.   5:                                                                                 \n",
      "               --------------------------                                                                                 \n",
      "               Occupation: 2.0 Energy:   -0.38765 au                                                                      \n",
      "               (   1 O   1p-1:     1.00)                                                                                  \n",
      "                                                                                                                          \n",
      "               Molecular Orbital No.   6:                                                                                 \n",
      "               --------------------------                                                                                 \n",
      "               Occupation: 0.0 Energy:    0.60284 au                                                                      \n",
      "               (   1 O   2s  :     0.91) (   1 O   1p+1:     0.58) (   1 O   1p0 :     0.41)                              \n",
      "               (   2 H   1s  :    -0.81) (   3 H   1s  :    -0.81)                                                        \n",
      "                                                                                                                          \n",
      "               Molecular Orbital No.   7:                                                                                 \n",
      "               --------------------------                                                                                 \n",
      "               Occupation: 0.0 Energy:    0.76592 au                                                                      \n",
      "               (   1 O   1p+1:    -0.58) (   1 O   1p0 :     0.82) (   2 H   1s  :    -0.84)                              \n",
      "               (   3 H   1s  :     0.84)                                                                                  \n",
      "                                                                                                                          \n"
     ]
    }
   ],
   "source": [
    "# SCF\n",
    "task = MockTask(molecule, basis, comm, ostream)\n",
    "scfdrv = vlx.ScfRestrictedDriver(comm, ostream)\n",
    "scfdrv.update_settings(scf_settings, method_settings)\n",
    "scfdrv.compute(molecule, basis)\n",
    "scfdrv.task = task"
   ]
  },
  {
   "cell_type": "code",
   "execution_count": 20,
   "metadata": {},
   "outputs": [
    {
     "name": "stdout",
     "output_type": "stream",
     "text": [
      "                                                                                                                          \n",
      "                                                Ground-State Dipole Moment                                                \n",
      "                                               ----------------------------                                               \n",
      "                                                                                                                          \n",
      "                                   X   :         0.546314 a.u.         1.388593 Debye                                     \n",
      "                                   Y   :         0.000000 a.u.         0.000000 Debye                                     \n",
      "                                   Z   :         0.386302 a.u.         0.981881 Debye                                     \n",
      "                                 Total :         0.669095 a.u.         1.700671 Debye                                     \n",
      "                                                                                                                          \n"
     ]
    }
   ],
   "source": [
    "# SCF first-order properties\n",
    "scf_prop = vlx.ScfFirstOrderProperties(comm, ostream)\n",
    "scf_prop.compute(molecule, basis, scfdrv.scf_tensors)\n",
    "scf_prop.print_properties(molecule)"
   ]
  },
  {
   "cell_type": "markdown",
   "metadata": {},
   "source": [
    "### Excited-State Calculation via CIS (TDHF/TDA)"
   ]
  },
  {
   "cell_type": "code",
   "execution_count": 68,
   "metadata": {},
   "outputs": [
    {
     "name": "stdout",
     "output_type": "stream",
     "text": [
      "                                                                                                                          \n",
      "                                                     TDA Driver Setup                                                     \n",
      "                                                    ==================                                                    \n",
      "                                                                                                                          \n",
      "                               Number of States                : 3                                                        \n",
      "                               Max. Number of Iterations       : 150                                                      \n",
      "                               Convergence Threshold           : 1.0e-04                                                  \n",
      "                               ERI Screening Scheme            : Cauchy Schwarz + Density                                 \n",
      "                               ERI Screening Threshold         : 1.0e-15                                                  \n",
      "                                                                                                                          \n",
      "                   *** Iteration:   1 * Reduced Space:    3 * Residues (Max,Min): 1.22e-01 and 1.19e-16                   \n",
      "                                                                                                                          \n",
      "                   State  1: 0.48343611 au Residual Norm: 0.00000000                                                      \n",
      "                   State  2: 0.57420051 au Residual Norm: 0.00000000                                                      \n",
      "                   State  3: 0.62684144 au Residual Norm: 0.12175409                                                      \n",
      "                                                                                                                          \n",
      "                   *** Iteration:   2 * Reduced Space:    6 * Residues (Max,Min): 1.58e-02 and 1.79e-17                   \n",
      "                                                                                                                          \n",
      "                   State  1: 0.48343611 au Residual Norm: 0.00000000                                                      \n",
      "                   State  2: 0.57420051 au Residual Norm: 0.00000000                                                      \n",
      "                   State  3: 0.60232959 au Residual Norm: 0.01583826                                                      \n",
      "                                                                                                                          \n",
      "                   *** Iteration:   3 * Reduced Space:    9 * Residues (Max,Min): 4.44e-03 and 8.52e-18                   \n",
      "                                                                                                                          \n",
      "                   State  1: 0.48343611 au Residual Norm: 0.00000000                                                      \n",
      "                   State  2: 0.57420051 au Residual Norm: 0.00000000                                                      \n",
      "                   State  3: 0.60213823 au Residual Norm: 0.00443855                                                      \n",
      "                                                                                                                          \n",
      "                   *** Iteration:   4 * Reduced Space:   10 * Residues (Max,Min): 7.94e-15 and 4.99e-18                   \n",
      "                                                                                                                          \n",
      "                   State  1: 0.48343611 au Residual Norm: 0.00000000                                                      \n",
      "                   State  2: 0.57420051 au Residual Norm: 0.00000000                                                      \n",
      "                   State  3: 0.60213706 au Residual Norm: 0.00000000                                                      \n",
      "                                                                                                                          \n",
      "               *** 3 excited states converged in 4 iterations. Time: 0.07 sec                                             \n",
      "                                                                                                                          \n",
      "                                                                                                                          \n"
     ]
    }
   ],
   "source": [
    "# TDHF/TDA, i.e. CIS\n",
    "tda_drv = vlx.TDAExciDriver(comm, ostream)\n",
    "tda_drv.update_settings(rsp_settings, method_settings)\n",
    "tda_results = tda_drv.compute(molecule, basis, scfdrv.scf_tensors)\n",
    "tda_drv.ostream.flush()"
   ]
  },
  {
   "cell_type": "code",
   "execution_count": 22,
   "metadata": {},
   "outputs": [],
   "source": [
    "# Get MO coefficients\n",
    "\n",
    "nocc = molecule.number_of_alpha_electrons()\n",
    "mo = scfdrv.scf_tensors['C'] # MO coefficients\n",
    "mo_occ = mo[:, :nocc]        # occupied\n",
    "mo_vir = mo[:, nocc:]        # virtual\n",
    "\n",
    "nocc = mo_occ.shape[1]\n",
    "nvir = mo_vir.shape[1]\n",
    "\n",
    "#eig_vec = eig_vecs[:, 0].copy() # first eigenvector\n",
    "#print(eig_vec)\n",
    "#print(\"mo_occ:\")\n",
    "#print(mo_occ)\n",
    "#print()\n",
    "#print(\"mo_vir:\")\n",
    "#print(mo_vir)"
   ]
  },
  {
   "cell_type": "code",
   "execution_count": 23,
   "metadata": {},
   "outputs": [
    {
     "name": "stdout",
     "output_type": "stream",
     "text": [
      "dict_keys(['C', 'E', 'S', 'D', 'F'])\n",
      "[[ 1. -0.  0. -0. -0.  0. -0.]\n",
      " [-0.  1.  0. -0. -0. -0. -0.]\n",
      " [ 0.  0.  1.  0.  0.  0. -0.]\n",
      " [-0. -0.  0.  1.  0. -0.  0.]\n",
      " [-0. -0.  0.  0.  1.  0.  0.]\n",
      " [ 0. -0.  0. -0.  0.  1. -0.]\n",
      " [-0. -0. -0.  0.  0. -0.  1.]]\n",
      "[[-20.2333974   0.         -0.          0.          0.          0.\n",
      "    0.       ]\n",
      " [  0.         -1.2657146   0.         -0.         -0.          0.0000002\n",
      "    0.       ]\n",
      " [ -0.          0.         -0.6292671   0.         -0.          0.\n",
      "   -0.0000001]\n",
      " [  0.         -0.          0.         -0.441668   -0.          0.\n",
      "    0.       ]\n",
      " [  0.         -0.         -0.         -0.         -0.3876451  -0.\n",
      "   -0.       ]\n",
      " [  0.          0.0000002   0.          0.         -0.          0.6028394\n",
      "    0.       ]\n",
      " [  0.          0.         -0.0000001   0.         -0.          0.\n",
      "    0.7659184]]\n"
     ]
    }
   ],
   "source": [
    "# Get the overlap and Fock matrices\n",
    "\n",
    "print(scfdrv.scf_tensors.keys())\n",
    "fock = scfdrv.scf_tensors['F'][0]\n",
    "ovlp = scfdrv.scf_tensors['S']\n",
    "# Transform them from AO to MO basis\n",
    "print(numpy.matmul(mo.T, numpy.matmul(ovlp, mo)))\n",
    "print(numpy.matmul(mo.T, numpy.matmul(fock, mo)))"
   ]
  },
  {
   "cell_type": "code",
   "execution_count": 24,
   "metadata": {},
   "outputs": [],
   "source": [
    "# Get the CIS eigenvalues and eigenvectors\n",
    "\n",
    "tda_eig_vals = tda_results[\"eigenvalues\"]\n",
    "tda_eig_vecs = tda_results[\"eigenvectors\"]\n",
    "tda_size = tda_eig_vecs[:,0].shape\n",
    "tda_eig_vec=tda_eig_vecs[:,0].copy()\n",
    "tda_eig_vec_as_mat = tda_eig_vec.reshape(nocc, nvir) #/ numpy.sqrt(2.0)"
   ]
  },
  {
   "cell_type": "markdown",
   "metadata": {},
   "source": [
    "### Perform an analogous calculation with $\\texttt{adcc}$ for comparison"
   ]
  },
  {
   "cell_type": "code",
   "execution_count": 25,
   "metadata": {},
   "outputs": [
    {
     "name": "stdout",
     "output_type": "stream",
     "text": [
      "Starting adc1 singlet Jacobi-Davidson ...\n",
      "Niter n_ss  max_residual  time  Ritz values\n",
      "  1     6     0.0028135   32ms  [0.4834361 0.5742004 0.6052005]\n",
      "  2    10    3.4942e-29   39ms  [0.4834361 0.5742004 0.602137 ]\n",
      "=== Converged ===\n",
      "    Number of matrix applies:    10\n",
      "    Total solver time:           77.278ms\n"
     ]
    }
   ],
   "source": [
    "adc1 = adcc.run_adc(scfdrv, method='adc1', n_singlets=3, conv_tol=1e-4)"
   ]
  },
  {
   "cell_type": "code",
   "execution_count": 26,
   "metadata": {},
   "outputs": [
    {
     "data": {
      "text/plain": [
       "array([[-0.2107821, -0.       , -0.1423893],\n",
       "       [ 0.0418873, -0.       ,  0.0233941],\n",
       "       [-0.3315493,  0.       , -0.2288044]])"
      ]
     },
     "execution_count": 26,
     "metadata": {},
     "output_type": "execute_result"
    }
   ],
   "source": [
    "adc1_eig_vec = adc1.excitation_vector[0][\"ph\"].to_ndarray()\n",
    "adc1_eig_vals = adc1.excitation_energy\n",
    "adc1.state_dipole_moment"
   ]
  },
  {
   "cell_type": "code",
   "execution_count": 27,
   "metadata": {},
   "outputs": [
    {
     "name": "stdout",
     "output_type": "stream",
     "text": [
      "vlx eigenvalues:\n",
      "[0.4834361 0.5742005 0.6021371]\n",
      "\n",
      "adcc eigenvalues:\n",
      "[0.4834361 0.5742004 0.602137 ]\n",
      "\n",
      "vlx eigenvector:\n",
      "[[-0.         0.       ]\n",
      " [-0.        -0.       ]\n",
      " [ 0.        -0.       ]\n",
      " [-0.         0.       ]\n",
      " [ 0.9999995 -0.0009539]]\n",
      "\n",
      "adcc eigenvector:\n",
      "[[ 0.        -0.         0.         0.       ]\n",
      " [ 0.         0.         0.         0.       ]\n",
      " [-0.         0.         0.         0.       ]\n",
      " [-0.        -0.         0.         0.       ]\n",
      " [-0.7071065  0.0006745  0.         0.       ]\n",
      " [ 0.         0.         0.        -0.       ]\n",
      " [ 0.         0.         0.         0.       ]\n",
      " [ 0.         0.        -0.         0.       ]\n",
      " [ 0.         0.        -0.        -0.       ]\n",
      " [ 0.         0.        -0.7071065  0.0006745]]\n",
      "\n",
      "vlx eigenvector divided by square root 2:\n",
      "[[-0.         0.       ]\n",
      " [-0.        -0.       ]\n",
      " [ 0.        -0.       ]\n",
      " [-0.         0.       ]\n",
      " [ 0.7071065 -0.0006745]]\n"
     ]
    }
   ],
   "source": [
    "# Compare the eigenvalues and eigenvectors\n",
    "print(\"vlx eigenvalues:\")\n",
    "print(tda_eig_vals)\n",
    "print()\n",
    "print(\"adcc eigenvalues:\")\n",
    "print(adc1_eig_vals)\n",
    "print()\n",
    "print(\"vlx eigenvector:\")\n",
    "print(tda_eig_vec_as_mat)\n",
    "print()\n",
    "print(\"adcc eigenvector:\")\n",
    "print(adc1_eig_vec)\n",
    "print()\n",
    "print(\"vlx eigenvector divided by square root 2:\")\n",
    "print(tda_eig_vec_as_mat/numpy.sqrt(2))"
   ]
  },
  {
   "cell_type": "markdown",
   "metadata": {},
   "source": [
    "### Calculate one- and two-particle density matrices"
   ]
  },
  {
   "cell_type": "code",
   "execution_count": 29,
   "metadata": {},
   "outputs": [
    {
     "name": "stdout",
     "output_type": "stream",
     "text": [
      "[[-0. -0.  0. -0.  0.]\n",
      " [-0. -0.  0. -0.  0.]\n",
      " [ 0.  0. -0.  0. -0.]\n",
      " [-0. -0.  0. -0.  0.]\n",
      " [ 0.  0. -0.  0. -1.]]\n"
     ]
    }
   ],
   "source": [
    "# VeloxChem unrelaxed one-particle density matrix and two-particle density matrix\n",
    "\n",
    "vlx_dm_oo = -numpy.einsum('ia,ja->ij', tda_eig_vec_as_mat, tda_eig_vec_as_mat)\n",
    "vlx_dm_vv = numpy.einsum('ia,ib->ab', tda_eig_vec_as_mat, tda_eig_vec_as_mat)\n",
    "vlx_DM_ovov = -numpy.einsum('ib,ja->iajb', tda_eig_vec_as_mat, tda_eig_vec_as_mat)\n",
    "\n",
    "print(vlx_dm_oo)"
   ]
  },
  {
   "cell_type": "code",
   "execution_count": 30,
   "metadata": {},
   "outputs": [],
   "source": [
    "# adcc density matrices\n",
    "\n",
    "adcc_dm_oo = -numpy.einsum('ia,ja->ij', adc1_eig_vec, adc1_eig_vec)\n",
    "adcc_dm_vv = numpy.einsum('ia,ib->ab', adc1_eig_vec, adc1_eig_vec)\n",
    "adcc_DM_ovov = -numpy.einsum('ib,ja->iajb', adc1_eig_vec, adc1_eig_vec)\n",
    "\n",
    "#print(adcc_dm_oo)\n",
    "\n",
    "# adcc Fock matrix\n",
    "foo = adc1.reference_state.fock(\"o1o1\").to_ndarray()\n",
    "fvv = adc1.reference_state.fock(\"v1v1\").to_ndarray()\n",
    "ovov = adc1.reference_state.eri(\"o1v1o1v1\").to_ndarray()"
   ]
  },
  {
   "cell_type": "code",
   "execution_count": 31,
   "metadata": {},
   "outputs": [
    {
     "name": "stdout",
     "output_type": "stream",
     "text": [
      "adcc excitation energy: 0.48343610862401387\n"
     ]
    }
   ],
   "source": [
    "# Confirm the density matrices by calculating the excitation energy\n",
    "# as a contraction of the densities with the Fock matrix and ERI tensor\n",
    "\n",
    "adcc_excitation_energy = (numpy.einsum('ij,ij->',adcc_dm_oo,foo)\n",
    "                     + numpy.einsum('ab,ab->', adcc_dm_vv, fvv)\n",
    "                     + numpy.einsum('iajb,iajb->', adcc_DM_ovov, ovov)\n",
    "                    )\n",
    "print(\"adcc excitation energy:\", adcc_excitation_energy)"
   ]
  },
  {
   "cell_type": "code",
   "execution_count": 32,
   "metadata": {},
   "outputs": [
    {
     "name": "stdout",
     "output_type": "stream",
     "text": [
      " vlx excitation energy: 0.48343610862401387\n"
     ]
    }
   ],
   "source": [
    "# Analogous confirmation of the vlx density matrices\n",
    "# two different spin blocks of the antisymmmetrized ERIs need to be considered:\n",
    "# <aa||aa> = <bb||bb> as well as <ab||ba> = <ba||ab>\n",
    "vlx_excitation_energy = (1.0*numpy.einsum('ij,ij->', vlx_dm_oo,foo[:nocc,:nocc])\n",
    "                        +1.0*numpy.einsum('ab,ab->', vlx_dm_vv, fvv[:nvir,:nvir])\n",
    "                        +1.0*numpy.einsum('iajb,iajb->', vlx_DM_ovov, ovov[:nocc, :nvir, :nocc, :nvir])##aaaa\n",
    "                        +1.0*numpy.einsum('iajb,iajb->', vlx_DM_ovov, ovov[:nocc, nvir:, nocc:, :nvir])##abba\n",
    "                        )\n",
    "print(\" vlx excitation energy:\", vlx_excitation_energy)"
   ]
  },
  {
   "cell_type": "code",
   "execution_count": 33,
   "metadata": {},
   "outputs": [
    {
     "name": "stdout",
     "output_type": "stream",
     "text": [
      "adcc excitation energy: 0.48343610862266306\n"
     ]
    }
   ],
   "source": [
    "# Re-confirm the adcc excitation energy by considering only the spin blocks vlx takes\n",
    "adcc_excitation_energy = (1.0*numpy.einsum('ij,ij->', vlx_dm_oo,foo[:nocc,:nocc])\n",
    "                        +1.0*numpy.einsum('ab,ab->', vlx_dm_vv, fvv[:nvir,:nvir])\n",
    "                        +2.0*numpy.einsum('iajb,iajb->', adcc_DM_ovov[:nocc, :nvir, :nocc, :nvir], ovov[:nocc, :nvir, :nocc, :nvir])\n",
    "                        +2.0*numpy.einsum('iajb,iajb->', adcc_DM_ovov[:nocc, :nvir, :nocc, :nvir], ovov[:nocc, nvir:, nocc:, :nvir])\n",
    "    )\n",
    "print(\"adcc excitation energy:\", adcc_excitation_energy)"
   ]
  },
  {
   "cell_type": "code",
   "execution_count": 34,
   "metadata": {},
   "outputs": [
    {
     "name": "stdout",
     "output_type": "stream",
     "text": [
      "ovov.shape:         (10, 4, 10, 4)\n",
      "adcc_DM_ovov.shape: (10, 4, 10, 4)\n",
      "vlx_DM_ovov.shape:  (5, 2, 5, 2)\n"
     ]
    }
   ],
   "source": [
    "# Take a look at the different shapes of the integrals and 2PDMs\n",
    "print(\"ovov.shape:        \", ovov.shape)\n",
    "print(\"adcc_DM_ovov.shape:\", adcc_DM_ovov.shape)\n",
    "print(\"vlx_DM_ovov.shape: \", vlx_DM_ovov.shape)"
   ]
  },
  {
   "cell_type": "markdown",
   "metadata": {},
   "source": [
    "### Transform the one-particle density matrices from the MO to the AO basis"
   ]
  },
  {
   "cell_type": "code",
   "execution_count": 35,
   "metadata": {},
   "outputs": [
    {
     "name": "stdout",
     "output_type": "stream",
     "text": [
      "VLX:\n",
      "[[ 0.0183891 -0.1231612  0.1092115  0.1097085 -0.        -0.05566\n",
      "  -0.0792771]\n",
      " [-0.1231612  0.824872  -0.7314442 -0.734773   0.         0.372783\n",
      "   0.5309583]\n",
      " [ 0.1092115 -0.7314442  0.6485984  0.6515501 -0.        -0.3305604\n",
      "  -0.4708202]\n",
      " [ 0.1097085 -0.734773   0.6515501  0.6545153 -0.        -0.3320647\n",
      "  -0.4729629]\n",
      " [-0.         0.        -0.        -0.        -1.        -0.\n",
      "  -0.       ]\n",
      " [-0.05566    0.372783  -0.3305604 -0.3320647 -0.         0.1684712\n",
      "   0.2399551]\n",
      " [-0.0792771  0.5309583 -0.4708202 -0.4729629 -0.         0.2399551\n",
      "   0.3417703]]\n",
      "\n",
      "ADCC:\n",
      "[[ 0.0183891 -0.1231612  0.1092115  0.1097085 -0.        -0.05566\n",
      "  -0.0792771]\n",
      " [-0.1231612  0.824872  -0.7314442 -0.734773   0.         0.372783\n",
      "   0.5309583]\n",
      " [ 0.1092115 -0.7314442  0.6485984  0.6515501 -0.        -0.3305604\n",
      "  -0.4708202]\n",
      " [ 0.1097085 -0.734773   0.6515501  0.6545153 -0.        -0.3320647\n",
      "  -0.4729629]\n",
      " [-0.         0.        -0.        -0.        -1.        -0.\n",
      "  -0.       ]\n",
      " [-0.05566    0.372783  -0.3305604 -0.3320647 -0.         0.1684712\n",
      "   0.2399551]\n",
      " [-0.0792771  0.5309583 -0.4708202 -0.4729629 -0.         0.2399551\n",
      "   0.3417703]]\n"
     ]
    }
   ],
   "source": [
    "# Transform the one-particle density matrices from MO to AO basis\n",
    "vlx_dm_oo_in_ao = numpy.matmul(mo_occ, numpy.matmul(vlx_dm_oo, mo_occ.T))\n",
    "adcc_dm_oo_in_ao = 2.0*numpy.matmul(mo_occ, numpy.matmul(adcc_dm_oo[:nocc,:nocc], mo_occ.T))\n",
    "\n",
    "vlx_dm_vv_in_ao = numpy.matmul(mo_vir, numpy.matmul(vlx_dm_vv, mo_vir.T))\n",
    "adcc_dm_vv_in_ao = 2.0*numpy.matmul(mo_vir, numpy.matmul(adcc_dm_vv[:nvir,:nvir], mo_vir.T))\n",
    "\n",
    "vlx_dm_ao = vlx_dm_oo_in_ao + vlx_dm_vv_in_ao\n",
    "adcc_dm_ao = adcc_dm_oo_in_ao + adcc_dm_vv_in_ao\n",
    "\n",
    "print(\"VLX:\")\n",
    "print(vlx_dm_ao)\n",
    "print(\"\\nADCC:\")\n",
    "print(adcc_dm_ao)"
   ]
  },
  {
   "cell_type": "code",
   "execution_count": 36,
   "metadata": {},
   "outputs": [
    {
     "name": "stdout",
     "output_type": "stream",
     "text": [
      "contract_fock_ao = 0.990484598301731\n",
      "contract_fock_mo = 0.9904845983017307\n"
     ]
    }
   ],
   "source": [
    "# Confirm the densities by comparing the contractions with the Fock matrix in MO and AO basis\n",
    "\n",
    "contract_fock_mo = (1.0*numpy.einsum('ij,ij->', vlx_dm_oo, foo[:nocc,:nocc])\n",
    "                    +1.0*numpy.einsum('ab,ab->', vlx_dm_vv, fvv[:nvir,:nvir]))\n",
    "\n",
    "contract_fock_ao = numpy.einsum('mn,mn->', vlx_dm_ao, fock)\n",
    "\n",
    "print(\"contract_fock_ao =\", contract_fock_ao)\n",
    "print(\"contract_fock_mo =\", contract_fock_mo)"
   ]
  },
  {
   "cell_type": "code",
   "execution_count": 37,
   "metadata": {},
   "outputs": [
    {
     "name": "stdout",
     "output_type": "stream",
     "text": [
      "vlx dipole moment     [au] = [-0.2107821 -0.        -0.1423893]\n",
      "\n",
      "adcc dm dipole moment [au] = [-0.2107821 -0.        -0.1423893]\n",
      "\n",
      "ADC(1) dipole moment from adcc [au]:\n",
      "                             [-0.2107821 -0.        -0.1423893]\n"
     ]
    }
   ],
   "source": [
    "# Get the total density (including SCF part)\n",
    "# and calculate the unrelaxed excited-state dipole moment\n",
    "\n",
    "# dipole integrals\n",
    "dipole_drv = vlx.ElectricDipoleIntegralsDriver(comm)\n",
    "dipole_mats = dipole_drv.compute(molecule, basis)\n",
    "dipole_ints = (dipole_mats.x_to_numpy(),\n",
    "              dipole_mats.y_to_numpy(),\n",
    "              dipole_mats.z_to_numpy())\n",
    "\n",
    "# electronic contribution\n",
    "total_density = scfdrv.scf_tensors['D'][0] + scfdrv.scf_tensors['D'][1] + vlx_dm_ao\n",
    "adcc_total_density = scfdrv.scf_tensors['D'][0] + scfdrv.scf_tensors['D'][1] + adcc_dm_ao\n",
    "electronic_dipole = -1.0 * numpy.array(\n",
    "    [numpy.sum(dipole_ints[d] * total_density) for d in range(3)])\n",
    "adcc_electronic_dipole = -1.0 * numpy.array(\n",
    "    [numpy.sum(dipole_ints[d] * adcc_total_density) for d in range(3)])\n",
    "\n",
    "# nuclear contribution\n",
    "coords = molecule.get_coordinates()\n",
    "nuclear_charges = molecule.elem_ids_to_numpy()\n",
    "nuclear_dipole = numpy.sum(coords.T * nuclear_charges, axis=1)\n",
    "\n",
    "dipole_moment = (nuclear_dipole + electronic_dipole)\n",
    "adcc_dipole_moment = (nuclear_dipole + adcc_electronic_dipole)\n",
    "\n",
    "print(\"vlx dipole moment     [au] =\", dipole_moment)\n",
    "print()\n",
    "print(\"adcc dm dipole moment [au] =\", adcc_dipole_moment)\n",
    "print()\n",
    "print(\"ADC(1) dipole moment from adcc [au]:\")\n",
    "print(\"                            \", adc1.state_dipole_moment[0])"
   ]
  },
  {
   "cell_type": "markdown",
   "metadata": {},
   "source": [
    "#### Transform the excitation vectors to the AO basis\n",
    "\\begin{equation}\n",
    "    x_{\\mu \\nu} = \\sum_{ia} C_{\\mu i} x_{ia} C_{\\nu a}\n",
    "\\end{equation}"
   ]
  },
  {
   "cell_type": "code",
   "execution_count": 38,
   "metadata": {},
   "outputs": [
    {
     "name": "stdout",
     "output_type": "stream",
     "text": [
      "[[-0.         0.        -0.        -0.         0.         0.\n",
      "   0.       ]\n",
      " [ 0.        -0.         0.         0.        -0.        -0.\n",
      "  -0.       ]\n",
      " [-0.         0.         0.        -0.        -0.        -0.\n",
      "   0.       ]\n",
      " [-0.         0.        -0.        -0.         0.         0.\n",
      "   0.       ]\n",
      " [-0.1356065  0.9082246 -0.8053561 -0.8090212  0.         0.4104525\n",
      "   0.5846112]\n",
      " [-0.         0.        -0.        -0.        -0.         0.\n",
      "   0.       ]\n",
      " [-0.         0.        -0.        -0.         0.         0.\n",
      "   0.       ]]\n"
     ]
    }
   ],
   "source": [
    "# Transform the transition density matrix (the excitation vectors) from MO to AO basis\n",
    "# (will be needed for the two-particle density matrix)\n",
    "\n",
    "tda_eig_vec_ao = numpy.matmul(mo_occ, numpy.matmul(tda_eig_vec_as_mat, mo_vir.T))\n",
    "print(tda_eig_vec_ao)"
   ]
  },
  {
   "cell_type": "code",
   "execution_count": 39,
   "metadata": {},
   "outputs": [],
   "source": [
    "# Get the ERI tensor in AO basis (chemists' notation)\n",
    "\n",
    "nao = mo.shape[0]\n",
    "\n",
    "pqrs = numpy.zeros((nao, nao, nao, nao))\n",
    "eri_drv = vlx.ElectronRepulsionIntegralsDriver(comm)\n",
    "eri_drv.compute_in_mem(molecule, basis, pqrs)"
   ]
  },
  {
   "cell_type": "markdown",
   "metadata": {},
   "source": [
    "The MO to AO transformation of the contribution of the two-particle density matrix with the ERI tensor is given as\n",
    "\\begin{align}\n",
    "\\begin{split}\n",
    "    - \\sum_{\\sigma \\sigma'} \\sum_{ijab} x_{i_{\\sigma} b_{\\sigma}} x_{j_{\\sigma'} a_{\\sigma'}}\n",
    "        \\langle i_{\\sigma} a_{\\sigma'} || j_{\\sigma'} b_{\\sigma} \\rangle\n",
    "    &= - \\sum_{ijab} x_{ib} x_{ja} [ 2 (ij|ab) - 4 (ib|aj) ] \\\\\n",
    "    &= + \\sum_{ijab} x_{ib} x_{ja} [ 4 (ib|aj) - 2 (ij|ab)  ] \\\\\n",
    "    &= \\sum_{ijab} x_{ib} x_{ja} \\sum_{\\mu \\nu \\theta \\varphi}\n",
    "        C_{\\mu i} C_{\\nu b} C_{\\theta a} C_{\\varphi j}  [ 4 (\\mu \\nu | \\theta \\varphi)\n",
    "        - 2 (\\mu \\varphi | \\theta \\nu) ] \\\\\n",
    "    &= \\sum_{\\mu \\nu \\theta \\varphi} [ 4 (\\mu \\nu | \\theta \\varphi)\n",
    "        - 2 (\\mu \\varphi | \\theta \\nu) ]\n",
    "        \\sum_{ib} C_{\\mu i} x_{ib} C_{\\nu b} \\sum_{ja} C_{\\varphi j} x_{ja} C_{\\theta a} \\\\\n",
    "    &= \\sum_{\\mu \\nu \\theta \\varphi} x_{\\mu \\nu} x_{\\varphi \\theta} [ 4 (\\mu \\nu | \\theta \\varphi)\n",
    "        - 2 (\\mu \\varphi | \\theta \\nu) ]       \\\\\n",
    "    &= \\sum_{\\mu \\nu} x_{\\mu \\nu} \\sum_{\\theta \\varphi} x_{\\varphi \\theta} [ 4 (\\mu \\nu | \\theta \\varphi)\n",
    "        - 2 (\\mu \\varphi | \\theta \\nu) ]\n",
    "\\end{split}\n",
    "\\end{align}"
   ]
  },
  {
   "cell_type": "code",
   "execution_count": 40,
   "metadata": {},
   "outputs": [
    {
     "name": "stdout",
     "output_type": "stream",
     "text": [
      "Contraction in MO adcc: -0.5070484896790678\n",
      "Contraction in MO vlx:  -0.5070484896777169\n",
      "Contraction in AO:      -0.5070484896777169\n"
     ]
    }
   ],
   "source": [
    "# Confirm by comparing the contraction of electron repulsion integrals in AO basis\n",
    "\n",
    "# First reference value in MO\n",
    "eri_contract_mo_adcc = numpy.einsum('iajb,iajb->', adcc_DM_ovov, ovov)\n",
    "print(\"Contraction in MO adcc:\", eri_contract_mo_adcc)\n",
    "\n",
    "eri_contract_mo_vlx = (+1.0*numpy.einsum('iajb,iajb->', vlx_DM_ovov, ovov[:nocc, :nvir, :nocc, :nvir])##aaaa\n",
    "                        +1.0*numpy.einsum('iajb,iajb->', vlx_DM_ovov, ovov[:nocc, nvir:, nocc:, :nvir]))##bbbb\n",
    "print(\"Contraction in MO vlx: \", eri_contract_mo_vlx)\n",
    "\n",
    "# Now contract everything in AO\n",
    "eri_contract_ao = (0.5*numpy.einsum('mn,mn->', tda_eig_vec_ao, numpy.einsum('pt,mntp->mn', tda_eig_vec_ao, 4*pqrs)\n",
    "                                   - numpy.einsum('pt,mptn->mn', tda_eig_vec_ao, 2*pqrs))\n",
    "                    )\n",
    "print(\"Contraction in AO:     \", eri_contract_ao)"
   ]
  },
  {
   "cell_type": "markdown",
   "metadata": {},
   "source": [
    "# Orbital response"
   ]
  },
  {
   "cell_type": "markdown",
   "metadata": {},
   "source": [
    "## Right-hand side"
   ]
  },
  {
   "cell_type": "markdown",
   "metadata": {},
   "source": [
    "### 1. Contributions from the 1PDMs\n",
    "\\begin{align}\n",
    "F^\\gamma_{ia} &= \\sum_{\\theta,\\varphi}C^\\alpha_{\\varphi i}C^\\alpha_{\\theta a}\\sum_{\\mu,\\nu,\\sigma}\\gamma^\\sigma_{\\mu\\nu}(\\mu\\nu|\\theta \\varphi)-\\sum_{\\theta,\\varphi}C^\\alpha_{\\varphi i}C^\\alpha_{\\theta a}\\sum_{\\mu,\\nu}\\gamma^{\\alpha}_{\\mu\\nu}(\\mu\\varphi|\\theta\\nu)\\\\\n",
    "&= \\sum_{\\theta,\\varphi,\\sigma}C^\\alpha_{\\varphi i}C^\\alpha_{\\theta a}F^{1,\\sigma}_{\\varphi\\theta}-\\sum_{\\theta,\\varphi}C^\\alpha_{\\varphi i}C^\\alpha_{\\theta a}F^{2,\\alpha}_{\\varphi\\theta}\\\\\n",
    "&= \\sum_{\\theta,\\varphi}C^\\alpha_{\\varphi i}C^\\alpha_{\\theta a}F_{\\varphi\\theta}\n",
    "\\end{align}"
   ]
  },
  {
   "cell_type": "code",
   "execution_count": 43,
   "metadata": {},
   "outputs": [
    {
     "name": "stdout",
     "output_type": "stream",
     "text": [
      "[[-0.018333   0.0000249]\n",
      " [-0.0827309 -0.0000336]\n",
      " [ 0.0004581 -0.1069934]\n",
      " [-0.0907946  0.0001547]\n",
      " [-0.         0.       ]]\n"
     ]
    }
   ],
   "source": [
    "# Calculate two different parts and transform the sum to MO\n",
    "\n",
    "F1_vlx = numpy.einsum('mn,mntp->pt', vlx_dm_ao, pqrs)\n",
    "F2_vlx = numpy.einsum('mn,mptn->pt', vlx_dm_ao, pqrs)\n",
    "# The density matrices already have a factor of 2 (for alpρφha and beta spin)\n",
    "# hence a factor of 0.5 where the other spin part actually vanishes\n",
    "F_1pdm_vlx = F1_vlx - 0.5*F2_vlx\n",
    "vlx_1pdm_rhs = numpy.einsum('pi,pa->ia', mo_occ, numpy.einsum('ta,pt->pa', mo_vir, F_1pdm_vlx))\n",
    "print(vlx_1pdm_rhs)"
   ]
  },
  {
   "cell_type": "code",
   "execution_count": 44,
   "metadata": {},
   "outputs": [
    {
     "name": "stdout",
     "output_type": "stream",
     "text": [
      "[[-0.018333   0.0000249 -0.        -0.       ]\n",
      " [-0.0827309 -0.0000336 -0.        -0.       ]\n",
      " [ 0.0004581 -0.1069934 -0.        -0.       ]\n",
      " [-0.0907946  0.0001547 -0.        -0.       ]\n",
      " [ 0.         0.        -0.        -0.       ]\n",
      " [-0.        -0.        -0.018333   0.0000249]\n",
      " [-0.        -0.        -0.0827309 -0.0000336]\n",
      " [-0.        -0.         0.0004581 -0.1069934]\n",
      " [-0.        -0.        -0.0907946  0.0001547]\n",
      " [-0.        -0.         0.         0.       ]]\n"
     ]
    }
   ],
   "source": [
    "# Compare to the analogous calculation with adcc in MO basis\n",
    "\n",
    "ooov = adc1.reference_state.eri(\"o1o1o1v1\").to_ndarray()\n",
    "ovvv = adc1.reference_state.eri(\"o1v1v1v1\").to_ndarray()\n",
    "adcc_1pdm_rhs = ( -numpy.einsum('jk,ikja->ia', adcc_dm_oo, ooov, optimize=True) \n",
    "                 -numpy.einsum('bc,icba->ia', adcc_dm_vv, ovvv, optimize=True)\n",
    "                )\n",
    "print(adcc_1pdm_rhs)"
   ]
  },
  {
   "cell_type": "markdown",
   "metadata": {},
   "source": [
    "### 2. Contributions from the 2PDMs\n",
    "\n",
    "\\begin{align}\n",
    "F^\\Gamma_{ia} &= ~~ \\sum_{\\mu,\\zeta}C^\\alpha_{\\mu i}C^\\alpha_{\\zeta a} \\Big[\\sum_{\\rho,\\varphi}S_{\\rho\\zeta}x^\\alpha_{\\varphi\\rho}\\sum_{\\nu,\\theta}x^\\alpha_{\\theta\\nu}(\\mu\\nu|\\theta\\varphi)-\\sum_{\\rho,\\varphi}S_{\\rho\\zeta}x^\\alpha_{\\varphi\\rho}\\sum_{\\theta,\\nu,\\sigma} x^\\sigma_{\\theta\\nu}(\\mu\\varphi|\\theta\\nu) \\Big] \\\\\n",
    "&~~~ -\\sum_{\\mu,\\zeta}C^\\alpha_{\\mu i}C^\\alpha_{\\zeta a} \\Big[ \\sum_{\\rho,\\varphi}S_{\\mu\\rho}x^\\alpha_{\\rho\\varphi}\\sum_{\\nu,\\theta}x^\\alpha_{\\nu\\theta}(\\zeta\\nu|\\theta\\varphi)-\\sum_{\\rho,\\varphi} S_{\\mu\\rho}x^\\alpha_{\\rho\\varphi}\\sum_{\\theta,\\nu,\\sigma}x^\\sigma_{\\nu\\theta}(\\zeta\\varphi|\\theta\\nu) \\Big]\n",
    "\\end{align}"
   ]
  },
  {
   "cell_type": "code",
   "execution_count": 45,
   "metadata": {},
   "outputs": [
    {
     "name": "stdout",
     "output_type": "stream",
     "text": [
      "[[ 0.0193612 -0.0000185]\n",
      " [ 0.0193312 -0.0000184]\n",
      " [-0.0001742  0.0000002]\n",
      " [ 0.0580351 -0.0000554]\n",
      " [-0.        -0.       ]]\n",
      "\n",
      "[[ 0.0193612 -0.0000185]\n",
      " [ 0.0193312 -0.0000184]\n",
      " [-0.0001742  0.0000002]\n",
      " [ 0.0580351 -0.0000554]\n",
      " [-0.        -0.       ]]\n",
      "\n",
      "[[ 0.0193612 -0.0000185]\n",
      " [ 0.0193312 -0.0000184]\n",
      " [-0.0001742  0.0000002]\n",
      " [ 0.0580351 -0.0000554]\n",
      " [-0.        -0.       ]]\n"
     ]
    }
   ],
   "source": [
    "# Care needs to be taken with the index order of the excitation vectors\n",
    "# Calculate in different summation orders...\n",
    "\n",
    "# 1)\n",
    "FG1 = ( numpy.einsum('rz,mr->mz', ovlp,\n",
    "                    numpy.einsum('pr,mp->mr', tda_eig_vec_ao,\n",
    "                        (0.5*numpy.einsum('tn,mntp->mp',tda_eig_vec_ao,pqrs)\n",
    "                        -numpy.einsum('tn,mptn->mp',tda_eig_vec_ao,pqrs))\n",
    "                                )\n",
    "                      )\n",
    "            )\n",
    "FG2 = ( numpy.einsum('mr,rz->mz', ovlp,\n",
    "                    numpy.einsum('rp,zp->rz', tda_eig_vec_ao,\n",
    "                        (0.5*numpy.einsum('nt,zntp->zp',tda_eig_vec_ao,pqrs)\n",
    "                        -numpy.einsum('nt,zptn->zp',tda_eig_vec_ao,pqrs))\n",
    "                                )\n",
    "                      )\n",
    "            )\n",
    "\n",
    "# 2)\n",
    "FG1_try2 =( numpy.einsum('rz,mr->mz', ovlp,\n",
    "                       numpy.einsum('pr,mp->mr', tda_eig_vec_ao,\n",
    "                                    numpy.einsum('tn,mntp->mp',tda_eig_vec_ao,pqrs)\n",
    "                                   )\n",
    "                      )\n",
    "            )\n",
    "FG2_try2 =( numpy.einsum('rz,mr->mz', ovlp,\n",
    "                       numpy.einsum('pr,mp->mr', tda_eig_vec_ao,\n",
    "                                    numpy.einsum('tn,mptn->mp',tda_eig_vec_ao,pqrs)\n",
    "                                   )\n",
    "                      )\n",
    "            )\n",
    "FG3_try2 =( numpy.einsum('mr,rz->mz', ovlp,\n",
    "                       numpy.einsum('rp,zp->rz', tda_eig_vec_ao,\n",
    "                                    numpy.einsum('nt,zntp->zp',tda_eig_vec_ao,pqrs)\n",
    "                                   )\n",
    "                      )\n",
    "            )\n",
    "FG4_try2 =( numpy.einsum('mr,rz->mz', ovlp,\n",
    "                       numpy.einsum('rp,zp->rz', tda_eig_vec_ao,\n",
    "                                    numpy.einsum('nt,zptn->zp',tda_eig_vec_ao,pqrs)\n",
    "                                   )\n",
    "                      )\n",
    "            )\n",
    "\n",
    "FG1_vlx =( numpy.einsum('rz,zm->rm', ovlp,\n",
    "                       numpy.einsum('zp,mp->zm', tda_eig_vec_ao,\n",
    "                                    numpy.einsum('tn,mntp->mp',tda_eig_vec_ao,pqrs)\n",
    "                                   )\n",
    "                      )\n",
    "            )\n",
    "FG1_vlx_ovlp =( numpy.einsum('rp,mp->rm',\n",
    "                numpy.einsum('rz,zp->rp', ovlp, tda_eig_vec_ao),\n",
    "                numpy.einsum('tn,mntp->mp',tda_eig_vec_ao,pqrs)\n",
    "                                   )\n",
    "            )\n",
    "\n",
    "FG2_vlx =  numpy.einsum('rz,zm->rm', ovlp,\n",
    "                       numpy.einsum('zn,nm->zm', tda_eig_vec_ao,\n",
    "                                    numpy.einsum('tp,mntp->nm',tda_eig_vec_ao,pqrs)\n",
    "                                   )\n",
    "                      )\n",
    "\n",
    "# Sum up terms accounting for spin factors\n",
    "F_2pdm_vlx_A = 0.5*FG1_try2 - FG2_try2 \n",
    "F_2pdm_vlx_B =-0.5*FG3_try2 + FG4_try2\n",
    "\n",
    "F_2pdm_vlx = F_2pdm_vlx_A + F_2pdm_vlx_B\n",
    "#print(F_2pdm_vlx)\n",
    "# 3)\n",
    "another_vlx_2pdm_rhs = (numpy.einsum('mi,ma->ia', mo_occ, numpy.einsum('za,mz->ma', mo_vir, F_2pdm_vlx_A))\n",
    "                +numpy.einsum('mi,ma->ia', mo_occ, numpy.einsum('za,mz->ma', mo_vir, F_2pdm_vlx_B))\n",
    "               )\n",
    "vlx_2pdm_rhs = (numpy.einsum('mi,ma->ia', mo_occ, numpy.einsum('za,mz->ma', mo_vir, F_2pdm_vlx)))\n",
    "final_vlx_2pdm_rhs = (numpy.einsum('mi,ma->ia', mo_occ, numpy.einsum('za,mz->ma', mo_vir, FG1-FG2)))\n",
    "print(vlx_2pdm_rhs)\n",
    "print()\n",
    "print(another_vlx_2pdm_rhs)         \n",
    "print()\n",
    "print(final_vlx_2pdm_rhs)"
   ]
  },
  {
   "cell_type": "code",
   "execution_count": 46,
   "metadata": {},
   "outputs": [
    {
     "name": "stdout",
     "output_type": "stream",
     "text": [
      "[[ 0.0193612 -0.0000185  0.         0.       ]\n",
      " [ 0.0193312 -0.0000184  0.         0.       ]\n",
      " [-0.0001742  0.0000002  0.         0.       ]\n",
      " [ 0.0580351 -0.0000554  0.         0.       ]\n",
      " [-0.        -0.         0.         0.       ]\n",
      " [ 0.         0.         0.0193612 -0.0000185]\n",
      " [ 0.         0.         0.0193312 -0.0000184]\n",
      " [ 0.         0.        -0.0001742  0.0000002]\n",
      " [ 0.         0.         0.0580351 -0.0000554]\n",
      " [ 0.         0.        -0.        -0.       ]]\n"
     ]
    }
   ],
   "source": [
    "# Compare to adcc\n",
    "adcc_2pdm_rhs = (numpy.einsum('jakb,ijkb->ia', adcc_DM_ovov, ooov, optimize=True)\n",
    "                + numpy.einsum('ibjc,jcab->ia', adcc_DM_ovov, ovvv, optimize=True)\n",
    "                )\n",
    "print(adcc_2pdm_rhs)"
   ]
  },
  {
   "cell_type": "markdown",
   "metadata": {},
   "source": [
    "## Left-hand side"
   ]
  },
  {
   "cell_type": "markdown",
   "metadata": {},
   "source": [
    "### Initial guess for Lagrange multipliers $\\boldsymbol{\\lambda}$"
   ]
  },
  {
   "cell_type": "code",
   "execution_count": 47,
   "metadata": {},
   "outputs": [
    {
     "name": "stdout",
     "output_type": "stream",
     "text": [
      "[[-0.0000493 -0.0000003]\n",
      " [ 0.0339298  0.0000256]\n",
      " [-0.0002304  0.0766874]\n",
      " [ 0.0313636 -0.0000823]\n",
      " [ 0.        -0.       ]]\n"
     ]
    }
   ],
   "source": [
    "# Neglect the non-diagonal part of the LHS,\n",
    "# i.e. divide the RHS by the orbital-energy difference\n",
    "\n",
    "vlx_rhs = final_vlx_2pdm_rhs + vlx_1pdm_rhs\n",
    "lambda_guess = numpy.zeros((nocc,nvir))\n",
    "mo_energies = scfdrv.scf_tensors['E']\n",
    "#print(mo_energies[nocc:])\n",
    "\n",
    "for i in range(nocc):\n",
    "    ei=mo_energies[i]\n",
    "    for a in range(nvir):\n",
    "        ea=mo_energies[nocc+a]\n",
    "        lambda_guess[i,a] = vlx_rhs[i,a]/(ei-ea)\n",
    "        \n",
    "print(lambda_guess)"
   ]
  },
  {
   "cell_type": "code",
   "execution_count": 48,
   "metadata": {},
   "outputs": [
    {
     "name": "stdout",
     "output_type": "stream",
     "text": [
      "[[-0.0000493 -0.0000003 -0.        -0.       ]\n",
      " [ 0.0339298  0.0000256 -0.        -0.       ]\n",
      " [-0.0002304  0.0766874 -0.        -0.       ]\n",
      " [ 0.0313636 -0.0000823 -0.        -0.       ]\n",
      " [ 0.         0.        -0.        -0.       ]\n",
      " [-0.        -0.        -0.0000493 -0.0000003]\n",
      " [-0.        -0.         0.0339298  0.0000256]\n",
      " [-0.        -0.        -0.0002304  0.0766874]\n",
      " [-0.        -0.         0.0313636 -0.0000823]\n",
      " [-0.        -0.         0.         0.       ]]\n"
     ]
    }
   ],
   "source": [
    "# Compare to adcc\n",
    "foo = adc1.reference_state.fock(\"o1o1\").to_ndarray() \n",
    "fvv = adc1.reference_state.fock(\"v1v1\").to_ndarray()\n",
    "\n",
    "adcc_rhs = adcc_1pdm_rhs + adcc_2pdm_rhs\n",
    "adcc_guess = adcc_rhs.copy() # rhs\n",
    "for i in range(foo.shape[0]):\n",
    "    for a in range(fvv.shape[0]):\n",
    "        adcc_guess[i,a] = adcc_guess[i,a]/(foo[i,i]-fvv[a,a])\n",
    "\n",
    "print(adcc_guess)"
   ]
  },
  {
   "cell_type": "code",
   "execution_count": 49,
   "metadata": {},
   "outputs": [
    {
     "name": "stdout",
     "output_type": "stream",
     "text": [
      "[[ 0.0006387 -0.0042777  0.0038045  0.0037992 -0.        -0.0019443\n",
      "  -0.0027457]\n",
      " [-0.0016019  0.0107291 -0.0095546 -0.0095164  0.         0.0048886\n",
      "   0.0068779]\n",
      " [-0.0018755  0.0125678 -0.0396589  0.0173315  0.         0.0335656\n",
      "  -0.0116339]\n",
      " [-0.0018882  0.0126399  0.0173158 -0.0397953 -0.        -0.0221828\n",
      "   0.0278663]\n",
      " [-0.         0.        -0.        -0.         0.         0.\n",
      "   0.       ]\n",
      " [-0.0022784  0.015267  -0.0451843  0.0180605  0.         0.0378484\n",
      "  -0.0120629]\n",
      " [-0.0032374  0.0216772  0.0031725 -0.0417133 -0.        -0.0121041\n",
      "   0.0294436]]\n"
     ]
    }
   ],
   "source": [
    "# Transform the initial guess for lambda to the AO basis\n",
    "\n",
    "lambda_guess_ao = numpy.matmul(mo_occ, numpy.matmul(lambda_guess, mo_vir.T))\n",
    "print(lambda_guess_ao)\n",
    "\n",
    "# Transform back to MO basis to check\n",
    "#lambda_guess_back_to_mo = numpy.matmul(mo_occ.T, numpy.matmul(ovlp, numpy.matmul(lambda_guess_ao, numpy.matmul(ovlp, mo_vir))))\n",
    "#print(lambda_guess_back_to_mo)"
   ]
  },
  {
   "cell_type": "markdown",
   "metadata": {},
   "source": [
    "### Contraction of the initial guess for $\\boldsymbol{\\lambda}$ with two-electron integrals"
   ]
  },
  {
   "cell_type": "markdown",
   "metadata": {},
   "source": [
    "using $p=j, q=b$ as well as $p=b, q=j$ with the condition $\\lambda_{pq} = \\lambda_{qp}$ and assuming real orbitals, the equation is obtained as\n",
    "\\begin{equation}\n",
    "-\\sum_{pq} \\lambda_{pq} \\big( [pq|ai] - [pi|aq] \\big)\n",
    "    = -\\sum_{\\varphi \\theta} C_{\\varphi i} C_{\\theta a} \\sum_{\\mu \\nu}\n",
    "        \\lambda_{\\mu \\nu} \\big[ 4 (\\mu \\nu | \\varphi \\theta)\n",
    "        - (\\mu \\theta | \\varphi \\nu) - (\\nu \\theta | \\varphi \\mu) \\big]\n",
    "    %+ (\\varepsilon_a - \\varepsilon_i ) \\gamma_{ia}\n",
    "\\end{equation}"
   ]
  },
  {
   "cell_type": "code",
   "execution_count": 50,
   "metadata": {},
   "outputs": [
    {
     "name": "stdout",
     "output_type": "stream",
     "text": [
      "[[-0.0014763 -0.0000022]\n",
      " [-0.0034964 -0.0000172]\n",
      " [-0.0000151 -0.000058 ]\n",
      " [-0.0044806 -0.0000239]\n",
      " [ 0.        -0.       ]]\n"
     ]
    }
   ],
   "source": [
    "# Contract with the ERI tensor\n",
    "vlx_lhs1 = numpy.einsum('mn,mnpt->pt', lambda_guess_ao, pqrs)\n",
    "vlx_lhs2 = numpy.einsum('mn,mtpn->pt', lambda_guess_ao, pqrs)\n",
    "vlx_lhs3 = numpy.einsum('mn,ntpm->pt', lambda_guess_ao, pqrs)\n",
    "\n",
    "vlx_lhs_ao = -2*vlx_lhs1 + 0.5*vlx_lhs2 + 0.5*vlx_lhs3\n",
    "\n",
    "# Transform to MO\n",
    "vlx_lhs_mo = numpy.matmul(mo_occ.T, numpy.matmul(vlx_lhs_ao, mo_vir))\n",
    "#vlx_lhs_mo2 = numpy.einsum('pi,pa->ia', mo_occ, numpy.einsum('ta,pt->pa', mo_vir, vlx_lhs_ao))\n",
    "print(vlx_lhs_mo)\n",
    "#print(vlx_lhs_mo2)"
   ]
  },
  {
   "cell_type": "code",
   "execution_count": 51,
   "metadata": {},
   "outputs": [
    {
     "name": "stdout",
     "output_type": "stream",
     "text": [
      "[[-0.0014763 -0.0000022]\n",
      " [-0.0034964 -0.0000172]\n",
      " [-0.0000151 -0.000058 ]\n",
      " [-0.0044806 -0.0000239]\n",
      " [ 0.        -0.       ]]\n"
     ]
    }
   ],
   "source": [
    "# Another try with different index convention\n",
    "vlx_lhs5 = numpy.einsum('mn,mnpt->pt', lambda_guess_ao, pqrs)\n",
    "vlx_lhs6 = numpy.einsum('mn,mtpn->pt', lambda_guess_ao, pqrs)\n",
    "vlx_lhs7 = numpy.einsum('mn,ntpm->pt', lambda_guess_ao, pqrs)\n",
    "vlx_lhs_ao_try3 = -2*vlx_lhs5 + 0.5*vlx_lhs6 + 0.5*vlx_lhs7\n",
    "\n",
    "vlx_1pdm_lhs_new = numpy.einsum('pi,pa->ia', mo_occ, numpy.einsum('ta,pt->pa', mo_vir, vlx_lhs_ao_try3))\n",
    "print(vlx_1pdm_lhs_new)"
   ]
  },
  {
   "cell_type": "code",
   "execution_count": 52,
   "metadata": {},
   "outputs": [
    {
     "name": "stdout",
     "output_type": "stream",
     "text": [
      "vlx_lhs_mo:\n",
      "[[-0.0014763 -0.0000022]\n",
      " [-0.0034964 -0.0000172]\n",
      " [-0.0000151 -0.000058 ]\n",
      " [-0.0044806 -0.0000239]\n",
      " [ 0.        -0.       ]]\n",
      "\n",
      "lambda_guess:\n",
      "[[-0.0000493 -0.0000003]\n",
      " [ 0.0339298  0.0000256]\n",
      " [-0.0002304  0.0766874]\n",
      " [ 0.0313636 -0.0000823]\n",
      " [ 0.        -0.       ]]\n"
     ]
    }
   ],
   "source": [
    "# LHS and guess\n",
    "print(\"vlx_lhs_mo:\")\n",
    "print(vlx_lhs_mo)\n",
    "print()\n",
    "print(\"lambda_guess:\")\n",
    "print(lambda_guess)"
   ]
  },
  {
   "cell_type": "markdown",
   "metadata": {},
   "source": [
    "#### Full LHS \n",
    "\\begin{equation}\n",
    "   -\\sum_{pq} \\lambda_{pq} \\big( [pq|ai] - [pi|aq] \\big) + \\lambda_{ia} ( \\varepsilon_i - \\varepsilon_a )\n",
    "\\end{equation}"
   ]
  },
  {
   "cell_type": "code",
   "execution_count": 53,
   "metadata": {},
   "outputs": [
    {
     "name": "stdout",
     "output_type": "stream",
     "text": [
      "[-0.000448   0.0000042 -0.0668962 -0.0000692  0.0002688 -0.1070512\n",
      " -0.0372401  0.0000755 -0.         0.       ]\n",
      "\n",
      "[ 0.0010282  0.0000064 -0.0633997 -0.000052   0.0002839 -0.1069932\n",
      " -0.0327595  0.0000994 -0.         0.       ]\n"
     ]
    }
   ],
   "source": [
    "# Add product of guess and orbital-energy differences to get full LHS\n",
    "\n",
    "vlx_full_lhs = numpy.zeros((nocc,nvir))\n",
    "for i in range(nocc):\n",
    "    ei = mo_energies[i]\n",
    "    for a in range(nvir):\n",
    "        ea = mo_energies[nocc+a]\n",
    "        vlx_full_lhs[i,a] = vlx_lhs_mo[i,a] + lambda_guess[i,a]*(ei-ea)\n",
    "\n",
    "vlx_full_lhs_vec = vlx_full_lhs.reshape(nocc*nvir)\n",
    "vlx_rhs_vec = vlx_rhs.reshape(nocc*nvir)\n",
    "\n",
    "print(vlx_full_lhs_vec)\n",
    "print()\n",
    "print(vlx_rhs_vec)"
   ]
  },
  {
   "cell_type": "markdown",
   "metadata": {},
   "source": [
    "## Solution via Conjugate Gradient"
   ]
  },
  {
   "cell_type": "markdown",
   "metadata": {},
   "source": [
    "To solve: $\\mathbf{A} \\mathbf{x} = \\mathbf{b}$\n",
    "\n",
    "However, we do not \"know\" the matrix $\\mathbf{A}$, only the matrix-vector product $\\mathbf{Ax}$.\n",
    "Thus, define it as a linear operator with a vector $\\mathbf{x}$ as an argument."
   ]
  },
  {
   "cell_type": "markdown",
   "metadata": {},
   "source": [
    "### Defining a linear operator"
   ]
  },
  {
   "cell_type": "code",
   "execution_count": 54,
   "metadata": {},
   "outputs": [],
   "source": [
    "# Assuming that all other variables (nocc, nvir, MOs, ERIs) are known from the \"global\" scope\n",
    "def Ax(v):\n",
    "    \"\"\"Function to carry out matrix multiplication\n",
    "    of Lagrange multipier vector with orbital Hessian\n",
    "    matrix. Transforms guess to AO basis, carries out\n",
    "    matrix-vector product and transforms back to MO.\n",
    "    \n",
    "    v: lambda at current iteration\"\"\"\n",
    "\n",
    "    current_lambda = v.reshape(nocc,nvir)\n",
    "    print(\"VLX INPUT:\")\n",
    "    print(current_lambda)\n",
    "    print()\n",
    "    \n",
    "    # Transform to AO\n",
    "    vlx_lambda_ao = numpy.matmul(mo_occ, numpy.matmul(current_lambda, mo_vir.T))\n",
    " \n",
    "    # Calculate the different contractions\n",
    "    vlx_lhs_interm = (-4*numpy.einsum('mn,mntp->pt', vlx_lambda_ao, pqrs)\n",
    "                    + 1.0*numpy.einsum('mn,mtpn->pt', vlx_lambda_ao, pqrs)\n",
    "                    + 1.0*numpy.einsum('mn,ntpm->pt', vlx_lambda_ao, pqrs)\n",
    "                      )\n",
    "    # Transform back to MO\n",
    "    vlx_1pdm_lhs = numpy.einsum('pi,pa->ia', mo_occ, numpy.einsum('ta,pt->pa', mo_vir, vlx_lhs_interm))\n",
    "\n",
    "# Add the diagonal part\n",
    "    for i in range(nocc):\n",
    "        ei = mo_energies[i]\n",
    "        for a in range(nvir):\n",
    "            ea = mo_energies[nocc+a]\n",
    "            vlx_1pdm_lhs[i,a] += current_lambda[i,a]*(ei-ea) \n",
    "    print(\"VLX OUTPUT:\")    \n",
    "    print(vlx_1pdm_lhs)\n",
    "    print()\n",
    "    return vlx_1pdm_lhs.reshape(nocc*nvir)"
   ]
  },
  {
   "cell_type": "code",
   "execution_count": 55,
   "metadata": {},
   "outputs": [
    {
     "name": "stdout",
     "output_type": "stream",
     "text": [
      "VLX INPUT:\n",
      "[[0. 0.]\n",
      " [0. 0.]\n",
      " [0. 0.]\n",
      " [0. 0.]\n",
      " [0. 0.]]\n",
      "\n",
      "VLX OUTPUT:\n",
      "[[0. 0.]\n",
      " [0. 0.]\n",
      " [0. 0.]\n",
      " [0. 0.]\n",
      " [0. 0.]]\n",
      "\n",
      "VLX INPUT:\n",
      "[[-0.0000493 -0.0000003]\n",
      " [ 0.0339298  0.0000256]\n",
      " [-0.0002304  0.0766874]\n",
      " [ 0.0313636 -0.0000823]\n",
      " [ 0.        -0.       ]]\n",
      "\n",
      "VLX OUTPUT:\n",
      "[[-0.0019243  0.000002 ]\n",
      " [-0.0703926 -0.0000864]\n",
      " [ 0.0002537 -0.1071092]\n",
      " [-0.0417206  0.0000516]\n",
      " [-0.         0.       ]]\n",
      "\n",
      "VLX INPUT:\n",
      "[[-0.0000493 -0.0000003]\n",
      " [ 0.0339298  0.0000256]\n",
      " [-0.0002304  0.0766874]\n",
      " [ 0.0313636 -0.0000823]\n",
      " [ 0.        -0.       ]]\n",
      "\n",
      "VLX OUTPUT:\n",
      "[[-0.0019243  0.000002 ]\n",
      " [-0.0703926 -0.0000864]\n",
      " [ 0.0002537 -0.1071092]\n",
      " [-0.0417206  0.0000516]\n",
      " [-0.         0.       ]]\n",
      "\n",
      "VLX INPUT:\n",
      "[[ 0.0029525  0.0000044]\n",
      " [ 0.0069929  0.0000344]\n",
      " [ 0.0000302  0.000116 ]\n",
      " [ 0.0089611  0.0000478]\n",
      " [-0.         0.       ]]\n",
      "\n",
      "VLX OUTPUT:\n",
      "[[-0.0594659 -0.0000882]\n",
      " [-0.0120036 -0.0000557]\n",
      " [-0.0000224 -0.0033326]\n",
      " [-0.0071516 -0.0000399]\n",
      " [-0.        -0.       ]]\n",
      "\n",
      "VLX INPUT:\n",
      "[[-0.0107969 -0.0000161]\n",
      " [ 0.0292796  0.0001456]\n",
      " [ 0.0001389 -0.0008484]\n",
      " [ 0.0410247  0.0002181]\n",
      " [-0.         0.       ]]\n",
      "\n",
      "VLX OUTPUT:\n",
      "[[ 0.2173624  0.0003272]\n",
      " [-0.0510274 -0.0002359]\n",
      " [-0.0001057 -0.0120827]\n",
      " [-0.0316394 -0.0001812]\n",
      " [-0.        -0.       ]]\n",
      "\n",
      "VLX INPUT:\n",
      "[[ 0.0000236  0.0000005]\n",
      " [-0.0020962 -0.0000072]\n",
      " [ 0.0000161 -0.0026165]\n",
      " [ 0.0045416  0.0000221]\n",
      " [-0.         0.       ]]\n",
      "\n",
      "VLX OUTPUT:\n",
      "[[-0.0005069 -0.0000112]\n",
      " [ 0.0031643  0.0000126]\n",
      " [-0.000015   0.0026625]\n",
      " [-0.0023367 -0.0000176]\n",
      " [ 0.        -0.       ]]\n",
      "\n",
      "VLX INPUT:\n",
      "[[-0.0000008 -0.0000107]\n",
      " [-0.0001308 -0.0000007]\n",
      " [-0.0000064  0.0002511]\n",
      " [ 0.0001094 -0.0000069]\n",
      " [ 0.        -0.       ]]\n",
      "\n",
      "VLX OUTPUT:\n",
      "[[ 0.0000008  0.0002155]\n",
      " [ 0.0001467 -0.0000001]\n",
      " [ 0.000006  -0.0003098]\n",
      " [-0.0001108  0.0000063]\n",
      " [-0.         0.       ]]\n",
      "\n",
      "VLX INPUT:\n",
      "[[-0.0000005  0.0001638]\n",
      " [-0.0000421 -0.000001 ]\n",
      " [-0.0000035  0.0000813]\n",
      " [ 0.000035  -0.000004 ]\n",
      " [-0.        -0.       ]]\n",
      "\n",
      "VLX OUTPUT:\n",
      "[[ 0.0000053 -0.0033063]\n",
      " [ 0.0000471  0.0000121]\n",
      " [ 0.0000053 -0.0001003]\n",
      " [-0.0000357 -0.0000038]\n",
      " [-0.         0.       ]]\n",
      "\n",
      "VLX INPUT:\n",
      "[[ 0.         0.       ]\n",
      " [ 0.        -0.0000002]\n",
      " [-0.0000012 -0.0000001]\n",
      " [-0.        -0.000002 ]\n",
      " [-0.        -0.       ]]\n",
      "\n",
      "VLX OUTPUT:\n",
      "[[-0.         0.       ]\n",
      " [-0.         0.0000002]\n",
      " [ 0.0000012  0.0000001]\n",
      " [ 0.         0.0000017]\n",
      " [ 0.         0.       ]]\n",
      "\n",
      "VLX INPUT:\n",
      "[[-0.         0.       ]\n",
      " [-0.         0.       ]\n",
      " [ 0.0000001  0.       ]\n",
      " [ 0.        -0.0000001]\n",
      " [-0.        -0.       ]]\n",
      "\n",
      "VLX OUTPUT:\n",
      "[[ 0.        -0.       ]\n",
      " [ 0.        -0.       ]\n",
      " [-0.0000001 -0.       ]\n",
      " [-0.         0.0000001]\n",
      " [ 0.         0.       ]]\n",
      "\n",
      "VLX INPUT:\n",
      "[[ 0. -0.]\n",
      " [ 0. -0.]\n",
      " [ 0.  0.]\n",
      " [ 0. -0.]\n",
      " [-0. -0.]]\n",
      "\n",
      "VLX OUTPUT:\n",
      "[[-0.  0.]\n",
      " [-0.  0.]\n",
      " [-0. -0.]\n",
      " [-0. -0.]\n",
      " [ 0.  0.]]\n",
      "\n",
      "VLX INPUT:\n",
      "[[-0.0001931 -0.0000005]\n",
      " [ 0.0302105  0.0000041]\n",
      " [-0.0002684  0.0793038]\n",
      " [ 0.0182954 -0.0001408]\n",
      " [ 0.        -0.       ]]\n",
      "\n",
      "VLX OUTPUT:\n",
      "[[ 0.0010282  0.0000064]\n",
      " [-0.0633997 -0.000052 ]\n",
      " [ 0.0002839 -0.1069932]\n",
      " [-0.0327595  0.0000994]\n",
      " [-0.         0.       ]]\n",
      "\n"
     ]
    }
   ],
   "source": [
    "# Solve via CG\n",
    "\n",
    "vlx_guess_vec=lambda_guess.reshape(nocc*nvir)\n",
    "\n",
    "A = linalg.LinearOperator((nocc*nvir,nocc*nvir), matvec=Ax)\n",
    "solution, w = linalg.cg(A=A, b=vlx_rhs_vec, x0=vlx_guess_vec, tol=1e-8, maxiter=25)"
   ]
  },
  {
   "cell_type": "code",
   "execution_count": 56,
   "metadata": {},
   "outputs": [],
   "source": [
    "# Define the A matrix for adcc\n",
    "\n",
    "AOVOV = numpy.ones(ovov.shape)   \n",
    "adcc_nocc = foo.shape[0]\n",
    "adcc_nvirt = fvv.shape[0]\n",
    "oovv = adc1.reference_state.eri(\"o1o1v1v1\").to_ndarray()\n",
    "\n",
    "#these are supposed to be the elements that multiply lambda_jb\n",
    "AOVOV = ( numpy.einsum('iajb,ibja->iajb', AOVOV, ovov, optimize=True)\n",
    "         -numpy.einsum('iajb,ijab->iajb', AOVOV, oovv, optimize=True) \n",
    "        )\n",
    "\n",
    "for i in range(adcc_nocc):\n",
    "    for a in range(adcc_nvirt):\n",
    "        AOVOV[i,a,i,a] += foo[i,i]-fvv[a,a] #check signs!\n",
    "\n",
    "adcc_A = AOVOV.reshape(adcc_nocc*adcc_nvirt,adcc_nocc*adcc_nvirt)"
   ]
  },
  {
   "cell_type": "code",
   "execution_count": 57,
   "metadata": {},
   "outputs": [],
   "source": [
    "# Solve regularly via conjugate gradient from scipy.sparse\n",
    "\n",
    "vlx_guess_vec=lambda_guess.reshape(nocc*nvir)\n",
    "\n",
    "adcc_1d_guess = numpy.reshape(adcc_guess, (adcc_nocc*adcc_nvirt))\n",
    "adcc_1d_rhs = numpy.reshape(adcc_rhs, (adcc_nocc*adcc_nvirt))\n",
    "\n",
    "lov, w = linalg.cg(A=adcc_A, b=adcc_1d_rhs, x0=adcc_1d_guess, tol=1e-8, maxiter=25)"
   ]
  },
  {
   "cell_type": "code",
   "execution_count": 58,
   "metadata": {},
   "outputs": [
    {
     "name": "stdout",
     "output_type": "stream",
     "text": [
      "Entering Ax_MO(v)...:\n",
      "ADCC INPUT\n",
      "[[0. 0. 0. 0.]\n",
      " [0. 0. 0. 0.]\n",
      " [0. 0. 0. 0.]\n",
      " [0. 0. 0. 0.]\n",
      " [0. 0. 0. 0.]\n",
      " [0. 0. 0. 0.]\n",
      " [0. 0. 0. 0.]\n",
      " [0. 0. 0. 0.]\n",
      " [0. 0. 0. 0.]\n",
      " [0. 0. 0. 0.]]\n",
      "\n",
      "ADCC OUTPUT\n",
      "[[0. 0. 0. 0.]\n",
      " [0. 0. 0. 0.]\n",
      " [0. 0. 0. 0.]\n",
      " [0. 0. 0. 0.]\n",
      " [0. 0. 0. 0.]\n",
      " [0. 0. 0. 0.]\n",
      " [0. 0. 0. 0.]\n",
      " [0. 0. 0. 0.]\n",
      " [0. 0. 0. 0.]\n",
      " [0. 0. 0. 0.]]\n",
      "\n",
      "Entering Ax_MO(v)...:\n",
      "ADCC INPUT\n",
      "[[-0.0000493 -0.0000003 -0.        -0.       ]\n",
      " [ 0.0339298  0.0000256 -0.        -0.       ]\n",
      " [-0.0002304  0.0766874 -0.        -0.       ]\n",
      " [ 0.0313636 -0.0000823 -0.        -0.       ]\n",
      " [ 0.         0.        -0.        -0.       ]\n",
      " [-0.        -0.        -0.0000493 -0.0000003]\n",
      " [-0.        -0.         0.0339298  0.0000256]\n",
      " [-0.        -0.        -0.0002304  0.0766874]\n",
      " [-0.        -0.         0.0313636 -0.0000823]\n",
      " [-0.        -0.         0.         0.       ]]\n",
      "\n",
      "ADCC OUTPUT\n",
      "[[-0.0019243  0.000002   0.         0.       ]\n",
      " [-0.0703926 -0.0000864  0.         0.       ]\n",
      " [ 0.0002537 -0.1071092  0.         0.       ]\n",
      " [-0.0417206  0.0000516  0.         0.       ]\n",
      " [-0.        -0.         0.         0.       ]\n",
      " [ 0.         0.        -0.0019243  0.000002 ]\n",
      " [ 0.         0.        -0.0703926 -0.0000864]\n",
      " [ 0.         0.         0.0002537 -0.1071092]\n",
      " [ 0.         0.        -0.0417206  0.0000516]\n",
      " [ 0.         0.        -0.        -0.       ]]\n",
      "\n",
      "Entering Ax_MO(v)...:\n",
      "ADCC INPUT\n",
      "[[-0.0000493 -0.0000003 -0.        -0.       ]\n",
      " [ 0.0339298  0.0000256 -0.        -0.       ]\n",
      " [-0.0002304  0.0766874 -0.        -0.       ]\n",
      " [ 0.0313636 -0.0000823 -0.        -0.       ]\n",
      " [ 0.         0.        -0.        -0.       ]\n",
      " [-0.        -0.        -0.0000493 -0.0000003]\n",
      " [-0.        -0.         0.0339298  0.0000256]\n",
      " [-0.        -0.        -0.0002304  0.0766874]\n",
      " [-0.        -0.         0.0313636 -0.0000823]\n",
      " [-0.        -0.         0.         0.       ]]\n",
      "\n",
      "ADCC OUTPUT\n",
      "[[-0.0019243  0.000002   0.         0.       ]\n",
      " [-0.0703926 -0.0000864  0.         0.       ]\n",
      " [ 0.0002537 -0.1071092  0.         0.       ]\n",
      " [-0.0417206  0.0000516  0.         0.       ]\n",
      " [-0.        -0.         0.         0.       ]\n",
      " [ 0.         0.        -0.0019243  0.000002 ]\n",
      " [ 0.         0.        -0.0703926 -0.0000864]\n",
      " [ 0.         0.         0.0002537 -0.1071092]\n",
      " [ 0.         0.        -0.0417206  0.0000516]\n",
      " [ 0.         0.        -0.        -0.       ]]\n",
      "\n",
      "Entering Ax_MO(v)...:\n",
      "ADCC INPUT\n",
      "[[ 0.0029525  0.0000044  0.         0.       ]\n",
      " [ 0.0069929  0.0000344  0.         0.       ]\n",
      " [ 0.0000302  0.000116   0.         0.       ]\n",
      " [ 0.0089611  0.0000478  0.         0.       ]\n",
      " [-0.        -0.         0.         0.       ]\n",
      " [ 0.         0.         0.0029525  0.0000044]\n",
      " [ 0.         0.         0.0069929  0.0000344]\n",
      " [ 0.         0.         0.0000302  0.000116 ]\n",
      " [ 0.         0.         0.0089611  0.0000478]\n",
      " [ 0.         0.        -0.        -0.       ]]\n",
      "\n",
      "ADCC OUTPUT\n",
      "[[-0.0594659 -0.0000882  0.         0.       ]\n",
      " [-0.0120036 -0.0000557  0.         0.       ]\n",
      " [-0.0000224 -0.0033326  0.         0.       ]\n",
      " [-0.0071516 -0.0000399  0.         0.       ]\n",
      " [ 0.         0.         0.         0.       ]\n",
      " [ 0.         0.        -0.0594659 -0.0000882]\n",
      " [ 0.         0.        -0.0120036 -0.0000557]\n",
      " [ 0.         0.        -0.0000224 -0.0033326]\n",
      " [ 0.         0.        -0.0071516 -0.0000399]\n",
      " [ 0.         0.         0.         0.       ]]\n",
      "\n",
      "Entering Ax_MO(v)...:\n",
      "ADCC INPUT\n",
      "[[-0.0107969 -0.0000161  0.         0.       ]\n",
      " [ 0.0292796  0.0001456  0.         0.       ]\n",
      " [ 0.0001389 -0.0008484  0.         0.       ]\n",
      " [ 0.0410247  0.0002181  0.         0.       ]\n",
      " [-0.        -0.         0.         0.       ]\n",
      " [ 0.         0.        -0.0107969 -0.0000161]\n",
      " [ 0.         0.         0.0292796  0.0001456]\n",
      " [ 0.         0.         0.0001389 -0.0008484]\n",
      " [ 0.         0.         0.0410247  0.0002181]\n",
      " [ 0.         0.        -0.        -0.       ]]\n",
      "\n",
      "ADCC OUTPUT\n",
      "[[ 0.2173624  0.0003272  0.         0.       ]\n",
      " [-0.0510274 -0.0002359  0.         0.       ]\n",
      " [-0.0001057 -0.0120827  0.         0.       ]\n",
      " [-0.0316394 -0.0001812  0.         0.       ]\n",
      " [ 0.         0.         0.         0.       ]\n",
      " [ 0.         0.         0.2173624  0.0003272]\n",
      " [ 0.         0.        -0.0510274 -0.0002359]\n",
      " [ 0.         0.        -0.0001057 -0.0120827]\n",
      " [ 0.         0.        -0.0316394 -0.0001812]\n",
      " [ 0.         0.         0.         0.       ]]\n",
      "\n",
      "Entering Ax_MO(v)...:\n",
      "ADCC INPUT\n",
      "[[ 0.0000236  0.0000005  0.         0.       ]\n",
      " [-0.0020962 -0.0000072  0.         0.       ]\n",
      " [ 0.0000161 -0.0026165  0.         0.       ]\n",
      " [ 0.0045416  0.0000221  0.         0.       ]\n",
      " [-0.        -0.         0.         0.       ]\n",
      " [ 0.         0.         0.0000236  0.0000005]\n",
      " [ 0.         0.        -0.0020962 -0.0000072]\n",
      " [ 0.         0.         0.0000161 -0.0026165]\n",
      " [ 0.         0.         0.0045416  0.0000221]\n",
      " [ 0.         0.        -0.        -0.       ]]\n",
      "\n",
      "ADCC OUTPUT\n",
      "[[-0.0005069 -0.0000112  0.         0.       ]\n",
      " [ 0.0031643  0.0000126  0.         0.       ]\n",
      " [-0.000015   0.0026625  0.         0.       ]\n",
      " [-0.0023367 -0.0000176  0.         0.       ]\n",
      " [ 0.         0.         0.         0.       ]\n",
      " [ 0.         0.        -0.0005069 -0.0000112]\n",
      " [ 0.         0.         0.0031643  0.0000126]\n",
      " [ 0.         0.        -0.000015   0.0026625]\n",
      " [ 0.         0.        -0.0023367 -0.0000176]\n",
      " [ 0.         0.         0.         0.       ]]\n",
      "\n",
      "Entering Ax_MO(v)...:\n",
      "ADCC INPUT\n",
      "[[-0.0000008 -0.0000107  0.         0.       ]\n",
      " [-0.0001308 -0.0000007  0.         0.       ]\n",
      " [-0.0000064  0.0002511  0.         0.       ]\n",
      " [ 0.0001094 -0.0000069  0.         0.       ]\n",
      " [-0.        -0.         0.         0.       ]\n",
      " [ 0.         0.        -0.0000008 -0.0000107]\n",
      " [ 0.         0.        -0.0001308 -0.0000007]\n",
      " [ 0.         0.        -0.0000064  0.0002511]\n",
      " [ 0.         0.         0.0001094 -0.0000069]\n",
      " [ 0.         0.        -0.        -0.       ]]\n",
      "\n",
      "ADCC OUTPUT\n",
      "[[ 0.0000008  0.0002155  0.         0.       ]\n",
      " [ 0.0001467 -0.0000001  0.         0.       ]\n",
      " [ 0.000006  -0.0003098  0.         0.       ]\n",
      " [-0.0001108  0.0000063  0.         0.       ]\n",
      " [ 0.         0.         0.         0.       ]\n",
      " [ 0.         0.         0.0000008  0.0002155]\n",
      " [ 0.         0.         0.0001467 -0.0000001]\n",
      " [ 0.         0.         0.000006  -0.0003098]\n",
      " [ 0.         0.        -0.0001108  0.0000063]\n",
      " [ 0.         0.         0.         0.       ]]\n",
      "\n",
      "Entering Ax_MO(v)...:\n",
      "ADCC INPUT\n",
      "[[-0.0000005  0.0001638  0.         0.       ]\n",
      " [-0.0000421 -0.000001   0.         0.       ]\n",
      " [-0.0000035  0.0000813  0.         0.       ]\n",
      " [ 0.000035  -0.000004   0.         0.       ]\n",
      " [-0.        -0.         0.         0.       ]\n",
      " [ 0.         0.        -0.0000005  0.0001638]\n",
      " [ 0.         0.        -0.0000421 -0.000001 ]\n",
      " [ 0.         0.        -0.0000035  0.0000813]\n",
      " [ 0.         0.         0.000035  -0.000004 ]\n",
      " [ 0.         0.        -0.        -0.       ]]\n",
      "\n",
      "ADCC OUTPUT\n",
      "[[ 0.0000053 -0.0033062  0.         0.       ]\n",
      " [ 0.0000471  0.0000121  0.         0.       ]\n",
      " [ 0.0000053 -0.0001003  0.         0.       ]\n",
      " [-0.0000357 -0.0000038  0.         0.       ]\n",
      " [ 0.         0.         0.         0.       ]\n",
      " [ 0.         0.         0.0000053 -0.0033062]\n",
      " [ 0.         0.         0.0000471  0.0000121]\n",
      " [ 0.         0.         0.0000053 -0.0001003]\n",
      " [ 0.         0.        -0.0000357 -0.0000038]\n",
      " [ 0.         0.         0.         0.       ]]\n",
      "\n",
      "Entering Ax_MO(v)...:\n",
      "ADCC INPUT\n",
      "[[ 0.         0.         0.         0.       ]\n",
      " [ 0.        -0.0000002  0.         0.       ]\n",
      " [-0.0000012 -0.0000001  0.         0.       ]\n",
      " [-0.        -0.000002   0.         0.       ]\n",
      " [-0.        -0.         0.         0.       ]\n",
      " [ 0.         0.         0.         0.       ]\n",
      " [ 0.         0.         0.        -0.0000002]\n",
      " [ 0.         0.        -0.0000012 -0.0000001]\n",
      " [ 0.         0.        -0.        -0.000002 ]\n",
      " [ 0.         0.        -0.        -0.       ]]\n",
      "\n",
      "ADCC OUTPUT\n",
      "[[-0.         0.         0.         0.       ]\n",
      " [-0.         0.0000002  0.         0.       ]\n",
      " [ 0.0000012  0.0000001  0.         0.       ]\n",
      " [ 0.         0.0000017  0.         0.       ]\n",
      " [ 0.         0.         0.         0.       ]\n",
      " [ 0.         0.        -0.         0.       ]\n",
      " [ 0.         0.        -0.         0.0000002]\n",
      " [ 0.         0.         0.0000012  0.0000001]\n",
      " [ 0.         0.         0.         0.0000017]\n",
      " [ 0.         0.         0.         0.       ]]\n",
      "\n",
      "Entering Ax_MO(v)...:\n",
      "ADCC INPUT\n",
      "[[-0.         0.         0.         0.       ]\n",
      " [-0.         0.         0.         0.       ]\n",
      " [ 0.0000001  0.         0.         0.       ]\n",
      " [ 0.        -0.0000001  0.         0.       ]\n",
      " [-0.        -0.         0.         0.       ]\n",
      " [ 0.         0.        -0.         0.       ]\n",
      " [ 0.         0.        -0.         0.       ]\n",
      " [ 0.         0.         0.0000001  0.       ]\n",
      " [ 0.         0.         0.        -0.0000001]\n",
      " [ 0.         0.        -0.        -0.       ]]\n",
      "\n",
      "ADCC OUTPUT\n",
      "[[ 0.        -0.         0.         0.       ]\n",
      " [ 0.        -0.         0.         0.       ]\n",
      " [-0.0000001 -0.         0.         0.       ]\n",
      " [-0.         0.0000001  0.         0.       ]\n",
      " [ 0.         0.         0.         0.       ]\n",
      " [ 0.         0.         0.        -0.       ]\n",
      " [ 0.         0.         0.        -0.       ]\n",
      " [ 0.         0.        -0.0000001 -0.       ]\n",
      " [ 0.         0.        -0.         0.0000001]\n",
      " [ 0.         0.         0.         0.       ]]\n",
      "\n",
      "Entering Ax_MO(v)...:\n",
      "ADCC INPUT\n",
      "[[ 0. -0.  0.  0.]\n",
      " [ 0. -0.  0.  0.]\n",
      " [ 0.  0.  0.  0.]\n",
      " [ 0. -0.  0.  0.]\n",
      " [-0. -0.  0.  0.]\n",
      " [ 0.  0.  0. -0.]\n",
      " [ 0.  0.  0. -0.]\n",
      " [ 0.  0.  0.  0.]\n",
      " [ 0.  0.  0. -0.]\n",
      " [ 0.  0. -0. -0.]]\n",
      "\n",
      "ADCC OUTPUT\n",
      "[[-0.  0.  0.  0.]\n",
      " [-0.  0.  0.  0.]\n",
      " [-0. -0.  0.  0.]\n",
      " [-0. -0.  0.  0.]\n",
      " [ 0.  0.  0.  0.]\n",
      " [ 0.  0. -0.  0.]\n",
      " [ 0.  0. -0.  0.]\n",
      " [ 0.  0. -0. -0.]\n",
      " [ 0.  0. -0. -0.]\n",
      " [ 0.  0.  0.  0.]]\n",
      "\n",
      "Entering Ax_MO(v)...:\n",
      "ADCC INPUT\n",
      "[[-0.0001931 -0.0000005 -0.        -0.       ]\n",
      " [ 0.0302105  0.0000041 -0.        -0.       ]\n",
      " [-0.0002684  0.0793038 -0.        -0.       ]\n",
      " [ 0.0182954 -0.0001408 -0.        -0.       ]\n",
      " [ 0.         0.        -0.        -0.       ]\n",
      " [-0.        -0.        -0.0001931 -0.0000005]\n",
      " [-0.        -0.         0.0302105  0.0000041]\n",
      " [-0.        -0.        -0.0002684  0.0793038]\n",
      " [-0.        -0.         0.0182954 -0.0001408]\n",
      " [-0.        -0.         0.         0.       ]]\n",
      "\n",
      "ADCC OUTPUT\n",
      "[[ 0.0010282  0.0000064  0.         0.       ]\n",
      " [-0.0633997 -0.000052   0.         0.       ]\n",
      " [ 0.0002839 -0.1069932  0.         0.       ]\n",
      " [-0.0327595  0.0000994  0.         0.       ]\n",
      " [-0.        -0.         0.         0.       ]\n",
      " [ 0.         0.         0.0010282  0.0000064]\n",
      " [ 0.         0.        -0.0633997 -0.000052 ]\n",
      " [ 0.         0.         0.0002839 -0.1069932]\n",
      " [ 0.         0.        -0.0327595  0.0000994]\n",
      " [ 0.         0.        -0.        -0.       ]]\n",
      "\n"
     ]
    }
   ],
   "source": [
    "# Define a linear operator also for adcc in the MO basis\n",
    "\n",
    "def adcc_Ax_MO(v):\n",
    "    print(\"Entering Ax_MO(v)...:\")\n",
    "    new_v = v.reshape(adcc_nocc,adcc_nvirt)\n",
    "    print(\"ADCC INPUT\")\n",
    "    print(new_v)\n",
    "    print()\n",
    "    adcc_1pdm_lhs = ( numpy.einsum('kb,kaib->ia', new_v, ovov, optimize=True)\n",
    "         -numpy.einsum('kb,kiba->ia', new_v, oovv, optimize=True) \n",
    "        )\n",
    "\n",
    "    # Add the diagonal part\n",
    "    for i in range(adcc_nocc):\n",
    "        ei = foo[i,i]\n",
    "        for a in range(adcc_nvirt):\n",
    "            ea = fvv[a,a]\n",
    "            adcc_1pdm_lhs[i,a] += new_v[i,a]*(ei-ea)\n",
    "    print(\"ADCC OUTPUT\")\n",
    "    print(adcc_1pdm_lhs)\n",
    "    print()\n",
    "    return adcc_1pdm_lhs.reshape(adcc_nocc*adcc_nvirt)\n",
    "\n",
    "# Solve via CG\n",
    "adcc_Ax = linalg.LinearOperator((adcc_nocc*adcc_nvirt,adcc_nocc*adcc_nvirt), matvec=adcc_Ax_MO)\n",
    "adcc_solution, adcc_w = linalg.cg(A=adcc_Ax, b=adcc_1d_rhs, x0=adcc_1d_guess, tol=1e-8, maxiter=25)"
   ]
  },
  {
   "cell_type": "code",
   "execution_count": 59,
   "metadata": {},
   "outputs": [],
   "source": [
    "adcc_1d_guess = numpy.reshape(adcc_guess, (adcc_nocc*adcc_nvirt))\n",
    "adcc_1d_rhs = numpy.reshape(adcc_rhs, (adcc_nocc*adcc_nvirt))\n",
    "\n",
    "lov, w = linalg.cg(A=adcc_A, b=adcc_1d_rhs, x0=adcc_1d_guess, tol=1e-8, maxiter=25)"
   ]
  },
  {
   "cell_type": "code",
   "execution_count": 60,
   "metadata": {},
   "outputs": [
    {
     "name": "stdout",
     "output_type": "stream",
     "text": [
      "MO basis, ADCC solution, regular CG\n",
      "[[-0.0001931 -0.0000005 -0.        -0.       ]\n",
      " [ 0.0302105  0.0000041 -0.        -0.       ]\n",
      " [-0.0002684  0.0793038 -0.        -0.       ]\n",
      " [ 0.0182954 -0.0001408 -0.        -0.       ]\n",
      " [ 0.         0.        -0.        -0.       ]\n",
      " [-0.        -0.        -0.0001931 -0.0000005]\n",
      " [-0.        -0.         0.0302105  0.0000041]\n",
      " [-0.        -0.        -0.0002684  0.0793038]\n",
      " [-0.        -0.         0.0182954 -0.0001408]\n",
      " [-0.        -0.         0.         0.       ]]\n",
      "\n",
      "MO basis, ADCC solution, linear operator\n",
      "[[-0.0001931 -0.0000005 -0.        -0.       ]\n",
      " [ 0.0302105  0.0000041 -0.        -0.       ]\n",
      " [-0.0002684  0.0793038 -0.        -0.       ]\n",
      " [ 0.0182954 -0.0001408 -0.        -0.       ]\n",
      " [ 0.         0.        -0.        -0.       ]\n",
      " [-0.        -0.        -0.0001931 -0.0000005]\n",
      " [-0.        -0.         0.0302105  0.0000041]\n",
      " [-0.        -0.        -0.0002684  0.0793038]\n",
      " [-0.        -0.         0.0182954 -0.0001408]\n",
      " [-0.        -0.         0.         0.       ]]\n",
      "\n",
      "AO basis, VLX solution, linear operator\n",
      "[[-0.0001931 -0.0000005]\n",
      " [ 0.0302105  0.0000041]\n",
      " [-0.0002684  0.0793038]\n",
      " [ 0.0182954 -0.0001408]\n",
      " [ 0.        -0.       ]]\n"
     ]
    }
   ],
   "source": [
    "print(\"MO basis, ADCC solution, regular CG\")\n",
    "print(lov.reshape(adcc_nocc,adcc_nvirt))\n",
    "print()\n",
    "print(\"MO basis, ADCC solution, linear operator\")\n",
    "print(adcc_solution.reshape(adcc_nocc, adcc_nvirt))\n",
    "print()\n",
    "print(\"AO basis, VLX solution, linear operator\")\n",
    "print(solution.reshape(nocc,nvir))"
   ]
  },
  {
   "cell_type": "code",
   "execution_count": null,
   "metadata": {},
   "outputs": [],
   "source": []
  }
 ],
 "metadata": {
  "kernelspec": {
   "display_name": "Python 3",
   "language": "python",
   "name": "python3"
  },
  "language_info": {
   "codemirror_mode": {
    "name": "ipython",
    "version": 3
   },
   "file_extension": ".py",
   "mimetype": "text/x-python",
   "name": "python",
   "nbconvert_exporter": "python",
   "pygments_lexer": "ipython3",
   "version": "3.8.5"
  }
 },
 "nbformat": 4,
 "nbformat_minor": 4
}
