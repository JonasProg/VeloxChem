{
 "cells": [
  {
   "cell_type": "code",
   "execution_count": 73,
   "metadata": {},
   "outputs": [],
   "source": [
    "import veloxchem as vlx\n",
    "import adcc\n",
    "from mpi4py import MPI\n",
    "import sys\n",
    "import numpy\n",
    "from scipy.sparse import linalg\n",
    "\n",
    "numpy.set_printoptions(precision=4, suppress=True)"
   ]
  },
  {
   "cell_type": "markdown",
   "metadata": {},
   "source": [
    "### Prepare a VeloxChem SCF calculation"
   ]
  },
  {
   "cell_type": "code",
   "execution_count": 2,
   "metadata": {},
   "outputs": [],
   "source": [
    "# Input settings\n",
    "molecule_string = \"\"\"\n",
    "    O 0 0 0\n",
    "    H 0 0 1.795239827225189\n",
    "    H 1.693194615993441 0 -0.599043184453037\"\"\"\n",
    "\n",
    "#molecule_string = \"\"\"\n",
    "#    H 0 0 0\n",
    "#    H 0 0 1.795239827225189\n",
    "#    \"\"\"\n",
    "\n",
    "basis_set_label = 'STO-3G'\n",
    "scf_settings = {'conv_thresh': 1.0e-6}\n",
    "method_settings = {} #{'xcfun': 'b3lyp', 'grid_level': 4}\n",
    "rsp_settings = {'conv_thresh': 1.0e-4, 'nstates': 2}"
   ]
  },
  {
   "cell_type": "code",
   "execution_count": 3,
   "metadata": {},
   "outputs": [],
   "source": [
    "# Communicator and output stream\n",
    "comm = MPI.COMM_WORLD\n",
    "ostream = vlx.OutputStream(sys.stdout)"
   ]
  },
  {
   "cell_type": "code",
   "execution_count": 6,
   "metadata": {},
   "outputs": [
    {
     "name": "stdout",
     "output_type": "stream",
     "text": [
      "                                              Molecular Geometry (Angstroms)                                              \n",
      "                                             ================================                                             \n",
      "                                                                                                                          \n",
      "                          Atom         Coordinate X          Coordinate Y          Coordinate Z                           \n",
      "                                                                                                                          \n",
      "                           O           0.000000000000        0.000000000000        0.000000000000                         \n",
      "                           H           0.000000000000        0.000000000000        0.950000004704                         \n",
      "                           H           0.896000004436        0.000000000000       -0.317000001569                         \n",
      "                                                                                                                          \n",
      "                                              Molecular Basis (Atomic Basis)                                              \n",
      "                                             ================================                                             \n",
      "                                                                                                                          \n",
      "                                  Basis: STO-3G                                                                           \n",
      "                                                                                                                          \n",
      "                                  Atom Contracted GTOs          Primitive GTOs                                            \n",
      "                                                                                                                          \n",
      "                                   H   (1S)                     (3S)                                                      \n",
      "                                   O   (2S,1P)                  (6S,3P)                                                   \n",
      "                                                                                                                          \n",
      "                                  Contracted Basis Functions : 7                                                          \n",
      "                                  Primitive Basis Functions  : 21                                                         \n",
      "                                                                                                                          \n"
     ]
    }
   ],
   "source": [
    "# Molecule and basis set\n",
    "molecule = vlx.Molecule.read_str(molecule_string, units='au')\n",
    "basis = vlx.MolecularBasis.read(molecule, basis_set_label)\n",
    "\n",
    "ostream.print_block(molecule.get_string())\n",
    "ostream.print_block(basis.get_string('Atomic Basis', molecule))\n",
    "ostream.flush()"
   ]
  },
  {
   "cell_type": "code",
   "execution_count": 8,
   "metadata": {},
   "outputs": [],
   "source": [
    "# MockTask class needed later\n",
    "class MockTask:\n",
    "    def __init__(self, mol, basis, comm, ostream):\n",
    "\n",
    "        self.molecule = mol\n",
    "        self.ao_basis = basis\n",
    "        self.mpi_comm = comm\n",
    "        self.ostream = ostream"
   ]
  },
  {
   "cell_type": "code",
   "execution_count": 9,
   "metadata": {},
   "outputs": [
    {
     "name": "stdout",
     "output_type": "stream",
     "text": [
      "                                                                                                                          \n",
      "                                            Self Consistent Field Driver Setup                                            \n",
      "                                           ====================================                                           \n",
      "                                                                                                                          \n",
      "                   Wave Function Model             : Spin-Restricted Hartree-Fock                                         \n",
      "                   Initial Guess Model             : Superposition of Atomic Densities                                    \n",
      "                   Convergence Accelerator         : Two Level Direct Inversion of Iterative Subspace                     \n",
      "                   Max. Number of Iterations       : 50                                                                   \n",
      "                   Max. Number of Error Vectors    : 10                                                                   \n",
      "                   Convergence Threshold           : 1.0e-06                                                              \n",
      "                   ERI Screening Scheme            : Cauchy Schwarz + Density                                             \n",
      "                   ERI Screening Mode              : Dynamic                                                              \n",
      "                   ERI Screening Threshold         : 1.0e-12                                                              \n",
      "                   Linear Dependence Threshold     : 1.0e-06                                                              \n",
      "                                                                                                                          \n",
      "* Info * Nuclear repulsion energy: 9.2514792692 au                                                                        \n",
      "                                                                                                                          \n",
      "* Info * Overlap matrix computed in 0.01 sec.                                                                             \n",
      "                                                                                                                          \n",
      "* Info * Kinetic energy matrix computed in 0.00 sec.                                                                      \n",
      "                                                                                                                          \n",
      "* Info * Nuclear potential matrix computed in 0.00 sec.                                                                   \n",
      "                                                                                                                          \n",
      "* Info * Orthogonalization matrix computed in 0.04 sec.                                                                   \n",
      "                                                                                                                          \n",
      "* Info * SAD initial guess computed in 0.00 sec.                                                                          \n",
      "                                                                                                                          \n",
      "* Info * Starting Reduced Basis SCF calculation...                                                                        \n",
      "* Info * ...done. SCF energy in reduced basis set: -74.959319283728 au. Time: 0.10 sec.                                   \n",
      "                                                                                                                          \n",
      "* Info * Overlap matrix computed in 0.00 sec.                                                                             \n",
      "                                                                                                                          \n",
      "* Info * Kinetic energy matrix computed in 0.00 sec.                                                                      \n",
      "                                                                                                                          \n",
      "* Info * Nuclear potential matrix computed in 0.00 sec.                                                                   \n",
      "                                                                                                                          \n",
      "* Info * Orthogonalization matrix computed in 0.00 sec.                                                                   \n",
      "                                                                                                                          \n",
      "                                                                                                                          \n",
      "               Iter. | Hartree-Fock Energy | Energy Change | Gradient Norm | Max. Gradient | Density Change               \n",
      "               --------------------------------------------------------------------------------------------               \n",
      "                  1       -74.959319286641    0.0000000000      0.00003237      0.00000781      0.00000000                \n",
      "                  2       -74.959319286972   -0.0000000003      0.00001030      0.00000238      0.00002812                \n",
      "                  3       -74.959319287015   -0.0000000000      0.00000057      0.00000013      0.00001419                \n",
      "                                                                                                                          \n",
      "               *** SCF converged in 3 iterations. Time: 0.10 sec.                                                         \n",
      "                                                                                                                          \n",
      "               Spin-Restricted Hartree-Fock:                                                                              \n",
      "               -----------------------------                                                                              \n",
      "               Total Energy                       :      -74.9593192870 au                                                \n",
      "               Electronic Energy                  :      -84.2107985563 au                                                \n",
      "               Nuclear Repulsion Energy           :        9.2514792692 au                                                \n",
      "               ------------------------------------                                                                       \n",
      "               Gradient Norm                      :        0.0000005744 au                                                \n",
      "                                                                                                                          \n",
      "               Ground State Information                                                                                   \n",
      "               ------------------------                                                                                   \n",
      "               Charge of Molecule            :  0.0                                                                       \n",
      "               Multiplicity (2S+1)           :  1.0                                                                       \n",
      "               Magnetic Quantum Number (S_z) :  0.0                                                                       \n",
      "                                                                                                                          \n",
      "                                                                                                                          \n",
      "                                                 Spin Restricted Orbitals                                                 \n",
      "                                                 ------------------------                                                 \n",
      "                                                                                                                          \n",
      "               Molecular Orbital No.   1:                                                                                 \n",
      "               --------------------------                                                                                 \n",
      "               Occupation: 2.0 Energy:  -20.23340 au                                                                      \n",
      "               (   1 O   1s  :    -0.99)                                                                                  \n",
      "                                                                                                                          \n",
      "               Molecular Orbital No.   2:                                                                                 \n",
      "               --------------------------                                                                                 \n",
      "               Occupation: 2.0 Energy:   -1.26571 au                                                                      \n",
      "               (   1 O   1s  :    -0.23) (   1 O   2s  :     0.83) (   2 H   1s  :     0.16)                              \n",
      "               (   3 H   1s  :     0.16)                                                                                  \n",
      "                                                                                                                          \n",
      "               Molecular Orbital No.   3:                                                                                 \n",
      "               --------------------------                                                                                 \n",
      "               Occupation: 2.0 Energy:   -0.62927 au                                                                      \n",
      "               (   1 O   1p+1:    -0.35) (   1 O   1p0 :     0.49) (   2 H   1s  :     0.44)                              \n",
      "               (   3 H   1s  :    -0.44)                                                                                  \n",
      "                                                                                                                          \n",
      "               Molecular Orbital No.   4:                                                                                 \n",
      "               --------------------------                                                                                 \n",
      "               Occupation: 2.0 Energy:   -0.44167 au                                                                      \n",
      "               (   1 O   2s  :    -0.52) (   1 O   1p+1:     0.65) (   1 O   1p0 :     0.46)                              \n",
      "               (   2 H   1s  :     0.27) (   3 H   1s  :     0.27)                                                        \n",
      "                                                                                                                          \n",
      "               Molecular Orbital No.   5:                                                                                 \n",
      "               --------------------------                                                                                 \n",
      "               Occupation: 2.0 Energy:   -0.38765 au                                                                      \n",
      "               (   1 O   1p-1:     1.00)                                                                                  \n",
      "                                                                                                                          \n",
      "               Molecular Orbital No.   6:                                                                                 \n",
      "               --------------------------                                                                                 \n",
      "               Occupation: 0.0 Energy:    0.60284 au                                                                      \n",
      "               (   1 O   2s  :     0.91) (   1 O   1p+1:     0.58) (   1 O   1p0 :     0.41)                              \n",
      "               (   2 H   1s  :    -0.81) (   3 H   1s  :    -0.81)                                                        \n",
      "                                                                                                                          \n",
      "               Molecular Orbital No.   7:                                                                                 \n",
      "               --------------------------                                                                                 \n",
      "               Occupation: 0.0 Energy:    0.76592 au                                                                      \n",
      "               (   1 O   1p+1:    -0.58) (   1 O   1p0 :     0.82) (   2 H   1s  :    -0.84)                              \n",
      "               (   3 H   1s  :     0.84)                                                                                  \n",
      "                                                                                                                          \n"
     ]
    }
   ],
   "source": [
    "# SCF\n",
    "task = MockTask(molecule, basis, comm, ostream)\n",
    "scfdrv = vlx.ScfRestrictedDriver(comm, ostream)\n",
    "scfdrv.update_settings(scf_settings, method_settings)\n",
    "scfdrv.compute(molecule, basis)\n",
    "scfdrv.task = task"
   ]
  },
  {
   "cell_type": "code",
   "execution_count": 10,
   "metadata": {},
   "outputs": [
    {
     "name": "stdout",
     "output_type": "stream",
     "text": [
      "                                                                                                                          \n",
      "                                                Ground-State Dipole Moment                                                \n",
      "                                               ----------------------------                                               \n",
      "                                                                                                                          \n",
      "                                   X   :         0.546314 a.u.         1.388593 Debye                                     \n",
      "                                   Y   :         0.000000 a.u.         0.000000 Debye                                     \n",
      "                                   Z   :         0.386302 a.u.         0.981881 Debye                                     \n",
      "                                 Total :         0.669095 a.u.         1.700671 Debye                                     \n",
      "                                                                                                                          \n"
     ]
    }
   ],
   "source": [
    "# SCF first-order properties\n",
    "scf_prop = vlx.ScfFirstOrderProperties(comm, ostream)\n",
    "scf_prop.compute(molecule, basis, scfdrv.scf_tensors)\n",
    "scf_prop.print_properties(molecule)"
   ]
  },
  {
   "cell_type": "markdown",
   "metadata": {},
   "source": [
    "### Excited-State Calculation via CIS (TDHF/TDA)"
   ]
  },
  {
   "cell_type": "code",
   "execution_count": 11,
   "metadata": {},
   "outputs": [
    {
     "name": "stdout",
     "output_type": "stream",
     "text": [
      "                                                                                                                          \n",
      "                                                     TDA Driver Setup                                                     \n",
      "                                                    ==================                                                    \n",
      "                                                                                                                          \n",
      "                               Number of States                : 2                                                        \n",
      "                               Max. Number of Iterations       : 150                                                      \n",
      "                               Convergence Threshold           : 1.0e-04                                                  \n",
      "                               ERI Screening Scheme            : Cauchy Schwarz + Density                                 \n",
      "                               ERI Screening Threshold         : 1.0e-15                                                  \n",
      "                                                                                                                          \n",
      "                   *** Iteration:   1 * Reduced Space:    2 * Residues (Max,Min): 1.22e-01 and 8.66e-05                   \n",
      "                                                                                                                          \n",
      "                   State  1: 0.48343620 au Residual Norm: 0.00008658                                                      \n",
      "                   State  2: 0.62684144 au Residual Norm: 0.12175409                                                      \n",
      "                                                                                                                          \n",
      "                   *** Iteration:   2 * Reduced Space:    4 * Residues (Max,Min): 3.99e-13 and 3.60e-16                   \n",
      "                                                                                                                          \n",
      "                   State  1: 0.48343611 au Residual Norm: 0.00000000                                                      \n",
      "                   State  2: 0.57420051 au Residual Norm: 0.00000000                                                      \n",
      "                                                                                                                          \n",
      "               *** 2 excited states converged in 2 iterations. Time: 0.03 sec                                             \n",
      "                                                                                                                          \n",
      "                                                                                                                          \n"
     ]
    }
   ],
   "source": [
    "# TDHF/TDA, i.e. CIS\n",
    "tda_drv = vlx.TDAExciDriver(comm, ostream)\n",
    "tda_drv.update_settings(rsp_settings, method_settings)\n",
    "tda_results = tda_drv.compute(molecule, basis, scfdrv.scf_tensors)\n",
    "tda_drv.ostream.flush()"
   ]
  },
  {
   "cell_type": "code",
   "execution_count": 12,
   "metadata": {},
   "outputs": [],
   "source": [
    "# Get MO coefficients\n",
    "\n",
    "nocc = molecule.number_of_alpha_electrons()\n",
    "mo = scfdrv.scf_tensors['C'] # MO coefficients\n",
    "mo_occ = mo[:, :nocc]        # occupied\n",
    "mo_vir = mo[:, nocc:]        # virtual\n",
    "\n",
    "nocc = mo_occ.shape[1]\n",
    "nvir = mo_vir.shape[1]\n",
    "\n",
    "#eig_vec = eig_vecs[:, 0].copy() # first eigenvector\n",
    "#print(eig_vec)\n",
    "#print(\"mo_occ:\")\n",
    "#print(mo_occ)\n",
    "#print()\n",
    "#print(\"mo_vir:\")\n",
    "#print(mo_vir)"
   ]
  },
  {
   "cell_type": "code",
   "execution_count": 13,
   "metadata": {},
   "outputs": [
    {
     "name": "stdout",
     "output_type": "stream",
     "text": [
      "dict_keys(['C', 'E', 'S', 'D', 'F'])\n",
      "[[ 1. -0.  0.  0. -0.  0. -0.]\n",
      " [-0.  1.  0. -0. -0. -0. -0.]\n",
      " [ 0.  0.  1.  0.  0.  0. -0.]\n",
      " [ 0. -0.  0.  1.  0. -0.  0.]\n",
      " [-0. -0.  0.  0.  1.  0.  0.]\n",
      " [ 0. -0.  0. -0.  0.  1. -0.]\n",
      " [-0. -0. -0.  0.  0. -0.  1.]]\n",
      "[[-20.2334   0.      -0.       0.      -0.       0.       0.    ]\n",
      " [  0.      -1.2657   0.      -0.      -0.       0.       0.    ]\n",
      " [ -0.       0.      -0.6293   0.      -0.       0.      -0.    ]\n",
      " [  0.      -0.       0.      -0.4417  -0.       0.       0.    ]\n",
      " [ -0.      -0.      -0.      -0.      -0.3876   0.      -0.    ]\n",
      " [  0.       0.       0.       0.       0.       0.6028   0.    ]\n",
      " [  0.       0.      -0.       0.      -0.       0.       0.7659]]\n"
     ]
    }
   ],
   "source": [
    "# Get the overlap and Fock matrices\n",
    "\n",
    "print(scfdrv.scf_tensors.keys())\n",
    "fock = scfdrv.scf_tensors['F'][0]\n",
    "ovlp = scfdrv.scf_tensors['S']\n",
    "# Transform them from AO to MO basis\n",
    "print(numpy.matmul(mo.T, numpy.matmul(ovlp, mo)))\n",
    "print(numpy.matmul(mo.T, numpy.matmul(fock, mo)))"
   ]
  },
  {
   "cell_type": "code",
   "execution_count": 14,
   "metadata": {},
   "outputs": [],
   "source": [
    "# Get the CIS eigenvalues and eigenvectors\n",
    "\n",
    "tda_eig_vals = tda_results[\"eigenvalues\"]\n",
    "tda_eig_vecs = tda_results[\"eigenvectors\"]\n",
    "tda_size = tda_eig_vecs[:,0].shape\n",
    "tda_eig_vec=tda_eig_vecs[:,0].copy()\n",
    "tda_eig_vec_as_mat = tda_eig_vec.reshape(nocc, nvir) #/ numpy.sqrt(2.0)"
   ]
  },
  {
   "cell_type": "markdown",
   "metadata": {},
   "source": [
    "### Perform an analogous calculation with $\\texttt{adcc}$ for comparison"
   ]
  },
  {
   "cell_type": "code",
   "execution_count": 15,
   "metadata": {},
   "outputs": [
    {
     "name": "stdout",
     "output_type": "stream",
     "text": [
      "Starting adc1 singlet Jacobi-Davidson ...\n",
      "Niter n_ss  max_residual  time  Ritz values\n",
      "  1     6     0.0028135   12ms  [0.4834 0.5742 0.6052]\n",
      "  2    10    8.9324e-30   16ms  [0.4834 0.5742 0.6021]\n",
      "=== Converged ===\n",
      "    Number of matrix applies:    10\n",
      "    Total solver time:           30.424ms\n"
     ]
    }
   ],
   "source": [
    "adc1 = adcc.run_adc(scfdrv, method='adc1', n_singlets=3, conv_tol=1e-4)"
   ]
  },
  {
   "cell_type": "code",
   "execution_count": 16,
   "metadata": {},
   "outputs": [
    {
     "data": {
      "text/plain": [
       "array([[-0.2108,  0.    , -0.1424],\n",
       "       [ 0.0419,  0.    ,  0.0234],\n",
       "       [-0.3315, -0.    , -0.2288]])"
      ]
     },
     "execution_count": 16,
     "metadata": {},
     "output_type": "execute_result"
    }
   ],
   "source": [
    "adc1_eig_vec = adc1.excitation_vector[0][\"ph\"].to_ndarray()\n",
    "adc1_eig_vals = adc1.excitation_energy\n",
    "adc1.state_dipole_moment"
   ]
  },
  {
   "cell_type": "code",
   "execution_count": 21,
   "metadata": {},
   "outputs": [
    {
     "name": "stdout",
     "output_type": "stream",
     "text": [
      "vlx eigenvalues:\n",
      "[0.4834 0.5742]\n",
      "\n",
      "adcc eigenvalues:\n",
      "[0.4834 0.5742 0.6021]\n",
      "\n",
      "vlx eigenvector:\n",
      "[[ 0.     0.   ]\n",
      " [-0.    -0.   ]\n",
      " [ 0.    -0.   ]\n",
      " [-0.     0.   ]\n",
      " [ 1.    -0.001]]\n",
      "\n",
      "adcc eigenvector:\n",
      "[[ 0.      0.      0.      0.    ]\n",
      " [-0.      0.      0.      0.    ]\n",
      " [-0.      0.      0.      0.    ]\n",
      " [ 0.      0.      0.      0.    ]\n",
      " [-0.7071  0.0007  0.      0.    ]\n",
      " [ 0.      0.      0.      0.    ]\n",
      " [ 0.      0.     -0.      0.    ]\n",
      " [ 0.      0.     -0.      0.    ]\n",
      " [ 0.      0.      0.      0.    ]\n",
      " [ 0.      0.     -0.7071  0.0007]]\n",
      "\n",
      "vlx eigenvector divided by square root 2:\n",
      "[[ 0.      0.    ]\n",
      " [-0.     -0.    ]\n",
      " [ 0.     -0.    ]\n",
      " [-0.      0.    ]\n",
      " [ 0.7071 -0.0007]]\n"
     ]
    }
   ],
   "source": [
    "# Compare the eigenvalues and eigenvectors\n",
    "print(\"vlx eigenvalues:\")\n",
    "print(tda_eig_vals)\n",
    "print()\n",
    "print(\"adcc eigenvalues:\")\n",
    "print(adc1_eig_vals)\n",
    "print()\n",
    "print(\"vlx eigenvector:\")\n",
    "print(tda_eig_vec_as_mat)\n",
    "print()\n",
    "print(\"adcc eigenvector:\")\n",
    "print(adc1_eig_vec)\n",
    "print()\n",
    "print(\"vlx eigenvector divided by square root 2:\")\n",
    "print(tda_eig_vec_as_mat/numpy.sqrt(2))"
   ]
  },
  {
   "cell_type": "markdown",
   "metadata": {},
   "source": [
    "### Calculate one- and two-particle density matrices"
   ]
  },
  {
   "cell_type": "code",
   "execution_count": 23,
   "metadata": {},
   "outputs": [
    {
     "name": "stdout",
     "output_type": "stream",
     "text": [
      "[[-0.  0. -0.  0. -0.]\n",
      " [ 0. -0.  0. -0.  0.]\n",
      " [-0.  0. -0.  0. -0.]\n",
      " [ 0. -0.  0. -0.  0.]\n",
      " [-0.  0. -0.  0. -1.]]\n"
     ]
    }
   ],
   "source": [
    "# VeloxChem unrelaxed one-particle density matrix and two-particle density matrix\n",
    "\n",
    "vlx_dm_oo = -numpy.einsum('ia,ja->ij', tda_eig_vec_as_mat, tda_eig_vec_as_mat)\n",
    "vlx_dm_vv = numpy.einsum('ia,ib->ab', tda_eig_vec_as_mat, tda_eig_vec_as_mat)\n",
    "vlx_DM_ovov = -numpy.einsum('ib,ja->iajb', tda_eig_vec_as_mat, tda_eig_vec_as_mat)\n",
    "\n",
    "print(vlx_dm_oo)"
   ]
  },
  {
   "cell_type": "code",
   "execution_count": 27,
   "metadata": {},
   "outputs": [],
   "source": [
    "# adcc density matrices\n",
    "\n",
    "adcc_dm_oo = -numpy.einsum('ia,ja->ij', adc1_eig_vec, adc1_eig_vec)\n",
    "adcc_dm_vv = numpy.einsum('ia,ib->ab', adc1_eig_vec, adc1_eig_vec)\n",
    "adcc_DM_ovov = -numpy.einsum('ib,ja->iajb', adc1_eig_vec, adc1_eig_vec)\n",
    "\n",
    "#print(adcc_dm_oo)\n",
    "\n",
    "# adcc Fock matrix\n",
    "foo = adc1.reference_state.fock(\"o1o1\").to_ndarray()\n",
    "fvv = adc1.reference_state.fock(\"v1v1\").to_ndarray()\n",
    "ovov = adc1.reference_state.eri(\"o1v1o1v1\").to_ndarray()"
   ]
  },
  {
   "cell_type": "code",
   "execution_count": 28,
   "metadata": {},
   "outputs": [
    {
     "name": "stdout",
     "output_type": "stream",
     "text": [
      "adcc excitation energy: 0.4834361086240111\n"
     ]
    }
   ],
   "source": [
    "# Confirm the density matrices by calculating the excitation energy\n",
    "# as a contraction of the densities with the Fock matrix and ERI tensor\n",
    "adcc_excitation_energy = (numpy.einsum('ij,ij->',adcc_dm_oo,foo)\n",
    "                     + numpy.einsum('ab,ab->', adcc_dm_vv, fvv)\n",
    "                     + numpy.einsum('iajb,iajb->', adcc_DM_ovov, ovov)\n",
    "                    )\n",
    "print(\"adcc excitation energy:\", adcc_excitation_energy)"
   ]
  },
  {
   "cell_type": "code",
   "execution_count": 32,
   "metadata": {},
   "outputs": [
    {
     "name": "stdout",
     "output_type": "stream",
     "text": [
      " vlx excitation energy: 0.4834361086240111\n"
     ]
    }
   ],
   "source": [
    "# Analogous confirmation of the vlx density matrices\n",
    "# two different spin blocks of the antisymmmetrized ERIs need to be considered:\n",
    "# <aa||aa> = <bb||bb> as well as <ab||ba> = <ba||ab>\n",
    "vlx_excitation_energy = (1.0*numpy.einsum('ij,ij->', vlx_dm_oo,foo[:nocc,:nocc])\n",
    "                        +1.0*numpy.einsum('ab,ab->', vlx_dm_vv, fvv[:nvir,:nvir])\n",
    "                        +1.0*numpy.einsum('iajb,iajb->', vlx_DM_ovov, ovov[:nocc, :nvir, :nocc, :nvir])##aaaa\n",
    "                        +1.0*numpy.einsum('iajb,iajb->', vlx_DM_ovov, ovov[:nocc, nvir:, nocc:, :nvir])##abba\n",
    "                        )\n",
    "print(\" vlx excitation energy:\", vlx_excitation_energy)"
   ]
  },
  {
   "cell_type": "code",
   "execution_count": 33,
   "metadata": {},
   "outputs": [
    {
     "name": "stdout",
     "output_type": "stream",
     "text": [
      "adcc excitation energy: 0.48343610862266023\n"
     ]
    }
   ],
   "source": [
    "# Re-confirm the adcc excitation energy by considering only the spin blocks vlx takes\n",
    "adcc_excitation_energy = (1.0*numpy.einsum('ij,ij->', vlx_dm_oo,foo[:nocc,:nocc])\n",
    "                        +1.0*numpy.einsum('ab,ab->', vlx_dm_vv, fvv[:nvir,:nvir])\n",
    "                        +2.0*numpy.einsum('iajb,iajb->', adcc_DM_ovov[:nocc, :nvir, :nocc, :nvir], ovov[:nocc, :nvir, :nocc, :nvir])\n",
    "                        +2.0*numpy.einsum('iajb,iajb->', adcc_DM_ovov[:nocc, :nvir, :nocc, :nvir], ovov[:nocc, nvir:, nocc:, :nvir])\n",
    "    )\n",
    "print(\"adcc excitation energy:\", adcc_excitation_energy)"
   ]
  },
  {
   "cell_type": "code",
   "execution_count": 35,
   "metadata": {},
   "outputs": [
    {
     "name": "stdout",
     "output_type": "stream",
     "text": [
      "ovov.shape:         (10, 4, 10, 4)\n",
      "adcc_DM_ovov.shape: (10, 4, 10, 4)\n",
      "vlx_DM_ovov.shape:  (5, 2, 5, 2)\n"
     ]
    }
   ],
   "source": [
    "# Take a look at the different shapes of the integrals and 2PDMs\n",
    "print(\"ovov.shape:        \", ovov.shape)\n",
    "print(\"adcc_DM_ovov.shape:\", adcc_DM_ovov.shape)\n",
    "print(\"vlx_DM_ovov.shape: \", vlx_DM_ovov.shape)"
   ]
  },
  {
   "cell_type": "markdown",
   "metadata": {},
   "source": [
    "### Transform the one-particle density matrices from the MO to the AO basis"
   ]
  },
  {
   "cell_type": "code",
   "execution_count": 37,
   "metadata": {},
   "outputs": [
    {
     "name": "stdout",
     "output_type": "stream",
     "text": [
      "VLX:\n",
      "[[ 0.0184 -0.1232  0.1092  0.1097 -0.     -0.0557 -0.0793]\n",
      " [-0.1232  0.8249 -0.7314 -0.7348  0.      0.3728  0.531 ]\n",
      " [ 0.1092 -0.7314  0.6486  0.6516 -0.     -0.3306 -0.4708]\n",
      " [ 0.1097 -0.7348  0.6516  0.6545  0.     -0.3321 -0.473 ]\n",
      " [-0.      0.     -0.      0.     -1.     -0.     -0.    ]\n",
      " [-0.0557  0.3728 -0.3306 -0.3321 -0.      0.1685  0.24  ]\n",
      " [-0.0793  0.531  -0.4708 -0.473  -0.      0.24    0.3418]]\n",
      "\n",
      "ADCC:\n",
      "[[ 0.0184 -0.1232  0.1092  0.1097  0.     -0.0557 -0.0793]\n",
      " [-0.1232  0.8249 -0.7314 -0.7348 -0.      0.3728  0.531 ]\n",
      " [ 0.1092 -0.7314  0.6486  0.6516  0.     -0.3306 -0.4708]\n",
      " [ 0.1097 -0.7348  0.6516  0.6545  0.     -0.3321 -0.473 ]\n",
      " [ 0.     -0.      0.      0.     -1.      0.      0.    ]\n",
      " [-0.0557  0.3728 -0.3306 -0.3321  0.      0.1685  0.24  ]\n",
      " [-0.0793  0.531  -0.4708 -0.473   0.      0.24    0.3418]]\n"
     ]
    }
   ],
   "source": [
    "# Transform the one-particle density matrices from MO to AO basis\n",
    "vlx_dm_oo_in_ao = numpy.matmul(mo_occ, numpy.matmul(vlx_dm_oo, mo_occ.T))\n",
    "adcc_dm_oo_in_ao = 2.0*numpy.matmul(mo_occ, numpy.matmul(adcc_dm_oo[:nocc,:nocc], mo_occ.T))\n",
    "\n",
    "vlx_dm_vv_in_ao = numpy.matmul(mo_vir, numpy.matmul(vlx_dm_vv, mo_vir.T))\n",
    "adcc_dm_vv_in_ao = 2.0*numpy.matmul(mo_vir, numpy.matmul(adcc_dm_vv[:nvir,:nvir], mo_vir.T))\n",
    "\n",
    "vlx_dm_ao = vlx_dm_oo_in_ao + vlx_dm_vv_in_ao\n",
    "adcc_dm_ao = adcc_dm_oo_in_ao + adcc_dm_vv_in_ao\n",
    "\n",
    "print(\"VLX:\")\n",
    "print(vlx_dm_ao)\n",
    "print(\"\\nADCC:\")\n",
    "print(adcc_dm_ao)"
   ]
  },
  {
   "cell_type": "code",
   "execution_count": 39,
   "metadata": {},
   "outputs": [
    {
     "name": "stdout",
     "output_type": "stream",
     "text": [
      "contract_fock_ao = 0.990484598301727\n",
      "contract_fock_mo = 0.9904845983017276\n"
     ]
    }
   ],
   "source": [
    "# Confirm the densities by comparing the contractions with the Fock matrix in MO and AO basis\n",
    "\n",
    "contract_fock_mo = (1.0*numpy.einsum('ij,ij->', vlx_dm_oo, foo[:nocc,:nocc])\n",
    "                    +1.0*numpy.einsum('ab,ab->', vlx_dm_vv, fvv[:nvir,:nvir]))\n",
    "\n",
    "contract_fock_ao = numpy.einsum('mn,mn->', vlx_dm_ao, fock)\n",
    "\n",
    "print(\"contract_fock_ao =\", contract_fock_ao)\n",
    "print(\"contract_fock_mo =\", contract_fock_mo)"
   ]
  },
  {
   "cell_type": "code",
   "execution_count": 46,
   "metadata": {},
   "outputs": [
    {
     "name": "stdout",
     "output_type": "stream",
     "text": [
      "vlx dipole moment     [au] = [-0.2108 -0.     -0.1424]\n",
      "\n",
      "adcc dm dipole moment [au] = [-0.2108  0.     -0.1424]\n",
      "\n",
      "ADC(1) dipole moment from adcc [au]:\n",
      "                             [-0.2108  0.     -0.1424]\n"
     ]
    }
   ],
   "source": [
    "# Get the total density (including SCF part)\n",
    "# and calculate the unrelaxed excited-state dipole moment\n",
    "\n",
    "# dipole integrals\n",
    "dipole_drv = vlx.ElectricDipoleIntegralsDriver(comm)\n",
    "dipole_mats = dipole_drv.compute(molecule, basis)\n",
    "dipole_ints = (dipole_mats.x_to_numpy(),\n",
    "              dipole_mats.y_to_numpy(),\n",
    "              dipole_mats.z_to_numpy())\n",
    "\n",
    "# electronic contribution\n",
    "total_density = scfdrv.scf_tensors['D'][0] + scfdrv.scf_tensors['D'][1] + vlx_dm_ao\n",
    "adcc_total_density = scfdrv.scf_tensors['D'][0] + scfdrv.scf_tensors['D'][1] + adcc_dm_ao\n",
    "electronic_dipole = -1.0 * numpy.array(\n",
    "    [numpy.sum(dipole_ints[d] * total_density) for d in range(3)])\n",
    "adcc_electronic_dipole = -1.0 * numpy.array(\n",
    "    [numpy.sum(dipole_ints[d] * adcc_total_density) for d in range(3)])\n",
    "\n",
    "# nuclear contribution\n",
    "coords = molecule.get_coordinates()\n",
    "nuclear_charges = molecule.elem_ids_to_numpy()\n",
    "nuclear_dipole = numpy.sum(coords.T * nuclear_charges, axis=1)\n",
    "\n",
    "dipole_moment = (nuclear_dipole + electronic_dipole)\n",
    "adcc_dipole_moment = (nuclear_dipole + adcc_electronic_dipole)\n",
    "\n",
    "print(\"vlx dipole moment     [au] =\", dipole_moment)\n",
    "print()\n",
    "print(\"adcc dm dipole moment [au] =\", adcc_dipole_moment)\n",
    "print()\n",
    "print(\"ADC(1) dipole moment from adcc [au]:\")\n",
    "print(\"                            \", adc1.state_dipole_moment[0])"
   ]
  },
  {
   "cell_type": "markdown",
   "metadata": {},
   "source": [
    "#### Transform the excitation vectors to the AO basis\n",
    "\\begin{equation}\n",
    "    x_{\\mu \\nu} = \\sum_{ia} C_{\\mu i} x_{ia} C_{\\nu a}\n",
    "\\end{equation}"
   ]
  },
  {
   "cell_type": "code",
   "execution_count": 49,
   "metadata": {},
   "outputs": [
    {
     "name": "stdout",
     "output_type": "stream",
     "text": [
      "[[-0.      0.     -0.     -0.      0.      0.      0.    ]\n",
      " [ 0.     -0.      0.      0.     -0.     -0.     -0.    ]\n",
      " [-0.      0.     -0.     -0.      0.      0.      0.    ]\n",
      " [ 0.     -0.      0.      0.      0.     -0.     -0.    ]\n",
      " [-0.1356  0.9082 -0.8054 -0.809   0.      0.4105  0.5846]\n",
      " [-0.      0.     -0.     -0.      0.      0.      0.    ]\n",
      " [-0.      0.     -0.      0.      0.      0.     -0.    ]]\n"
     ]
    }
   ],
   "source": [
    "# Transform the transition density matrix (the excitation vectors) from MO to AO basis\n",
    "# (will be needed for the two-particle density matrix)\n",
    "\n",
    "tda_eig_vec_ao = numpy.matmul(mo_occ, numpy.matmul(tda_eig_vec_as_mat, mo_vir.T))\n",
    "print(tda_eig_vec_ao)"
   ]
  },
  {
   "cell_type": "code",
   "execution_count": 50,
   "metadata": {},
   "outputs": [],
   "source": [
    "# Get the ERI tensor in AO basis (chemists' notation)\n",
    "\n",
    "nao = mo.shape[0]\n",
    "\n",
    "pqrs = numpy.zeros((nao, nao, nao, nao))\n",
    "eri_drv = vlx.ElectronRepulsionIntegralsDriver(comm)\n",
    "eri_drv.compute_in_mem(molecule, basis, pqrs)"
   ]
  },
  {
   "cell_type": "markdown",
   "metadata": {},
   "source": [
    "The MO to AO transformation of the contribution of the two-particle density matrix with the ERI tensor is given as\n",
    "\\begin{align}\n",
    "\\begin{split}\n",
    "    - \\sum_{\\sigma \\sigma'} \\sum_{ijab} x_{i_{\\sigma} b_{\\sigma}} x_{j_{\\sigma'} a_{\\sigma'}}\n",
    "        \\langle i_{\\sigma} a_{\\sigma'} || j_{\\sigma'} b_{\\sigma} \\rangle\n",
    "    &= - \\sum_{ijab} x_{ib} x_{ja} [ 2 (ij|ab) - 4 (ib|aj) ] \\\\\n",
    "    &= + \\sum_{ijab} x_{ib} x_{ja} [ 4 (ib|aj) - 2 (ij|ab)  ] \\\\\n",
    "    &= \\sum_{ijab} x_{ib} x_{ja} \\sum_{\\mu \\nu \\theta \\varphi}\n",
    "        C_{\\mu i} C_{\\nu b} C_{\\theta a} C_{\\varphi j}  [ 4 (\\mu \\nu | \\theta \\varphi)\n",
    "        - 2 (\\mu \\varphi | \\theta \\nu) ] \\\\\n",
    "    &= \\sum_{\\mu \\nu \\theta \\varphi} [ 4 (\\mu \\nu | \\theta \\varphi)\n",
    "        - 2 (\\mu \\varphi | \\theta \\nu) ]\n",
    "        \\sum_{ib} C_{\\mu i} x_{ib} C_{\\nu b} \\sum_{ja} C_{\\varphi j} x_{ja} C_{\\theta a} \\\\\n",
    "    &= \\sum_{\\mu \\nu \\theta \\varphi} x_{\\mu \\nu} x_{\\varphi \\theta} [ 4 (\\mu \\nu | \\theta \\varphi)\n",
    "        - 2 (\\mu \\varphi | \\theta \\nu) ]       \\\\\n",
    "    &= \\sum_{\\mu \\nu} x_{\\mu \\nu} \\sum_{\\theta \\varphi} x_{\\varphi \\theta} [ 4 (\\mu \\nu | \\theta \\varphi)\n",
    "        - 2 (\\mu \\varphi | \\theta \\nu) ]\n",
    "\\end{split}\n",
    "\\end{align}"
   ]
  },
  {
   "cell_type": "code",
   "execution_count": 51,
   "metadata": {},
   "outputs": [
    {
     "name": "stdout",
     "output_type": "stream",
     "text": [
      "Contraction in MO adcc: -0.5070484896790675\n",
      "Contraction in MO vlx:  -0.5070484896777165\n",
      "Contraction in AO:      -0.5070484896777164\n"
     ]
    }
   ],
   "source": [
    "# Confirm by comparing the contraction of electron repulsion integrals in AO basis\n",
    "\n",
    "# First reference value in MO\n",
    "eri_contract_mo_adcc = numpy.einsum('iajb,iajb->', adcc_DM_ovov, ovov)\n",
    "print(\"Contraction in MO adcc:\", eri_contract_mo_adcc)\n",
    "\n",
    "eri_contract_mo_vlx = (+1.0*numpy.einsum('iajb,iajb->', vlx_DM_ovov, ovov[:nocc, :nvir, :nocc, :nvir])##aaaa\n",
    "                        +1.0*numpy.einsum('iajb,iajb->', vlx_DM_ovov, ovov[:nocc, nvir:, nocc:, :nvir]))##bbbb\n",
    "print(\"Contraction in MO vlx: \", eri_contract_mo_vlx)\n",
    "\n",
    "# Now contract everything in AO\n",
    "eri_contract_ao = (0.5*numpy.einsum('mn,mn->', tda_eig_vec_ao, numpy.einsum('pt,mntp->mn', tda_eig_vec_ao, 4*pqrs)\n",
    "                                   - numpy.einsum('pt,mptn->mn', tda_eig_vec_ao, 2*pqrs))\n",
    "                    )\n",
    "print(\"Contraction in AO:     \", eri_contract_ao)"
   ]
  },
  {
   "cell_type": "markdown",
   "metadata": {},
   "source": [
    "# Orbital response"
   ]
  },
  {
   "cell_type": "markdown",
   "metadata": {},
   "source": [
    "## Right-hand side"
   ]
  },
  {
   "cell_type": "markdown",
   "metadata": {},
   "source": [
    "### 1. Contributions from the 1PDMs\n",
    "\\begin{align}\n",
    "F^\\gamma_{ia} &= \\sum_{\\theta,\\varphi}C^\\alpha_{\\varphi i}C^\\alpha_{\\theta a}\\sum_{\\mu,\\nu,\\sigma}\\gamma^\\sigma_{\\mu\\nu}(\\mu\\nu|\\theta \\varphi)-\\sum_{\\theta,\\varphi}C^\\alpha_{\\varphi i}C^\\alpha_{\\theta a}\\sum_{\\mu,\\nu}\\gamma^{\\alpha}_{\\mu\\nu}(\\mu\\varphi|\\theta\\nu)\\\\\n",
    "&= \\sum_{\\theta,\\varphi,\\sigma}C^\\alpha_{\\varphi i}C^\\alpha_{\\theta a}F^{1,\\sigma}_{\\varphi\\theta}-\\sum_{\\theta,\\varphi}C^\\alpha_{\\varphi i}C^\\alpha_{\\theta a}F^{2,\\alpha}_{\\varphi\\theta}\\\\\n",
    "&= \\sum_{\\theta,\\varphi}C^\\alpha_{\\varphi i}C^\\alpha_{\\theta a}F_{\\varphi\\theta}\n",
    "\\end{align}"
   ]
  },
  {
   "cell_type": "code",
   "execution_count": 52,
   "metadata": {},
   "outputs": [
    {
     "name": "stdout",
     "output_type": "stream",
     "text": [
      "[[-0.0183  0.    ]\n",
      " [-0.0827 -0.    ]\n",
      " [ 0.0005 -0.107 ]\n",
      " [-0.0908  0.0002]\n",
      " [-0.      0.    ]]\n"
     ]
    }
   ],
   "source": [
    "# Calculate two different parts and transform the sum to MO\n",
    "\n",
    "F1_vlx = numpy.einsum('mn,mntp->pt', vlx_dm_ao, pqrs)\n",
    "F2_vlx = numpy.einsum('mn,mptn->pt', vlx_dm_ao, pqrs)\n",
    "# The density matrices already have a factor of 2 (for alpha and beta spin)\n",
    "# hence a factor of 0.5 where the other spin part actually vanishes\n",
    "F_1pdm_vlx = F1_vlx - 0.5*F2_vlx\n",
    "vlx_1pdm_rhs = numpy.einsum('pi,pa->ia', mo_occ, numpy.einsum('ta,pt->pa', mo_vir, F_1pdm_vlx))\n",
    "print(vlx_1pdm_rhs)"
   ]
  },
  {
   "cell_type": "code",
   "execution_count": 54,
   "metadata": {},
   "outputs": [
    {
     "name": "stdout",
     "output_type": "stream",
     "text": [
      "[[-0.0183  0.     -0.     -0.    ]\n",
      " [-0.0827 -0.     -0.     -0.    ]\n",
      " [ 0.0005 -0.107  -0.     -0.    ]\n",
      " [-0.0908  0.0002 -0.     -0.    ]\n",
      " [-0.      0.     -0.     -0.    ]\n",
      " [-0.     -0.     -0.0183  0.    ]\n",
      " [-0.     -0.     -0.0827 -0.    ]\n",
      " [-0.     -0.      0.0005 -0.107 ]\n",
      " [-0.     -0.     -0.0908  0.0002]\n",
      " [-0.     -0.     -0.      0.    ]]\n"
     ]
    }
   ],
   "source": [
    "# Compare to the analogous calculation with adcc in MO basis\n",
    "\n",
    "ooov = adc1.reference_state.eri(\"o1o1o1v1\").to_ndarray()\n",
    "ovvv = adc1.reference_state.eri(\"o1v1v1v1\").to_ndarray()\n",
    "adcc_1pdm_rhs = ( -numpy.einsum('jk,ikja->ia', adcc_dm_oo, ooov, optimize=True) \n",
    "                 -numpy.einsum('bc,icba->ia', adcc_dm_vv, ovvv, optimize=True)\n",
    "                )\n",
    "print(adcc_1pdm_rhs)"
   ]
  },
  {
   "cell_type": "markdown",
   "metadata": {},
   "source": [
    "### 2. Contributions from the 2PDMs\n",
    "\n",
    "\\begin{align}\n",
    "F^\\Gamma_{ia} &= ~~ \\sum_{\\mu,\\zeta}C^\\alpha_{\\mu i}C^\\alpha_{\\zeta a} \\Big[\\sum_{\\rho,\\varphi}S_{\\rho\\zeta}x^\\alpha_{\\varphi\\rho}\\sum_{\\nu,\\theta}x^\\alpha_{\\theta\\nu}(\\mu\\nu|\\theta\\varphi)-\\sum_{\\rho,\\varphi}S_{\\rho\\zeta}x^\\alpha_{\\varphi\\rho}\\sum_{\\theta,\\nu,\\sigma} x^\\sigma_{\\theta\\nu}(\\mu\\varphi|\\theta\\nu) \\Big] \\\\\n",
    "&~~~ -\\sum_{\\mu,\\zeta}C^\\alpha_{\\mu i}C^\\alpha_{\\zeta a} \\Big[ \\sum_{\\rho,\\varphi}S_{\\mu\\rho}x^\\alpha_{\\rho\\varphi}\\sum_{\\nu,\\theta}x^\\alpha_{\\nu\\theta}(\\zeta\\nu|\\theta\\varphi)-\\sum_{\\rho,\\varphi} S_{\\mu\\rho}x^\\alpha_{\\rho\\varphi}\\sum_{\\theta,\\nu,\\sigma}x^\\sigma_{\\nu\\theta}(\\zeta\\varphi|\\theta\\nu) \\Big]\n",
    "\\end{align}"
   ]
  },
  {
   "cell_type": "code",
   "execution_count": 57,
   "metadata": {},
   "outputs": [
    {
     "name": "stdout",
     "output_type": "stream",
     "text": [
      "[[ 0.0194 -0.    ]\n",
      " [ 0.0193 -0.    ]\n",
      " [-0.0002  0.    ]\n",
      " [ 0.058  -0.0001]\n",
      " [ 0.     -0.    ]]\n",
      "\n",
      "[[ 0.0194 -0.    ]\n",
      " [ 0.0193 -0.    ]\n",
      " [-0.0002  0.    ]\n",
      " [ 0.058  -0.0001]\n",
      " [ 0.     -0.    ]]\n",
      "\n",
      "[[ 0.0194 -0.    ]\n",
      " [ 0.0193 -0.    ]\n",
      " [-0.0002  0.    ]\n",
      " [ 0.058  -0.0001]\n",
      " [ 0.     -0.    ]]\n"
     ]
    }
   ],
   "source": [
    "# Care needs to be taken with the index order of the excitation vectors\n",
    "# Calculate in different summation orders...\n",
    "\n",
    "# 1)\n",
    "FG1 = ( numpy.einsum('rz,mr->mz', ovlp,\n",
    "                    numpy.einsum('pr,mp->mr', tda_eig_vec_ao,\n",
    "                        (0.5*numpy.einsum('tn,mntp->mp',tda_eig_vec_ao,pqrs)\n",
    "                        -numpy.einsum('tn,mptn->mp',tda_eig_vec_ao,pqrs))\n",
    "                                )\n",
    "                      )\n",
    "            )\n",
    "FG2 = ( numpy.einsum('mr,rz->mz', ovlp,\n",
    "                    numpy.einsum('rp,zp->rz', tda_eig_vec_ao,\n",
    "                        (0.5*numpy.einsum('nt,zntp->zp',tda_eig_vec_ao,pqrs)\n",
    "                        -numpy.einsum('nt,zptn->zp',tda_eig_vec_ao,pqrs))\n",
    "                                )\n",
    "                      )\n",
    "            )\n",
    "\n",
    "# 2)\n",
    "FG1_try2 =( numpy.einsum('rz,mr->mz', ovlp,\n",
    "                       numpy.einsum('pr,mp->mr', tda_eig_vec_ao,\n",
    "                                    numpy.einsum('tn,mntp->mp',tda_eig_vec_ao,pqrs)\n",
    "                                   )\n",
    "                      )\n",
    "            )\n",
    "FG2_try2 =( numpy.einsum('rz,mr->mz', ovlp,\n",
    "                       numpy.einsum('pr,mp->mr', tda_eig_vec_ao,\n",
    "                                    numpy.einsum('tn,mptn->mp',tda_eig_vec_ao,pqrs)\n",
    "                                   )\n",
    "                      )\n",
    "            )\n",
    "FG3_try2 =( numpy.einsum('mr,rz->mz', ovlp,\n",
    "                       numpy.einsum('rp,zp->rz', tda_eig_vec_ao,\n",
    "                                    numpy.einsum('nt,zntp->zp',tda_eig_vec_ao,pqrs)\n",
    "                                   )\n",
    "                      )\n",
    "            )\n",
    "FG4_try2 =( numpy.einsum('mr,rz->mz', ovlp,\n",
    "                       numpy.einsum('rp,zp->rz', tda_eig_vec_ao,\n",
    "                                    numpy.einsum('nt,zptn->zp',tda_eig_vec_ao,pqrs)\n",
    "                                   )\n",
    "                      )\n",
    "            )\n",
    "\n",
    "FG1_vlx =( numpy.einsum('rz,zm->rm', ovlp,\n",
    "                       numpy.einsum('zp,mp->zm', tda_eig_vec_ao,\n",
    "                                    numpy.einsum('tn,mntp->mp',tda_eig_vec_ao,pqrs)\n",
    "                                   )\n",
    "                      )\n",
    "            )\n",
    "FG1_vlx_ovlp =( numpy.einsum('rp,mp->rm',\n",
    "                numpy.einsum('rz,zp->rp', ovlp, tda_eig_vec_ao),\n",
    "                numpy.einsum('tn,mntp->mp',tda_eig_vec_ao,pqrs)\n",
    "                                   )\n",
    "            )\n",
    "\n",
    "FG2_vlx =  numpy.einsum('rz,zm->rm', ovlp,\n",
    "                       numpy.einsum('zn,nm->zm', tda_eig_vec_ao,\n",
    "                                    numpy.einsum('tp,mntp->nm',tda_eig_vec_ao,pqrs)\n",
    "                                   )\n",
    "                      )\n",
    "\n",
    "# Sum up terms accounting for spin factors\n",
    "F_2pdm_vlx_A = 0.5*FG1_try2 - FG2_try2 \n",
    "F_2pdm_vlx_B =-0.5*FG3_try2 + FG4_try2\n",
    "\n",
    "F_2pdm_vlx = F_2pdm_vlx_A + F_2pdm_vlx_B\n",
    "#print(F_2pdm_vlx)\n",
    "# 3)\n",
    "another_vlx_2pdm_rhs = (numpy.einsum('mi,ma->ia', mo_occ, numpy.einsum('za,mz->ma', mo_vir, F_2pdm_vlx_A))\n",
    "                +numpy.einsum('mi,ma->ia', mo_occ, numpy.einsum('za,mz->ma', mo_vir, F_2pdm_vlx_B))\n",
    "               )\n",
    "vlx_2pdm_rhs = (numpy.einsum('mi,ma->ia', mo_occ, numpy.einsum('za,mz->ma', mo_vir, F_2pdm_vlx)))\n",
    "final_vlx_2pdm_rhs = (numpy.einsum('mi,ma->ia', mo_occ, numpy.einsum('za,mz->ma', mo_vir, FG1-FG2)))\n",
    "print(vlx_2pdm_rhs)\n",
    "print()\n",
    "print(another_vlx_2pdm_rhs)         \n",
    "print()\n",
    "print(final_vlx_2pdm_rhs)"
   ]
  },
  {
   "cell_type": "code",
   "execution_count": 59,
   "metadata": {},
   "outputs": [
    {
     "name": "stdout",
     "output_type": "stream",
     "text": [
      "[[ 0.0194 -0.      0.      0.    ]\n",
      " [ 0.0193 -0.      0.      0.    ]\n",
      " [-0.0002  0.      0.      0.    ]\n",
      " [ 0.058  -0.0001  0.      0.    ]\n",
      " [ 0.      0.      0.      0.    ]\n",
      " [ 0.      0.      0.0194 -0.    ]\n",
      " [ 0.      0.      0.0193 -0.    ]\n",
      " [ 0.      0.     -0.0002  0.    ]\n",
      " [ 0.      0.      0.058  -0.0001]\n",
      " [ 0.      0.      0.      0.    ]]\n"
     ]
    }
   ],
   "source": [
    "# Compare to adcc\n",
    "adcc_2pdm_rhs = (numpy.einsum('jakb,ijkb->ia', adcc_DM_ovov, ooov, optimize=True)\n",
    "                + numpy.einsum('ibjc,jcab->ia', adcc_DM_ovov, ovvv, optimize=True)\n",
    "                )\n",
    "print(adcc_2pdm_rhs)"
   ]
  },
  {
   "cell_type": "markdown",
   "metadata": {},
   "source": [
    "## Left-hand side"
   ]
  },
  {
   "cell_type": "markdown",
   "metadata": {},
   "source": [
    "### Initial guess for Lagrange multipliers $\\tilde{\\boldsymbol{\\gamma}}$"
   ]
  },
  {
   "cell_type": "code",
   "execution_count": 62,
   "metadata": {},
   "outputs": [
    {
     "name": "stdout",
     "output_type": "stream",
     "text": [
      "[[ 0.      0.    ]\n",
      " [-0.0339 -0.    ]\n",
      " [ 0.0002 -0.0767]\n",
      " [-0.0314  0.0001]\n",
      " [-0.      0.    ]]\n"
     ]
    }
   ],
   "source": [
    "# Neglect the non-diagonal part of the LHS,\n",
    "# i.e. divide the RHS by the orbital-energy difference\n",
    "\n",
    "vlx_rhs = final_vlx_2pdm_rhs + vlx_1pdm_rhs\n",
    "lambda_guess = numpy.zeros((nocc,nvir))\n",
    "mo_energies = scfdrv.scf_tensors['E']\n",
    "#print(mo_energies[nocc:])\n",
    "\n",
    "for i in range(nocc):\n",
    "    ei=mo_energies[i]\n",
    "    for a in range(nvir):\n",
    "        ea=mo_energies[nocc+a]\n",
    "        lambda_guess[i,a] = vlx_rhs[i,a]/(ea-ei)\n",
    "        \n",
    "print(lambda_guess)"
   ]
  },
  {
   "cell_type": "code",
   "execution_count": 64,
   "metadata": {},
   "outputs": [
    {
     "name": "stdout",
     "output_type": "stream",
     "text": [
      "[[ 0.      0.      0.      0.    ]\n",
      " [-0.0339 -0.      0.      0.    ]\n",
      " [ 0.0002 -0.0767  0.      0.    ]\n",
      " [-0.0314  0.0001  0.      0.    ]\n",
      " [-0.      0.      0.      0.    ]\n",
      " [ 0.      0.      0.      0.    ]\n",
      " [ 0.      0.     -0.0339 -0.    ]\n",
      " [ 0.      0.      0.0002 -0.0767]\n",
      " [ 0.      0.     -0.0314  0.0001]\n",
      " [ 0.      0.     -0.      0.    ]]\n"
     ]
    }
   ],
   "source": [
    "# Compare to adcc\n",
    "foo = adc1.reference_state.fock(\"o1o1\").to_ndarray() \n",
    "fvv = adc1.reference_state.fock(\"v1v1\").to_ndarray()\n",
    "\n",
    "adcc_rhs = adcc_1pdm_rhs + adcc_2pdm_rhs\n",
    "adcc_guess = adcc_rhs.copy() # rhs\n",
    "for i in range(foo.shape[0]):\n",
    "    for a in range(fvv.shape[0]):\n",
    "        adcc_guess[i,a] = adcc_guess[i,a]/(fvv[a,a]-foo[i,i])\n",
    "\n",
    "print(adcc_guess)"
   ]
  },
  {
   "cell_type": "code",
   "execution_count": 66,
   "metadata": {},
   "outputs": [
    {
     "name": "stdout",
     "output_type": "stream",
     "text": [
      "[[-0.0006  0.0043 -0.0038 -0.0038  0.      0.0019  0.0027]\n",
      " [ 0.0016 -0.0107  0.0096  0.0095 -0.     -0.0049 -0.0069]\n",
      " [ 0.0019 -0.0126  0.0397 -0.0173 -0.     -0.0336  0.0116]\n",
      " [ 0.0019 -0.0126 -0.0173  0.0398  0.      0.0222 -0.0279]\n",
      " [ 0.     -0.      0.     -0.     -0.     -0.      0.    ]\n",
      " [ 0.0023 -0.0153  0.0452 -0.0181 -0.     -0.0378  0.0121]\n",
      " [ 0.0032 -0.0217 -0.0032  0.0417  0.      0.0121 -0.0294]]\n"
     ]
    }
   ],
   "source": [
    "# Transform the initial guess for lambda to the AO basis\n",
    "\n",
    "lambda_guess_ao = numpy.matmul(mo_occ, numpy.matmul(lambda_guess, mo_vir.T))\n",
    "print(lambda_guess_ao)\n",
    "\n",
    "# Transform back to MO basis to check\n",
    "#lambda_guess_back_to_mo = numpy.matmul(mo_occ.T, numpy.matmul(ovlp, numpy.matmul(lambda_guess_ao, numpy.matmul(ovlp, mo_vir))))\n",
    "#print(lambda_guess_back_to_mo)"
   ]
  },
  {
   "cell_type": "markdown",
   "metadata": {},
   "source": [
    "### Contraction of the initial guess for $\\tilde{\\boldsymbol{\\gamma}}$ with two-electron integrals"
   ]
  },
  {
   "cell_type": "markdown",
   "metadata": {},
   "source": [
    "\\begin{equation}\n",
    "    \\sum_{\\mu \\nu} C_{\\mu i} C_{\\nu a}\n",
    "    \\sum_{\\lambda \\sigma} \\big[\n",
    "    2 \\tilde{\\gamma}_{\\lambda \\sigma} ( \\mu \\nu | \\sigma \\lambda )\n",
    "    - \\tilde{\\gamma}_{\\lambda \\sigma} ( \\mu \\lambda | \\sigma \\nu )\n",
    "        \\big]\n",
    "    %+ (\\varepsilon_a - \\varepsilon_i ) \\gamma_{ia}\n",
    "\\end{equation}"
   ]
  },
  {
   "cell_type": "code",
   "execution_count": 69,
   "metadata": {},
   "outputs": [
    {
     "name": "stdout",
     "output_type": "stream",
     "text": [
      "[[ 0.0009  0.    ]\n",
      " [-0.0038  0.    ]\n",
      " [ 0.     -0.0094]\n",
      " [-0.0016  0.    ]\n",
      " [-0.     -0.    ]]\n"
     ]
    }
   ],
   "source": [
    "# Contract with the ERI tensor\n",
    "vlx_lhs1 = numpy.einsum('ls,mnsl->mn', lambda_guess_ao, pqrs)\n",
    "vlx_lhs2 = numpy.einsum('ls,mlsn->mn', lambda_guess_ao, pqrs)\n",
    "\n",
    "vlx_lhs_ao = -vlx_lhs1 + 0.5*vlx_lhs2\n",
    "\n",
    "# Transform to MO\n",
    "vlx_lhs_mo = numpy.matmul(mo_occ.T, numpy.matmul(vlx_lhs_ao, mo_vir))\n",
    "print(vlx_lhs_mo)"
   ]
  },
  {
   "cell_type": "code",
   "execution_count": 70,
   "metadata": {},
   "outputs": [
    {
     "name": "stdout",
     "output_type": "stream",
     "text": [
      "[[ 0.0009  0.    ]\n",
      " [-0.0038  0.    ]\n",
      " [ 0.     -0.0094]\n",
      " [-0.0016  0.    ]\n",
      " [-0.     -0.    ]]\n"
     ]
    }
   ],
   "source": [
    "# Another try with different index convention\n",
    "vlx_lhs3 = numpy.einsum('mn,mntp->pt', lambda_guess_ao, pqrs)\n",
    "vlx_lhs4 = numpy.einsum('mn,mptn->pt', lambda_guess_ao, pqrs)\n",
    "vlx_lhs_ao_try2 = -vlx_lhs3 + 0.5*vlx_lhs4\n",
    "vlx_1pdm_lhs = numpy.einsum('pi,pa->ia', mo_occ, numpy.einsum('ta,pt->pa', mo_vir, vlx_lhs_ao_try2))\n",
    "print(vlx_1pdm_lhs)"
   ]
  },
  {
   "cell_type": "code",
   "execution_count": 72,
   "metadata": {},
   "outputs": [
    {
     "name": "stdout",
     "output_type": "stream",
     "text": [
      "[ 0.0019  0.     -0.0672 -0.      0.0003 -0.1164 -0.0343  0.0001 -0.\n",
      "  0.    ]\n",
      "\n",
      "[ 0.001   0.     -0.0634 -0.0001  0.0003 -0.107  -0.0328  0.0001 -0.\n",
      "  0.    ]\n"
     ]
    }
   ],
   "source": [
    "# Add orbital-energy differences to get full LHS\n",
    "\n",
    "vlx_full_lhs = numpy.zeros((nocc,nvir))\n",
    "for i in range(nocc):\n",
    "    ei=mo_energies[i]\n",
    "    for a in range(nvir):\n",
    "        ea=mo_energies[nocc+a]\n",
    "        vlx_full_lhs[i,a] = vlx_1pdm_lhs[i,a] + lambda_guess[i,a]*(ea-ei)\n",
    "\n",
    "vlx_full_lhs_vec = vlx_full_lhs.reshape(nocc*nvir)\n",
    "vlx_rhs_vec = vlx_rhs.reshape(nocc*nvir)\n",
    "\n",
    "print(vlx_full_lhs_vec)\n",
    "print()\n",
    "print(vlx_rhs_vec)"
   ]
  },
  {
   "cell_type": "markdown",
   "metadata": {},
   "source": [
    "## Solution via Conjugate Gradient"
   ]
  },
  {
   "cell_type": "markdown",
   "metadata": {},
   "source": [
    "To solve: $\\mathbf{A} \\mathbf{x} = \\mathbf{b}$\n",
    "\n",
    "However, we do not \"know\" the matrix $\\mathbf{A}$, only the matrix-vector product $\\mathbf{Ax}$.\n",
    "Thus, define it as a linear operator with a vector $\\mathbf{x}$ as an argument."
   ]
  },
  {
   "cell_type": "markdown",
   "metadata": {},
   "source": [
    "### Trying to define a linear operator"
   ]
  },
  {
   "cell_type": "code",
   "execution_count": 82,
   "metadata": {},
   "outputs": [],
   "source": [
    "# Assuming that all other variables (nocc, nvir, MOs, ERIs) are known from the \"global\" scope\n",
    "def Ax(v):\n",
    "    #\"\"\"v: vlx_lambda object\"\"\"\n",
    "    #print(\"Entering Ax(v)...:\")\n",
    "    #print(v)\n",
    "    #print()\n",
    "\n",
    "    new_v = v.reshape(nocc,nvir)\n",
    "    vlx_lambda_ao = numpy.matmul(mo_occ, numpy.matmul(new_v, mo_vir.T))\n",
    " \n",
    "    vlx_lhs_interm = (-numpy.einsum('mn,mntp->pt', vlx_lambda_ao, pqrs)\n",
    "                       + 0.5*numpy.einsum('mn,mptn->pt', vlx_lambda_ao, pqrs)\n",
    "                      )\n",
    "    vlx_1pdm_lhs = numpy.einsum('pi,pa->ia', mo_occ, numpy.einsum('ta,pt->pa', mo_vir, vlx_lhs_interm))\n",
    "    \n",
    "    for i in range(nocc):\n",
    "        ei=mo_energies[i]\n",
    "        for a in range(nvir):\n",
    "            ea=mo_energies[nocc+a]\n",
    "            vlx_1pdm_lhs[i,a] += new_v[i,a]*(ea-ei)    \n",
    "    return vlx_1pdm_lhs.reshape(nocc*nvir)"
   ]
  },
  {
   "cell_type": "code",
   "execution_count": 83,
   "metadata": {},
   "outputs": [
    {
     "name": "stdout",
     "output_type": "stream",
     "text": [
      "This is lambda_guess\n",
      "[ 0.      0.     -0.0339 -0.      0.0002 -0.0767 -0.0314  0.0001 -0.\n",
      "  0.    ]\n",
      "\n",
      "This is the RHS:\n",
      "[ 0.001   0.     -0.0634 -0.0001  0.0003 -0.107  -0.0328  0.0001 -0.\n",
      "  0.    ]\n",
      "\n",
      "This is the shape of Ax(lambda_guess)\n",
      "(10,)\n",
      "\n",
      "The solution in matrix form:\n",
      "[[ 0.      0.    ]\n",
      " [-0.032  -0.    ]\n",
      " [ 0.0002 -0.0705]\n",
      " [-0.0298  0.0001]\n",
      " [-0.      0.    ]]\n"
     ]
    }
   ],
   "source": [
    "# Solve via conjugate gradient from scipy.sparse\n",
    "\n",
    "#new_lambda_guess = vlx_lambda(lambda_guess, pqrs, scfdrv.scf_tensors, nocc)\n",
    "print(\"This is lambda_guess\")\n",
    "v=lambda_guess.reshape(nocc*nvir) # lambda_guess as a vector\n",
    "print(v)\n",
    "print()\n",
    "print(\"This is the RHS:\")\n",
    "print(vlx_rhs_vec)\n",
    "print()\n",
    "print(\"This is the shape of Ax(lambda_guess)\")\n",
    "print(Ax(v).shape)\n",
    "print()\n",
    "A = linalg.LinearOperator((nocc*nvir,nocc*nvir), matvec=Ax)\n",
    "solution, w = linalg.cg(A=A, b=vlx_rhs_vec, x0=v, tol=1e-8, maxiter=25)\n",
    "\n",
    "print(\"The solution in matrix form:\")\n",
    "print(solution.reshape(nocc,nvir))"
   ]
  },
  {
   "cell_type": "code",
   "execution_count": 87,
   "metadata": {},
   "outputs": [],
   "source": [
    "# Attempting the analogous solution with adcc\n",
    "\n",
    "AOVOV = numpy.ones(ovov.shape)   \n",
    "adcc_nocc = foo.shape[0]\n",
    "adcc_nvirt = fvv.shape[0]\n",
    "oovv = adc1.reference_state.eri(\"o1o1v1v1\").to_ndarray()\n",
    "#adcc_A = np.zeros((adcc_nocc*adcc_nvirt, adcc_nocc*adcc_nvirt))\n",
    "#these are supposed to be the elements that multiply lambda_jb\n",
    "AOVOV = ( numpy.einsum('iajb,ibja->iajb', AOVOV, ovov, optimize=True)\n",
    "         -numpy.einsum('iajb,ijab->iajb', AOVOV, oovv, optimize=True) \n",
    "        )\n",
    "for i in range(adcc_nocc):\n",
    "    for a in range(adcc_nvirt):\n",
    "        AOVOV[i,a,i,a] += -foo[i,i]+fvv[a,a] #check signs !\n",
    "\n",
    "adcc_A = AOVOV.reshape(adcc_nocc*adcc_nvirt,adcc_nocc*adcc_nvirt)"
   ]
  },
  {
   "cell_type": "code",
   "execution_count": 85,
   "metadata": {},
   "outputs": [],
   "source": [
    "adcc_1d_guess = numpy.reshape(adcc_guess, (adcc_nocc*adcc_nvirt))\n",
    "adcc_1d_rhs = numpy.reshape(adcc_rhs, (adcc_nocc*adcc_nvirt))\n",
    "\n",
    "lov, w = linalg.cg(A=adcc_A, b=adcc_1d_rhs, x0=adcc_1d_guess, tol=1e-8, maxiter=25)"
   ]
  },
  {
   "cell_type": "code",
   "execution_count": 86,
   "metadata": {},
   "outputs": [
    {
     "name": "stdout",
     "output_type": "stream",
     "text": [
      "adcc solution:\n",
      "[[-0.0001  0.      0.      0.    ]\n",
      " [-0.0377 -0.      0.      0.    ]\n",
      " [ 0.0002 -0.0781  0.      0.    ]\n",
      " [-0.0383  0.0001  0.      0.    ]\n",
      " [-0.      0.      0.      0.    ]\n",
      " [ 0.      0.     -0.0001  0.    ]\n",
      " [ 0.      0.     -0.0377 -0.    ]\n",
      " [ 0.      0.      0.0002 -0.0781]\n",
      " [ 0.      0.     -0.0383  0.0001]\n",
      " [ 0.      0.     -0.      0.    ]]\n",
      "\n",
      "vlx solution:\n",
      "[[ 0.      0.    ]\n",
      " [-0.032  -0.    ]\n",
      " [ 0.0002 -0.0705]\n",
      " [-0.0298  0.0001]\n",
      " [-0.      0.    ]]\n"
     ]
    }
   ],
   "source": [
    "print(\"adcc solution:\")\n",
    "print(lov.reshape(adcc_nocc,adcc_nvirt))\n",
    "print()\n",
    "print(\"vlx solution:\")\n",
    "print(solution.reshape(nocc,nvir))"
   ]
  },
  {
   "cell_type": "code",
   "execution_count": null,
   "metadata": {},
   "outputs": [],
   "source": []
  }
 ],
 "metadata": {
  "kernelspec": {
   "display_name": "Python 3",
   "language": "python",
   "name": "python3"
  },
  "language_info": {
   "codemirror_mode": {
    "name": "ipython",
    "version": 3
   },
   "file_extension": ".py",
   "mimetype": "text/x-python",
   "name": "python",
   "nbconvert_exporter": "python",
   "pygments_lexer": "ipython3",
   "version": "3.8.5"
  }
 },
 "nbformat": 4,
 "nbformat_minor": 4
}
